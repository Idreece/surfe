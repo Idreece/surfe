{
 "cells": [
  {
   "cell_type": "code",
   "execution_count": 44,
   "metadata": {},
   "outputs": [],
   "source": [
    "import pandas as pd\n",
    "import plotly.graph_objects as go\n",
    "from sklearn.cluster import KMeans\n",
    "import numpy as np"
   ]
  },
  {
   "cell_type": "code",
   "execution_count": 2,
   "metadata": {},
   "outputs": [],
   "source": [
    "df = pd.read_csv('../data/invoices.csv')\n"
   ]
  },
  {
   "cell_type": "code",
   "execution_count": 3,
   "metadata": {},
   "outputs": [
    {
     "data": {
      "text/html": [
       "<div>\n",
       "<style scoped>\n",
       "    .dataframe tbody tr th:only-of-type {\n",
       "        vertical-align: middle;\n",
       "    }\n",
       "\n",
       "    .dataframe tbody tr th {\n",
       "        vertical-align: top;\n",
       "    }\n",
       "\n",
       "    .dataframe thead th {\n",
       "        text-align: right;\n",
       "    }\n",
       "</style>\n",
       "<table border=\"1\" class=\"dataframe\">\n",
       "  <thead>\n",
       "    <tr style=\"text-align: right;\">\n",
       "      <th></th>\n",
       "      <th>id</th>\n",
       "      <th>Amount Due</th>\n",
       "      <th>Closed</th>\n",
       "      <th>Currency</th>\n",
       "      <th>Customer</th>\n",
       "      <th>Date (UTC)</th>\n",
       "      <th>Due Date (UTC)</th>\n",
       "      <th>Ending Balance</th>\n",
       "      <th>Forgiven</th>\n",
       "      <th>Paid</th>\n",
       "      <th>...</th>\n",
       "      <th>Subtotal</th>\n",
       "      <th>Total Discount Amount</th>\n",
       "      <th>Applied Coupons</th>\n",
       "      <th>Tax</th>\n",
       "      <th>Tax Percent</th>\n",
       "      <th>Total</th>\n",
       "      <th>Amount Paid</th>\n",
       "      <th>Status</th>\n",
       "      <th>Exclusive Tax Amount</th>\n",
       "      <th>Inclusive Tax Amount</th>\n",
       "    </tr>\n",
       "  </thead>\n",
       "  <tbody>\n",
       "    <tr>\n",
       "      <th>0</th>\n",
       "      <td>in_1Qx3plAFeGZf0UoOd9f9bW47</td>\n",
       "      <td>0,00</td>\n",
       "      <td>False</td>\n",
       "      <td>eur</td>\n",
       "      <td>cus_NHFLrvkCpBFCs7</td>\n",
       "      <td>2025-02-27 9:56</td>\n",
       "      <td>NaN</td>\n",
       "      <td>NaN</td>\n",
       "      <td>False</td>\n",
       "      <td>False</td>\n",
       "      <td>...</td>\n",
       "      <td>0,00</td>\n",
       "      <td>0,00</td>\n",
       "      <td>NaN</td>\n",
       "      <td>0,00</td>\n",
       "      <td>20.0</td>\n",
       "      <td>0,00</td>\n",
       "      <td>0,00</td>\n",
       "      <td>draft</td>\n",
       "      <td>0,00</td>\n",
       "      <td>0,00</td>\n",
       "    </tr>\n",
       "    <tr>\n",
       "      <th>1</th>\n",
       "      <td>in_1Qx3phAFeGZf0UoOy7Khkj9i</td>\n",
       "      <td>0,00</td>\n",
       "      <td>False</td>\n",
       "      <td>eur</td>\n",
       "      <td>cus_LSl85Ix2Ek965l</td>\n",
       "      <td>2025-02-27 9:56</td>\n",
       "      <td>NaN</td>\n",
       "      <td>NaN</td>\n",
       "      <td>False</td>\n",
       "      <td>False</td>\n",
       "      <td>...</td>\n",
       "      <td>0,00</td>\n",
       "      <td>0,00</td>\n",
       "      <td>NaN</td>\n",
       "      <td>0,00</td>\n",
       "      <td>19.0</td>\n",
       "      <td>0,00</td>\n",
       "      <td>0,00</td>\n",
       "      <td>draft</td>\n",
       "      <td>0,00</td>\n",
       "      <td>0,00</td>\n",
       "    </tr>\n",
       "    <tr>\n",
       "      <th>2</th>\n",
       "      <td>in_1Qx3XqAFeGZf0UoONAAW2muL</td>\n",
       "      <td>104,40</td>\n",
       "      <td>False</td>\n",
       "      <td>eur</td>\n",
       "      <td>cus_PQFFOsNVNtuBN9</td>\n",
       "      <td>2025-02-27 9:38</td>\n",
       "      <td>2025-03-02 9:37</td>\n",
       "      <td>NaN</td>\n",
       "      <td>False</td>\n",
       "      <td>False</td>\n",
       "      <td>...</td>\n",
       "      <td>87,00</td>\n",
       "      <td>0,00</td>\n",
       "      <td>NaN</td>\n",
       "      <td>17,40</td>\n",
       "      <td>20.0</td>\n",
       "      <td>104,40</td>\n",
       "      <td>0,00</td>\n",
       "      <td>draft</td>\n",
       "      <td>17,40</td>\n",
       "      <td>0,00</td>\n",
       "    </tr>\n",
       "    <tr>\n",
       "      <th>3</th>\n",
       "      <td>in_1Qx3XqAFeGZf0UoOl79vERDa</td>\n",
       "      <td>39,00</td>\n",
       "      <td>False</td>\n",
       "      <td>eur</td>\n",
       "      <td>cus_Q7apBCt36xeGbK</td>\n",
       "      <td>2025-02-27 9:38</td>\n",
       "      <td>NaN</td>\n",
       "      <td>NaN</td>\n",
       "      <td>False</td>\n",
       "      <td>False</td>\n",
       "      <td>...</td>\n",
       "      <td>39,00</td>\n",
       "      <td>0,00</td>\n",
       "      <td>NaN</td>\n",
       "      <td>NaN</td>\n",
       "      <td>NaN</td>\n",
       "      <td>39,00</td>\n",
       "      <td>0,00</td>\n",
       "      <td>draft</td>\n",
       "      <td>NaN</td>\n",
       "      <td>NaN</td>\n",
       "    </tr>\n",
       "    <tr>\n",
       "      <th>4</th>\n",
       "      <td>in_1Qx3WCAFeGZf0UoOcbJhPyor</td>\n",
       "      <td>82,80</td>\n",
       "      <td>False</td>\n",
       "      <td>eur</td>\n",
       "      <td>cus_MU4dOalEEat1Ah</td>\n",
       "      <td>2025-02-27 9:36</td>\n",
       "      <td>NaN</td>\n",
       "      <td>NaN</td>\n",
       "      <td>False</td>\n",
       "      <td>False</td>\n",
       "      <td>...</td>\n",
       "      <td>69,00</td>\n",
       "      <td>0,00</td>\n",
       "      <td>NaN</td>\n",
       "      <td>13,80</td>\n",
       "      <td>20.0</td>\n",
       "      <td>82,80</td>\n",
       "      <td>0,00</td>\n",
       "      <td>draft</td>\n",
       "      <td>13,80</td>\n",
       "      <td>0,00</td>\n",
       "    </tr>\n",
       "  </tbody>\n",
       "</table>\n",
       "<p>5 rows × 30 columns</p>\n",
       "</div>"
      ],
      "text/plain": [
       "                            id Amount Due  Closed Currency  \\\n",
       "0  in_1Qx3plAFeGZf0UoOd9f9bW47       0,00   False      eur   \n",
       "1  in_1Qx3phAFeGZf0UoOy7Khkj9i       0,00   False      eur   \n",
       "2  in_1Qx3XqAFeGZf0UoONAAW2muL     104,40   False      eur   \n",
       "3  in_1Qx3XqAFeGZf0UoOl79vERDa      39,00   False      eur   \n",
       "4  in_1Qx3WCAFeGZf0UoOcbJhPyor      82,80   False      eur   \n",
       "\n",
       "             Customer       Date (UTC)   Due Date (UTC) Ending Balance  \\\n",
       "0  cus_NHFLrvkCpBFCs7  2025-02-27 9:56              NaN            NaN   \n",
       "1  cus_LSl85Ix2Ek965l  2025-02-27 9:56              NaN            NaN   \n",
       "2  cus_PQFFOsNVNtuBN9  2025-02-27 9:38  2025-03-02 9:37            NaN   \n",
       "3  cus_Q7apBCt36xeGbK  2025-02-27 9:38              NaN            NaN   \n",
       "4  cus_MU4dOalEEat1Ah  2025-02-27 9:36              NaN            NaN   \n",
       "\n",
       "   Forgiven   Paid  ... Subtotal Total Discount Amount Applied Coupons    Tax  \\\n",
       "0     False  False  ...     0,00                  0,00             NaN   0,00   \n",
       "1     False  False  ...     0,00                  0,00             NaN   0,00   \n",
       "2     False  False  ...    87,00                  0,00             NaN  17,40   \n",
       "3     False  False  ...    39,00                  0,00             NaN    NaN   \n",
       "4     False  False  ...    69,00                  0,00             NaN  13,80   \n",
       "\n",
       "  Tax Percent   Total Amount Paid Status Exclusive Tax Amount  \\\n",
       "0        20.0    0,00        0,00  draft                 0,00   \n",
       "1        19.0    0,00        0,00  draft                 0,00   \n",
       "2        20.0  104,40        0,00  draft                17,40   \n",
       "3         NaN   39,00        0,00  draft                  NaN   \n",
       "4        20.0   82,80        0,00  draft                13,80   \n",
       "\n",
       "  Inclusive Tax Amount  \n",
       "0                 0,00  \n",
       "1                 0,00  \n",
       "2                 0,00  \n",
       "3                  NaN  \n",
       "4                 0,00  \n",
       "\n",
       "[5 rows x 30 columns]"
      ]
     },
     "execution_count": 3,
     "metadata": {},
     "output_type": "execute_result"
    }
   ],
   "source": [
    "df.head()"
   ]
  },
  {
   "cell_type": "code",
   "execution_count": 4,
   "metadata": {},
   "outputs": [
    {
     "data": {
      "text/html": [
       "<div>\n",
       "<style scoped>\n",
       "    .dataframe tbody tr th:only-of-type {\n",
       "        vertical-align: middle;\n",
       "    }\n",
       "\n",
       "    .dataframe tbody tr th {\n",
       "        vertical-align: top;\n",
       "    }\n",
       "\n",
       "    .dataframe thead th {\n",
       "        text-align: right;\n",
       "    }\n",
       "</style>\n",
       "<table border=\"1\" class=\"dataframe\">\n",
       "  <thead>\n",
       "    <tr style=\"text-align: right;\">\n",
       "      <th></th>\n",
       "      <th>Tax Percent</th>\n",
       "    </tr>\n",
       "  </thead>\n",
       "  <tbody>\n",
       "    <tr>\n",
       "      <th>count</th>\n",
       "      <td>3078.000000</td>\n",
       "    </tr>\n",
       "    <tr>\n",
       "      <th>mean</th>\n",
       "      <td>20.725276</td>\n",
       "    </tr>\n",
       "    <tr>\n",
       "      <th>std</th>\n",
       "      <td>2.285339</td>\n",
       "    </tr>\n",
       "    <tr>\n",
       "      <th>min</th>\n",
       "      <td>7.700000</td>\n",
       "    </tr>\n",
       "    <tr>\n",
       "      <th>25%</th>\n",
       "      <td>19.000000</td>\n",
       "    </tr>\n",
       "    <tr>\n",
       "      <th>50%</th>\n",
       "      <td>20.000000</td>\n",
       "    </tr>\n",
       "    <tr>\n",
       "      <th>75%</th>\n",
       "      <td>21.000000</td>\n",
       "    </tr>\n",
       "    <tr>\n",
       "      <th>max</th>\n",
       "      <td>27.000000</td>\n",
       "    </tr>\n",
       "  </tbody>\n",
       "</table>\n",
       "</div>"
      ],
      "text/plain": [
       "       Tax Percent\n",
       "count  3078.000000\n",
       "mean     20.725276\n",
       "std       2.285339\n",
       "min       7.700000\n",
       "25%      19.000000\n",
       "50%      20.000000\n",
       "75%      21.000000\n",
       "max      27.000000"
      ]
     },
     "execution_count": 4,
     "metadata": {},
     "output_type": "execute_result"
    }
   ],
   "source": [
    "df.describe()"
   ]
  },
  {
   "cell_type": "code",
   "execution_count": 5,
   "metadata": {},
   "outputs": [
    {
     "name": "stdout",
     "output_type": "stream",
     "text": [
      "<class 'pandas.core.frame.DataFrame'>\n",
      "RangeIndex: 8075 entries, 0 to 8074\n",
      "Data columns (total 30 columns):\n",
      " #   Column                                Non-Null Count  Dtype  \n",
      "---  ------                                --------------  -----  \n",
      " 0   id                                    8075 non-null   object \n",
      " 1   Amount Due                            8075 non-null   object \n",
      " 2   Closed                                8075 non-null   bool   \n",
      " 3   Currency                              8075 non-null   object \n",
      " 4   Customer                              8075 non-null   object \n",
      " 5   Date (UTC)                            8075 non-null   object \n",
      " 6   Due Date (UTC)                        224 non-null    object \n",
      " 7   Ending Balance                        8037 non-null   object \n",
      " 8   Forgiven                              8075 non-null   bool   \n",
      " 9   Paid                                  8075 non-null   bool   \n",
      " 10  Paid At (UTC)                         7765 non-null   object \n",
      " 11  Marked Uncollectible At (UTC)         9 non-null      object \n",
      " 12  Voided At (UTC)                       39 non-null     object \n",
      " 13  Finalized At (UTC)                    8037 non-null   object \n",
      " 14  Minimum Line Item Period Start (UTC)  8060 non-null   object \n",
      " 15  Maximum Line Item Period End (UTC)    8060 non-null   object \n",
      " 16  Period Start (UTC)                    8075 non-null   object \n",
      " 17  Period End (UTC)                      8075 non-null   object \n",
      " 18  Starting Balance                      8075 non-null   object \n",
      " 19  Subscription                          8036 non-null   object \n",
      " 20  Subtotal                              8075 non-null   object \n",
      " 21  Total Discount Amount                 8075 non-null   object \n",
      " 22  Applied Coupons                       599 non-null    object \n",
      " 23  Tax                                   1170 non-null   object \n",
      " 24  Tax Percent                           3078 non-null   float64\n",
      " 25  Total                                 8075 non-null   object \n",
      " 26  Amount Paid                           8075 non-null   object \n",
      " 27  Status                                8075 non-null   object \n",
      " 28  Exclusive Tax Amount                  1170 non-null   object \n",
      " 29  Inclusive Tax Amount                  1170 non-null   object \n",
      "dtypes: bool(3), float64(1), object(26)\n",
      "memory usage: 1.7+ MB\n"
     ]
    }
   ],
   "source": [
    "df.info()"
   ]
  },
  {
   "cell_type": "code",
   "execution_count": 6,
   "metadata": {},
   "outputs": [],
   "source": [
    "date_columns = [\n",
    "    'Date (UTC)', 'Due Date (UTC)', 'Finalized At (UTC)', \n",
    "    'Marked Uncollectible At (UTC)', 'Voided At (UTC)',\n",
    "    'Minimum Line Item Period Start (UTC)', 'Maximum Line Item Period End (UTC)',\n",
    "    'Period Start (UTC)', 'Period End (UTC)', 'Paid At (UTC)'\n",
    "]\n",
    "\n",
    "for col in date_columns:\n",
    "    df[col] = pd.to_datetime(df[col], errors='coerce')\n",
    "\n",
    "numeric_columns = [\n",
    "    'Amount Due', 'Ending Balance', 'Starting Balance', 'Subtotal',\n",
    "    'Total Discount Amount', 'Tax', 'Total', 'Amount Paid',\n",
    "    'Exclusive Tax Amount', 'Inclusive Tax Amount'\n",
    "]\n",
    "\n",
    "for col in numeric_columns:\n",
    "    df[col] = df[col].str.replace(',', '.').astype(float)\n",
    "\n",
    "df['Tax Percent'] = df['Tax Percent'].astype(float)\n",
    "\n",
    "categorical_columns = ['Currency', 'Status']\n",
    "for col in categorical_columns:\n",
    "    df[col] = df[col].astype('category')\n",
    "\n",
    "df.columns = df.columns.str.lower()"
   ]
  },
  {
   "cell_type": "code",
   "execution_count": 7,
   "metadata": {},
   "outputs": [
    {
     "name": "stdout",
     "output_type": "stream",
     "text": [
      "<class 'pandas.core.frame.DataFrame'>\n",
      "RangeIndex: 8075 entries, 0 to 8074\n",
      "Data columns (total 30 columns):\n",
      " #   Column                                Non-Null Count  Dtype         \n",
      "---  ------                                --------------  -----         \n",
      " 0   id                                    8075 non-null   object        \n",
      " 1   amount due                            8075 non-null   float64       \n",
      " 2   closed                                8075 non-null   bool          \n",
      " 3   currency                              8075 non-null   category      \n",
      " 4   customer                              8075 non-null   object        \n",
      " 5   date (utc)                            8075 non-null   datetime64[ns]\n",
      " 6   due date (utc)                        224 non-null    datetime64[ns]\n",
      " 7   ending balance                        8037 non-null   float64       \n",
      " 8   forgiven                              8075 non-null   bool          \n",
      " 9   paid                                  8075 non-null   bool          \n",
      " 10  paid at (utc)                         7765 non-null   datetime64[ns]\n",
      " 11  marked uncollectible at (utc)         9 non-null      datetime64[ns]\n",
      " 12  voided at (utc)                       39 non-null     datetime64[ns]\n",
      " 13  finalized at (utc)                    8037 non-null   datetime64[ns]\n",
      " 14  minimum line item period start (utc)  8060 non-null   datetime64[ns]\n",
      " 15  maximum line item period end (utc)    8060 non-null   datetime64[ns]\n",
      " 16  period start (utc)                    8075 non-null   datetime64[ns]\n",
      " 17  period end (utc)                      8075 non-null   datetime64[ns]\n",
      " 18  starting balance                      8075 non-null   float64       \n",
      " 19  subscription                          8036 non-null   object        \n",
      " 20  subtotal                              8075 non-null   float64       \n",
      " 21  total discount amount                 8075 non-null   float64       \n",
      " 22  applied coupons                       599 non-null    object        \n",
      " 23  tax                                   1170 non-null   float64       \n",
      " 24  tax percent                           3078 non-null   float64       \n",
      " 25  total                                 8075 non-null   float64       \n",
      " 26  amount paid                           8075 non-null   float64       \n",
      " 27  status                                8075 non-null   category      \n",
      " 28  exclusive tax amount                  1170 non-null   float64       \n",
      " 29  inclusive tax amount                  1170 non-null   float64       \n",
      "dtypes: bool(3), category(2), datetime64[ns](10), float64(11), object(4)\n",
      "memory usage: 1.6+ MB\n"
     ]
    }
   ],
   "source": [
    "df.info()"
   ]
  },
  {
   "cell_type": "code",
   "execution_count": 8,
   "metadata": {},
   "outputs": [
    {
     "data": {
      "text/plain": [
       "(8075, 30)"
      ]
     },
     "execution_count": 8,
     "metadata": {},
     "output_type": "execute_result"
    }
   ],
   "source": [
    "df.shape"
   ]
  },
  {
   "cell_type": "code",
   "execution_count": 9,
   "metadata": {},
   "outputs": [
    {
     "data": {
      "text/plain": [
       "['eur', 'usd']\n",
       "Categories (2, object): ['eur', 'usd']"
      ]
     },
     "execution_count": 9,
     "metadata": {},
     "output_type": "execute_result"
    }
   ],
   "source": [
    "df.currency.unique()"
   ]
  },
  {
   "cell_type": "code",
   "execution_count": 10,
   "metadata": {},
   "outputs": [
    {
     "data": {
      "text/html": [
       "<div>\n",
       "<style scoped>\n",
       "    .dataframe tbody tr th:only-of-type {\n",
       "        vertical-align: middle;\n",
       "    }\n",
       "\n",
       "    .dataframe tbody tr th {\n",
       "        vertical-align: top;\n",
       "    }\n",
       "\n",
       "    .dataframe thead th {\n",
       "        text-align: right;\n",
       "    }\n",
       "</style>\n",
       "<table border=\"1\" class=\"dataframe\">\n",
       "  <thead>\n",
       "    <tr style=\"text-align: right;\">\n",
       "      <th></th>\n",
       "      <th>currency</th>\n",
       "      <th>amount due</th>\n",
       "      <th>amount paid</th>\n",
       "    </tr>\n",
       "  </thead>\n",
       "  <tbody>\n",
       "    <tr>\n",
       "      <th>7</th>\n",
       "      <td>eur</td>\n",
       "      <td>22.50</td>\n",
       "      <td>22.50</td>\n",
       "    </tr>\n",
       "    <tr>\n",
       "      <th>14</th>\n",
       "      <td>eur</td>\n",
       "      <td>79.00</td>\n",
       "      <td>79.00</td>\n",
       "    </tr>\n",
       "    <tr>\n",
       "      <th>18</th>\n",
       "      <td>usd</td>\n",
       "      <td>9.00</td>\n",
       "      <td>9.00</td>\n",
       "    </tr>\n",
       "    <tr>\n",
       "      <th>21</th>\n",
       "      <td>eur</td>\n",
       "      <td>78.00</td>\n",
       "      <td>78.00</td>\n",
       "    </tr>\n",
       "    <tr>\n",
       "      <th>22</th>\n",
       "      <td>eur</td>\n",
       "      <td>37.58</td>\n",
       "      <td>37.58</td>\n",
       "    </tr>\n",
       "  </tbody>\n",
       "</table>\n",
       "</div>"
      ],
      "text/plain": [
       "   currency  amount due  amount paid\n",
       "7       eur       22.50        22.50\n",
       "14      eur       79.00        79.00\n",
       "18      usd        9.00         9.00\n",
       "21      eur       78.00        78.00\n",
       "22      eur       37.58        37.58"
      ]
     },
     "execution_count": 10,
     "metadata": {},
     "output_type": "execute_result"
    }
   ],
   "source": [
    "df[df['amount paid'] != 0][['currency', 'amount due', 'amount paid']].head()"
   ]
  },
  {
   "cell_type": "code",
   "execution_count": 11,
   "metadata": {},
   "outputs": [
    {
     "data": {
      "text/plain": [
       "4620"
      ]
     },
     "execution_count": 11,
     "metadata": {},
     "output_type": "execute_result"
    }
   ],
   "source": [
    "df['subscription'].nunique()"
   ]
  },
  {
   "cell_type": "code",
   "execution_count": 12,
   "metadata": {},
   "outputs": [
    {
     "data": {
      "text/plain": [
       "0    sub_1Mg3RXAFeGZf0UoOk6tgmHXy\n",
       "1    sub_1LmaWWAFeGZf0UoO6OEZ7teq\n",
       "2    sub_1QPhgOAFeGZf0UoOf7uRPvxM\n",
       "3    sub_1Q3abzAFeGZf0UoO5UPNkeq7\n",
       "4    sub_1OH1EMAFeGZf0UoO9at6xQkP\n",
       "Name: subscription, dtype: object"
      ]
     },
     "execution_count": 12,
     "metadata": {},
     "output_type": "execute_result"
    }
   ],
   "source": [
    "df['subscription'].head()"
   ]
  },
  {
   "cell_type": "code",
   "execution_count": 13,
   "metadata": {},
   "outputs": [
    {
     "data": {
      "text/plain": [
       "np.int64(39)"
      ]
     },
     "execution_count": 13,
     "metadata": {},
     "output_type": "execute_result"
    }
   ],
   "source": [
    "df['subscription'].isna().sum()"
   ]
  },
  {
   "cell_type": "code",
   "execution_count": 14,
   "metadata": {},
   "outputs": [
    {
     "data": {
      "text/html": [
       "<div>\n",
       "<style scoped>\n",
       "    .dataframe tbody tr th:only-of-type {\n",
       "        vertical-align: middle;\n",
       "    }\n",
       "\n",
       "    .dataframe tbody tr th {\n",
       "        vertical-align: top;\n",
       "    }\n",
       "\n",
       "    .dataframe thead th {\n",
       "        text-align: right;\n",
       "    }\n",
       "</style>\n",
       "<table border=\"1\" class=\"dataframe\">\n",
       "  <thead>\n",
       "    <tr style=\"text-align: right;\">\n",
       "      <th></th>\n",
       "      <th>id</th>\n",
       "      <th>amount due</th>\n",
       "      <th>closed</th>\n",
       "      <th>currency</th>\n",
       "      <th>customer</th>\n",
       "      <th>date (utc)</th>\n",
       "      <th>due date (utc)</th>\n",
       "      <th>ending balance</th>\n",
       "      <th>forgiven</th>\n",
       "      <th>paid</th>\n",
       "      <th>...</th>\n",
       "      <th>subtotal</th>\n",
       "      <th>total discount amount</th>\n",
       "      <th>applied coupons</th>\n",
       "      <th>tax</th>\n",
       "      <th>tax percent</th>\n",
       "      <th>total</th>\n",
       "      <th>amount paid</th>\n",
       "      <th>status</th>\n",
       "      <th>exclusive tax amount</th>\n",
       "      <th>inclusive tax amount</th>\n",
       "    </tr>\n",
       "  </thead>\n",
       "  <tbody>\n",
       "    <tr>\n",
       "      <th>7</th>\n",
       "      <td>in_1Qx3R0AFeGZf0UoOYSx37Ftb</td>\n",
       "      <td>22.50</td>\n",
       "      <td>True</td>\n",
       "      <td>eur</td>\n",
       "      <td>cus_PbPmpwRy3HrxgP</td>\n",
       "      <td>2025-02-27 09:31:00</td>\n",
       "      <td>2025-02-27 22:59:00</td>\n",
       "      <td>0.0</td>\n",
       "      <td>False</td>\n",
       "      <td>True</td>\n",
       "      <td>...</td>\n",
       "      <td>22.50</td>\n",
       "      <td>0.0</td>\n",
       "      <td>NaN</td>\n",
       "      <td>NaN</td>\n",
       "      <td>NaN</td>\n",
       "      <td>22.50</td>\n",
       "      <td>22.5</td>\n",
       "      <td>paid</td>\n",
       "      <td>NaN</td>\n",
       "      <td>NaN</td>\n",
       "    </tr>\n",
       "    <tr>\n",
       "      <th>18</th>\n",
       "      <td>in_1Qx2hmAFeGZf0UoOYD4eoPnB</td>\n",
       "      <td>9.00</td>\n",
       "      <td>True</td>\n",
       "      <td>usd</td>\n",
       "      <td>cus_PVdPFGa7V3RK3o</td>\n",
       "      <td>2025-02-27 08:44:00</td>\n",
       "      <td>2025-02-27 22:59:00</td>\n",
       "      <td>0.0</td>\n",
       "      <td>False</td>\n",
       "      <td>True</td>\n",
       "      <td>...</td>\n",
       "      <td>9.00</td>\n",
       "      <td>0.0</td>\n",
       "      <td>NaN</td>\n",
       "      <td>NaN</td>\n",
       "      <td>NaN</td>\n",
       "      <td>9.00</td>\n",
       "      <td>9.0</td>\n",
       "      <td>paid</td>\n",
       "      <td>NaN</td>\n",
       "      <td>NaN</td>\n",
       "    </tr>\n",
       "    <tr>\n",
       "      <th>27</th>\n",
       "      <td>in_1Qx1pRAFeGZf0UoOXawHgA3a</td>\n",
       "      <td>137.00</td>\n",
       "      <td>True</td>\n",
       "      <td>usd</td>\n",
       "      <td>cus_PVdPFGa7V3RK3o</td>\n",
       "      <td>2025-02-27 07:48:00</td>\n",
       "      <td>2025-02-27 22:59:00</td>\n",
       "      <td>0.0</td>\n",
       "      <td>True</td>\n",
       "      <td>False</td>\n",
       "      <td>...</td>\n",
       "      <td>137.00</td>\n",
       "      <td>0.0</td>\n",
       "      <td>NaN</td>\n",
       "      <td>NaN</td>\n",
       "      <td>NaN</td>\n",
       "      <td>137.00</td>\n",
       "      <td>0.0</td>\n",
       "      <td>uncollectible</td>\n",
       "      <td>NaN</td>\n",
       "      <td>NaN</td>\n",
       "    </tr>\n",
       "    <tr>\n",
       "      <th>256</th>\n",
       "      <td>in_1QwOhtAFeGZf0UoOSjYsHGRs</td>\n",
       "      <td>0.00</td>\n",
       "      <td>True</td>\n",
       "      <td>eur</td>\n",
       "      <td>cus_QKkoyiGneQSxxq</td>\n",
       "      <td>2025-02-25 14:01:00</td>\n",
       "      <td>1970-01-01 00:00:00</td>\n",
       "      <td>NaN</td>\n",
       "      <td>False</td>\n",
       "      <td>False</td>\n",
       "      <td>...</td>\n",
       "      <td>0.00</td>\n",
       "      <td>0.0</td>\n",
       "      <td>NaN</td>\n",
       "      <td>NaN</td>\n",
       "      <td>NaN</td>\n",
       "      <td>0.00</td>\n",
       "      <td>0.0</td>\n",
       "      <td>draft</td>\n",
       "      <td>NaN</td>\n",
       "      <td>NaN</td>\n",
       "    </tr>\n",
       "    <tr>\n",
       "      <th>320</th>\n",
       "      <td>in_1QwJVPAFeGZf0UoOGWkzGxBD</td>\n",
       "      <td>9.00</td>\n",
       "      <td>True</td>\n",
       "      <td>usd</td>\n",
       "      <td>cus_PVdPFGa7V3RK3o</td>\n",
       "      <td>2025-02-25 08:28:00</td>\n",
       "      <td>2025-02-25 22:59:00</td>\n",
       "      <td>0.0</td>\n",
       "      <td>False</td>\n",
       "      <td>True</td>\n",
       "      <td>...</td>\n",
       "      <td>9.00</td>\n",
       "      <td>0.0</td>\n",
       "      <td>NaN</td>\n",
       "      <td>NaN</td>\n",
       "      <td>NaN</td>\n",
       "      <td>9.00</td>\n",
       "      <td>9.0</td>\n",
       "      <td>paid</td>\n",
       "      <td>NaN</td>\n",
       "      <td>NaN</td>\n",
       "    </tr>\n",
       "    <tr>\n",
       "      <th>445</th>\n",
       "      <td>in_1Qw15iAFeGZf0UoOwlY0HQea</td>\n",
       "      <td>31250.00</td>\n",
       "      <td>False</td>\n",
       "      <td>usd</td>\n",
       "      <td>cus_RgLOYG9tQ1hPEh</td>\n",
       "      <td>2025-02-24 12:48:00</td>\n",
       "      <td>2025-02-24 22:59:00</td>\n",
       "      <td>0.0</td>\n",
       "      <td>False</td>\n",
       "      <td>False</td>\n",
       "      <td>...</td>\n",
       "      <td>31250.00</td>\n",
       "      <td>0.0</td>\n",
       "      <td>NaN</td>\n",
       "      <td>NaN</td>\n",
       "      <td>NaN</td>\n",
       "      <td>31250.00</td>\n",
       "      <td>0.0</td>\n",
       "      <td>open</td>\n",
       "      <td>NaN</td>\n",
       "      <td>NaN</td>\n",
       "    </tr>\n",
       "    <tr>\n",
       "      <th>1056</th>\n",
       "      <td>in_1QuWmzAFeGZf0UoOAZvnw16y</td>\n",
       "      <td>72.00</td>\n",
       "      <td>True</td>\n",
       "      <td>usd</td>\n",
       "      <td>cus_Q9ZyM9Df72wBIP</td>\n",
       "      <td>2025-02-20 10:15:00</td>\n",
       "      <td>NaT</td>\n",
       "      <td>0.0</td>\n",
       "      <td>False</td>\n",
       "      <td>True</td>\n",
       "      <td>...</td>\n",
       "      <td>72.00</td>\n",
       "      <td>0.0</td>\n",
       "      <td>NaN</td>\n",
       "      <td>NaN</td>\n",
       "      <td>NaN</td>\n",
       "      <td>72.00</td>\n",
       "      <td>72.0</td>\n",
       "      <td>paid</td>\n",
       "      <td>NaN</td>\n",
       "      <td>NaN</td>\n",
       "    </tr>\n",
       "    <tr>\n",
       "      <th>1062</th>\n",
       "      <td>in_1QuWKSAFeGZf0UoOLUF0tIjt</td>\n",
       "      <td>72.00</td>\n",
       "      <td>True</td>\n",
       "      <td>usd</td>\n",
       "      <td>cus_Q9ZyM9Df72wBIP</td>\n",
       "      <td>2025-02-20 09:46:00</td>\n",
       "      <td>NaT</td>\n",
       "      <td>0.0</td>\n",
       "      <td>False</td>\n",
       "      <td>True</td>\n",
       "      <td>...</td>\n",
       "      <td>72.00</td>\n",
       "      <td>0.0</td>\n",
       "      <td>NaN</td>\n",
       "      <td>NaN</td>\n",
       "      <td>NaN</td>\n",
       "      <td>72.00</td>\n",
       "      <td>72.0</td>\n",
       "      <td>paid</td>\n",
       "      <td>NaN</td>\n",
       "      <td>NaN</td>\n",
       "    </tr>\n",
       "    <tr>\n",
       "      <th>1323</th>\n",
       "      <td>in_1Qtr6VAFeGZf0UoOap0Qzy7K</td>\n",
       "      <td>200.00</td>\n",
       "      <td>True</td>\n",
       "      <td>eur</td>\n",
       "      <td>cus_KZR8sw4FeYLo2J</td>\n",
       "      <td>2025-02-18 13:44:00</td>\n",
       "      <td>2025-02-18 22:59:00</td>\n",
       "      <td>0.0</td>\n",
       "      <td>False</td>\n",
       "      <td>True</td>\n",
       "      <td>...</td>\n",
       "      <td>200.00</td>\n",
       "      <td>0.0</td>\n",
       "      <td>NaN</td>\n",
       "      <td>NaN</td>\n",
       "      <td>NaN</td>\n",
       "      <td>200.00</td>\n",
       "      <td>200.0</td>\n",
       "      <td>paid</td>\n",
       "      <td>NaN</td>\n",
       "      <td>NaN</td>\n",
       "    </tr>\n",
       "    <tr>\n",
       "      <th>1404</th>\n",
       "      <td>in_1QtclWAFeGZf0UoO3mUSJfvm</td>\n",
       "      <td>46.80</td>\n",
       "      <td>False</td>\n",
       "      <td>eur</td>\n",
       "      <td>cus_JQzkgPkUkTzLgW</td>\n",
       "      <td>2025-02-17 22:26:00</td>\n",
       "      <td>2025-02-17 22:59:00</td>\n",
       "      <td>0.0</td>\n",
       "      <td>False</td>\n",
       "      <td>False</td>\n",
       "      <td>...</td>\n",
       "      <td>46.80</td>\n",
       "      <td>0.0</td>\n",
       "      <td>NaN</td>\n",
       "      <td>NaN</td>\n",
       "      <td>NaN</td>\n",
       "      <td>46.80</td>\n",
       "      <td>0.0</td>\n",
       "      <td>open</td>\n",
       "      <td>NaN</td>\n",
       "      <td>NaN</td>\n",
       "    </tr>\n",
       "    <tr>\n",
       "      <th>1520</th>\n",
       "      <td>in_1QtQv7AFeGZf0UoOjCOm7fnH</td>\n",
       "      <td>9.00</td>\n",
       "      <td>True</td>\n",
       "      <td>eur</td>\n",
       "      <td>cus_NYkeWORNbO4VCQ</td>\n",
       "      <td>2025-02-17 09:47:00</td>\n",
       "      <td>2025-02-17 22:59:00</td>\n",
       "      <td>0.0</td>\n",
       "      <td>False</td>\n",
       "      <td>True</td>\n",
       "      <td>...</td>\n",
       "      <td>9.00</td>\n",
       "      <td>0.0</td>\n",
       "      <td>NaN</td>\n",
       "      <td>NaN</td>\n",
       "      <td>NaN</td>\n",
       "      <td>9.00</td>\n",
       "      <td>9.0</td>\n",
       "      <td>paid</td>\n",
       "      <td>NaN</td>\n",
       "      <td>NaN</td>\n",
       "    </tr>\n",
       "    <tr>\n",
       "      <th>2053</th>\n",
       "      <td>in_1Qs1n0AFeGZf0UoOyuFBk3qW</td>\n",
       "      <td>2832.00</td>\n",
       "      <td>True</td>\n",
       "      <td>usd</td>\n",
       "      <td>cus_OezJrDfEUoiYhC</td>\n",
       "      <td>2025-02-13 12:45:00</td>\n",
       "      <td>1970-01-01 00:00:00</td>\n",
       "      <td>NaN</td>\n",
       "      <td>False</td>\n",
       "      <td>False</td>\n",
       "      <td>...</td>\n",
       "      <td>2832.00</td>\n",
       "      <td>0.0</td>\n",
       "      <td>NaN</td>\n",
       "      <td>NaN</td>\n",
       "      <td>NaN</td>\n",
       "      <td>2832.00</td>\n",
       "      <td>0.0</td>\n",
       "      <td>draft</td>\n",
       "      <td>NaN</td>\n",
       "      <td>NaN</td>\n",
       "    </tr>\n",
       "    <tr>\n",
       "      <th>2182</th>\n",
       "      <td>in_1QrgvqAFeGZf0UoOjDIyCct5</td>\n",
       "      <td>114.00</td>\n",
       "      <td>True</td>\n",
       "      <td>usd</td>\n",
       "      <td>cus_RQJsLjxRPAxNZm</td>\n",
       "      <td>2025-02-12 14:28:00</td>\n",
       "      <td>2025-02-12 22:59:00</td>\n",
       "      <td>0.0</td>\n",
       "      <td>False</td>\n",
       "      <td>True</td>\n",
       "      <td>...</td>\n",
       "      <td>114.00</td>\n",
       "      <td>0.0</td>\n",
       "      <td>NaN</td>\n",
       "      <td>NaN</td>\n",
       "      <td>NaN</td>\n",
       "      <td>114.00</td>\n",
       "      <td>114.0</td>\n",
       "      <td>paid</td>\n",
       "      <td>NaN</td>\n",
       "      <td>NaN</td>\n",
       "    </tr>\n",
       "    <tr>\n",
       "      <th>2183</th>\n",
       "      <td>in_1QrgrGAFeGZf0UoOyJq4VhFZ</td>\n",
       "      <td>1.13</td>\n",
       "      <td>True</td>\n",
       "      <td>usd</td>\n",
       "      <td>cus_RQJsLjxRPAxNZm</td>\n",
       "      <td>2025-02-12 14:24:00</td>\n",
       "      <td>1970-01-01 00:00:00</td>\n",
       "      <td>NaN</td>\n",
       "      <td>False</td>\n",
       "      <td>False</td>\n",
       "      <td>...</td>\n",
       "      <td>1.13</td>\n",
       "      <td>0.0</td>\n",
       "      <td>NaN</td>\n",
       "      <td>NaN</td>\n",
       "      <td>NaN</td>\n",
       "      <td>1.13</td>\n",
       "      <td>0.0</td>\n",
       "      <td>draft</td>\n",
       "      <td>NaN</td>\n",
       "      <td>NaN</td>\n",
       "    </tr>\n",
       "    <tr>\n",
       "      <th>2184</th>\n",
       "      <td>in_1QrgpyAFeGZf0UoOQH32ydBM</td>\n",
       "      <td>0.00</td>\n",
       "      <td>True</td>\n",
       "      <td>usd</td>\n",
       "      <td>cus_RQJsLjxRPAxNZm</td>\n",
       "      <td>2025-02-12 14:22:00</td>\n",
       "      <td>1970-01-01 00:00:00</td>\n",
       "      <td>NaN</td>\n",
       "      <td>False</td>\n",
       "      <td>False</td>\n",
       "      <td>...</td>\n",
       "      <td>0.00</td>\n",
       "      <td>0.0</td>\n",
       "      <td>NaN</td>\n",
       "      <td>NaN</td>\n",
       "      <td>NaN</td>\n",
       "      <td>0.00</td>\n",
       "      <td>0.0</td>\n",
       "      <td>draft</td>\n",
       "      <td>NaN</td>\n",
       "      <td>NaN</td>\n",
       "    </tr>\n",
       "    <tr>\n",
       "      <th>2305</th>\n",
       "      <td>in_1QrNboAFeGZf0UoOYvk58OGN</td>\n",
       "      <td>0.00</td>\n",
       "      <td>True</td>\n",
       "      <td>eur</td>\n",
       "      <td>cus_QRTkgmDtxRzfP7</td>\n",
       "      <td>2025-02-11 17:50:00</td>\n",
       "      <td>1970-01-01 00:00:00</td>\n",
       "      <td>NaN</td>\n",
       "      <td>False</td>\n",
       "      <td>False</td>\n",
       "      <td>...</td>\n",
       "      <td>0.00</td>\n",
       "      <td>0.0</td>\n",
       "      <td>NaN</td>\n",
       "      <td>NaN</td>\n",
       "      <td>NaN</td>\n",
       "      <td>0.00</td>\n",
       "      <td>0.0</td>\n",
       "      <td>draft</td>\n",
       "      <td>NaN</td>\n",
       "      <td>NaN</td>\n",
       "    </tr>\n",
       "    <tr>\n",
       "      <th>2306</th>\n",
       "      <td>in_1QrNVtAFeGZf0UoOf3MOCsEg</td>\n",
       "      <td>137.00</td>\n",
       "      <td>True</td>\n",
       "      <td>eur</td>\n",
       "      <td>cus_NYkeWORNbO4VCQ</td>\n",
       "      <td>2025-02-11 17:44:00</td>\n",
       "      <td>2025-02-11 22:59:00</td>\n",
       "      <td>0.0</td>\n",
       "      <td>False</td>\n",
       "      <td>True</td>\n",
       "      <td>...</td>\n",
       "      <td>137.00</td>\n",
       "      <td>0.0</td>\n",
       "      <td>NaN</td>\n",
       "      <td>NaN</td>\n",
       "      <td>NaN</td>\n",
       "      <td>137.00</td>\n",
       "      <td>137.0</td>\n",
       "      <td>paid</td>\n",
       "      <td>NaN</td>\n",
       "      <td>NaN</td>\n",
       "    </tr>\n",
       "    <tr>\n",
       "      <th>2330</th>\n",
       "      <td>in_1QrKy9AFeGZf0UoOV7oBcA5O</td>\n",
       "      <td>0.00</td>\n",
       "      <td>True</td>\n",
       "      <td>eur</td>\n",
       "      <td>cus_RIjxRssm0L79NH</td>\n",
       "      <td>2025-02-11 15:01:00</td>\n",
       "      <td>1970-01-01 00:00:00</td>\n",
       "      <td>NaN</td>\n",
       "      <td>False</td>\n",
       "      <td>False</td>\n",
       "      <td>...</td>\n",
       "      <td>0.00</td>\n",
       "      <td>0.0</td>\n",
       "      <td>NaN</td>\n",
       "      <td>NaN</td>\n",
       "      <td>NaN</td>\n",
       "      <td>0.00</td>\n",
       "      <td>0.0</td>\n",
       "      <td>draft</td>\n",
       "      <td>NaN</td>\n",
       "      <td>NaN</td>\n",
       "    </tr>\n",
       "    <tr>\n",
       "      <th>2350</th>\n",
       "      <td>in_1QrJrsAFeGZf0UoOGMsUvp6S</td>\n",
       "      <td>133.00</td>\n",
       "      <td>True</td>\n",
       "      <td>eur</td>\n",
       "      <td>cus_RbTMLaCeCVlhqG</td>\n",
       "      <td>2025-02-11 13:51:00</td>\n",
       "      <td>2025-02-11 22:59:00</td>\n",
       "      <td>0.0</td>\n",
       "      <td>False</td>\n",
       "      <td>True</td>\n",
       "      <td>...</td>\n",
       "      <td>133.00</td>\n",
       "      <td>0.0</td>\n",
       "      <td>NaN</td>\n",
       "      <td>NaN</td>\n",
       "      <td>NaN</td>\n",
       "      <td>133.00</td>\n",
       "      <td>133.0</td>\n",
       "      <td>paid</td>\n",
       "      <td>NaN</td>\n",
       "      <td>NaN</td>\n",
       "    </tr>\n",
       "    <tr>\n",
       "      <th>2375</th>\n",
       "      <td>in_1QrHTuAFeGZf0UoOnq8qQ0zH</td>\n",
       "      <td>0.00</td>\n",
       "      <td>True</td>\n",
       "      <td>eur</td>\n",
       "      <td>cus_NOTDHIxuvH300q</td>\n",
       "      <td>2025-02-11 11:18:00</td>\n",
       "      <td>1970-01-01 00:00:00</td>\n",
       "      <td>NaN</td>\n",
       "      <td>False</td>\n",
       "      <td>False</td>\n",
       "      <td>...</td>\n",
       "      <td>0.00</td>\n",
       "      <td>0.0</td>\n",
       "      <td>NaN</td>\n",
       "      <td>NaN</td>\n",
       "      <td>NaN</td>\n",
       "      <td>0.00</td>\n",
       "      <td>0.0</td>\n",
       "      <td>draft</td>\n",
       "      <td>NaN</td>\n",
       "      <td>NaN</td>\n",
       "    </tr>\n",
       "    <tr>\n",
       "      <th>2489</th>\n",
       "      <td>in_1QqxyTAFeGZf0UoOxa20w8Sm</td>\n",
       "      <td>0.00</td>\n",
       "      <td>True</td>\n",
       "      <td>eur</td>\n",
       "      <td>cus_RdgyibXy6P2g1y</td>\n",
       "      <td>2025-02-10 14:28:00</td>\n",
       "      <td>2025-02-10 22:59:00</td>\n",
       "      <td>0.0</td>\n",
       "      <td>False</td>\n",
       "      <td>True</td>\n",
       "      <td>...</td>\n",
       "      <td>0.00</td>\n",
       "      <td>0.0</td>\n",
       "      <td>NaN</td>\n",
       "      <td>NaN</td>\n",
       "      <td>NaN</td>\n",
       "      <td>0.00</td>\n",
       "      <td>0.0</td>\n",
       "      <td>paid</td>\n",
       "      <td>NaN</td>\n",
       "      <td>NaN</td>\n",
       "    </tr>\n",
       "    <tr>\n",
       "      <th>2545</th>\n",
       "      <td>in_1Qqt2aAFeGZf0UoOfiWbtv7D</td>\n",
       "      <td>348.00</td>\n",
       "      <td>True</td>\n",
       "      <td>eur</td>\n",
       "      <td>cus_NOTDHIxuvH300q</td>\n",
       "      <td>2025-02-10 09:12:00</td>\n",
       "      <td>1970-01-01 00:00:00</td>\n",
       "      <td>NaN</td>\n",
       "      <td>False</td>\n",
       "      <td>False</td>\n",
       "      <td>...</td>\n",
       "      <td>348.00</td>\n",
       "      <td>0.0</td>\n",
       "      <td>NaN</td>\n",
       "      <td>NaN</td>\n",
       "      <td>NaN</td>\n",
       "      <td>348.00</td>\n",
       "      <td>0.0</td>\n",
       "      <td>draft</td>\n",
       "      <td>NaN</td>\n",
       "      <td>NaN</td>\n",
       "    </tr>\n",
       "    <tr>\n",
       "      <th>3485</th>\n",
       "      <td>in_1QoQffAFeGZf0UoOkeOiugut</td>\n",
       "      <td>136.00</td>\n",
       "      <td>True</td>\n",
       "      <td>eur</td>\n",
       "      <td>cus_QFYpISCDbtynLm</td>\n",
       "      <td>2025-02-03 14:30:00</td>\n",
       "      <td>2025-02-03 22:59:00</td>\n",
       "      <td>0.0</td>\n",
       "      <td>False</td>\n",
       "      <td>True</td>\n",
       "      <td>...</td>\n",
       "      <td>136.00</td>\n",
       "      <td>0.0</td>\n",
       "      <td>NaN</td>\n",
       "      <td>NaN</td>\n",
       "      <td>NaN</td>\n",
       "      <td>136.00</td>\n",
       "      <td>136.0</td>\n",
       "      <td>paid</td>\n",
       "      <td>NaN</td>\n",
       "      <td>NaN</td>\n",
       "    </tr>\n",
       "    <tr>\n",
       "      <th>3536</th>\n",
       "      <td>in_1QoNJeAFeGZf0UoOmTVqR0Qf</td>\n",
       "      <td>108.00</td>\n",
       "      <td>True</td>\n",
       "      <td>eur</td>\n",
       "      <td>cus_KZR8sw4FeYLo2J</td>\n",
       "      <td>2025-02-03 10:55:00</td>\n",
       "      <td>2025-02-03 22:59:00</td>\n",
       "      <td>0.0</td>\n",
       "      <td>False</td>\n",
       "      <td>True</td>\n",
       "      <td>...</td>\n",
       "      <td>108.00</td>\n",
       "      <td>0.0</td>\n",
       "      <td>NaN</td>\n",
       "      <td>NaN</td>\n",
       "      <td>NaN</td>\n",
       "      <td>108.00</td>\n",
       "      <td>108.0</td>\n",
       "      <td>paid</td>\n",
       "      <td>NaN</td>\n",
       "      <td>NaN</td>\n",
       "    </tr>\n",
       "    <tr>\n",
       "      <th>3986</th>\n",
       "      <td>in_1Qn0DAAFeGZf0UoOioZ0mzm2</td>\n",
       "      <td>0.00</td>\n",
       "      <td>True</td>\n",
       "      <td>eur</td>\n",
       "      <td>cus_R5dZgizcov5n4A</td>\n",
       "      <td>2025-01-30 16:03:00</td>\n",
       "      <td>1970-01-01 00:00:00</td>\n",
       "      <td>NaN</td>\n",
       "      <td>False</td>\n",
       "      <td>False</td>\n",
       "      <td>...</td>\n",
       "      <td>0.00</td>\n",
       "      <td>0.0</td>\n",
       "      <td>NaN</td>\n",
       "      <td>NaN</td>\n",
       "      <td>NaN</td>\n",
       "      <td>0.00</td>\n",
       "      <td>0.0</td>\n",
       "      <td>draft</td>\n",
       "      <td>NaN</td>\n",
       "      <td>NaN</td>\n",
       "    </tr>\n",
       "    <tr>\n",
       "      <th>4146</th>\n",
       "      <td>in_1QmdPiAFeGZf0UoOiD16XBdP</td>\n",
       "      <td>18.00</td>\n",
       "      <td>True</td>\n",
       "      <td>usd</td>\n",
       "      <td>cus_QsB6GusyraQ8Kf</td>\n",
       "      <td>2025-01-29 15:42:00</td>\n",
       "      <td>1970-01-01 00:00:00</td>\n",
       "      <td>NaN</td>\n",
       "      <td>False</td>\n",
       "      <td>False</td>\n",
       "      <td>...</td>\n",
       "      <td>18.00</td>\n",
       "      <td>0.0</td>\n",
       "      <td>NaN</td>\n",
       "      <td>NaN</td>\n",
       "      <td>NaN</td>\n",
       "      <td>18.00</td>\n",
       "      <td>0.0</td>\n",
       "      <td>draft</td>\n",
       "      <td>NaN</td>\n",
       "      <td>NaN</td>\n",
       "    </tr>\n",
       "    <tr>\n",
       "      <th>4450</th>\n",
       "      <td>in_1QlpNXAFeGZf0UoOxaVV8jpk</td>\n",
       "      <td>0.00</td>\n",
       "      <td>True</td>\n",
       "      <td>eur</td>\n",
       "      <td>cus_RbTMLaCeCVlhqG</td>\n",
       "      <td>2025-01-27 10:17:00</td>\n",
       "      <td>1970-01-01 00:00:00</td>\n",
       "      <td>NaN</td>\n",
       "      <td>False</td>\n",
       "      <td>False</td>\n",
       "      <td>...</td>\n",
       "      <td>0.00</td>\n",
       "      <td>0.0</td>\n",
       "      <td>NaN</td>\n",
       "      <td>NaN</td>\n",
       "      <td>NaN</td>\n",
       "      <td>0.00</td>\n",
       "      <td>0.0</td>\n",
       "      <td>draft</td>\n",
       "      <td>NaN</td>\n",
       "      <td>NaN</td>\n",
       "    </tr>\n",
       "    <tr>\n",
       "      <th>5083</th>\n",
       "      <td>in_1Qk5xmAFeGZf0UoOU151nuZZ</td>\n",
       "      <td>0.00</td>\n",
       "      <td>True</td>\n",
       "      <td>eur</td>\n",
       "      <td>cus_PQAaj3SZMpaFRB</td>\n",
       "      <td>2025-01-22 15:35:00</td>\n",
       "      <td>1970-01-01 00:00:00</td>\n",
       "      <td>NaN</td>\n",
       "      <td>False</td>\n",
       "      <td>False</td>\n",
       "      <td>...</td>\n",
       "      <td>0.00</td>\n",
       "      <td>0.0</td>\n",
       "      <td>NaN</td>\n",
       "      <td>NaN</td>\n",
       "      <td>NaN</td>\n",
       "      <td>0.00</td>\n",
       "      <td>0.0</td>\n",
       "      <td>draft</td>\n",
       "      <td>NaN</td>\n",
       "      <td>NaN</td>\n",
       "    </tr>\n",
       "    <tr>\n",
       "      <th>5093</th>\n",
       "      <td>in_1Qk5SdAFeGZf0UoOhMifwnrz</td>\n",
       "      <td>0.00</td>\n",
       "      <td>True</td>\n",
       "      <td>usd</td>\n",
       "      <td>cus_Q9ZyM9Df72wBIP</td>\n",
       "      <td>2025-01-22 15:03:00</td>\n",
       "      <td>1970-01-01 00:00:00</td>\n",
       "      <td>NaN</td>\n",
       "      <td>False</td>\n",
       "      <td>False</td>\n",
       "      <td>...</td>\n",
       "      <td>0.00</td>\n",
       "      <td>0.0</td>\n",
       "      <td>NaN</td>\n",
       "      <td>NaN</td>\n",
       "      <td>NaN</td>\n",
       "      <td>0.00</td>\n",
       "      <td>0.0</td>\n",
       "      <td>draft</td>\n",
       "      <td>NaN</td>\n",
       "      <td>NaN</td>\n",
       "    </tr>\n",
       "    <tr>\n",
       "      <th>5095</th>\n",
       "      <td>in_1Qk5NrAFeGZf0UoO6dQHCC7H</td>\n",
       "      <td>0.00</td>\n",
       "      <td>True</td>\n",
       "      <td>usd</td>\n",
       "      <td>cus_Q9ZyM9Df72wBIP</td>\n",
       "      <td>2025-01-22 14:58:00</td>\n",
       "      <td>1970-01-01 00:00:00</td>\n",
       "      <td>NaN</td>\n",
       "      <td>False</td>\n",
       "      <td>False</td>\n",
       "      <td>...</td>\n",
       "      <td>0.00</td>\n",
       "      <td>0.0</td>\n",
       "      <td>NaN</td>\n",
       "      <td>NaN</td>\n",
       "      <td>NaN</td>\n",
       "      <td>0.00</td>\n",
       "      <td>0.0</td>\n",
       "      <td>draft</td>\n",
       "      <td>NaN</td>\n",
       "      <td>NaN</td>\n",
       "    </tr>\n",
       "    <tr>\n",
       "      <th>5107</th>\n",
       "      <td>in_1Qk532AFeGZf0UoOhzDHTT9Z</td>\n",
       "      <td>0.00</td>\n",
       "      <td>True</td>\n",
       "      <td>eur</td>\n",
       "      <td>cus_RY1OHL0dUphakh</td>\n",
       "      <td>2025-01-22 14:36:00</td>\n",
       "      <td>1970-01-01 00:00:00</td>\n",
       "      <td>NaN</td>\n",
       "      <td>False</td>\n",
       "      <td>False</td>\n",
       "      <td>...</td>\n",
       "      <td>0.00</td>\n",
       "      <td>0.0</td>\n",
       "      <td>NaN</td>\n",
       "      <td>NaN</td>\n",
       "      <td>NaN</td>\n",
       "      <td>0.00</td>\n",
       "      <td>0.0</td>\n",
       "      <td>draft</td>\n",
       "      <td>NaN</td>\n",
       "      <td>NaN</td>\n",
       "    </tr>\n",
       "    <tr>\n",
       "      <th>5108</th>\n",
       "      <td>in_1Qk522AFeGZf0UoOAJbzGFI2</td>\n",
       "      <td>0.00</td>\n",
       "      <td>True</td>\n",
       "      <td>eur</td>\n",
       "      <td>cus_RY1OHL0dUphakh</td>\n",
       "      <td>2025-01-22 14:35:00</td>\n",
       "      <td>1970-01-01 00:00:00</td>\n",
       "      <td>NaN</td>\n",
       "      <td>False</td>\n",
       "      <td>False</td>\n",
       "      <td>...</td>\n",
       "      <td>0.00</td>\n",
       "      <td>0.0</td>\n",
       "      <td>NaN</td>\n",
       "      <td>NaN</td>\n",
       "      <td>NaN</td>\n",
       "      <td>0.00</td>\n",
       "      <td>0.0</td>\n",
       "      <td>draft</td>\n",
       "      <td>NaN</td>\n",
       "      <td>NaN</td>\n",
       "    </tr>\n",
       "    <tr>\n",
       "      <th>5126</th>\n",
       "      <td>in_1Qk46iAFeGZf0UoOC6FGpQ2i</td>\n",
       "      <td>0.00</td>\n",
       "      <td>True</td>\n",
       "      <td>usd</td>\n",
       "      <td>cus_Q9ZyM9Df72wBIP</td>\n",
       "      <td>2025-01-22 13:36:00</td>\n",
       "      <td>1970-01-01 00:00:00</td>\n",
       "      <td>NaN</td>\n",
       "      <td>False</td>\n",
       "      <td>False</td>\n",
       "      <td>...</td>\n",
       "      <td>0.00</td>\n",
       "      <td>0.0</td>\n",
       "      <td>NaN</td>\n",
       "      <td>NaN</td>\n",
       "      <td>NaN</td>\n",
       "      <td>0.00</td>\n",
       "      <td>0.0</td>\n",
       "      <td>draft</td>\n",
       "      <td>NaN</td>\n",
       "      <td>NaN</td>\n",
       "    </tr>\n",
       "    <tr>\n",
       "      <th>6120</th>\n",
       "      <td>in_1QhTUxAFeGZf0UoOSkOEdJ66</td>\n",
       "      <td>5028.60</td>\n",
       "      <td>True</td>\n",
       "      <td>eur</td>\n",
       "      <td>cus_MjtaBsPBXSmAJG</td>\n",
       "      <td>2025-01-15 10:06:00</td>\n",
       "      <td>2025-01-15 22:59:00</td>\n",
       "      <td>0.0</td>\n",
       "      <td>False</td>\n",
       "      <td>True</td>\n",
       "      <td>...</td>\n",
       "      <td>5916.00</td>\n",
       "      <td>887.4</td>\n",
       "      <td>RAVSURFE515</td>\n",
       "      <td>NaN</td>\n",
       "      <td>NaN</td>\n",
       "      <td>5028.60</td>\n",
       "      <td>0.0</td>\n",
       "      <td>paid</td>\n",
       "      <td>NaN</td>\n",
       "      <td>NaN</td>\n",
       "    </tr>\n",
       "    <tr>\n",
       "      <th>6199</th>\n",
       "      <td>in_1QhCHbAFeGZf0UoOdU5RD2qD</td>\n",
       "      <td>72.00</td>\n",
       "      <td>True</td>\n",
       "      <td>usd</td>\n",
       "      <td>cus_Q9ZyM9Df72wBIP</td>\n",
       "      <td>2025-01-14 15:43:00</td>\n",
       "      <td>2025-01-14 22:59:00</td>\n",
       "      <td>0.0</td>\n",
       "      <td>False</td>\n",
       "      <td>True</td>\n",
       "      <td>...</td>\n",
       "      <td>72.00</td>\n",
       "      <td>0.0</td>\n",
       "      <td>NaN</td>\n",
       "      <td>NaN</td>\n",
       "      <td>NaN</td>\n",
       "      <td>72.00</td>\n",
       "      <td>72.0</td>\n",
       "      <td>paid</td>\n",
       "      <td>NaN</td>\n",
       "      <td>NaN</td>\n",
       "    </tr>\n",
       "    <tr>\n",
       "      <th>6262</th>\n",
       "      <td>in_1Qh6c3AFeGZf0UoO4VXEk6Ep</td>\n",
       "      <td>60.00</td>\n",
       "      <td>True</td>\n",
       "      <td>usd</td>\n",
       "      <td>cus_Qc7POGpS5yYocv</td>\n",
       "      <td>2025-01-14 09:40:00</td>\n",
       "      <td>NaT</td>\n",
       "      <td>0.0</td>\n",
       "      <td>False</td>\n",
       "      <td>True</td>\n",
       "      <td>...</td>\n",
       "      <td>60.00</td>\n",
       "      <td>0.0</td>\n",
       "      <td>NaN</td>\n",
       "      <td>NaN</td>\n",
       "      <td>NaN</td>\n",
       "      <td>60.00</td>\n",
       "      <td>60.0</td>\n",
       "      <td>paid</td>\n",
       "      <td>NaN</td>\n",
       "      <td>NaN</td>\n",
       "    </tr>\n",
       "    <tr>\n",
       "      <th>6768</th>\n",
       "      <td>in_1QfjRjAFeGZf0UoO3pljw3b5</td>\n",
       "      <td>20.00</td>\n",
       "      <td>False</td>\n",
       "      <td>usd</td>\n",
       "      <td>cus_QuSXojxabmpmg4</td>\n",
       "      <td>2025-01-10 14:44:00</td>\n",
       "      <td>2025-01-10 22:59:00</td>\n",
       "      <td>0.0</td>\n",
       "      <td>False</td>\n",
       "      <td>False</td>\n",
       "      <td>...</td>\n",
       "      <td>20.00</td>\n",
       "      <td>0.0</td>\n",
       "      <td>NaN</td>\n",
       "      <td>NaN</td>\n",
       "      <td>NaN</td>\n",
       "      <td>20.00</td>\n",
       "      <td>0.0</td>\n",
       "      <td>open</td>\n",
       "      <td>NaN</td>\n",
       "      <td>NaN</td>\n",
       "    </tr>\n",
       "    <tr>\n",
       "      <th>7914</th>\n",
       "      <td>in_1QcmpAAFeGZf0UoOwzL4Uy1A</td>\n",
       "      <td>39.00</td>\n",
       "      <td>False</td>\n",
       "      <td>usd</td>\n",
       "      <td>cus_RA9AvKgmy1kWbD</td>\n",
       "      <td>2025-01-02 11:44:00</td>\n",
       "      <td>2025-01-03 11:46:00</td>\n",
       "      <td>0.0</td>\n",
       "      <td>False</td>\n",
       "      <td>False</td>\n",
       "      <td>...</td>\n",
       "      <td>39.00</td>\n",
       "      <td>0.0</td>\n",
       "      <td>NaN</td>\n",
       "      <td>NaN</td>\n",
       "      <td>NaN</td>\n",
       "      <td>39.00</td>\n",
       "      <td>0.0</td>\n",
       "      <td>open</td>\n",
       "      <td>NaN</td>\n",
       "      <td>NaN</td>\n",
       "    </tr>\n",
       "    <tr>\n",
       "      <th>7915</th>\n",
       "      <td>in_1QcmobAFeGZf0UoOmvY7PqpH</td>\n",
       "      <td>0.00</td>\n",
       "      <td>True</td>\n",
       "      <td>usd</td>\n",
       "      <td>cus_RA9AvKgmy1kWbD</td>\n",
       "      <td>2025-01-02 11:43:00</td>\n",
       "      <td>1970-01-01 00:00:00</td>\n",
       "      <td>NaN</td>\n",
       "      <td>False</td>\n",
       "      <td>False</td>\n",
       "      <td>...</td>\n",
       "      <td>0.00</td>\n",
       "      <td>0.0</td>\n",
       "      <td>NaN</td>\n",
       "      <td>NaN</td>\n",
       "      <td>NaN</td>\n",
       "      <td>0.00</td>\n",
       "      <td>0.0</td>\n",
       "      <td>draft</td>\n",
       "      <td>NaN</td>\n",
       "      <td>NaN</td>\n",
       "    </tr>\n",
       "  </tbody>\n",
       "</table>\n",
       "<p>39 rows × 30 columns</p>\n",
       "</div>"
      ],
      "text/plain": [
       "                               id  amount due  closed currency  \\\n",
       "7     in_1Qx3R0AFeGZf0UoOYSx37Ftb       22.50    True      eur   \n",
       "18    in_1Qx2hmAFeGZf0UoOYD4eoPnB        9.00    True      usd   \n",
       "27    in_1Qx1pRAFeGZf0UoOXawHgA3a      137.00    True      usd   \n",
       "256   in_1QwOhtAFeGZf0UoOSjYsHGRs        0.00    True      eur   \n",
       "320   in_1QwJVPAFeGZf0UoOGWkzGxBD        9.00    True      usd   \n",
       "445   in_1Qw15iAFeGZf0UoOwlY0HQea    31250.00   False      usd   \n",
       "1056  in_1QuWmzAFeGZf0UoOAZvnw16y       72.00    True      usd   \n",
       "1062  in_1QuWKSAFeGZf0UoOLUF0tIjt       72.00    True      usd   \n",
       "1323  in_1Qtr6VAFeGZf0UoOap0Qzy7K      200.00    True      eur   \n",
       "1404  in_1QtclWAFeGZf0UoO3mUSJfvm       46.80   False      eur   \n",
       "1520  in_1QtQv7AFeGZf0UoOjCOm7fnH        9.00    True      eur   \n",
       "2053  in_1Qs1n0AFeGZf0UoOyuFBk3qW     2832.00    True      usd   \n",
       "2182  in_1QrgvqAFeGZf0UoOjDIyCct5      114.00    True      usd   \n",
       "2183  in_1QrgrGAFeGZf0UoOyJq4VhFZ        1.13    True      usd   \n",
       "2184  in_1QrgpyAFeGZf0UoOQH32ydBM        0.00    True      usd   \n",
       "2305  in_1QrNboAFeGZf0UoOYvk58OGN        0.00    True      eur   \n",
       "2306  in_1QrNVtAFeGZf0UoOf3MOCsEg      137.00    True      eur   \n",
       "2330  in_1QrKy9AFeGZf0UoOV7oBcA5O        0.00    True      eur   \n",
       "2350  in_1QrJrsAFeGZf0UoOGMsUvp6S      133.00    True      eur   \n",
       "2375  in_1QrHTuAFeGZf0UoOnq8qQ0zH        0.00    True      eur   \n",
       "2489  in_1QqxyTAFeGZf0UoOxa20w8Sm        0.00    True      eur   \n",
       "2545  in_1Qqt2aAFeGZf0UoOfiWbtv7D      348.00    True      eur   \n",
       "3485  in_1QoQffAFeGZf0UoOkeOiugut      136.00    True      eur   \n",
       "3536  in_1QoNJeAFeGZf0UoOmTVqR0Qf      108.00    True      eur   \n",
       "3986  in_1Qn0DAAFeGZf0UoOioZ0mzm2        0.00    True      eur   \n",
       "4146  in_1QmdPiAFeGZf0UoOiD16XBdP       18.00    True      usd   \n",
       "4450  in_1QlpNXAFeGZf0UoOxaVV8jpk        0.00    True      eur   \n",
       "5083  in_1Qk5xmAFeGZf0UoOU151nuZZ        0.00    True      eur   \n",
       "5093  in_1Qk5SdAFeGZf0UoOhMifwnrz        0.00    True      usd   \n",
       "5095  in_1Qk5NrAFeGZf0UoO6dQHCC7H        0.00    True      usd   \n",
       "5107  in_1Qk532AFeGZf0UoOhzDHTT9Z        0.00    True      eur   \n",
       "5108  in_1Qk522AFeGZf0UoOAJbzGFI2        0.00    True      eur   \n",
       "5126  in_1Qk46iAFeGZf0UoOC6FGpQ2i        0.00    True      usd   \n",
       "6120  in_1QhTUxAFeGZf0UoOSkOEdJ66     5028.60    True      eur   \n",
       "6199  in_1QhCHbAFeGZf0UoOdU5RD2qD       72.00    True      usd   \n",
       "6262  in_1Qh6c3AFeGZf0UoO4VXEk6Ep       60.00    True      usd   \n",
       "6768  in_1QfjRjAFeGZf0UoO3pljw3b5       20.00   False      usd   \n",
       "7914  in_1QcmpAAFeGZf0UoOwzL4Uy1A       39.00   False      usd   \n",
       "7915  in_1QcmobAFeGZf0UoOmvY7PqpH        0.00    True      usd   \n",
       "\n",
       "                customer          date (utc)      due date (utc)  \\\n",
       "7     cus_PbPmpwRy3HrxgP 2025-02-27 09:31:00 2025-02-27 22:59:00   \n",
       "18    cus_PVdPFGa7V3RK3o 2025-02-27 08:44:00 2025-02-27 22:59:00   \n",
       "27    cus_PVdPFGa7V3RK3o 2025-02-27 07:48:00 2025-02-27 22:59:00   \n",
       "256   cus_QKkoyiGneQSxxq 2025-02-25 14:01:00 1970-01-01 00:00:00   \n",
       "320   cus_PVdPFGa7V3RK3o 2025-02-25 08:28:00 2025-02-25 22:59:00   \n",
       "445   cus_RgLOYG9tQ1hPEh 2025-02-24 12:48:00 2025-02-24 22:59:00   \n",
       "1056  cus_Q9ZyM9Df72wBIP 2025-02-20 10:15:00                 NaT   \n",
       "1062  cus_Q9ZyM9Df72wBIP 2025-02-20 09:46:00                 NaT   \n",
       "1323  cus_KZR8sw4FeYLo2J 2025-02-18 13:44:00 2025-02-18 22:59:00   \n",
       "1404  cus_JQzkgPkUkTzLgW 2025-02-17 22:26:00 2025-02-17 22:59:00   \n",
       "1520  cus_NYkeWORNbO4VCQ 2025-02-17 09:47:00 2025-02-17 22:59:00   \n",
       "2053  cus_OezJrDfEUoiYhC 2025-02-13 12:45:00 1970-01-01 00:00:00   \n",
       "2182  cus_RQJsLjxRPAxNZm 2025-02-12 14:28:00 2025-02-12 22:59:00   \n",
       "2183  cus_RQJsLjxRPAxNZm 2025-02-12 14:24:00 1970-01-01 00:00:00   \n",
       "2184  cus_RQJsLjxRPAxNZm 2025-02-12 14:22:00 1970-01-01 00:00:00   \n",
       "2305  cus_QRTkgmDtxRzfP7 2025-02-11 17:50:00 1970-01-01 00:00:00   \n",
       "2306  cus_NYkeWORNbO4VCQ 2025-02-11 17:44:00 2025-02-11 22:59:00   \n",
       "2330  cus_RIjxRssm0L79NH 2025-02-11 15:01:00 1970-01-01 00:00:00   \n",
       "2350  cus_RbTMLaCeCVlhqG 2025-02-11 13:51:00 2025-02-11 22:59:00   \n",
       "2375  cus_NOTDHIxuvH300q 2025-02-11 11:18:00 1970-01-01 00:00:00   \n",
       "2489  cus_RdgyibXy6P2g1y 2025-02-10 14:28:00 2025-02-10 22:59:00   \n",
       "2545  cus_NOTDHIxuvH300q 2025-02-10 09:12:00 1970-01-01 00:00:00   \n",
       "3485  cus_QFYpISCDbtynLm 2025-02-03 14:30:00 2025-02-03 22:59:00   \n",
       "3536  cus_KZR8sw4FeYLo2J 2025-02-03 10:55:00 2025-02-03 22:59:00   \n",
       "3986  cus_R5dZgizcov5n4A 2025-01-30 16:03:00 1970-01-01 00:00:00   \n",
       "4146  cus_QsB6GusyraQ8Kf 2025-01-29 15:42:00 1970-01-01 00:00:00   \n",
       "4450  cus_RbTMLaCeCVlhqG 2025-01-27 10:17:00 1970-01-01 00:00:00   \n",
       "5083  cus_PQAaj3SZMpaFRB 2025-01-22 15:35:00 1970-01-01 00:00:00   \n",
       "5093  cus_Q9ZyM9Df72wBIP 2025-01-22 15:03:00 1970-01-01 00:00:00   \n",
       "5095  cus_Q9ZyM9Df72wBIP 2025-01-22 14:58:00 1970-01-01 00:00:00   \n",
       "5107  cus_RY1OHL0dUphakh 2025-01-22 14:36:00 1970-01-01 00:00:00   \n",
       "5108  cus_RY1OHL0dUphakh 2025-01-22 14:35:00 1970-01-01 00:00:00   \n",
       "5126  cus_Q9ZyM9Df72wBIP 2025-01-22 13:36:00 1970-01-01 00:00:00   \n",
       "6120  cus_MjtaBsPBXSmAJG 2025-01-15 10:06:00 2025-01-15 22:59:00   \n",
       "6199  cus_Q9ZyM9Df72wBIP 2025-01-14 15:43:00 2025-01-14 22:59:00   \n",
       "6262  cus_Qc7POGpS5yYocv 2025-01-14 09:40:00                 NaT   \n",
       "6768  cus_QuSXojxabmpmg4 2025-01-10 14:44:00 2025-01-10 22:59:00   \n",
       "7914  cus_RA9AvKgmy1kWbD 2025-01-02 11:44:00 2025-01-03 11:46:00   \n",
       "7915  cus_RA9AvKgmy1kWbD 2025-01-02 11:43:00 1970-01-01 00:00:00   \n",
       "\n",
       "      ending balance  forgiven   paid  ...  subtotal total discount amount  \\\n",
       "7                0.0     False   True  ...     22.50                   0.0   \n",
       "18               0.0     False   True  ...      9.00                   0.0   \n",
       "27               0.0      True  False  ...    137.00                   0.0   \n",
       "256              NaN     False  False  ...      0.00                   0.0   \n",
       "320              0.0     False   True  ...      9.00                   0.0   \n",
       "445              0.0     False  False  ...  31250.00                   0.0   \n",
       "1056             0.0     False   True  ...     72.00                   0.0   \n",
       "1062             0.0     False   True  ...     72.00                   0.0   \n",
       "1323             0.0     False   True  ...    200.00                   0.0   \n",
       "1404             0.0     False  False  ...     46.80                   0.0   \n",
       "1520             0.0     False   True  ...      9.00                   0.0   \n",
       "2053             NaN     False  False  ...   2832.00                   0.0   \n",
       "2182             0.0     False   True  ...    114.00                   0.0   \n",
       "2183             NaN     False  False  ...      1.13                   0.0   \n",
       "2184             NaN     False  False  ...      0.00                   0.0   \n",
       "2305             NaN     False  False  ...      0.00                   0.0   \n",
       "2306             0.0     False   True  ...    137.00                   0.0   \n",
       "2330             NaN     False  False  ...      0.00                   0.0   \n",
       "2350             0.0     False   True  ...    133.00                   0.0   \n",
       "2375             NaN     False  False  ...      0.00                   0.0   \n",
       "2489             0.0     False   True  ...      0.00                   0.0   \n",
       "2545             NaN     False  False  ...    348.00                   0.0   \n",
       "3485             0.0     False   True  ...    136.00                   0.0   \n",
       "3536             0.0     False   True  ...    108.00                   0.0   \n",
       "3986             NaN     False  False  ...      0.00                   0.0   \n",
       "4146             NaN     False  False  ...     18.00                   0.0   \n",
       "4450             NaN     False  False  ...      0.00                   0.0   \n",
       "5083             NaN     False  False  ...      0.00                   0.0   \n",
       "5093             NaN     False  False  ...      0.00                   0.0   \n",
       "5095             NaN     False  False  ...      0.00                   0.0   \n",
       "5107             NaN     False  False  ...      0.00                   0.0   \n",
       "5108             NaN     False  False  ...      0.00                   0.0   \n",
       "5126             NaN     False  False  ...      0.00                   0.0   \n",
       "6120             0.0     False   True  ...   5916.00                 887.4   \n",
       "6199             0.0     False   True  ...     72.00                   0.0   \n",
       "6262             0.0     False   True  ...     60.00                   0.0   \n",
       "6768             0.0     False  False  ...     20.00                   0.0   \n",
       "7914             0.0     False  False  ...     39.00                   0.0   \n",
       "7915             NaN     False  False  ...      0.00                   0.0   \n",
       "\n",
       "     applied coupons tax tax percent     total amount paid         status  \\\n",
       "7                NaN NaN         NaN     22.50        22.5           paid   \n",
       "18               NaN NaN         NaN      9.00         9.0           paid   \n",
       "27               NaN NaN         NaN    137.00         0.0  uncollectible   \n",
       "256              NaN NaN         NaN      0.00         0.0          draft   \n",
       "320              NaN NaN         NaN      9.00         9.0           paid   \n",
       "445              NaN NaN         NaN  31250.00         0.0           open   \n",
       "1056             NaN NaN         NaN     72.00        72.0           paid   \n",
       "1062             NaN NaN         NaN     72.00        72.0           paid   \n",
       "1323             NaN NaN         NaN    200.00       200.0           paid   \n",
       "1404             NaN NaN         NaN     46.80         0.0           open   \n",
       "1520             NaN NaN         NaN      9.00         9.0           paid   \n",
       "2053             NaN NaN         NaN   2832.00         0.0          draft   \n",
       "2182             NaN NaN         NaN    114.00       114.0           paid   \n",
       "2183             NaN NaN         NaN      1.13         0.0          draft   \n",
       "2184             NaN NaN         NaN      0.00         0.0          draft   \n",
       "2305             NaN NaN         NaN      0.00         0.0          draft   \n",
       "2306             NaN NaN         NaN    137.00       137.0           paid   \n",
       "2330             NaN NaN         NaN      0.00         0.0          draft   \n",
       "2350             NaN NaN         NaN    133.00       133.0           paid   \n",
       "2375             NaN NaN         NaN      0.00         0.0          draft   \n",
       "2489             NaN NaN         NaN      0.00         0.0           paid   \n",
       "2545             NaN NaN         NaN    348.00         0.0          draft   \n",
       "3485             NaN NaN         NaN    136.00       136.0           paid   \n",
       "3536             NaN NaN         NaN    108.00       108.0           paid   \n",
       "3986             NaN NaN         NaN      0.00         0.0          draft   \n",
       "4146             NaN NaN         NaN     18.00         0.0          draft   \n",
       "4450             NaN NaN         NaN      0.00         0.0          draft   \n",
       "5083             NaN NaN         NaN      0.00         0.0          draft   \n",
       "5093             NaN NaN         NaN      0.00         0.0          draft   \n",
       "5095             NaN NaN         NaN      0.00         0.0          draft   \n",
       "5107             NaN NaN         NaN      0.00         0.0          draft   \n",
       "5108             NaN NaN         NaN      0.00         0.0          draft   \n",
       "5126             NaN NaN         NaN      0.00         0.0          draft   \n",
       "6120     RAVSURFE515 NaN         NaN   5028.60         0.0           paid   \n",
       "6199             NaN NaN         NaN     72.00        72.0           paid   \n",
       "6262             NaN NaN         NaN     60.00        60.0           paid   \n",
       "6768             NaN NaN         NaN     20.00         0.0           open   \n",
       "7914             NaN NaN         NaN     39.00         0.0           open   \n",
       "7915             NaN NaN         NaN      0.00         0.0          draft   \n",
       "\n",
       "      exclusive tax amount inclusive tax amount  \n",
       "7                      NaN                  NaN  \n",
       "18                     NaN                  NaN  \n",
       "27                     NaN                  NaN  \n",
       "256                    NaN                  NaN  \n",
       "320                    NaN                  NaN  \n",
       "445                    NaN                  NaN  \n",
       "1056                   NaN                  NaN  \n",
       "1062                   NaN                  NaN  \n",
       "1323                   NaN                  NaN  \n",
       "1404                   NaN                  NaN  \n",
       "1520                   NaN                  NaN  \n",
       "2053                   NaN                  NaN  \n",
       "2182                   NaN                  NaN  \n",
       "2183                   NaN                  NaN  \n",
       "2184                   NaN                  NaN  \n",
       "2305                   NaN                  NaN  \n",
       "2306                   NaN                  NaN  \n",
       "2330                   NaN                  NaN  \n",
       "2350                   NaN                  NaN  \n",
       "2375                   NaN                  NaN  \n",
       "2489                   NaN                  NaN  \n",
       "2545                   NaN                  NaN  \n",
       "3485                   NaN                  NaN  \n",
       "3536                   NaN                  NaN  \n",
       "3986                   NaN                  NaN  \n",
       "4146                   NaN                  NaN  \n",
       "4450                   NaN                  NaN  \n",
       "5083                   NaN                  NaN  \n",
       "5093                   NaN                  NaN  \n",
       "5095                   NaN                  NaN  \n",
       "5107                   NaN                  NaN  \n",
       "5108                   NaN                  NaN  \n",
       "5126                   NaN                  NaN  \n",
       "6120                   NaN                  NaN  \n",
       "6199                   NaN                  NaN  \n",
       "6262                   NaN                  NaN  \n",
       "6768                   NaN                  NaN  \n",
       "7914                   NaN                  NaN  \n",
       "7915                   NaN                  NaN  \n",
       "\n",
       "[39 rows x 30 columns]"
      ]
     },
     "execution_count": 14,
     "metadata": {},
     "output_type": "execute_result"
    }
   ],
   "source": [
    "df[df['subscription'].isna()]"
   ]
  },
  {
   "cell_type": "code",
   "execution_count": 15,
   "metadata": {},
   "outputs": [
    {
     "name": "stdout",
     "output_type": "stream",
     "text": [
      "Customers with multiple currencies:\n",
      "customer\n",
      "cus_Hgtp2cnDHmaKZd    2\n",
      "cus_NGa2cqdacckhAF    2\n",
      "cus_RHGc6HDDdE6sgP    2\n",
      "cus_RU1Fvz6zIUCPod    2\n",
      "Name: currency, dtype: int64\n"
     ]
    }
   ],
   "source": [
    "currency_counts = df.groupby('customer')['currency'].nunique()\n",
    "\n",
    "multi_currency_customers = currency_counts[currency_counts > 1]\n",
    "\n",
    "print(\"Customers with multiple currencies:\")\n",
    "print(multi_currency_customers)\n"
   ]
  },
  {
   "cell_type": "code",
   "execution_count": 16,
   "metadata": {},
   "outputs": [
    {
     "data": {
      "text/plain": [
       "currency\n",
       "eur    4690\n",
       "usd    3385\n",
       "Name: count, dtype: int64"
      ]
     },
     "execution_count": 16,
     "metadata": {},
     "output_type": "execute_result"
    }
   ],
   "source": [
    "df['currency'].value_counts()"
   ]
  },
  {
   "cell_type": "code",
   "execution_count": 17,
   "metadata": {},
   "outputs": [
    {
     "name": "stderr",
     "output_type": "stream",
     "text": [
      "/var/folders/9q/fz04wycx2gq4qyhgmbnk9x_r0000gn/T/ipykernel_28102/2997685491.py:1: FutureWarning: The default of observed=False is deprecated and will be changed to True in a future version of pandas. Pass observed=False to retain current behavior or observed=True to adopt the future default and silence this warning.\n",
      "  df.groupby('currency')['total'].sum()\n"
     ]
    },
    {
     "data": {
      "text/plain": [
       "currency\n",
       "eur    508791.04\n",
       "usd    331614.37\n",
       "Name: total, dtype: float64"
      ]
     },
     "execution_count": 17,
     "metadata": {},
     "output_type": "execute_result"
    }
   ],
   "source": [
    "df.groupby('currency')['total'].sum()"
   ]
  },
  {
   "cell_type": "code",
   "execution_count": 18,
   "metadata": {},
   "outputs": [],
   "source": [
    "cust_df = pd.read_csv('../data/customers.csv')\n"
   ]
  },
  {
   "cell_type": "code",
   "execution_count": 19,
   "metadata": {},
   "outputs": [
    {
     "data": {
      "text/html": [
       "<div>\n",
       "<style scoped>\n",
       "    .dataframe tbody tr th:only-of-type {\n",
       "        vertical-align: middle;\n",
       "    }\n",
       "\n",
       "    .dataframe tbody tr th {\n",
       "        vertical-align: top;\n",
       "    }\n",
       "\n",
       "    .dataframe thead th {\n",
       "        text-align: right;\n",
       "    }\n",
       "</style>\n",
       "<table border=\"1\" class=\"dataframe\">\n",
       "  <thead>\n",
       "    <tr style=\"text-align: right;\">\n",
       "      <th></th>\n",
       "      <th>id</th>\n",
       "      <th>Created (UTC)</th>\n",
       "      <th>Total Spend</th>\n",
       "      <th>Payment Count</th>\n",
       "      <th>Tax Location Recognized</th>\n",
       "    </tr>\n",
       "  </thead>\n",
       "  <tbody>\n",
       "    <tr>\n",
       "      <th>0</th>\n",
       "      <td>cus_RqlO8Gz01CYRXm</td>\n",
       "      <td>2025-02-27 9:58</td>\n",
       "      <td>0,00</td>\n",
       "      <td>0</td>\n",
       "      <td>False</td>\n",
       "    </tr>\n",
       "    <tr>\n",
       "      <th>1</th>\n",
       "      <td>cus_RqlL8NuTqGUuYi</td>\n",
       "      <td>2025-02-27 9:55</td>\n",
       "      <td>0,00</td>\n",
       "      <td>0</td>\n",
       "      <td>False</td>\n",
       "    </tr>\n",
       "    <tr>\n",
       "      <th>2</th>\n",
       "      <td>cus_RqlERu33ao23ze</td>\n",
       "      <td>2025-02-27 9:48</td>\n",
       "      <td>0,00</td>\n",
       "      <td>0</td>\n",
       "      <td>False</td>\n",
       "    </tr>\n",
       "    <tr>\n",
       "      <th>3</th>\n",
       "      <td>cus_RqlBBlHHmmwnT1</td>\n",
       "      <td>2025-02-27 9:45</td>\n",
       "      <td>0,00</td>\n",
       "      <td>0</td>\n",
       "      <td>False</td>\n",
       "    </tr>\n",
       "    <tr>\n",
       "      <th>4</th>\n",
       "      <td>cus_Rqkr7zhFuvltT1</td>\n",
       "      <td>2025-02-27 9:26</td>\n",
       "      <td>0,00</td>\n",
       "      <td>0</td>\n",
       "      <td>False</td>\n",
       "    </tr>\n",
       "  </tbody>\n",
       "</table>\n",
       "</div>"
      ],
      "text/plain": [
       "                   id    Created (UTC) Total Spend  Payment Count  \\\n",
       "0  cus_RqlO8Gz01CYRXm  2025-02-27 9:58        0,00              0   \n",
       "1  cus_RqlL8NuTqGUuYi  2025-02-27 9:55        0,00              0   \n",
       "2  cus_RqlERu33ao23ze  2025-02-27 9:48        0,00              0   \n",
       "3  cus_RqlBBlHHmmwnT1  2025-02-27 9:45        0,00              0   \n",
       "4  cus_Rqkr7zhFuvltT1  2025-02-27 9:26        0,00              0   \n",
       "\n",
       "   Tax Location Recognized  \n",
       "0                    False  \n",
       "1                    False  \n",
       "2                    False  \n",
       "3                    False  \n",
       "4                    False  "
      ]
     },
     "execution_count": 19,
     "metadata": {},
     "output_type": "execute_result"
    }
   ],
   "source": [
    "cust_df.head()"
   ]
  },
  {
   "cell_type": "code",
   "execution_count": 20,
   "metadata": {},
   "outputs": [],
   "source": [
    "cust_df['Created (UTC)'] = pd.to_datetime(cust_df['Created (UTC)'])\n"
   ]
  },
  {
   "cell_type": "code",
   "execution_count": 21,
   "metadata": {},
   "outputs": [],
   "source": [
    "cust_df['months_since_joined'] = ((pd.Timestamp.now() - cust_df['Created (UTC)']).dt.days / 30.44).round(0)\n"
   ]
  },
  {
   "cell_type": "code",
   "execution_count": 22,
   "metadata": {},
   "outputs": [
    {
     "data": {
      "text/html": [
       "<div>\n",
       "<style scoped>\n",
       "    .dataframe tbody tr th:only-of-type {\n",
       "        vertical-align: middle;\n",
       "    }\n",
       "\n",
       "    .dataframe tbody tr th {\n",
       "        vertical-align: top;\n",
       "    }\n",
       "\n",
       "    .dataframe thead th {\n",
       "        text-align: right;\n",
       "    }\n",
       "</style>\n",
       "<table border=\"1\" class=\"dataframe\">\n",
       "  <thead>\n",
       "    <tr style=\"text-align: right;\">\n",
       "      <th></th>\n",
       "      <th>id</th>\n",
       "      <th>Created (UTC)</th>\n",
       "      <th>Total Spend</th>\n",
       "      <th>Payment Count</th>\n",
       "      <th>Tax Location Recognized</th>\n",
       "      <th>months_since_joined</th>\n",
       "    </tr>\n",
       "  </thead>\n",
       "  <tbody>\n",
       "    <tr>\n",
       "      <th>0</th>\n",
       "      <td>cus_RqlO8Gz01CYRXm</td>\n",
       "      <td>2025-02-27 09:58:00</td>\n",
       "      <td>0,00</td>\n",
       "      <td>0</td>\n",
       "      <td>False</td>\n",
       "      <td>1.0</td>\n",
       "    </tr>\n",
       "    <tr>\n",
       "      <th>1</th>\n",
       "      <td>cus_RqlL8NuTqGUuYi</td>\n",
       "      <td>2025-02-27 09:55:00</td>\n",
       "      <td>0,00</td>\n",
       "      <td>0</td>\n",
       "      <td>False</td>\n",
       "      <td>1.0</td>\n",
       "    </tr>\n",
       "    <tr>\n",
       "      <th>2</th>\n",
       "      <td>cus_RqlERu33ao23ze</td>\n",
       "      <td>2025-02-27 09:48:00</td>\n",
       "      <td>0,00</td>\n",
       "      <td>0</td>\n",
       "      <td>False</td>\n",
       "      <td>1.0</td>\n",
       "    </tr>\n",
       "    <tr>\n",
       "      <th>3</th>\n",
       "      <td>cus_RqlBBlHHmmwnT1</td>\n",
       "      <td>2025-02-27 09:45:00</td>\n",
       "      <td>0,00</td>\n",
       "      <td>0</td>\n",
       "      <td>False</td>\n",
       "      <td>1.0</td>\n",
       "    </tr>\n",
       "    <tr>\n",
       "      <th>4</th>\n",
       "      <td>cus_Rqkr7zhFuvltT1</td>\n",
       "      <td>2025-02-27 09:26:00</td>\n",
       "      <td>0,00</td>\n",
       "      <td>0</td>\n",
       "      <td>False</td>\n",
       "      <td>1.0</td>\n",
       "    </tr>\n",
       "  </tbody>\n",
       "</table>\n",
       "</div>"
      ],
      "text/plain": [
       "                   id       Created (UTC) Total Spend  Payment Count  \\\n",
       "0  cus_RqlO8Gz01CYRXm 2025-02-27 09:58:00        0,00              0   \n",
       "1  cus_RqlL8NuTqGUuYi 2025-02-27 09:55:00        0,00              0   \n",
       "2  cus_RqlERu33ao23ze 2025-02-27 09:48:00        0,00              0   \n",
       "3  cus_RqlBBlHHmmwnT1 2025-02-27 09:45:00        0,00              0   \n",
       "4  cus_Rqkr7zhFuvltT1 2025-02-27 09:26:00        0,00              0   \n",
       "\n",
       "   Tax Location Recognized  months_since_joined  \n",
       "0                    False                  1.0  \n",
       "1                    False                  1.0  \n",
       "2                    False                  1.0  \n",
       "3                    False                  1.0  \n",
       "4                    False                  1.0  "
      ]
     },
     "execution_count": 22,
     "metadata": {},
     "output_type": "execute_result"
    }
   ],
   "source": [
    "cust_df.head()"
   ]
  },
  {
   "cell_type": "code",
   "execution_count": 23,
   "metadata": {},
   "outputs": [],
   "source": [
    "filtered_df = df.copy()\n",
    "filtered_df = filtered_df[filtered_df['subscription'].notna()]\n",
    "filtered_df = filtered_df[~filtered_df['forgiven']]\n",
    "\n"
   ]
  },
  {
   "cell_type": "code",
   "execution_count": 24,
   "metadata": {},
   "outputs": [
    {
     "data": {
      "text/html": [
       "<div>\n",
       "<style scoped>\n",
       "    .dataframe tbody tr th:only-of-type {\n",
       "        vertical-align: middle;\n",
       "    }\n",
       "\n",
       "    .dataframe tbody tr th {\n",
       "        vertical-align: top;\n",
       "    }\n",
       "\n",
       "    .dataframe thead th {\n",
       "        text-align: right;\n",
       "    }\n",
       "</style>\n",
       "<table border=\"1\" class=\"dataframe\">\n",
       "  <thead>\n",
       "    <tr style=\"text-align: right;\">\n",
       "      <th></th>\n",
       "      <th>id</th>\n",
       "      <th>amount due</th>\n",
       "      <th>closed</th>\n",
       "      <th>currency</th>\n",
       "      <th>customer</th>\n",
       "      <th>date (utc)</th>\n",
       "      <th>due date (utc)</th>\n",
       "      <th>ending balance</th>\n",
       "      <th>forgiven</th>\n",
       "      <th>paid</th>\n",
       "      <th>...</th>\n",
       "      <th>subtotal</th>\n",
       "      <th>total discount amount</th>\n",
       "      <th>applied coupons</th>\n",
       "      <th>tax</th>\n",
       "      <th>tax percent</th>\n",
       "      <th>total</th>\n",
       "      <th>amount paid</th>\n",
       "      <th>status</th>\n",
       "      <th>exclusive tax amount</th>\n",
       "      <th>inclusive tax amount</th>\n",
       "    </tr>\n",
       "  </thead>\n",
       "  <tbody>\n",
       "    <tr>\n",
       "      <th>0</th>\n",
       "      <td>in_1Qx3plAFeGZf0UoOd9f9bW47</td>\n",
       "      <td>0.0</td>\n",
       "      <td>False</td>\n",
       "      <td>eur</td>\n",
       "      <td>cus_NHFLrvkCpBFCs7</td>\n",
       "      <td>2025-02-27 09:56:00</td>\n",
       "      <td>NaT</td>\n",
       "      <td>NaN</td>\n",
       "      <td>False</td>\n",
       "      <td>False</td>\n",
       "      <td>...</td>\n",
       "      <td>0.0</td>\n",
       "      <td>0.0</td>\n",
       "      <td>NaN</td>\n",
       "      <td>0.0</td>\n",
       "      <td>20.0</td>\n",
       "      <td>0.0</td>\n",
       "      <td>0.0</td>\n",
       "      <td>draft</td>\n",
       "      <td>0.0</td>\n",
       "      <td>0.0</td>\n",
       "    </tr>\n",
       "    <tr>\n",
       "      <th>1</th>\n",
       "      <td>in_1Qx3phAFeGZf0UoOy7Khkj9i</td>\n",
       "      <td>0.0</td>\n",
       "      <td>False</td>\n",
       "      <td>eur</td>\n",
       "      <td>cus_LSl85Ix2Ek965l</td>\n",
       "      <td>2025-02-27 09:56:00</td>\n",
       "      <td>NaT</td>\n",
       "      <td>NaN</td>\n",
       "      <td>False</td>\n",
       "      <td>False</td>\n",
       "      <td>...</td>\n",
       "      <td>0.0</td>\n",
       "      <td>0.0</td>\n",
       "      <td>NaN</td>\n",
       "      <td>0.0</td>\n",
       "      <td>19.0</td>\n",
       "      <td>0.0</td>\n",
       "      <td>0.0</td>\n",
       "      <td>draft</td>\n",
       "      <td>0.0</td>\n",
       "      <td>0.0</td>\n",
       "    </tr>\n",
       "    <tr>\n",
       "      <th>2</th>\n",
       "      <td>in_1Qx3XqAFeGZf0UoONAAW2muL</td>\n",
       "      <td>104.4</td>\n",
       "      <td>False</td>\n",
       "      <td>eur</td>\n",
       "      <td>cus_PQFFOsNVNtuBN9</td>\n",
       "      <td>2025-02-27 09:38:00</td>\n",
       "      <td>2025-03-02 09:37:00</td>\n",
       "      <td>NaN</td>\n",
       "      <td>False</td>\n",
       "      <td>False</td>\n",
       "      <td>...</td>\n",
       "      <td>87.0</td>\n",
       "      <td>0.0</td>\n",
       "      <td>NaN</td>\n",
       "      <td>17.4</td>\n",
       "      <td>20.0</td>\n",
       "      <td>104.4</td>\n",
       "      <td>0.0</td>\n",
       "      <td>draft</td>\n",
       "      <td>17.4</td>\n",
       "      <td>0.0</td>\n",
       "    </tr>\n",
       "    <tr>\n",
       "      <th>3</th>\n",
       "      <td>in_1Qx3XqAFeGZf0UoOl79vERDa</td>\n",
       "      <td>39.0</td>\n",
       "      <td>False</td>\n",
       "      <td>eur</td>\n",
       "      <td>cus_Q7apBCt36xeGbK</td>\n",
       "      <td>2025-02-27 09:38:00</td>\n",
       "      <td>NaT</td>\n",
       "      <td>NaN</td>\n",
       "      <td>False</td>\n",
       "      <td>False</td>\n",
       "      <td>...</td>\n",
       "      <td>39.0</td>\n",
       "      <td>0.0</td>\n",
       "      <td>NaN</td>\n",
       "      <td>NaN</td>\n",
       "      <td>NaN</td>\n",
       "      <td>39.0</td>\n",
       "      <td>0.0</td>\n",
       "      <td>draft</td>\n",
       "      <td>NaN</td>\n",
       "      <td>NaN</td>\n",
       "    </tr>\n",
       "    <tr>\n",
       "      <th>4</th>\n",
       "      <td>in_1Qx3WCAFeGZf0UoOcbJhPyor</td>\n",
       "      <td>82.8</td>\n",
       "      <td>False</td>\n",
       "      <td>eur</td>\n",
       "      <td>cus_MU4dOalEEat1Ah</td>\n",
       "      <td>2025-02-27 09:36:00</td>\n",
       "      <td>NaT</td>\n",
       "      <td>NaN</td>\n",
       "      <td>False</td>\n",
       "      <td>False</td>\n",
       "      <td>...</td>\n",
       "      <td>69.0</td>\n",
       "      <td>0.0</td>\n",
       "      <td>NaN</td>\n",
       "      <td>13.8</td>\n",
       "      <td>20.0</td>\n",
       "      <td>82.8</td>\n",
       "      <td>0.0</td>\n",
       "      <td>draft</td>\n",
       "      <td>13.8</td>\n",
       "      <td>0.0</td>\n",
       "    </tr>\n",
       "  </tbody>\n",
       "</table>\n",
       "<p>5 rows × 30 columns</p>\n",
       "</div>"
      ],
      "text/plain": [
       "                            id  amount due  closed currency  \\\n",
       "0  in_1Qx3plAFeGZf0UoOd9f9bW47         0.0   False      eur   \n",
       "1  in_1Qx3phAFeGZf0UoOy7Khkj9i         0.0   False      eur   \n",
       "2  in_1Qx3XqAFeGZf0UoONAAW2muL       104.4   False      eur   \n",
       "3  in_1Qx3XqAFeGZf0UoOl79vERDa        39.0   False      eur   \n",
       "4  in_1Qx3WCAFeGZf0UoOcbJhPyor        82.8   False      eur   \n",
       "\n",
       "             customer          date (utc)      due date (utc)  ending balance  \\\n",
       "0  cus_NHFLrvkCpBFCs7 2025-02-27 09:56:00                 NaT             NaN   \n",
       "1  cus_LSl85Ix2Ek965l 2025-02-27 09:56:00                 NaT             NaN   \n",
       "2  cus_PQFFOsNVNtuBN9 2025-02-27 09:38:00 2025-03-02 09:37:00             NaN   \n",
       "3  cus_Q7apBCt36xeGbK 2025-02-27 09:38:00                 NaT             NaN   \n",
       "4  cus_MU4dOalEEat1Ah 2025-02-27 09:36:00                 NaT             NaN   \n",
       "\n",
       "   forgiven   paid  ... subtotal total discount amount applied coupons   tax  \\\n",
       "0     False  False  ...      0.0                   0.0             NaN   0.0   \n",
       "1     False  False  ...      0.0                   0.0             NaN   0.0   \n",
       "2     False  False  ...     87.0                   0.0             NaN  17.4   \n",
       "3     False  False  ...     39.0                   0.0             NaN   NaN   \n",
       "4     False  False  ...     69.0                   0.0             NaN  13.8   \n",
       "\n",
       "  tax percent  total amount paid status  exclusive tax amount  \\\n",
       "0        20.0    0.0         0.0  draft                   0.0   \n",
       "1        19.0    0.0         0.0  draft                   0.0   \n",
       "2        20.0  104.4         0.0  draft                  17.4   \n",
       "3         NaN   39.0         0.0  draft                   NaN   \n",
       "4        20.0   82.8         0.0  draft                  13.8   \n",
       "\n",
       "  inclusive tax amount  \n",
       "0                  0.0  \n",
       "1                  0.0  \n",
       "2                  0.0  \n",
       "3                  NaN  \n",
       "4                  0.0  \n",
       "\n",
       "[5 rows x 30 columns]"
      ]
     },
     "execution_count": 24,
     "metadata": {},
     "output_type": "execute_result"
    }
   ],
   "source": [
    "filtered_df.head()"
   ]
  },
  {
   "cell_type": "code",
   "execution_count": 25,
   "metadata": {},
   "outputs": [
    {
     "name": "stderr",
     "output_type": "stream",
     "text": [
      "/var/folders/9q/fz04wycx2gq4qyhgmbnk9x_r0000gn/T/ipykernel_28102/695849893.py:1: FutureWarning: The default value of observed=False is deprecated and will change to observed=True in a future version of pandas. Specify observed=False to silence this warning and retain the current behavior\n",
      "  pivot_df = filtered_df.pivot_table(\n"
     ]
    }
   ],
   "source": [
    "pivot_df = filtered_df.pivot_table(\n",
    "    values='total',\n",
    "    index='customer',\n",
    "    columns='currency',\n",
    "    aggfunc='sum',\n",
    "    fill_value=0\n",
    ")"
   ]
  },
  {
   "cell_type": "code",
   "execution_count": 26,
   "metadata": {},
   "outputs": [],
   "source": [
    "pivot_df['grand_total'] = pivot_df.sum(axis=1)"
   ]
  },
  {
   "cell_type": "code",
   "execution_count": 27,
   "metadata": {},
   "outputs": [],
   "source": [
    "pivot_df = pivot_df.sort_values('grand_total', ascending=False)"
   ]
  },
  {
   "cell_type": "code",
   "execution_count": 28,
   "metadata": {},
   "outputs": [
    {
     "data": {
      "text/html": [
       "<div>\n",
       "<style scoped>\n",
       "    .dataframe tbody tr th:only-of-type {\n",
       "        vertical-align: middle;\n",
       "    }\n",
       "\n",
       "    .dataframe tbody tr th {\n",
       "        vertical-align: top;\n",
       "    }\n",
       "\n",
       "    .dataframe thead th {\n",
       "        text-align: right;\n",
       "    }\n",
       "</style>\n",
       "<table border=\"1\" class=\"dataframe\">\n",
       "  <thead>\n",
       "    <tr style=\"text-align: right;\">\n",
       "      <th>currency</th>\n",
       "      <th>eur</th>\n",
       "      <th>usd</th>\n",
       "      <th>grand_total</th>\n",
       "    </tr>\n",
       "    <tr>\n",
       "      <th>customer</th>\n",
       "      <th></th>\n",
       "      <th></th>\n",
       "      <th></th>\n",
       "    </tr>\n",
       "  </thead>\n",
       "  <tbody>\n",
       "    <tr>\n",
       "      <th>cus_R4uIG2uftIlUlx</th>\n",
       "      <td>25000.00</td>\n",
       "      <td>0.0</td>\n",
       "      <td>25000.00</td>\n",
       "    </tr>\n",
       "    <tr>\n",
       "      <th>cus_HVt3QQArXUMKDv</th>\n",
       "      <td>21228.00</td>\n",
       "      <td>0.0</td>\n",
       "      <td>21228.00</td>\n",
       "    </tr>\n",
       "    <tr>\n",
       "      <th>cus_ONrcjxCBdtvpdd</th>\n",
       "      <td>0.00</td>\n",
       "      <td>15346.8</td>\n",
       "      <td>15346.80</td>\n",
       "    </tr>\n",
       "    <tr>\n",
       "      <th>cus_PM1exzslbBdyKL</th>\n",
       "      <td>10440.00</td>\n",
       "      <td>0.0</td>\n",
       "      <td>10440.00</td>\n",
       "    </tr>\n",
       "    <tr>\n",
       "      <th>cus_Iugqw6tkOVqBCY</th>\n",
       "      <td>7591.44</td>\n",
       "      <td>0.0</td>\n",
       "      <td>7591.44</td>\n",
       "    </tr>\n",
       "  </tbody>\n",
       "</table>\n",
       "</div>"
      ],
      "text/plain": [
       "currency                 eur      usd  grand_total\n",
       "customer                                          \n",
       "cus_R4uIG2uftIlUlx  25000.00      0.0     25000.00\n",
       "cus_HVt3QQArXUMKDv  21228.00      0.0     21228.00\n",
       "cus_ONrcjxCBdtvpdd      0.00  15346.8     15346.80\n",
       "cus_PM1exzslbBdyKL  10440.00      0.0     10440.00\n",
       "cus_Iugqw6tkOVqBCY   7591.44      0.0      7591.44"
      ]
     },
     "execution_count": 28,
     "metadata": {},
     "output_type": "execute_result"
    }
   ],
   "source": [
    "pivot_df.head()"
   ]
  },
  {
   "cell_type": "code",
   "execution_count": 29,
   "metadata": {},
   "outputs": [
    {
     "data": {
      "text/html": [
       "<div>\n",
       "<style scoped>\n",
       "    .dataframe tbody tr th:only-of-type {\n",
       "        vertical-align: middle;\n",
       "    }\n",
       "\n",
       "    .dataframe tbody tr th {\n",
       "        vertical-align: top;\n",
       "    }\n",
       "\n",
       "    .dataframe thead th {\n",
       "        text-align: right;\n",
       "    }\n",
       "</style>\n",
       "<table border=\"1\" class=\"dataframe\">\n",
       "  <thead>\n",
       "    <tr style=\"text-align: right;\">\n",
       "      <th>currency</th>\n",
       "      <th>eur</th>\n",
       "      <th>usd</th>\n",
       "      <th>grand_total</th>\n",
       "    </tr>\n",
       "  </thead>\n",
       "  <tbody>\n",
       "    <tr>\n",
       "      <th>count</th>\n",
       "      <td>4544.000000</td>\n",
       "      <td>4544.000000</td>\n",
       "      <td>4544.000000</td>\n",
       "    </tr>\n",
       "    <tr>\n",
       "      <th>mean</th>\n",
       "      <td>109.645374</td>\n",
       "      <td>65.332359</td>\n",
       "      <td>174.977733</td>\n",
       "    </tr>\n",
       "    <tr>\n",
       "      <th>std</th>\n",
       "      <td>607.199415</td>\n",
       "      <td>313.931047</td>\n",
       "      <td>673.052274</td>\n",
       "    </tr>\n",
       "    <tr>\n",
       "      <th>min</th>\n",
       "      <td>-112.990000</td>\n",
       "      <td>-52.570000</td>\n",
       "      <td>-112.990000</td>\n",
       "    </tr>\n",
       "    <tr>\n",
       "      <th>25%</th>\n",
       "      <td>0.000000</td>\n",
       "      <td>0.000000</td>\n",
       "      <td>0.000000</td>\n",
       "    </tr>\n",
       "    <tr>\n",
       "      <th>50%</th>\n",
       "      <td>0.000000</td>\n",
       "      <td>0.000000</td>\n",
       "      <td>78.000000</td>\n",
       "    </tr>\n",
       "    <tr>\n",
       "      <th>75%</th>\n",
       "      <td>78.000000</td>\n",
       "      <td>63.375000</td>\n",
       "      <td>156.000000</td>\n",
       "    </tr>\n",
       "    <tr>\n",
       "      <th>max</th>\n",
       "      <td>25000.000000</td>\n",
       "      <td>15346.800000</td>\n",
       "      <td>25000.000000</td>\n",
       "    </tr>\n",
       "  </tbody>\n",
       "</table>\n",
       "</div>"
      ],
      "text/plain": [
       "currency           eur           usd   grand_total\n",
       "count      4544.000000   4544.000000   4544.000000\n",
       "mean        109.645374     65.332359    174.977733\n",
       "std         607.199415    313.931047    673.052274\n",
       "min        -112.990000    -52.570000   -112.990000\n",
       "25%           0.000000      0.000000      0.000000\n",
       "50%           0.000000      0.000000     78.000000\n",
       "75%          78.000000     63.375000    156.000000\n",
       "max       25000.000000  15346.800000  25000.000000"
      ]
     },
     "execution_count": 29,
     "metadata": {},
     "output_type": "execute_result"
    }
   ],
   "source": [
    "pivot_df.describe()"
   ]
  },
  {
   "cell_type": "code",
   "execution_count": 30,
   "metadata": {},
   "outputs": [],
   "source": [
    "final_df = pivot_df.merge(\n",
    "    cust_df[['id', 'months_since_joined']], \n",
    "    left_index=True, \n",
    "    right_on='id'\n",
    ")"
   ]
  },
  {
   "cell_type": "code",
   "execution_count": 31,
   "metadata": {},
   "outputs": [],
   "source": [
    "final_df = final_df.sort_values('grand_total', ascending=False)"
   ]
  },
  {
   "cell_type": "code",
   "execution_count": 32,
   "metadata": {},
   "outputs": [
    {
     "data": {
      "text/html": [
       "<div>\n",
       "<style scoped>\n",
       "    .dataframe tbody tr th:only-of-type {\n",
       "        vertical-align: middle;\n",
       "    }\n",
       "\n",
       "    .dataframe tbody tr th {\n",
       "        vertical-align: top;\n",
       "    }\n",
       "\n",
       "    .dataframe thead th {\n",
       "        text-align: right;\n",
       "    }\n",
       "</style>\n",
       "<table border=\"1\" class=\"dataframe\">\n",
       "  <thead>\n",
       "    <tr style=\"text-align: right;\">\n",
       "      <th></th>\n",
       "      <th>eur</th>\n",
       "      <th>usd</th>\n",
       "      <th>grand_total</th>\n",
       "      <th>id</th>\n",
       "      <th>months_since_joined</th>\n",
       "    </tr>\n",
       "  </thead>\n",
       "  <tbody>\n",
       "    <tr>\n",
       "      <th>7960</th>\n",
       "      <td>25000.00</td>\n",
       "      <td>0.0</td>\n",
       "      <td>25000.00</td>\n",
       "      <td>cus_R4uIG2uftIlUlx</td>\n",
       "      <td>5.0</td>\n",
       "    </tr>\n",
       "    <tr>\n",
       "      <th>35713</th>\n",
       "      <td>21228.00</td>\n",
       "      <td>0.0</td>\n",
       "      <td>21228.00</td>\n",
       "      <td>cus_HVt3QQArXUMKDv</td>\n",
       "      <td>57.0</td>\n",
       "    </tr>\n",
       "    <tr>\n",
       "      <th>24485</th>\n",
       "      <td>0.00</td>\n",
       "      <td>15346.8</td>\n",
       "      <td>15346.80</td>\n",
       "      <td>cus_ONrcjxCBdtvpdd</td>\n",
       "      <td>20.0</td>\n",
       "    </tr>\n",
       "    <tr>\n",
       "      <th>21692</th>\n",
       "      <td>10440.00</td>\n",
       "      <td>0.0</td>\n",
       "      <td>10440.00</td>\n",
       "      <td>cus_PM1exzslbBdyKL</td>\n",
       "      <td>15.0</td>\n",
       "    </tr>\n",
       "    <tr>\n",
       "      <th>34975</th>\n",
       "      <td>7591.44</td>\n",
       "      <td>0.0</td>\n",
       "      <td>7591.44</td>\n",
       "      <td>cus_Iugqw6tkOVqBCY</td>\n",
       "      <td>50.0</td>\n",
       "    </tr>\n",
       "  </tbody>\n",
       "</table>\n",
       "</div>"
      ],
      "text/plain": [
       "            eur      usd  grand_total                  id  months_since_joined\n",
       "7960   25000.00      0.0     25000.00  cus_R4uIG2uftIlUlx                  5.0\n",
       "35713  21228.00      0.0     21228.00  cus_HVt3QQArXUMKDv                 57.0\n",
       "24485      0.00  15346.8     15346.80  cus_ONrcjxCBdtvpdd                 20.0\n",
       "21692  10440.00      0.0     10440.00  cus_PM1exzslbBdyKL                 15.0\n",
       "34975   7591.44      0.0      7591.44  cus_Iugqw6tkOVqBCY                 50.0"
      ]
     },
     "execution_count": 32,
     "metadata": {},
     "output_type": "execute_result"
    }
   ],
   "source": [
    "final_df.head()"
   ]
  },
  {
   "cell_type": "code",
   "execution_count": null,
   "metadata": {},
   "outputs": [],
   "source": []
  },
  {
   "cell_type": "code",
   "execution_count": 36,
   "metadata": {},
   "outputs": [
    {
     "data": {
      "application/vnd.plotly.v1+json": {
       "config": {
        "plotlyServerURL": "https://plot.ly"
       },
       "data": [
        {
         "name": "EUR Distribution",
         "opacity": 0.7,
         "type": "histogram",
         "x": {
          "bdata": "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",
          "dtype": "f8"
         }
        },
        {
         "name": "USD Distribution",
         "opacity": 0.7,
         "type": "histogram",
         "x": {
          "bdata": "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",
          "dtype": "f8"
         }
        }
       ],
       "layout": {
        "barmode": "overlay",
        "showlegend": true,
        "template": {
         "data": {
          "bar": [
           {
            "error_x": {
             "color": "#2a3f5f"
            },
            "error_y": {
             "color": "#2a3f5f"
            },
            "marker": {
             "line": {
              "color": "#E5ECF6",
              "width": 0.5
             },
             "pattern": {
              "fillmode": "overlay",
              "size": 10,
              "solidity": 0.2
             }
            },
            "type": "bar"
           }
          ],
          "barpolar": [
           {
            "marker": {
             "line": {
              "color": "#E5ECF6",
              "width": 0.5
             },
             "pattern": {
              "fillmode": "overlay",
              "size": 10,
              "solidity": 0.2
             }
            },
            "type": "barpolar"
           }
          ],
          "carpet": [
           {
            "aaxis": {
             "endlinecolor": "#2a3f5f",
             "gridcolor": "white",
             "linecolor": "white",
             "minorgridcolor": "white",
             "startlinecolor": "#2a3f5f"
            },
            "baxis": {
             "endlinecolor": "#2a3f5f",
             "gridcolor": "white",
             "linecolor": "white",
             "minorgridcolor": "white",
             "startlinecolor": "#2a3f5f"
            },
            "type": "carpet"
           }
          ],
          "choropleth": [
           {
            "colorbar": {
             "outlinewidth": 0,
             "ticks": ""
            },
            "type": "choropleth"
           }
          ],
          "contour": [
           {
            "colorbar": {
             "outlinewidth": 0,
             "ticks": ""
            },
            "colorscale": [
             [
              0,
              "#0d0887"
             ],
             [
              0.1111111111111111,
              "#46039f"
             ],
             [
              0.2222222222222222,
              "#7201a8"
             ],
             [
              0.3333333333333333,
              "#9c179e"
             ],
             [
              0.4444444444444444,
              "#bd3786"
             ],
             [
              0.5555555555555556,
              "#d8576b"
             ],
             [
              0.6666666666666666,
              "#ed7953"
             ],
             [
              0.7777777777777778,
              "#fb9f3a"
             ],
             [
              0.8888888888888888,
              "#fdca26"
             ],
             [
              1,
              "#f0f921"
             ]
            ],
            "type": "contour"
           }
          ],
          "contourcarpet": [
           {
            "colorbar": {
             "outlinewidth": 0,
             "ticks": ""
            },
            "type": "contourcarpet"
           }
          ],
          "heatmap": [
           {
            "colorbar": {
             "outlinewidth": 0,
             "ticks": ""
            },
            "colorscale": [
             [
              0,
              "#0d0887"
             ],
             [
              0.1111111111111111,
              "#46039f"
             ],
             [
              0.2222222222222222,
              "#7201a8"
             ],
             [
              0.3333333333333333,
              "#9c179e"
             ],
             [
              0.4444444444444444,
              "#bd3786"
             ],
             [
              0.5555555555555556,
              "#d8576b"
             ],
             [
              0.6666666666666666,
              "#ed7953"
             ],
             [
              0.7777777777777778,
              "#fb9f3a"
             ],
             [
              0.8888888888888888,
              "#fdca26"
             ],
             [
              1,
              "#f0f921"
             ]
            ],
            "type": "heatmap"
           }
          ],
          "histogram": [
           {
            "marker": {
             "pattern": {
              "fillmode": "overlay",
              "size": 10,
              "solidity": 0.2
             }
            },
            "type": "histogram"
           }
          ],
          "histogram2d": [
           {
            "colorbar": {
             "outlinewidth": 0,
             "ticks": ""
            },
            "colorscale": [
             [
              0,
              "#0d0887"
             ],
             [
              0.1111111111111111,
              "#46039f"
             ],
             [
              0.2222222222222222,
              "#7201a8"
             ],
             [
              0.3333333333333333,
              "#9c179e"
             ],
             [
              0.4444444444444444,
              "#bd3786"
             ],
             [
              0.5555555555555556,
              "#d8576b"
             ],
             [
              0.6666666666666666,
              "#ed7953"
             ],
             [
              0.7777777777777778,
              "#fb9f3a"
             ],
             [
              0.8888888888888888,
              "#fdca26"
             ],
             [
              1,
              "#f0f921"
             ]
            ],
            "type": "histogram2d"
           }
          ],
          "histogram2dcontour": [
           {
            "colorbar": {
             "outlinewidth": 0,
             "ticks": ""
            },
            "colorscale": [
             [
              0,
              "#0d0887"
             ],
             [
              0.1111111111111111,
              "#46039f"
             ],
             [
              0.2222222222222222,
              "#7201a8"
             ],
             [
              0.3333333333333333,
              "#9c179e"
             ],
             [
              0.4444444444444444,
              "#bd3786"
             ],
             [
              0.5555555555555556,
              "#d8576b"
             ],
             [
              0.6666666666666666,
              "#ed7953"
             ],
             [
              0.7777777777777778,
              "#fb9f3a"
             ],
             [
              0.8888888888888888,
              "#fdca26"
             ],
             [
              1,
              "#f0f921"
             ]
            ],
            "type": "histogram2dcontour"
           }
          ],
          "mesh3d": [
           {
            "colorbar": {
             "outlinewidth": 0,
             "ticks": ""
            },
            "type": "mesh3d"
           }
          ],
          "parcoords": [
           {
            "line": {
             "colorbar": {
              "outlinewidth": 0,
              "ticks": ""
             }
            },
            "type": "parcoords"
           }
          ],
          "pie": [
           {
            "automargin": true,
            "type": "pie"
           }
          ],
          "scatter": [
           {
            "fillpattern": {
             "fillmode": "overlay",
             "size": 10,
             "solidity": 0.2
            },
            "type": "scatter"
           }
          ],
          "scatter3d": [
           {
            "line": {
             "colorbar": {
              "outlinewidth": 0,
              "ticks": ""
             }
            },
            "marker": {
             "colorbar": {
              "outlinewidth": 0,
              "ticks": ""
             }
            },
            "type": "scatter3d"
           }
          ],
          "scattercarpet": [
           {
            "marker": {
             "colorbar": {
              "outlinewidth": 0,
              "ticks": ""
             }
            },
            "type": "scattercarpet"
           }
          ],
          "scattergeo": [
           {
            "marker": {
             "colorbar": {
              "outlinewidth": 0,
              "ticks": ""
             }
            },
            "type": "scattergeo"
           }
          ],
          "scattergl": [
           {
            "marker": {
             "colorbar": {
              "outlinewidth": 0,
              "ticks": ""
             }
            },
            "type": "scattergl"
           }
          ],
          "scattermap": [
           {
            "marker": {
             "colorbar": {
              "outlinewidth": 0,
              "ticks": ""
             }
            },
            "type": "scattermap"
           }
          ],
          "scattermapbox": [
           {
            "marker": {
             "colorbar": {
              "outlinewidth": 0,
              "ticks": ""
             }
            },
            "type": "scattermapbox"
           }
          ],
          "scatterpolar": [
           {
            "marker": {
             "colorbar": {
              "outlinewidth": 0,
              "ticks": ""
             }
            },
            "type": "scatterpolar"
           }
          ],
          "scatterpolargl": [
           {
            "marker": {
             "colorbar": {
              "outlinewidth": 0,
              "ticks": ""
             }
            },
            "type": "scatterpolargl"
           }
          ],
          "scatterternary": [
           {
            "marker": {
             "colorbar": {
              "outlinewidth": 0,
              "ticks": ""
             }
            },
            "type": "scatterternary"
           }
          ],
          "surface": [
           {
            "colorbar": {
             "outlinewidth": 0,
             "ticks": ""
            },
            "colorscale": [
             [
              0,
              "#0d0887"
             ],
             [
              0.1111111111111111,
              "#46039f"
             ],
             [
              0.2222222222222222,
              "#7201a8"
             ],
             [
              0.3333333333333333,
              "#9c179e"
             ],
             [
              0.4444444444444444,
              "#bd3786"
             ],
             [
              0.5555555555555556,
              "#d8576b"
             ],
             [
              0.6666666666666666,
              "#ed7953"
             ],
             [
              0.7777777777777778,
              "#fb9f3a"
             ],
             [
              0.8888888888888888,
              "#fdca26"
             ],
             [
              1,
              "#f0f921"
             ]
            ],
            "type": "surface"
           }
          ],
          "table": [
           {
            "cells": {
             "fill": {
              "color": "#EBF0F8"
             },
             "line": {
              "color": "white"
             }
            },
            "header": {
             "fill": {
              "color": "#C8D4E3"
             },
             "line": {
              "color": "white"
             }
            },
            "type": "table"
           }
          ]
         },
         "layout": {
          "annotationdefaults": {
           "arrowcolor": "#2a3f5f",
           "arrowhead": 0,
           "arrowwidth": 1
          },
          "autotypenumbers": "strict",
          "coloraxis": {
           "colorbar": {
            "outlinewidth": 0,
            "ticks": ""
           }
          },
          "colorscale": {
           "diverging": [
            [
             0,
             "#8e0152"
            ],
            [
             0.1,
             "#c51b7d"
            ],
            [
             0.2,
             "#de77ae"
            ],
            [
             0.3,
             "#f1b6da"
            ],
            [
             0.4,
             "#fde0ef"
            ],
            [
             0.5,
             "#f7f7f7"
            ],
            [
             0.6,
             "#e6f5d0"
            ],
            [
             0.7,
             "#b8e186"
            ],
            [
             0.8,
             "#7fbc41"
            ],
            [
             0.9,
             "#4d9221"
            ],
            [
             1,
             "#276419"
            ]
           ],
           "sequential": [
            [
             0,
             "#0d0887"
            ],
            [
             0.1111111111111111,
             "#46039f"
            ],
            [
             0.2222222222222222,
             "#7201a8"
            ],
            [
             0.3333333333333333,
             "#9c179e"
            ],
            [
             0.4444444444444444,
             "#bd3786"
            ],
            [
             0.5555555555555556,
             "#d8576b"
            ],
            [
             0.6666666666666666,
             "#ed7953"
            ],
            [
             0.7777777777777778,
             "#fb9f3a"
            ],
            [
             0.8888888888888888,
             "#fdca26"
            ],
            [
             1,
             "#f0f921"
            ]
           ],
           "sequentialminus": [
            [
             0,
             "#0d0887"
            ],
            [
             0.1111111111111111,
             "#46039f"
            ],
            [
             0.2222222222222222,
             "#7201a8"
            ],
            [
             0.3333333333333333,
             "#9c179e"
            ],
            [
             0.4444444444444444,
             "#bd3786"
            ],
            [
             0.5555555555555556,
             "#d8576b"
            ],
            [
             0.6666666666666666,
             "#ed7953"
            ],
            [
             0.7777777777777778,
             "#fb9f3a"
            ],
            [
             0.8888888888888888,
             "#fdca26"
            ],
            [
             1,
             "#f0f921"
            ]
           ]
          },
          "colorway": [
           "#636efa",
           "#EF553B",
           "#00cc96",
           "#ab63fa",
           "#FFA15A",
           "#19d3f3",
           "#FF6692",
           "#B6E880",
           "#FF97FF",
           "#FECB52"
          ],
          "font": {
           "color": "#2a3f5f"
          },
          "geo": {
           "bgcolor": "white",
           "lakecolor": "white",
           "landcolor": "#E5ECF6",
           "showlakes": true,
           "showland": true,
           "subunitcolor": "white"
          },
          "hoverlabel": {
           "align": "left"
          },
          "hovermode": "closest",
          "mapbox": {
           "style": "light"
          },
          "paper_bgcolor": "white",
          "plot_bgcolor": "#E5ECF6",
          "polar": {
           "angularaxis": {
            "gridcolor": "white",
            "linecolor": "white",
            "ticks": ""
           },
           "bgcolor": "#E5ECF6",
           "radialaxis": {
            "gridcolor": "white",
            "linecolor": "white",
            "ticks": ""
           }
          },
          "scene": {
           "xaxis": {
            "backgroundcolor": "#E5ECF6",
            "gridcolor": "white",
            "gridwidth": 2,
            "linecolor": "white",
            "showbackground": true,
            "ticks": "",
            "zerolinecolor": "white"
           },
           "yaxis": {
            "backgroundcolor": "#E5ECF6",
            "gridcolor": "white",
            "gridwidth": 2,
            "linecolor": "white",
            "showbackground": true,
            "ticks": "",
            "zerolinecolor": "white"
           },
           "zaxis": {
            "backgroundcolor": "#E5ECF6",
            "gridcolor": "white",
            "gridwidth": 2,
            "linecolor": "white",
            "showbackground": true,
            "ticks": "",
            "zerolinecolor": "white"
           }
          },
          "shapedefaults": {
           "line": {
            "color": "#2a3f5f"
           }
          },
          "ternary": {
           "aaxis": {
            "gridcolor": "white",
            "linecolor": "white",
            "ticks": ""
           },
           "baxis": {
            "gridcolor": "white",
            "linecolor": "white",
            "ticks": ""
           },
           "bgcolor": "#E5ECF6",
           "caxis": {
            "gridcolor": "white",
            "linecolor": "white",
            "ticks": ""
           }
          },
          "title": {
           "x": 0.05
          },
          "xaxis": {
           "automargin": true,
           "gridcolor": "white",
           "linecolor": "white",
           "ticks": "",
           "title": {
            "standoff": 15
           },
           "zerolinecolor": "white",
           "zerolinewidth": 2
          },
          "yaxis": {
           "automargin": true,
           "gridcolor": "white",
           "linecolor": "white",
           "ticks": "",
           "title": {
            "standoff": 15
           },
           "zerolinecolor": "white",
           "zerolinewidth": 2
          }
         }
        },
        "title": {
         "text": "Distribution of Customer Totals by Currency"
        },
        "xaxis": {
         "title": {
          "text": "Amount"
         }
        },
        "yaxis": {
         "title": {
          "text": "Count of Customers"
         }
        }
       }
      }
     },
     "metadata": {},
     "output_type": "display_data"
    }
   ],
   "source": [
    "fig = go.Figure()\n",
    "\n",
    "fig.add_trace(go.Histogram(\n",
    "    x=final_df[final_df['eur'] > 0]['eur'],\n",
    "    name='EUR Distribution',\n",
    "    opacity=0.7\n",
    "))\n",
    "\n",
    "fig.add_trace(go.Histogram(\n",
    "    x=final_df[final_df['usd'] > 0]['usd'],\n",
    "    name='USD Distribution',\n",
    "    opacity=0.7\n",
    "))\n",
    "\n",
    "fig.update_layout(\n",
    "    title='Distribution of Customer Totals by Currency',\n",
    "    xaxis_title='Amount',\n",
    "    yaxis_title='Count of Customers',\n",
    "    barmode='overlay',\n",
    "    showlegend=True\n",
    ")\n",
    "\n",
    "fig.show()"
   ]
  },
  {
   "cell_type": "code",
   "execution_count": 37,
   "metadata": {},
   "outputs": [
    {
     "data": {
      "application/vnd.plotly.v1+json": {
       "config": {
        "plotlyServerURL": "https://plot.ly"
       },
       "data": [
        {
         "name": "EUR Distribution",
         "nbinsx": 50,
         "opacity": 0.7,
         "type": "histogram",
         "x": {
          "bdata": "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",
          "dtype": "f8"
         }
        },
        {
         "name": "USD Distribution",
         "nbinsx": 50,
         "opacity": 0.7,
         "type": "histogram",
         "x": {
          "bdata": "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",
          "dtype": "f8"
         }
        }
       ],
       "layout": {
        "barmode": "overlay",
        "showlegend": true,
        "template": {
         "data": {
          "bar": [
           {
            "error_x": {
             "color": "#2a3f5f"
            },
            "error_y": {
             "color": "#2a3f5f"
            },
            "marker": {
             "line": {
              "color": "#E5ECF6",
              "width": 0.5
             },
             "pattern": {
              "fillmode": "overlay",
              "size": 10,
              "solidity": 0.2
             }
            },
            "type": "bar"
           }
          ],
          "barpolar": [
           {
            "marker": {
             "line": {
              "color": "#E5ECF6",
              "width": 0.5
             },
             "pattern": {
              "fillmode": "overlay",
              "size": 10,
              "solidity": 0.2
             }
            },
            "type": "barpolar"
           }
          ],
          "carpet": [
           {
            "aaxis": {
             "endlinecolor": "#2a3f5f",
             "gridcolor": "white",
             "linecolor": "white",
             "minorgridcolor": "white",
             "startlinecolor": "#2a3f5f"
            },
            "baxis": {
             "endlinecolor": "#2a3f5f",
             "gridcolor": "white",
             "linecolor": "white",
             "minorgridcolor": "white",
             "startlinecolor": "#2a3f5f"
            },
            "type": "carpet"
           }
          ],
          "choropleth": [
           {
            "colorbar": {
             "outlinewidth": 0,
             "ticks": ""
            },
            "type": "choropleth"
           }
          ],
          "contour": [
           {
            "colorbar": {
             "outlinewidth": 0,
             "ticks": ""
            },
            "colorscale": [
             [
              0,
              "#0d0887"
             ],
             [
              0.1111111111111111,
              "#46039f"
             ],
             [
              0.2222222222222222,
              "#7201a8"
             ],
             [
              0.3333333333333333,
              "#9c179e"
             ],
             [
              0.4444444444444444,
              "#bd3786"
             ],
             [
              0.5555555555555556,
              "#d8576b"
             ],
             [
              0.6666666666666666,
              "#ed7953"
             ],
             [
              0.7777777777777778,
              "#fb9f3a"
             ],
             [
              0.8888888888888888,
              "#fdca26"
             ],
             [
              1,
              "#f0f921"
             ]
            ],
            "type": "contour"
           }
          ],
          "contourcarpet": [
           {
            "colorbar": {
             "outlinewidth": 0,
             "ticks": ""
            },
            "type": "contourcarpet"
           }
          ],
          "heatmap": [
           {
            "colorbar": {
             "outlinewidth": 0,
             "ticks": ""
            },
            "colorscale": [
             [
              0,
              "#0d0887"
             ],
             [
              0.1111111111111111,
              "#46039f"
             ],
             [
              0.2222222222222222,
              "#7201a8"
             ],
             [
              0.3333333333333333,
              "#9c179e"
             ],
             [
              0.4444444444444444,
              "#bd3786"
             ],
             [
              0.5555555555555556,
              "#d8576b"
             ],
             [
              0.6666666666666666,
              "#ed7953"
             ],
             [
              0.7777777777777778,
              "#fb9f3a"
             ],
             [
              0.8888888888888888,
              "#fdca26"
             ],
             [
              1,
              "#f0f921"
             ]
            ],
            "type": "heatmap"
           }
          ],
          "histogram": [
           {
            "marker": {
             "pattern": {
              "fillmode": "overlay",
              "size": 10,
              "solidity": 0.2
             }
            },
            "type": "histogram"
           }
          ],
          "histogram2d": [
           {
            "colorbar": {
             "outlinewidth": 0,
             "ticks": ""
            },
            "colorscale": [
             [
              0,
              "#0d0887"
             ],
             [
              0.1111111111111111,
              "#46039f"
             ],
             [
              0.2222222222222222,
              "#7201a8"
             ],
             [
              0.3333333333333333,
              "#9c179e"
             ],
             [
              0.4444444444444444,
              "#bd3786"
             ],
             [
              0.5555555555555556,
              "#d8576b"
             ],
             [
              0.6666666666666666,
              "#ed7953"
             ],
             [
              0.7777777777777778,
              "#fb9f3a"
             ],
             [
              0.8888888888888888,
              "#fdca26"
             ],
             [
              1,
              "#f0f921"
             ]
            ],
            "type": "histogram2d"
           }
          ],
          "histogram2dcontour": [
           {
            "colorbar": {
             "outlinewidth": 0,
             "ticks": ""
            },
            "colorscale": [
             [
              0,
              "#0d0887"
             ],
             [
              0.1111111111111111,
              "#46039f"
             ],
             [
              0.2222222222222222,
              "#7201a8"
             ],
             [
              0.3333333333333333,
              "#9c179e"
             ],
             [
              0.4444444444444444,
              "#bd3786"
             ],
             [
              0.5555555555555556,
              "#d8576b"
             ],
             [
              0.6666666666666666,
              "#ed7953"
             ],
             [
              0.7777777777777778,
              "#fb9f3a"
             ],
             [
              0.8888888888888888,
              "#fdca26"
             ],
             [
              1,
              "#f0f921"
             ]
            ],
            "type": "histogram2dcontour"
           }
          ],
          "mesh3d": [
           {
            "colorbar": {
             "outlinewidth": 0,
             "ticks": ""
            },
            "type": "mesh3d"
           }
          ],
          "parcoords": [
           {
            "line": {
             "colorbar": {
              "outlinewidth": 0,
              "ticks": ""
             }
            },
            "type": "parcoords"
           }
          ],
          "pie": [
           {
            "automargin": true,
            "type": "pie"
           }
          ],
          "scatter": [
           {
            "fillpattern": {
             "fillmode": "overlay",
             "size": 10,
             "solidity": 0.2
            },
            "type": "scatter"
           }
          ],
          "scatter3d": [
           {
            "line": {
             "colorbar": {
              "outlinewidth": 0,
              "ticks": ""
             }
            },
            "marker": {
             "colorbar": {
              "outlinewidth": 0,
              "ticks": ""
             }
            },
            "type": "scatter3d"
           }
          ],
          "scattercarpet": [
           {
            "marker": {
             "colorbar": {
              "outlinewidth": 0,
              "ticks": ""
             }
            },
            "type": "scattercarpet"
           }
          ],
          "scattergeo": [
           {
            "marker": {
             "colorbar": {
              "outlinewidth": 0,
              "ticks": ""
             }
            },
            "type": "scattergeo"
           }
          ],
          "scattergl": [
           {
            "marker": {
             "colorbar": {
              "outlinewidth": 0,
              "ticks": ""
             }
            },
            "type": "scattergl"
           }
          ],
          "scattermap": [
           {
            "marker": {
             "colorbar": {
              "outlinewidth": 0,
              "ticks": ""
             }
            },
            "type": "scattermap"
           }
          ],
          "scattermapbox": [
           {
            "marker": {
             "colorbar": {
              "outlinewidth": 0,
              "ticks": ""
             }
            },
            "type": "scattermapbox"
           }
          ],
          "scatterpolar": [
           {
            "marker": {
             "colorbar": {
              "outlinewidth": 0,
              "ticks": ""
             }
            },
            "type": "scatterpolar"
           }
          ],
          "scatterpolargl": [
           {
            "marker": {
             "colorbar": {
              "outlinewidth": 0,
              "ticks": ""
             }
            },
            "type": "scatterpolargl"
           }
          ],
          "scatterternary": [
           {
            "marker": {
             "colorbar": {
              "outlinewidth": 0,
              "ticks": ""
             }
            },
            "type": "scatterternary"
           }
          ],
          "surface": [
           {
            "colorbar": {
             "outlinewidth": 0,
             "ticks": ""
            },
            "colorscale": [
             [
              0,
              "#0d0887"
             ],
             [
              0.1111111111111111,
              "#46039f"
             ],
             [
              0.2222222222222222,
              "#7201a8"
             ],
             [
              0.3333333333333333,
              "#9c179e"
             ],
             [
              0.4444444444444444,
              "#bd3786"
             ],
             [
              0.5555555555555556,
              "#d8576b"
             ],
             [
              0.6666666666666666,
              "#ed7953"
             ],
             [
              0.7777777777777778,
              "#fb9f3a"
             ],
             [
              0.8888888888888888,
              "#fdca26"
             ],
             [
              1,
              "#f0f921"
             ]
            ],
            "type": "surface"
           }
          ],
          "table": [
           {
            "cells": {
             "fill": {
              "color": "#EBF0F8"
             },
             "line": {
              "color": "white"
             }
            },
            "header": {
             "fill": {
              "color": "#C8D4E3"
             },
             "line": {
              "color": "white"
             }
            },
            "type": "table"
           }
          ]
         },
         "layout": {
          "annotationdefaults": {
           "arrowcolor": "#2a3f5f",
           "arrowhead": 0,
           "arrowwidth": 1
          },
          "autotypenumbers": "strict",
          "coloraxis": {
           "colorbar": {
            "outlinewidth": 0,
            "ticks": ""
           }
          },
          "colorscale": {
           "diverging": [
            [
             0,
             "#8e0152"
            ],
            [
             0.1,
             "#c51b7d"
            ],
            [
             0.2,
             "#de77ae"
            ],
            [
             0.3,
             "#f1b6da"
            ],
            [
             0.4,
             "#fde0ef"
            ],
            [
             0.5,
             "#f7f7f7"
            ],
            [
             0.6,
             "#e6f5d0"
            ],
            [
             0.7,
             "#b8e186"
            ],
            [
             0.8,
             "#7fbc41"
            ],
            [
             0.9,
             "#4d9221"
            ],
            [
             1,
             "#276419"
            ]
           ],
           "sequential": [
            [
             0,
             "#0d0887"
            ],
            [
             0.1111111111111111,
             "#46039f"
            ],
            [
             0.2222222222222222,
             "#7201a8"
            ],
            [
             0.3333333333333333,
             "#9c179e"
            ],
            [
             0.4444444444444444,
             "#bd3786"
            ],
            [
             0.5555555555555556,
             "#d8576b"
            ],
            [
             0.6666666666666666,
             "#ed7953"
            ],
            [
             0.7777777777777778,
             "#fb9f3a"
            ],
            [
             0.8888888888888888,
             "#fdca26"
            ],
            [
             1,
             "#f0f921"
            ]
           ],
           "sequentialminus": [
            [
             0,
             "#0d0887"
            ],
            [
             0.1111111111111111,
             "#46039f"
            ],
            [
             0.2222222222222222,
             "#7201a8"
            ],
            [
             0.3333333333333333,
             "#9c179e"
            ],
            [
             0.4444444444444444,
             "#bd3786"
            ],
            [
             0.5555555555555556,
             "#d8576b"
            ],
            [
             0.6666666666666666,
             "#ed7953"
            ],
            [
             0.7777777777777778,
             "#fb9f3a"
            ],
            [
             0.8888888888888888,
             "#fdca26"
            ],
            [
             1,
             "#f0f921"
            ]
           ]
          },
          "colorway": [
           "#636efa",
           "#EF553B",
           "#00cc96",
           "#ab63fa",
           "#FFA15A",
           "#19d3f3",
           "#FF6692",
           "#B6E880",
           "#FF97FF",
           "#FECB52"
          ],
          "font": {
           "color": "#2a3f5f"
          },
          "geo": {
           "bgcolor": "white",
           "lakecolor": "white",
           "landcolor": "#E5ECF6",
           "showlakes": true,
           "showland": true,
           "subunitcolor": "white"
          },
          "hoverlabel": {
           "align": "left"
          },
          "hovermode": "closest",
          "mapbox": {
           "style": "light"
          },
          "paper_bgcolor": "white",
          "plot_bgcolor": "#E5ECF6",
          "polar": {
           "angularaxis": {
            "gridcolor": "white",
            "linecolor": "white",
            "ticks": ""
           },
           "bgcolor": "#E5ECF6",
           "radialaxis": {
            "gridcolor": "white",
            "linecolor": "white",
            "ticks": ""
           }
          },
          "scene": {
           "xaxis": {
            "backgroundcolor": "#E5ECF6",
            "gridcolor": "white",
            "gridwidth": 2,
            "linecolor": "white",
            "showbackground": true,
            "ticks": "",
            "zerolinecolor": "white"
           },
           "yaxis": {
            "backgroundcolor": "#E5ECF6",
            "gridcolor": "white",
            "gridwidth": 2,
            "linecolor": "white",
            "showbackground": true,
            "ticks": "",
            "zerolinecolor": "white"
           },
           "zaxis": {
            "backgroundcolor": "#E5ECF6",
            "gridcolor": "white",
            "gridwidth": 2,
            "linecolor": "white",
            "showbackground": true,
            "ticks": "",
            "zerolinecolor": "white"
           }
          },
          "shapedefaults": {
           "line": {
            "color": "#2a3f5f"
           }
          },
          "ternary": {
           "aaxis": {
            "gridcolor": "white",
            "linecolor": "white",
            "ticks": ""
           },
           "baxis": {
            "gridcolor": "white",
            "linecolor": "white",
            "ticks": ""
           },
           "bgcolor": "#E5ECF6",
           "caxis": {
            "gridcolor": "white",
            "linecolor": "white",
            "ticks": ""
           }
          },
          "title": {
           "x": 0.05
          },
          "xaxis": {
           "automargin": true,
           "gridcolor": "white",
           "linecolor": "white",
           "ticks": "",
           "title": {
            "standoff": 15
           },
           "zerolinecolor": "white",
           "zerolinewidth": 2
          },
          "yaxis": {
           "automargin": true,
           "gridcolor": "white",
           "linecolor": "white",
           "ticks": "",
           "title": {
            "standoff": 15
           },
           "zerolinecolor": "white",
           "zerolinewidth": 2
          }
         }
        },
        "title": {
         "text": "Distribution of Customer Totals by Currency (Positive Values Only)"
        },
        "xaxis": {
         "title": {
          "text": "Amount"
         }
        },
        "yaxis": {
         "title": {
          "text": "Count of Customers"
         }
        }
       }
      }
     },
     "metadata": {},
     "output_type": "display_data"
    }
   ],
   "source": [
    "fig = go.Figure()\n",
    "\n",
    "fig.add_trace(go.Histogram(\n",
    "    x=final_df[final_df['eur'] >= 0]['eur'],\n",
    "    name='EUR Distribution',\n",
    "    opacity=0.7,\n",
    "    nbinsx=50\n",
    "))\n",
    "\n",
    "fig.add_trace(go.Histogram(\n",
    "    x=final_df[final_df['usd'] >= 0]['usd'],\n",
    "    name='USD Distribution',\n",
    "    opacity=0.7,\n",
    "    nbinsx=50\n",
    "))\n",
    "\n",
    "fig.update_layout(\n",
    "    title='Distribution of Customer Totals by Currency (Positive Values Only)',\n",
    "    xaxis_title='Amount',\n",
    "    yaxis_title='Count of Customers',\n",
    "    barmode='overlay',\n",
    "    showlegend=True\n",
    ")\n",
    "\n",
    "fig.show()"
   ]
  },
  {
   "cell_type": "code",
   "execution_count": 41,
   "metadata": {},
   "outputs": [
    {
     "name": "stdout",
     "output_type": "stream",
     "text": [
      "EUR Outliers:\n",
      "99th percentile bound: 1228.54\n",
      "Number of outliers: 46\n",
      "\n",
      "USD Outliers:\n",
      "99th percentile bound: 711.43\n",
      "Number of outliers: 46\n"
     ]
    }
   ],
   "source": [
    "def detect_outliers(series):\n",
    "    upper_bound = series.quantile(0.99)\n",
    "    outliers = series[series > upper_bound]\n",
    "    return outliers, upper_bound\n",
    "\n",
    "eur_outliers, eur_upper = detect_outliers(final_df['eur'])\n",
    "print(\"EUR Outliers:\")\n",
    "print(f\"99th percentile bound: {eur_upper:.2f}\")\n",
    "print(f\"Number of outliers: {len(eur_outliers)}\")\n",
    "\n",
    "\n",
    "usd_outliers, usd_upper = detect_outliers(final_df['usd'])\n",
    "print(\"\\nUSD Outliers:\")\n",
    "print(f\"99th percentile bound: {usd_upper:.2f}\")\n",
    "print(f\"Number of outliers: {len(usd_outliers)}\")\n"
   ]
  },
  {
   "cell_type": "code",
   "execution_count": 47,
   "metadata": {},
   "outputs": [],
   "source": [
    "def create_clusters(series, n_clusters=5):\n",
    "    zero_neg_mask = series <= 0\n",
    "    positive_values = series[~zero_neg_mask].values.reshape(-1, 1)\n",
    "    \n",
    "    kmeans = KMeans(n_clusters=n_clusters, random_state=42)\n",
    "    positive_clusters = kmeans.fit_predict(positive_values)\n",
    "    \n",
    "    centers = kmeans.cluster_centers_.flatten()\n",
    "    sorted_centers_idx = np.argsort(centers)\n",
    "    \n",
    "    cluster_mapping = {old: new for new, old in enumerate(sorted_centers_idx)}\n",
    "    \n",
    "    positive_clusters = np.array([cluster_mapping[i] for i in positive_clusters])\n",
    "    \n",
    "    cluster_labels = pd.Series(index=series.index, dtype='object')\n",
    "    cluster_labels[zero_neg_mask] = 'Zero/Negative'\n",
    "    \n",
    "    positive_indices = series[~zero_neg_mask].index\n",
    "    for i, label in enumerate(positive_clusters):\n",
    "        cluster_labels[positive_indices[i]] = f'Cluster {label + 1}'\n",
    "    \n",
    "    sorted_centers = centers[sorted_centers_idx]\n",
    "    \n",
    "    return cluster_labels, sorted_centers"
   ]
  },
  {
   "cell_type": "code",
   "execution_count": 48,
   "metadata": {},
   "outputs": [
    {
     "name": "stdout",
     "output_type": "stream",
     "text": [
      "EUR Clusters:\n",
      "\n",
      "Cluster Centers:\n",
      "Cluster 1: 127.87\n",
      "Cluster 2: 680.06\n",
      "Cluster 3: 1990.17\n",
      "Cluster 4: 6664.30\n",
      "Cluster 5: 23114.00\n",
      "\n",
      "Cluster Distribution:\n",
      "Zero/Negative    2687\n",
      "Cluster 1        1627\n",
      "Cluster 2         187\n",
      "Cluster 3          32\n",
      "Cluster 4           8\n",
      "Cluster 5           2\n",
      "Name: count, dtype: int64\n"
     ]
    }
   ],
   "source": [
    "eur_clusters, eur_centers = create_clusters(final_df['eur'])\n",
    "print(\"EUR Clusters:\")\n",
    "print(\"\\nCluster Centers:\")\n",
    "for i, center in enumerate(eur_centers):\n",
    "    print(f\"Cluster {i+1}: {center:.2f}\")\n",
    "\n",
    "print(\"\\nCluster Distribution:\")\n",
    "print(eur_clusters.value_counts())"
   ]
  },
  {
   "cell_type": "code",
   "execution_count": 49,
   "metadata": {},
   "outputs": [
    {
     "name": "stdout",
     "output_type": "stream",
     "text": [
      "\n",
      "USD Clusters:\n",
      "\n",
      "Cluster Centers:\n",
      "Cluster 1: 128.04\n",
      "Cluster 2: 717.80\n",
      "Cluster 3: 2167.39\n",
      "Cluster 4: 4125.30\n",
      "Cluster 5: 15346.80\n",
      "\n",
      "Cluster Distribution:\n",
      "Zero/Negative    3149\n",
      "Cluster 1        1278\n",
      "Cluster 2          96\n",
      "Cluster 3          15\n",
      "Cluster 4           4\n",
      "Cluster 5           1\n",
      "Name: count, dtype: int64\n"
     ]
    }
   ],
   "source": [
    "usd_clusters, usd_centers = create_clusters(final_df['usd'])\n",
    "print(\"\\nUSD Clusters:\")\n",
    "print(\"\\nCluster Centers:\")\n",
    "for i, center in enumerate(usd_centers):\n",
    "    print(f\"Cluster {i+1}: {center:.2f}\")\n",
    "\n",
    "print(\"\\nCluster Distribution:\")\n",
    "print(usd_clusters.value_counts())"
   ]
  },
  {
   "cell_type": "code",
   "execution_count": 50,
   "metadata": {},
   "outputs": [],
   "source": [
    "final_df['eur_cluster'] = eur_clusters\n",
    "final_df['usd_cluster'] = usd_clusters"
   ]
  },
  {
   "cell_type": "code",
   "execution_count": 51,
   "metadata": {},
   "outputs": [
    {
     "data": {
      "application/vnd.plotly.v1+json": {
       "config": {
        "plotlyServerURL": "https://plot.ly"
       },
       "data": [
        {
         "marker": {
          "size": 10
         },
         "mode": "markers",
         "name": "EUR Clusters",
         "type": "scatter",
         "x": {
          "bdata": "AAAAAABq2EAAAAAAALvUQAAAAAAAZMRAPQrXo3CnvUCamZmZmTW8QAAAAAAA5LhAexSuR2Hit0AAAAAAABy3QAAAAAAAc7NAMzMzM/NHskAAAAAAAJiwQLgehetRYKZAAAAAAAAYpUDD9ShcDwGlQJqZmZmZ6aNAAAAAAAAko0BmZmZmZsahQMP1KFyPQ6FA7FG4HoXFoEAAAAAAAJigQAAAAAAAUKBAAAAAAABQoEAAAAAAAAygQEfhehSuNZ9AmpmZmZmGnUDNzMzMzFydQJqZmZmZV51AMzMzMzO7m0AAAAAAADCbQAAAAAAA0JpAj8L1KFyvmkAAAAAAANSZQAAAAAAAUJlAKVyPwvU4mUAAAAAAALCYQAAAAAAAdJdAAAAAAABwl0CPwvUoXCiXQIXrUbgepJZAAAAAAAA4lkAAAAAAACCWQAAAAAAAkJVAAAAAAADIlEDNzMzMzBSUQDMzMzMzk5NA4noUrkc/k0AAAAAAACCTQAAAAAAAwJJAmpmZmZmlkkDD9Shcj5mSQPYoXI/CZpJAAAAAAABIkkAAAAAAACCSQAAAAAAA0JFAPQrXo3C3kUCPwvUoXGeRQAAAAAAASJFAAAAAAABAkUAAAAAAAECRQAAAAAAAEJFAAAAAAADgkECuR+F6FKuQQNejcD0Kl5BAAAAAAABQkEAAAAAAAFCQQAAAAAAAUJBAKVyPwvVPkED2KFyPwi+QQEjhehSuU49AFK5H4Xr8jkAzMzMzM2GOQAAAAAAAMI5AAAAAAACgjUAAAAAAAKCNQOF6FK5Hc41AAAAAAABAjUBxPQrXo3CMQAAAAAAAcIxAAAAAAAAgjEAAAAAAACCMQGZmZmZmAotAAAAAAADQikAAAAAAANCKQJqZmZmZqYpAzczMzMyMikBmZmZmZnKKQOxRuB6Fa4pAMzMzMzNTikBSuB6F6+F5QFK4HoXr4YlAhetRuB7TiUAAAAAAAFCJQAAAAAAAsIhAAAAAAACwiEAAAAAAAGCIQNejcD0KVYhAmpmZmZkhiECF61G4HuWHQB+F61G4bIdAZmZmZmZIh0CamZmZmRmHQAAAAAAAgIZAZmZmZmY8hkAAAAAAADiGQI/C9ShcL4ZAAAAAAAAghkAAAAAAACCGQAAAAAAAIIZAAAAAAAAghkAAAAAAACCGQAAAAAAAIIZAAAAAAAAghkAAAAAAACCGQAAAAAAAIIZAAAAAAAAghkAAAAAAAPCFQAAAAAAA0IVAAAAAAADAhUAAAAAAAMCFQAAAAAAAwIVAAAAAAADAhUAAAAAAAMCFQAAAAAAAwIVAAAAAAADAhUAAAAAAAMCFQAAAAAAAwIVAAAAAAADAhUAAAAAAAMCFQAAAAAAAwIVAAAAAAADAhUAAAAAAAMCFQAAAAAAAkIVAAAAAAABghUCPwvUoXA+FQAAAAAAAAIVAmZmZmZn5hEDXo3A9Ct2EQArXo3A9noRAmpmZmZl5hEAzMzMzM2GEQLgehetRloNAAAAAAACGg0AAAAAAAICDQGZmZmZmzoJAAAAAAACYgkDNzMzMzHyCQD0K16NwbYJAAAAAAABggkAfhetRuP6BQAAAAAAA1IFAMzMzMzOzgUB7FK5H4Y6BQM3MzMzMjIFAzczMzMyMgUAAAAAAAICBQAAAAAAAgIFAcD0K16NggUAAAAAAAECBQAAAAAAAQIFAAAAAAAAQgUAAAAAAABCBQAAAAAAAEIFAUrgehevNgEBI4XoUrmOAQOtRuB6FVYBArkfhehRKgEAzMzMzMyeAQAAAAAAAgH9AAAAAAACgfkAAAAAAAKB+QAAAAAAAoH5AAAAAAACgfkAzMzMzM3N+QIXrUbgeWX5AAAAAAAAAfkBI4XoUrsd9QClcj8L1tH1AAAAAAACgfUAAAAAAAKB9QAAAAAAAoH1AAAAAAACgfUAAAAAAAEB9QAAAAAAAQH1AAAAAAABAfUAfhetRuH58QClcj8L1cHxAj8L1KFwHfEApXI/C9dh7QAAAAAAAgHtAzczMzMxMe0AzMzMzM0d7QAAAAAAAAHtAHoXrUbjyekDsUbgehdN6QAAAAAAAsHpAAAAAAACwekCamZmZmal6QClcj8L1iHpAMzMzMzNTekDhehSuR1F6QOF6FK5HUXpAAAAAAABAekAAAAAAAEB6QAAAAAAAQHpAAAAAAABAekAAAAAAAEB6QAAAAAAAQHpAmpmZmZkZekCamZmZmRl6QJqZmZmZGXpAmpmZmZkZekCamZmZmRl6QJqZmZmZGXpAmpmZmZkZekCamZmZmRl6QJqZmZmZGXpAmpmZmZkZekCamZmZmRl6QJqZmZmZGXpAmpmZmZkZekCamZmZmRl6QFK4HoXrEXpAhetRuB4NekBSuB6F6+F5QFK4HoXr4XlAUrgehevheUBSuB6F6+F5QAAAAAAA4HlAPQrXo3CBeUBnZmZmZi55QML1KFyP3nhAUrgeheu9eED2KFyPwnV4QAAAAAAAYHhAAAAAAABgeEAAAAAAAGB4QAAAAAAAYHhAAAAAAABgeEAAAAAAAGB4QAAAAAAAYHhAAAAAAABgeEAAAAAAAGB4QAAAAAAAYHhAAAAAAABgeEAAAAAAAGB4QAAAAAAAAHhAAAAAAACAQUAzMzMzM7N3QDMzMzMzs3dAMzMzMzOzd0C4HoXrUZh3QGZmZmZmZndAw/UoXI8id0BmZmZmZsp2QHE9CtejyHZAcD0K16OQdkCkcD0K14N2QM3MzMzMdHZAHoXrUbhidkAfhetRuFp2QI/C9ShcL3ZAAAAAAADwdUAAAAAAAOB1QAAAAAAA4HVAAAAAAADgdUAAAAAAAOB1QAAAAAAA4HVAZmZmZmbSdUAAAAAAAMB1QAAAAAAAwHVAAAAAAADAdUAAAAAAAMB1QAAAAAAAwHVAAAAAAADAdUAAAAAAAMB1QAAAAAAAwHVAAAAAAADAdUAAAAAAAMB1QAAAAAAAwHVAAAAAAADAdUAAAAAAAMB1QAAAAAAAwHVAAAAAAADAdUAAAAAAAMB1QAAAAAAAwHVAAAAAAADAdUAAAAAAAMB1QAAAAAAAwHVAAAAAAADAdUAAAAAAAMB1QAAAAAAAwHVAAAAAAADAdUAAAAAAAMB1QAAAAAAAwHVAAAAAAADAdUAAAAAAAMB1QAAAAAAAwHVAAAAAAADAdUAAAAAAAMB1QAAAAAAAwHVAAAAAAADAdUAAAAAAAMB1QAAAAAAAwHVAAAAAAADAdUAAAAAAAMB1QAAAAAAAwHVAAAAAAADAdUAAAAAAAMB1QAAAAAAAwHVAAAAAAADAdUAAAAAAAMB1QAAAAAAAwHVAAAAAAADAdUAAAAAAAMB1QAAAAAAAwHVAAAAAAADAdUAAAAAAAMB1QAAAAAAAwHVAAAAAAADAdUAAAAAAAMB1QAAAAAAAwHVAAAAAAADAdUAAAAAAAMB1QAAAAAAAwHVAAAAAAADAdUAAAAAAAMB1QAAAAAAAwHVAAAAAAADAdUAAAAAAAMB1QAAAAAAAwHVAAAAAAADAdUAAAAAAAMB1QAAAAAAAwHVAAAAAAADAdUAAAAAAAMB1QAAAAAAAwHVA4XoUrkehdUDC9Shcj3J1QNejcD0KU3VAAAAAAAAAdUAAAAAAAAB1QAAAAAAAAHVAkML1KFz3dECPwvUoXN90QAAAAAAAuHRAAAAAAAC4dECamZmZmal0QNejcD0Ki3RAAAAAAABwdEDhehSuR+FzQAAAAAAAwHNAAAAAAADAc0AAAAAAAMBzQAAAAAAAwHNAAAAAAADAc0AAAAAAAMBzQAAAAAAAwHNAAAAAAADAc0AAAAAAAMBzQAAAAAAAwHNAAAAAAADAc0AAAAAAAMBzQAAAAAAAwHNAAAAAAACwc0B7FK5H4ZJzQAAAAAAAgHNAAAAAAACAc0AAAAAAAIBzQAAAAAAAgHNAAAAAAACAc0AAAAAAAIBzQAAAAAAAgHNAAAAAAACAc0AAAAAAAIBzQAAAAAAAgHNAAAAAAACAc0AAAAAAAIBzQAAAAAAAgHNAAAAAAACAc0AAAAAAAIBzQAAAAAAAgHNAAAAAAACAc0AAAAAAAIBzQK5H4XoUbnNA7FG4HoUXc0AzMzMzMwNzQIXrUbge4XJAAAAAAADAckAAAAAAAMByQAAAAAAAwHJAj8L1KFy/ckDNzMzMzHxyQM3MzMzMfHJAzczMzMx8ckDNzMzMzHxyQEjhehSue3JAMzMzMzMrckDhehSuRyFyQHE9Ctej9HFAZmZmZmbGcUAfhetRuLJxQArXo3A9snFAFa5H4XqgcUDNzMzMzIxxQM3MzMzMjHFAzczMzMyMcUDNzMzMzIxxQM3MzMzMjHFA9ihcj8KJcUAAAAAAAIBxQAAAAAAAgHFAAAAAAACAcUAAAAAAAIBxQAAAAAAAgHFAAAAAAACAcUAAAAAAAIBxQAAAAAAAgHFAAAAAAACAcUAAAAAAAIBxQAAAAAAAgHFAZmZmZmZmcUBmZmZmZmZxQGZmZmZmZnFAZmZmZmZmcUBSuB6F611xQIXrUbgeTXFAcD0K16MgcUAAAAAAACBxQAAAAAAAEHFAAAAAAAAQcUAAAAAAABBxQFyPwvUoCHFAAAAAAADkcED2KFyPwt1wQM3MzMzMzHBAmpmZmZnJcEA9CtejcA1wQFyPwvUoCHBAAAAAAADgb0Bcj8L1KLRvQJqZmZmZmW9AAAAAAACAb0AAAAAAAIBvQAAAAAAAgG9AAAAAAACAb0CamZmZmeluQAAAAAAAoG5AAAAAAACgbkDhehSuR5luQOF6FK5HgW5AAAAAAAAAbkBmZmZmZv5tQAAAAAAAoG1AAAAAAACgbUAAAAAAAKBtQBSuR+F6nG1A9ihcj8J9bUAAAAAAAEBtQAAAAAAAQG1AAAAAAABAbUAAAAAAAEBtQAAAAAAAQG1AAAAAAABAbUAAAAAAAEBtQAAAAAAAQG1AAAAAAABAbUAAAAAAAEBtQAAAAAAAQG1AAAAAAABAbUAAAAAAAEBtQAAAAAAAQG1AAAAAAABAbUAAAAAAAEBtQAAAAAAAQG1AAAAAAABAbUAAAAAAAEBtQAAAAAAAQG1AAAAAAABAbUAAAAAAAEBtQAAAAAAAQG1AAAAAAABAbUAAAAAAAEBtQAAAAAAAQG1AAAAAAABAbUAAAAAAAEBtQAAAAAAAQG1AAAAAAABAbUAAAAAAAEBtQAAAAAAAQG1AAAAAAABAbUAAAAAAAEBtQAAAAAAAQG1AAAAAAABAbUAAAAAAAEBtQClcj8L1GG1AR+F6FK4PbUBmZmZmZq5sQAAAAAAAgGxAAAAAAACAbEB7FK5H4RpsQHsUrkfhGmxAmpmZmZnJa0DhehSuR6FrQHsUrkfhimtAexSuR+GCa0DNzMzMzExrQEjhehSuP2tAmpmZmZk5a0DC9Shcj+JqQHA9Ctej4GpAmZmZmZmpakAzMzMzM1NqQDMzMzMzU2pAKVyPwvVQakB7FK5H4UJqQAAAAAAAQGpAAAAAAABAakAAAAAAAEBqQAAAAAAAQGpAAAAAAABAakAAAAAAAEBqQAAAAAAAQGpAAAAAAABAakAAAAAAAEBqQAAAAAAAQGpAAAAAAABAakAAAAAAAEBqQAAAAAAAQGpAAAAAAABAakAAAAAAAEBqQAAAAAAAQGpAAAAAAABAakAAAAAAAEBqQAAAAAAAQGpAAAAAAABAakAAAAAAAEBqQFK4HoXrIWpAAAAAAADgaUDNzMzMzKxpQAAAAAAAgGlAAAAAAACAaUAAAAAAAIBpQAAAAAAAgGlAmpmZmZlZaUAAAAAAANhoQAAAAAAA0GhAAAAAAABgaEAAAAAAAGBoQHsUrkfhSmhAexSuR+FKaEAehetRuC5oQK5H4XoULmhArkfhehQuaEA9CtejcB1oQAAAAAAAAGhAAAAAAAAAaEAAAAAAAABoQPYoXI/C5WdAkML1KFzXZ0AzMzMzM7NnQDMzMzMzs2dAMzMzMzOzZ0AzMzMzM7NnQDMzMzMzs2dAMzMzMzOzZ0AzMzMzM7NnQDMzMzMzs2dAMzMzMzOzZ0AzMzMzM7NnQDMzMzMzs2dAMzMzMzOzZ0AzMzMzM7NnQDMzMzMzs2dAMzMzMzOzZ0AzMzMzM7NnQDMzMzMzs2dASOF6FK6vZ0CPwvUoXKdnQClcj8L1kGdAcT0K16OAZ0BxPQrXo4BnQHE9CtejgGdAcT0K16OAZ0BxPQrXo4BnQLgehetRaGdAZmZmZmZmZ0BmZmZmZmZnQGZmZmZmZmdAZmZmZmZmZ0AUrkfhejRnQBSuR+F6NGdAFK5H4Xo0Z0AAAAAAAChnQHE9CtejGGdAHoXrUbhuZkCkcD0K1ytmQK5H4XoUJmZAkML1KFzvZUAAAAAAAOBlQAAAAAAA4GVAmpmZmZm5ZUBmZmZmZoZlQM3MzMzMLGVA7FG4HoUrZUAK16NwPSplQAAAAAAAAGVAAAAAAAAAZUAAAAAAAABlQFyPwvUo7GRAMzMzMzOzZEAzMzMzM7NkQArXo3A9QmRAUrgehespZECF61G4HiVkQAAAAAAAAGRAAAAAAAAAZEAAAAAAAABkQAAAAAAAAGRA2KNwPQrnY0DC9Shcj9pjQAAAAAAAwGNAAAAAAADAY0AAAAAAAMBjQAAAAAAAwGNAAAAAAADAY0AAAAAAAMBjQAAAAAAAwGNAAAAAAADAY0AAAAAAAMBjQAAAAAAAwGNAAAAAAADAY0AAAAAAAMBjQAAAAAAAwGNAAAAAAADAY0AAAAAAAMBjQAAAAAAAwGNAAAAAAADAY0AAAAAAAMBjQAAAAAAAwGNAAAAAAADAY0AAAAAAAMBjQAAAAAAAwGNAAAAAAADAY0AAAAAAAMBjQAAAAAAAwGNAAAAAAADAY0AAAAAAAMBjQAAAAAAAwGNAAAAAAADAY0AAAAAAAMBjQAAAAAAAwGNAAAAAAADAY0AAAAAAAMBjQAAAAAAAwGNAAAAAAADAY0AAAAAAAMBjQAAAAAAAwGNAAAAAAADAY0AAAAAAAMBjQAAAAAAAwGNAAAAAAADAY0AAAAAAAMBjQAAAAAAAwGNAAAAAAADAY0AehetRuL5jQAAAAAAAoGNAAAAAAACAY0AAAAAAAIBjQAAAAAAAgGNAAAAAAACAY0AAAAAAAIBjQAAAAAAAgGNAAAAAAACAY0AAAAAAAIBjQAAAAAAAgGNAAAAAAACAY0AAAAAAAIBjQAAAAAAAgGNAAAAAAACAY0AAAAAAAIBjQAAAAAAAgGNAAAAAAACAY0AAAAAAAIBjQAAAAAAAgGNAAAAAAACAY0AAAAAAAIBjQAAAAAAAgGNAAAAAAACAY0AAAAAAAIBjQAAAAAAAgGNAAAAAAACAY0AAAAAAAIBjQAAAAAAAgGNAAAAAAACAY0AAAAAAAIBjQAAAAAAAgGNAAAAAAACAY0AAAAAAAIBjQAAAAAAAgGNAAAAAAACAY0AAAAAAAIBjQAAAAAAAgGNAAAAAAACAY0AAAAAAAIBjQAAAAAAAgGNAAAAAAACAY0AAAAAAAIBjQAAAAAAAgGNAAAAAAACAY0AAAAAAAIBjQAAAAAAAgGNAAAAAAACAY0AAAAAAAIBjQAAAAAAAgGNAAAAAAACAU0AAAAAAAIBjQAAAAAAAgGNAAAAAAACAY0AAAAAAAIBjQAAAAAAAgGNAAAAAAACAY0AAAAAAAIBjQAAAAAAAgGNAAAAAAACAY0AAAAAAAIBjQAAAAAAAgGNAAAAAAACAY0AAAAAAAIBjQAAAAAAAgGNAAAAAAACAY0AAAAAAAIBjQAAAAAAAgGNAAAAAAACAY0AAAAAAAIBjQAAAAAAAgGNAAAAAAACAY0AAAAAAAIBjQAAAAAAAgGNAAAAAAACAY0AAAAAAAIBjQAAAAAAAgGNAAAAAAACAY0AAAAAAAIBjQAAAAAAAgGNAAAAAAACAY0AAAAAAAIBjQAAAAAAAgGNAAAAAAACAY0AAAAAAAIBjQAAAAAAAgGNAAAAAAACAY0AAAAAAAIBjQAAAAAAAgGNAAAAAAACAY0AAAAAAAIBjQAAAAAAAgGNAAAAAAACAY0BmZmZmZuZiQD0K16Nw5WJAMzMzMzPDYkDC9Shcj4piQGZmZmZmhmJAZmZmZmaGYkCuR+F6FH5iQNejcD0KV2JAzczMzMxEYkCamZmZmTliQJqZmZmZIWJACtejcD0SYkBmZmZmZsZhQArXo3A9smFAKVyPwvWYYUA9CtejcI1hQM3MzMzMjGFAzczMzMyMYUDNzMzMzIxhQM3MzMzMjGFAZmZmZmZmV0AAAAAAAIBhQAAAAAAAgGFAAAAAAACAYUAAAAAAAIBhQAAAAAAAgGFAAAAAAACAYUAAAAAAAIBhQAAAAAAAgGFAAAAAAACAYUAAAAAAAIBhQAAAAAAAgGFAAAAAAACAYUAAAAAAAIBhQAAAAAAAgGFAAAAAAACAYUAAAAAAAIBhQAAAAAAAgGFAAAAAAACAYUAAAAAAAIBhQEjhehSuZ2FA9ihcj8JVYUDhehSuR1FhQAAAAAAAQGFAAAAAAABAYUAAAAAAAEBhQAAAAAAAQGFAAAAAAABAYUAAAAAAAEBhQAAAAAAAQGFAAAAAAABAYUAAAAAAAEBhQKRwPQrXK2FAZmZmZmYmYUAzMzMzM5NgQD4K16NwfWBASOF6FK5nYEA+CtejcP1fQJDC9Shcj19AAAAAAACAX0DNzMzMzAxfQHA9CtejAF9AAAAAAABAXkD2KFyPwiVeQAAAAAAAAF5AAAAAAAAAXkAAAAAAAABeQAAAAAAAAF5AAAAAAAAAXkAAAAAAAIBdQAAAAAAAgF1AAAAAAACAXUAAAAAAAEBdQAAAAAAAQF1AAAAAAABAXUAAAAAAAEBdQAAAAAAAQF1AAAAAAABAXUAAAAAAAEBdQAAAAAAAQF1AAAAAAABAXUAAAAAAAEBdQAAAAAAAQF1AAAAAAABAXUAAAAAAAEBdQAAAAAAAQF1AAAAAAABAXUAAAAAAAEBdQJDC9ShcD11APgrXo3DtXECF61G4HuVcQAAAAAAAAFxAmZmZmZnJW0CZmZmZmclbQJmZmZmZyVtAmZmZmZnJW0CZmZmZmclbQJmZmZmZyVtAmZmZmZnJW0AzMzMzMzNbQLgehetRKFtAexSuR+EaW0AAAAAAAABbQNejcD0Kp1pAAAAAAABAWkAAAAAAAEBaQAAAAAAAQFpAAAAAAABAWkAAAAAAAEBaQAAAAAAAQFpAAAAAAABAWkAAAAAAAEBaQAAAAAAAQFpAHoXrUbj+WUCuR+F6FM5ZQHsUrkfhellAAAAAAAAAWUAAAAAAAABZQM3MzMzM3FhAzczMzMzcWEDXo3A9CmdYQAAAAAAAYFhAmpmZmZkZWEBcj8L1KPxXQPYoXI/C5VdA9ihcj8LlV0D2KFyPwuVXQPYoXI/C5VdA9ihcj8LlV0AzMzMzM7NXQDMzMzMzs1dAMzMzMzOzV0AzMzMzM7NXQDMzMzMzs1dAMzMzMzOzV0AzMzMzM7NXQDMzMzMzs1dAuB6F61GYV0C4HoXrUZhXQLgehetRmFdAuB6F61GYV0C4HoXrUZhXQLgehetRmFdAuB6F61GYV0C4HoXrUZhXQLgehetRmFdAcT0K16OAV0BxPQrXo4BXQGZmZmZmZldAZmZmZmZmV0BmZmZmZmZXQGZmZmZmZldAZmZmZmZmV0BmZmZmZmZXQGZmZmZmZldAZmZmZmZmV0BmZmZmZmZXQGZmZmZmZldAZmZmZmZmV0BmZmZmZmZXQGZmZmZmZldAZmZmZmZmV0BmZmZmZmZXQGZmZmZmZldAZmZmZmZmV0BmZmZmZmZXQGZmZmZmZldAZmZmZmZmV0BmZmZmZmZXQGZmZmZmZldAZmZmZmZmV0BmZmZmZmZXQGZmZmZmZldAZmZmZmZmV0BmZmZmZmZXQGZmZmZmZldAZmZmZmZmV0BmZmZmZmZXQGZmZmZmZldAZmZmZmZmV0BmZmZmZmZXQGZmZmZmZldAZmZmZmZmV0BmZmZmZmZXQGZmZmZmZldAZmZmZmZmV0BmZmZmZmZXQGZmZmZmZldAZmZmZmZmV0BmZmZmZmZXQGZmZmZmZldAZmZmZmZmV0BmZmZmZmZXQGZmZmZmZldAZmZmZmZmV0BmZmZmZmZXQGZmZmZmZldAZmZmZmZmV0BmZmZmZmZXQGZmZmZmZldAFK5H4Xo0V0AUrkfhejRXQBSuR+F6NFdAFK5H4Xo0V0AUrkfhejRXQBSuR+F6NFdAFK5H4Xo0V0AUrkfhejRXQBSuR+F6NFdAFK5H4Xo0V0AUrkfhejRXQBSuR+F6NFdAFK5H4Xo0V0AUrkfhejRXQFK4HoXroVZAj8L1KFyPVkDsUbgehQtWQAAAAAAA4FVAXI/C9SjcVUDhehSuR7FVQOxRuB6Fq1VAuB6F61GYVUBmZmZmZoZVQArXo3A9WlVACtejcD1aVUAK16NwPVpVQLgehetRKFVAj8L1KFwPVUAAAAAAAABVQAAAAAAAAFVAAAAAAAAAVUAAAAAAAABVQAAAAAAAAFVAAAAAAAAAVUAAAAAAAABVQAAAAAAAAFVAAAAAAAAAVUAAAAAAAABVQAAAAAAAAFVAAAAAAAAAVUAAAAAAAABVQAAAAAAAAFVAcT0K16PgVECamZmZmdlUQDMzMzMz01RAMzMzMzPTVEAzMzMzM9NUQDMzMzMz01RAMzMzMzPTVED2KFyPwrVUQLgehetRCFRAAAAAAAAAVEAAAAAAAABUQAAAAAAAAFRAAAAAAAAAVEAAAAAAAABUQAAAAAAAAFRAAAAAAAAAVEAAAAAAAABUQAAAAAAAAFRAAAAAAAAAVEAAAAAAAMBTQAAAAAAAwFNAAAAAAADAU0AAAAAAAMBTQAAAAAAAwFNAAAAAAADAU0AAAAAAAMBTQAAAAAAAwFNAAAAAAADAU0AAAAAAAMBTQAAAAAAAwFNAAAAAAADAU0AAAAAAAMBTQAAAAAAAwFNAAAAAAADAU0AAAAAAAMBTQAAAAAAAwFNAAAAAAADAU0AAAAAAAMBTQAAAAAAAwFNAAAAAAADAU0AAAAAAAMBTQAAAAAAAwFNAAAAAAADAU0AAAAAAAMBTQAAAAAAAwFNAAAAAAADAU0AAAAAAAMBTQAAAAAAAwFNAAAAAAADAU0AAAAAAAMBTQAAAAAAAwFNAAAAAAADAU0AAAAAAAMBTQAAAAAAAgFNAAAAAAACAU0AAAAAAAIBTQAAAAAAAgFNAAAAAAACAU0AAAAAAAIBTQAAAAAAAgFNAAAAAAACAU0AAAAAAAIBTQAAAAAAAgFNAAAAAAACAU0AAAAAAAIBTQAAAAAAAgFNAAAAAAACAU0AAAAAAAIBTQAAAAAAAgFNAAAAAAACAU0AAAAAAAIBTQAAAAAAAgFNAAAAAAACAU0AAAAAAAIBTQAAAAAAAgFNAAAAAAACAU0AAAAAAAIBTQAAAAAAAgFNAAAAAAACAU0AAAAAAAIBTQAAAAAAAgFNAAAAAAACAU0AAAAAAAIBTQAAAAAAAgFNAAAAAAACAU0AAAAAAAIBTQAAAAAAAgFNAAAAAAACAU0AAAAAAAIBTQAAAAAAAgFNAAAAAAACAU0AAAAAAAIBTQAAAAAAAgFNAAAAAAACAU0AAAAAAAIBTQAAAAAAAgFNAAAAAAACAU0AAAAAAAIBTQAAAAAAAgFNAAAAAAACAU0AAAAAAAIBTQAAAAAAAgFNAAAAAAACAU0AAAAAAAIBTQAAAAAAAgFNAAAAAAACAU0AAAAAAAIBTQAAAAAAAgFNAAAAAAACAU0AAAAAAAIBTQAAAAAAAgFNAAAAAAACAU0AAAAAAAIBTQAAAAAAAgFNAAAAAAACAU0AAAAAAAIBTQAAAAAAAgFNAAAAAAACAU0AAAAAAAIBTQAAAAAAAgFNAAAAAAACAU0AAAAAAAIBTQAAAAAAAgFNAAAAAAACAU0AAAAAAAIBTQAAAAAAAgFNAAAAAAACAU0AAAAAAAIBTQAAAAAAAgFNAAAAAAACAU0AAAAAAAIBTQAAAAAAAgFNAAAAAAACAU0AAAAAAAIBTQAAAAAAAgFNAAAAAAACAU0AAAAAAAIBTQAAAAAAAgFNAAAAAAACAU0AAAAAAAIBTQAAAAAAAgFNAAAAAAACAU0AAAAAAAIBTQAAAAAAAgFNAAAAAAACAU0AAAAAAAIBTQAAAAAAAgFNAAAAAAACAU0AAAAAAAIBTQAAAAAAAgFNAAAAAAACAU0AAAAAAAIBTQAAAAAAAgFNAAAAAAACAU0AAAAAAAIBTQAAAAAAAgFNAAAAAAACAU0AAAAAAAIBTQAAAAAAAgFNAAAAAAACAU0AAAAAAAIBTQAAAAAAAgFNAAAAAAACAU0AAAAAAAIBTQAAAAAAAgFNAAAAAAACAU0AAAAAAAIBTQAAAAAAAgFNAAAAAAACAU0AAAAAAAIBTQAAAAAAAgFNAAAAAAACAU0AAAAAAAIBTQAAAAAAAgFNAAAAAAACAU0AAAAAAAIBTQAAAAAAAgFNAAAAAAACAU0AAAAAAAIBTQAAAAAAAgFNAAAAAAACAU0AAAAAAAIBTQAAAAAAAgFNAAAAAAACAU0AAAAAAAIBTQAAAAAAAgFNAAAAAAACAU0AAAAAAAIBTQAAAAAAAgFNAAAAAAACAU0AAAAAAAIBTQAAAAAAAgFNAAAAAAACAU0AAAAAAAIBTQAAAAAAAgFNAAAAAAACAU0AAAAAAAIBTQAAAAAAAgFNAAAAAAACAU0AAAAAAAIBTQAAAAAAAgFNAAAAAAACAU0AAAAAAAIBTQAAAAAAAgFNAAAAAAACAU0AAAAAAAIBTQAAAAAAAgFNAAAAAAACAU0AAAAAAAIBTQAAAAAAAgFNAAAAAAACAU0AAAAAAAIBTQAAAAAAAgFNAAAAAAACAU0AAAAAAAIBTQAAAAAAAgFNAAAAAAACAU0AAAAAAAIBTQAAAAAAAgFNAAAAAAACAU0AAAAAAAIBTQAAAAAAAgFNAAAAAAACAU0AAAAAAAIBTQAAAAAAAgFNAAAAAAACAU0AAAAAAAIBTQAAAAAAAgFNAAAAAAACAU0AAAAAAAIBTQAAAAAAAgFNAAAAAAACAU0AAAAAAAIBTQAAAAAAAgFNAAAAAAACAU0AAAAAAAIBTQAAAAAAAgFNAAAAAAACAU0AAAAAAAIBTQAAAAAAAgFNAAAAAAACAU0AAAAAAAIBTQAAAAAAAgFNAAAAAAACAU0AAAAAAAIBTQAAAAAAAgFNAAAAAAACAU0AAAAAAAIBTQAAAAAAAgFNAAAAAAACAU0AAAAAAAIBTQAAAAAAAgFNAAAAAAACAU0AAAAAAAIBTQAAAAAAAgFNAAAAAAACAU0AAAAAAAIBTQAAAAAAAgFNAAAAAAACAU0AAAAAAAIBTQAAAAAAAgFNAAAAAAACAU0AAAAAAAIBTQAAAAAAAgFNAAAAAAACAU0AAAAAAAIBTQAAAAAAAgFNAAAAAAACAU0AAAAAAAIBTQAAAAAAAgFNAAAAAAACAU0AAAAAAAIBTQAAAAAAAgFNAAAAAAACAU0AAAAAAAIBTQAAAAAAAgFNAAAAAAACAU0AAAAAAAIBTQAAAAAAAgFNAAAAAAACAU0AAAAAAAIBTQAAAAAAAgFNAAAAAAACAU0AAAAAAAIBTQAAAAAAAgFNAAAAAAACAU0AAAAAAAIBTQAAAAAAAgFNAAAAAAACAU0AAAAAAAIBTQAAAAAAAgFNAAAAAAACAU0AAAAAAAIBTQAAAAAAAgFNAAAAAAACAU0AAAAAAAIBTQAAAAAAAgFNAAAAAAACAU0AAAAAAAIBTQAAAAAAAgFNAAAAAAACAU0AAAAAAAIBTQAAAAAAAgFNAAAAAAACAU0AAAAAAAIBTQAAAAAAAgFNAAAAAAACAU0AAAAAAAIBTQAAAAAAAgFNAAAAAAACAU0AAAAAAAIBTQAAAAAAAgFNAAAAAAACAU0AAAAAAAIBTQAAAAAAAgFNAAAAAAACAU0AAAAAAAIBTQAAAAAAAgFNAAAAAAACAU0AAAAAAAIBTQAAAAAAAgFNAAAAAAACAU0AAAAAAAIBTQAAAAAAAgFNAAAAAAACAU0AAAAAAAIBTQAAAAAAAgFNAAAAAAACAU0AAAAAAAIBTQAAAAAAAgFNAAAAAAACAU0AAAAAAAIBTQAAAAAAAgFNAAAAAAACAU0AAAAAAAIBTQAAAAAAAgFNAAAAAAACAU0AAAAAAAIBTQAAAAAAAgFNAAAAAAACAU0AAAAAAAIBTQAAAAAAAgFNAAAAAAACAU0AAAAAAAIBTQAAAAAAAgFNAAAAAAACAU0AAAAAAAIBTQAAAAAAAgFNAAAAAAACAU0AAAAAAAIBTQAAAAAAAgFNAAAAAAACAU0AAAAAAAIBTQAAAAAAAgFNAAAAAAACAU0AAAAAAAIBTQAAAAAAAgFNAAAAAAACAU0AAAAAAAIBTQAAAAAAAgFNAAAAAAACAU0AAAAAAAIBTQAAAAAAAgFNAAAAAAACAU0AAAAAAAIBTQAAAAAAAgFNAAAAAAACAU0AAAAAAAIBTQAAAAAAAgFNAAAAAAACAU0AAAAAAAIBTQAAAAAAAgFNAAAAAAACAU0AAAAAAAIBTQAAAAAAAgFNAAAAAAACAU0AAAAAAAIBTQAAAAAAAgFNAAAAAAACAU0AAAAAAAIBTQAAAAAAAgFNAAAAAAACAU0AAAAAAAIBTQAAAAAAAgFNAAAAAAACAU0AAAAAAAIBTQAAAAAAAgFNAAAAAAACAU0AAAAAAAIBTQAAAAAAAgFNAAAAAAACAU0AAAAAAAIBTQAAAAAAAgFNAAAAAAACAU0AAAAAAAIBTQAAAAAAAgFNAAAAAAACAU0AAAAAAAIBTQAAAAAAAgFNAAAAAAACAU0AAAAAAAIBTQAAAAAAAgFNAAAAAAACAU0AAAAAAAIBTQAAAAAAAgFNAAAAAAACAU0AAAAAAAIBTQAAAAAAAgFNAAAAAAACAU0AAAAAAAIBTQAAAAAAAgFNAAAAAAACAU0AAAAAAAIBTQAAAAAAAgFNAAAAAAACAU0AAAAAAAIBTQD0K16NwHVNAUrgehesRU0D2KFyPwvVSQM3MzMzMzFJAMzMzMzPDUkC4HoXrUbhSQGZmZmZmhlJAZmZmZmaGUkBmZmZmZoZSQGZmZmZmhlJAZmZmZmaGUkBmZmZmZoZSQGZmZmZmhlJAZmZmZmaGUkBmZmZmZoZSQGZmZmZmhlJAZmZmZmaGUkBmZmZmZoZSQGZmZmZmhlJAZmZmZmaGUkBmZmZmZoZSQGZmZmZmhlJAZmZmZmaGUkBmZmZmZoZSQGZmZmZmhlJAZmZmZmaGUkBmZmZmZoZSQGZmZmZmhlJAZmZmZmaGUkA+CtejcA1SQJqZmZmZCVJAmpmZmZkJUkAzMzMzM9NRQM3MzMzMjFFAzczMzMyMUUDNzMzMzIxRQM3MzMzMjFFAAAAAAACAUUAAAAAAAIBRQAAAAAAAgFFAAAAAAACAUUAAAAAAAIBRQAAAAAAAgFFAAAAAAACAUUAAAAAAAIBRQAAAAAAAgFFAAAAAAACAUUAAAAAAAIBRQAAAAAAAgFFAAAAAAACAUUAAAAAAAIBRQAAAAAAAgFFAAAAAAACAUUAAAAAAAIBRQAAAAAAAgFFAAAAAAACAUUAAAAAAAIBRQAAAAAAAgFFAAAAAAACAUUAAAAAAAIBRQAAAAAAAgFFAAAAAAACAUUAAAAAAAIBRQAAAAAAAgFFAAAAAAACAUUAAAAAAAIBRQAAAAAAAgFFAAAAAAACAUUAAAAAAAIBRQAAAAAAAgFFAAAAAAACAUUAAAAAAAIBRQAAAAAAAgFFAAAAAAACAUUAAAAAAAIBRQAAAAAAAgFFAAAAAAACAUUAAAAAAAIBRQAAAAAAAgFFAAAAAAACAUUAAAAAAAIBRQAAAAAAAgFFAAAAAAACAUUAAAAAAAIBRQAAAAAAAgFFAAAAAAACAUUAAAAAAAIBRQAAAAAAAgFFAAAAAAACAUUAAAAAAAIBRQAAAAAAAgFFAAAAAAACAUUAAAAAAAIBRQAAAAAAAgFFAAAAAAACAUUAAAAAAAIBRQAAAAAAAgFFAAAAAAACAUUAAAAAAAIBRQAAAAAAAgFFAAAAAAACAUUAAAAAAAIBRQAAAAAAAgFFApHA9CtdTUUAAAAAAAEBRQAAAAAAAQFFAMzMzMzOTUEAzMzMzM5NQQDMzMzMzk1BAMzMzMzOTUEAzMzMzM5NQQDMzMzMzk1BAMzMzMzOTUEAzMzMzM5NQQBSuR+F6VFBACtejcD3KT0AzMzMzMzNPQDMzMzMzM09AMzMzMzMzT0AzMzMzMzNPQDMzMzMzM09AwvUoXI8iTkAAAAAAAABOQAAAAAAAQE1AAAAAAABATUAAAAAAAABMQOJ6FK5H4UtA16NwPQp3S0AAAAAAAABLQAAAAAAAAEtAzczMzMwMSkBcj8L1KLxJQD4K16NwfUlArkfhehSOSEAAAAAAAIBIQGZmZmZmZkhAAAAAAABgSEAAAAAAAABIQAAAAAAAAEhAAAAAAAAASEBcj8L1KPxHQFyPwvUo/EdACtejcD3KR0C4HoXrUZhHQLgehetRmEdAuB6F61GYR0C4HoXrUZhHQLgehetRmEdAuB6F61GYR0C4HoXrUZhHQGZmZmZmZkdAZmZmZmZmR0BmZmZmZmZHQGZmZmZmZkdAZmZmZmZmR0BmZmZmZmZHQGZmZmZmZkdAZmZmZmZmR0BmZmZmZmZHQGZmZmZmZkdAZmZmZmZmR0BmZmZmZmZHQGZmZmZmZkdAZmZmZmZmR0BmZmZmZmZHQGZmZmZmZkdAZmZmZmZmR0BmZmZmZmZHQGZmZmZmZkdAZmZmZmZmR0BmZmZmZmZHQGZmZmZmZkdAZmZmZmZmR0BmZmZmZmZHQGZmZmZmZkdAZmZmZmZmR0BmZmZmZmZHQGZmZmZmZkdAZmZmZmZmR0BmZmZmZmZHQGZmZmZmZkdAZmZmZmZmR0BmZmZmZmZHQGZmZmZmZkdAXI/C9ShcR0AUrkfhejRHQBSuR+F6NEdAFK5H4Xo0R0AUrkfhejRHQBSuR+F6NEdAFK5H4Xo0R0AUrkfhejRHQBSuR+F6NEdAFK5H4Xo0R0AUrkfhejRHQBSuR+F6NEdAFK5H4Xo0R0AUrkfhejRHQBSuR+F6NEdAcT0K16MwR0BxPQrXo9BFQI/C9ShcD0VAAAAAAAAARUA9CtejcP1EQFK4HoXr0URAAAAAAAAAREAAAAAAAABEQAAAAAAAAERAAAAAAAAAREAAAAAAAABEQAAAAAAAAERAAAAAAAAAREAAAAAAAABEQAAAAAAAAERAAAAAAAAAREAAAAAAAABEQAAAAAAAAERAAAAAAAAAREAAAAAAAABEQAAAAAAAgENAAAAAAACAQ0AAAAAAAIBDQAAAAAAAgENAAAAAAACAQ0AAAAAAAIBDQAAAAAAAgENAAAAAAACAQ0AAAAAAAIBDQAAAAAAAgENAAAAAAACAQ0AAAAAAAIBDQAAAAAAAgENAAAAAAACAQ0AAAAAAAIBDQAAAAAAAgENAAAAAAACAQ0AAAAAAAIBDQAAAAAAAgENAAAAAAACAQ0AAAAAAAIBDQAAAAAAAgENAAAAAAACAQ0AAAAAAAIBDQAAAAAAAgENAAAAAAACAQ0AAAAAAAIBDQAAAAAAAgENAAAAAAACAQ0AAAAAAAIBDQAAAAAAAgENAAAAAAACAQ0AAAAAAAIBDQAAAAAAAgENAAAAAAACAQ0AAAAAAAIBDQAAAAAAAgENAAAAAAACAQ0AAAAAAAIBDQAAAAAAAgENAAAAAAACAQ0AAAAAAAIBDQAAAAAAAgENAAAAAAACAQ0AAAAAAAIBDQAAAAAAAgENAAAAAAACAQ0AAAAAAAIBDQAAAAAAAgENAAAAAAACAQ0AAAAAAAIBDQAAAAAAAgENAAAAAAACAQ0AAAAAAAIBDQAAAAAAAgENAAAAAAACAQ0AAAAAAAIBDQAAAAAAAgENAAAAAAACAQ0AAAAAAAIBDQAAAAAAAgENAAAAAAACAQ0AAAAAAAIBDQAAAAAAAgENAAAAAAACAQ0AAAAAAAIBDQAAAAAAAgENAAAAAAACAQ0AAAAAAAIBDQAAAAAAAgENAAAAAAACAQ0AAAAAAAIBDQAAAAAAAgENAAAAAAACAQ0AAAAAAAIBDQAAAAAAAgENAAAAAAACAQ0AAAAAAAIBDQAAAAAAAgENAAAAAAACAQ0AAAAAAAIBDQAAAAAAAgENAAAAAAACAQ0AAAAAAAIBDQAAAAAAAgENAAAAAAACAQ0AAAAAAAIBDQAAAAAAAgENAAAAAAACAQ0AAAAAAAIBDQAAAAAAAgENAAAAAAACAQ0AAAAAAAIBDQAAAAAAAgENAAAAAAACAQ0AAAAAAAIBDQAAAAAAAgENAAAAAAACAQ0AAAAAAAIBDQAAAAAAAgENAAAAAAACAQ0AAAAAAAIBDQAAAAAAAgENAAAAAAACAQ0AAAAAAAIBDQAAAAAAAgENAAAAAAACAQ0AAAAAAAIBDQAAAAAAAgENAAAAAAACAQ0AAAAAAAIBDQAAAAAAAgENAAAAAAACAQ0AAAAAAAIBDQAAAAAAAgENAAAAAAACAQ0AAAAAAAIBDQAAAAAAAgENAAAAAAACAQ0AAAAAAAIBDQAAAAAAAgENAAAAAAACAQ0AAAAAAAIBDQAAAAAAAgENAAAAAAACAQ0AAAAAAAIBDQAAAAAAAgENAAAAAAACAQ0AAAAAAAIBDQAAAAAAAgENAAAAAAACAQ0AAAAAAAIBDQAAAAAAAgENAAAAAAACAQ0AAAAAAAIBDQAAAAAAAgENAAAAAAACAQ0AAAAAAAIBDQAAAAAAAgENAAAAAAACAQ0AAAAAAAIBDQAAAAAAAgENAAAAAAACAQ0AAAAAAAIBDQAAAAAAAgENAAAAAAACAQ0AAAAAAAIBDQAAAAAAAgENAAAAAAACAQ0AAAAAAAIBDQAAAAAAAgENAAAAAAACAQ0AAAAAAAIBDQAAAAAAAgENAAAAAAACAQ0AAAAAAAIBDQAAAAAAAgENAAAAAAACAQ0AAAAAAAIBDQAAAAAAAgENAAAAAAACAQ0AAAAAAAIBDQAAAAAAAgENAAAAAAACAQ0AAAAAAAIBDQAAAAAAAgENAAAAAAACAQ0AAAAAAAIBDQAAAAAAAgENAAAAAAACAQ0AAAAAAAIBDQAAAAAAAgENAAAAAAACAQ0AAAAAAAIBDQAAAAAAAgENAAAAAAACAQ0AAAAAAAIBDQAAAAAAAgENAAAAAAACAQ0AAAAAAAIBDQLgehetRuEJAZmZmZmaGQkBmZmZmZoZCQGZmZmZmhkJAZmZmZmaGQkBmZmZmZoZCQGZmZmZmhkJAZmZmZmaGQkDNzMzMzIxBQAAAAAAAgEFAAAAAAACAQUAAAAAAAIBBQAAAAAAAgEFAAAAAAACAQUAAAAAAAIBBQAAAAAAAgEFAAAAAAACAQUAAAAAAAIBBQAAAAAAAgEFAAAAAAACAQUAAAAAAAIBBQAAAAAAAgEFAAAAAAACAQUDNzMzMzMxAQDMzMzMzk0BAcT0K16MwQEAzMzMzMzM/QDMzMzMzMz9A4XoUrkfhPEBmZmZmZqY8QAAAAAAAADxAAAAAAAAAPEAAAAAAAAA4QM3MzMzMzDdAAAAAAAAANEAAAAAAAAA0QAAAAAAAADRAAAAAAAAANEApXI/C9SgyQAAAAAAAADJAwvUoXI9CIEBA4XoUrkcNQA==",
          "dtype": "f8"
         },
         "y": [
          "Cluster 5",
          "Cluster 5",
          "Cluster 4",
          "Cluster 4",
          "Cluster 4",
          "Cluster 4",
          "Cluster 4",
          "Cluster 4",
          "Cluster 4",
          "Cluster 4",
          "Cluster 3",
          "Cluster 3",
          "Cluster 3",
          "Cluster 3",
          "Cluster 3",
          "Cluster 3",
          "Cluster 3",
          "Cluster 3",
          "Cluster 3",
          "Cluster 3",
          "Cluster 3",
          "Cluster 3",
          "Cluster 3",
          "Cluster 3",
          "Cluster 3",
          "Cluster 3",
          "Cluster 3",
          "Cluster 3",
          "Cluster 3",
          "Cluster 3",
          "Cluster 3",
          "Cluster 3",
          "Cluster 3",
          "Cluster 3",
          "Cluster 3",
          "Cluster 3",
          "Cluster 3",
          "Cluster 3",
          "Cluster 3",
          "Cluster 3",
          "Cluster 3",
          "Cluster 3",
          "Cluster 2",
          "Cluster 2",
          "Cluster 2",
          "Cluster 2",
          "Cluster 2",
          "Cluster 2",
          "Cluster 2",
          "Cluster 2",
          "Cluster 2",
          "Cluster 2",
          "Cluster 2",
          "Cluster 2",
          "Cluster 2",
          "Cluster 2",
          "Cluster 2",
          "Cluster 2",
          "Cluster 2",
          "Cluster 2",
          "Cluster 2",
          "Cluster 2",
          "Cluster 2",
          "Cluster 2",
          "Cluster 2",
          "Cluster 2",
          "Cluster 2",
          "Cluster 2",
          "Cluster 2",
          "Cluster 2",
          "Cluster 2",
          "Cluster 2",
          "Cluster 2",
          "Cluster 2",
          "Cluster 2",
          "Cluster 2",
          "Cluster 2",
          "Cluster 2",
          "Cluster 2",
          "Cluster 2",
          "Cluster 2",
          "Cluster 2",
          "Cluster 2",
          "Cluster 2",
          "Cluster 2",
          "Cluster 2",
          "Cluster 2",
          "Cluster 2",
          "Cluster 2",
          "Cluster 2",
          "Cluster 2",
          "Cluster 2",
          "Cluster 2",
          "Cluster 2",
          "Cluster 2",
          "Cluster 2",
          "Cluster 2",
          "Cluster 2",
          "Cluster 2",
          "Cluster 2",
          "Cluster 2",
          "Cluster 2",
          "Cluster 2",
          "Cluster 2",
          "Cluster 2",
          "Cluster 2",
          "Cluster 2",
          "Cluster 2",
          "Cluster 2",
          "Cluster 2",
          "Cluster 2",
          "Cluster 2",
          "Cluster 2",
          "Cluster 2",
          "Cluster 2",
          "Cluster 2",
          "Cluster 2",
          "Cluster 2",
          "Cluster 2",
          "Cluster 2",
          "Cluster 2",
          "Cluster 2",
          "Cluster 2",
          "Cluster 2",
          "Cluster 2",
          "Cluster 2",
          "Cluster 2",
          "Cluster 2",
          "Cluster 2",
          "Cluster 2",
          "Cluster 2",
          "Cluster 2",
          "Cluster 2",
          "Cluster 2",
          "Cluster 2",
          "Cluster 2",
          "Cluster 2",
          "Cluster 2",
          "Cluster 2",
          "Cluster 2",
          "Cluster 2",
          "Cluster 2",
          "Cluster 2",
          "Cluster 2",
          "Cluster 2",
          "Cluster 2",
          "Cluster 2",
          "Cluster 2",
          "Cluster 2",
          "Cluster 2",
          "Cluster 2",
          "Cluster 2",
          "Cluster 2",
          "Cluster 2",
          "Cluster 2",
          "Cluster 2",
          "Cluster 2",
          "Cluster 2",
          "Cluster 2",
          "Cluster 2",
          "Cluster 2",
          "Cluster 2",
          "Cluster 2",
          "Cluster 2",
          "Cluster 2",
          "Cluster 2",
          "Cluster 2",
          "Cluster 2",
          "Cluster 2",
          "Cluster 2",
          "Cluster 2",
          "Cluster 2",
          "Cluster 2",
          "Cluster 2",
          "Cluster 2",
          "Cluster 2",
          "Cluster 2",
          "Cluster 2",
          "Cluster 2",
          "Cluster 2",
          "Cluster 2",
          "Cluster 2",
          "Cluster 2",
          "Cluster 2",
          "Cluster 2",
          "Cluster 2",
          "Cluster 2",
          "Cluster 2",
          "Cluster 2",
          "Cluster 2",
          "Cluster 2",
          "Cluster 2",
          "Cluster 2",
          "Cluster 2",
          "Cluster 2",
          "Cluster 2",
          "Cluster 2",
          "Cluster 2",
          "Cluster 2",
          "Cluster 2",
          "Cluster 2",
          "Cluster 2",
          "Cluster 2",
          "Cluster 2",
          "Cluster 2",
          "Cluster 2",
          "Cluster 2",
          "Cluster 2",
          "Cluster 2",
          "Cluster 2",
          "Cluster 2",
          "Cluster 2",
          "Cluster 2",
          "Cluster 2",
          "Cluster 2",
          "Cluster 2",
          "Cluster 2",
          "Cluster 2",
          "Cluster 2",
          "Cluster 2",
          "Cluster 2",
          "Cluster 2",
          "Cluster 2",
          "Cluster 2",
          "Cluster 2",
          "Cluster 2",
          "Cluster 2",
          "Cluster 2",
          "Cluster 2",
          "Cluster 1",
          "Cluster 1",
          "Cluster 1",
          "Cluster 1",
          "Cluster 1",
          "Cluster 1",
          "Cluster 1",
          "Cluster 1",
          "Cluster 1",
          "Cluster 1",
          "Cluster 1",
          "Cluster 1",
          "Cluster 1",
          "Cluster 1",
          "Cluster 1",
          "Cluster 1",
          "Cluster 1",
          "Cluster 1",
          "Cluster 1",
          "Cluster 1",
          "Cluster 1",
          "Cluster 1",
          "Cluster 1",
          "Cluster 1",
          "Cluster 1",
          "Cluster 1",
          "Cluster 1",
          "Cluster 1",
          "Cluster 1",
          "Cluster 1",
          "Cluster 1",
          "Cluster 1",
          "Cluster 1",
          "Cluster 1",
          "Cluster 1",
          "Cluster 1",
          "Cluster 1",
          "Cluster 1",
          "Cluster 1",
          "Cluster 1",
          "Cluster 1",
          "Cluster 1",
          "Cluster 1",
          "Cluster 1",
          "Cluster 1",
          "Cluster 1",
          "Cluster 1",
          "Cluster 1",
          "Cluster 1",
          "Cluster 1",
          "Cluster 1",
          "Cluster 1",
          "Cluster 1",
          "Cluster 1",
          "Cluster 1",
          "Cluster 1",
          "Cluster 1",
          "Cluster 1",
          "Cluster 1",
          "Cluster 1",
          "Cluster 1",
          "Cluster 1",
          "Cluster 1",
          "Cluster 1",
          "Cluster 1",
          "Cluster 1",
          "Cluster 1",
          "Cluster 1",
          "Cluster 1",
          "Cluster 1",
          "Cluster 1",
          "Cluster 1",
          "Cluster 1",
          "Cluster 1",
          "Cluster 1",
          "Cluster 1",
          "Cluster 1",
          "Cluster 1",
          "Cluster 1",
          "Cluster 1",
          "Cluster 1",
          "Cluster 1",
          "Cluster 1",
          "Cluster 1",
          "Cluster 1",
          "Cluster 1",
          "Cluster 1",
          "Cluster 1",
          "Cluster 1",
          "Cluster 1",
          "Cluster 1",
          "Cluster 1",
          "Cluster 1",
          "Cluster 1",
          "Cluster 1",
          "Cluster 1",
          "Cluster 1",
          "Cluster 1",
          "Cluster 1",
          "Cluster 1",
          "Cluster 1",
          "Cluster 1",
          "Cluster 1",
          "Cluster 1",
          "Cluster 1",
          "Cluster 1",
          "Cluster 1",
          "Cluster 1",
          "Cluster 1",
          "Cluster 1",
          "Cluster 1",
          "Cluster 1",
          "Cluster 1",
          "Cluster 1",
          "Cluster 1",
          "Cluster 1",
          "Cluster 1",
          "Cluster 1",
          "Cluster 1",
          "Cluster 1",
          "Cluster 1",
          "Cluster 1",
          "Cluster 1",
          "Cluster 1",
          "Cluster 1",
          "Cluster 1",
          "Cluster 1",
          "Cluster 1",
          "Cluster 1",
          "Cluster 1",
          "Cluster 1",
          "Cluster 1",
          "Cluster 1",
          "Cluster 1",
          "Cluster 1",
          "Cluster 1",
          "Cluster 1",
          "Cluster 1",
          "Cluster 1",
          "Cluster 1",
          "Cluster 1",
          "Cluster 1",
          "Cluster 1",
          "Cluster 1",
          "Cluster 1",
          "Cluster 1",
          "Cluster 1",
          "Cluster 1",
          "Cluster 1",
          "Cluster 1",
          "Cluster 1",
          "Cluster 1",
          "Cluster 1",
          "Cluster 1",
          "Cluster 1",
          "Cluster 1",
          "Cluster 1",
          "Cluster 1",
          "Cluster 1",
          "Cluster 1",
          "Cluster 1",
          "Cluster 1",
          "Cluster 1",
          "Cluster 1",
          "Cluster 1",
          "Cluster 1",
          "Cluster 1",
          "Cluster 1",
          "Cluster 1",
          "Cluster 1",
          "Cluster 1",
          "Cluster 1",
          "Cluster 1",
          "Cluster 1",
          "Cluster 1",
          "Cluster 1",
          "Cluster 1",
          "Cluster 1",
          "Cluster 1",
          "Cluster 1",
          "Cluster 1",
          "Cluster 1",
          "Cluster 1",
          "Cluster 1",
          "Cluster 1",
          "Cluster 1",
          "Cluster 1",
          "Cluster 1",
          "Cluster 1",
          "Cluster 1",
          "Cluster 1",
          "Cluster 1",
          "Cluster 1",
          "Cluster 1",
          "Cluster 1",
          "Cluster 1",
          "Cluster 1",
          "Cluster 1",
          "Cluster 1",
          "Cluster 1",
          "Cluster 1",
          "Cluster 1",
          "Cluster 1",
          "Cluster 1",
          "Cluster 1",
          "Cluster 1",
          "Cluster 1",
          "Cluster 1",
          "Cluster 1",
          "Cluster 1",
          "Cluster 1",
          "Cluster 1",
          "Cluster 1",
          "Cluster 1",
          "Cluster 1",
          "Cluster 1",
          "Cluster 1",
          "Cluster 1",
          "Cluster 1",
          "Cluster 1",
          "Cluster 1",
          "Cluster 1",
          "Cluster 1",
          "Cluster 1",
          "Cluster 1",
          "Cluster 1",
          "Cluster 1",
          "Cluster 1",
          "Cluster 1",
          "Cluster 1",
          "Cluster 1",
          "Cluster 1",
          "Cluster 1",
          "Cluster 1",
          "Cluster 1",
          "Cluster 1",
          "Cluster 1",
          "Cluster 1",
          "Cluster 1",
          "Cluster 1",
          "Cluster 1",
          "Cluster 1",
          "Cluster 1",
          "Cluster 1",
          "Cluster 1",
          "Cluster 1",
          "Cluster 1",
          "Cluster 1",
          "Cluster 1",
          "Cluster 1",
          "Cluster 1",
          "Cluster 1",
          "Cluster 1",
          "Cluster 1",
          "Cluster 1",
          "Cluster 1",
          "Cluster 1",
          "Cluster 1",
          "Cluster 1",
          "Cluster 1",
          "Cluster 1",
          "Cluster 1",
          "Cluster 1",
          "Cluster 1",
          "Cluster 1",
          "Cluster 1",
          "Cluster 1",
          "Cluster 1",
          "Cluster 1",
          "Cluster 1",
          "Cluster 1",
          "Cluster 1",
          "Cluster 1",
          "Cluster 1",
          "Cluster 1",
          "Cluster 1",
          "Cluster 1",
          "Cluster 1",
          "Cluster 1",
          "Cluster 1",
          "Cluster 1",
          "Cluster 1",
          "Cluster 1",
          "Cluster 1",
          "Cluster 1",
          "Cluster 1",
          "Cluster 1",
          "Cluster 1",
          "Cluster 1",
          "Cluster 1",
          "Cluster 1",
          "Cluster 1",
          "Cluster 1",
          "Cluster 1",
          "Cluster 1",
          "Cluster 1",
          "Cluster 1",
          "Cluster 1",
          "Cluster 1",
          "Cluster 1",
          "Cluster 1",
          "Cluster 1",
          "Cluster 1",
          "Cluster 1",
          "Cluster 1",
          "Cluster 1",
          "Cluster 1",
          "Cluster 1",
          "Cluster 1",
          "Cluster 1",
          "Cluster 1",
          "Cluster 1",
          "Cluster 1",
          "Cluster 1",
          "Cluster 1",
          "Cluster 1",
          "Cluster 1",
          "Cluster 1",
          "Cluster 1",
          "Cluster 1",
          "Cluster 1",
          "Cluster 1",
          "Cluster 1",
          "Cluster 1",
          "Cluster 1",
          "Cluster 1",
          "Cluster 1",
          "Cluster 1",
          "Cluster 1",
          "Cluster 1",
          "Cluster 1",
          "Cluster 1",
          "Cluster 1",
          "Cluster 1",
          "Cluster 1",
          "Cluster 1",
          "Cluster 1",
          "Cluster 1",
          "Cluster 1",
          "Cluster 1",
          "Cluster 1",
          "Cluster 1",
          "Cluster 1",
          "Cluster 1",
          "Cluster 1",
          "Cluster 1",
          "Cluster 1",
          "Cluster 1",
          "Cluster 1",
          "Cluster 1",
          "Cluster 1",
          "Cluster 1",
          "Cluster 1",
          "Cluster 1",
          "Cluster 1",
          "Cluster 1",
          "Cluster 1",
          "Cluster 1",
          "Cluster 1",
          "Cluster 1",
          "Cluster 1",
          "Cluster 1",
          "Cluster 1",
          "Cluster 1",
          "Cluster 1",
          "Cluster 1",
          "Cluster 1",
          "Cluster 1",
          "Cluster 1",
          "Cluster 1",
          "Cluster 1",
          "Cluster 1",
          "Cluster 1",
          "Cluster 1",
          "Cluster 1",
          "Cluster 1",
          "Cluster 1",
          "Cluster 1",
          "Cluster 1",
          "Cluster 1",
          "Cluster 1",
          "Cluster 1",
          "Cluster 1",
          "Cluster 1",
          "Cluster 1",
          "Cluster 1",
          "Cluster 1",
          "Cluster 1",
          "Cluster 1",
          "Cluster 1",
          "Cluster 1",
          "Cluster 1",
          "Cluster 1",
          "Cluster 1",
          "Cluster 1",
          "Cluster 1",
          "Cluster 1",
          "Cluster 1",
          "Cluster 1",
          "Cluster 1",
          "Cluster 1",
          "Cluster 1",
          "Cluster 1",
          "Cluster 1",
          "Cluster 1",
          "Cluster 1",
          "Cluster 1",
          "Cluster 1",
          "Cluster 1",
          "Cluster 1",
          "Cluster 1",
          "Cluster 1",
          "Cluster 1",
          "Cluster 1",
          "Cluster 1",
          "Cluster 1",
          "Cluster 1",
          "Cluster 1",
          "Cluster 1",
          "Cluster 1",
          "Cluster 1",
          "Cluster 1",
          "Cluster 1",
          "Cluster 1",
          "Cluster 1",
          "Cluster 1",
          "Cluster 1",
          "Cluster 1",
          "Cluster 1",
          "Cluster 1",
          "Cluster 1",
          "Cluster 1",
          "Cluster 1",
          "Cluster 1",
          "Cluster 1",
          "Cluster 1",
          "Cluster 1",
          "Cluster 1",
          "Cluster 1",
          "Cluster 1",
          "Cluster 1",
          "Cluster 1",
          "Cluster 1",
          "Cluster 1",
          "Cluster 1",
          "Cluster 1",
          "Cluster 1",
          "Cluster 1",
          "Cluster 1",
          "Cluster 1",
          "Cluster 1",
          "Cluster 1",
          "Cluster 1",
          "Cluster 1",
          "Cluster 1",
          "Cluster 1",
          "Cluster 1",
          "Cluster 1",
          "Cluster 1",
          "Cluster 1",
          "Cluster 1",
          "Cluster 1",
          "Cluster 1",
          "Cluster 1",
          "Cluster 1",
          "Cluster 1",
          "Cluster 1",
          "Cluster 1",
          "Cluster 1",
          "Cluster 1",
          "Cluster 1",
          "Cluster 1",
          "Cluster 1",
          "Cluster 1",
          "Cluster 1",
          "Cluster 1",
          "Cluster 1",
          "Cluster 1",
          "Cluster 1",
          "Cluster 1",
          "Cluster 1",
          "Cluster 1",
          "Cluster 1",
          "Cluster 1",
          "Cluster 1",
          "Cluster 1",
          "Cluster 1",
          "Cluster 1",
          "Cluster 1",
          "Cluster 1",
          "Cluster 1",
          "Cluster 1",
          "Cluster 1",
          "Cluster 1",
          "Cluster 1",
          "Cluster 1",
          "Cluster 1",
          "Cluster 1",
          "Cluster 1",
          "Cluster 1",
          "Cluster 1",
          "Cluster 1",
          "Cluster 1",
          "Cluster 1",
          "Cluster 1",
          "Cluster 1",
          "Cluster 1",
          "Cluster 1",
          "Cluster 1",
          "Cluster 1",
          "Cluster 1",
          "Cluster 1",
          "Cluster 1",
          "Cluster 1",
          "Cluster 1",
          "Cluster 1",
          "Cluster 1",
          "Cluster 1",
          "Cluster 1",
          "Cluster 1",
          "Cluster 1",
          "Cluster 1",
          "Cluster 1",
          "Cluster 1",
          "Cluster 1",
          "Cluster 1",
          "Cluster 1",
          "Cluster 1",
          "Cluster 1",
          "Cluster 1",
          "Cluster 1",
          "Cluster 1",
          "Cluster 1",
          "Cluster 1",
          "Cluster 1",
          "Cluster 1",
          "Cluster 1",
          "Cluster 1",
          "Cluster 1",
          "Cluster 1",
          "Cluster 1",
          "Cluster 1",
          "Cluster 1",
          "Cluster 1",
          "Cluster 1",
          "Cluster 1",
          "Cluster 1",
          "Cluster 1",
          "Cluster 1",
          "Cluster 1",
          "Cluster 1",
          "Cluster 1",
          "Cluster 1",
          "Cluster 1",
          "Cluster 1",
          "Cluster 1",
          "Cluster 1",
          "Cluster 1",
          "Cluster 1",
          "Cluster 1",
          "Cluster 1",
          "Cluster 1",
          "Cluster 1",
          "Cluster 1",
          "Cluster 1",
          "Cluster 1",
          "Cluster 1",
          "Cluster 1",
          "Cluster 1",
          "Cluster 1",
          "Cluster 1",
          "Cluster 1",
          "Cluster 1",
          "Cluster 1",
          "Cluster 1",
          "Cluster 1",
          "Cluster 1",
          "Cluster 1",
          "Cluster 1",
          "Cluster 1",
          "Cluster 1",
          "Cluster 1",
          "Cluster 1",
          "Cluster 1",
          "Cluster 1",
          "Cluster 1",
          "Cluster 1",
          "Cluster 1",
          "Cluster 1",
          "Cluster 1",
          "Cluster 1",
          "Cluster 1",
          "Cluster 1",
          "Cluster 1",
          "Cluster 1",
          "Cluster 1",
          "Cluster 1",
          "Cluster 1",
          "Cluster 1",
          "Cluster 1",
          "Cluster 1",
          "Cluster 1",
          "Cluster 1",
          "Cluster 1",
          "Cluster 1",
          "Cluster 1",
          "Cluster 1",
          "Cluster 1",
          "Cluster 1",
          "Cluster 1",
          "Cluster 1",
          "Cluster 1",
          "Cluster 1",
          "Cluster 1",
          "Cluster 1",
          "Cluster 1",
          "Cluster 1",
          "Cluster 1",
          "Cluster 1",
          "Cluster 1",
          "Cluster 1",
          "Cluster 1",
          "Cluster 1",
          "Cluster 1",
          "Cluster 1",
          "Cluster 1",
          "Cluster 1",
          "Cluster 1",
          "Cluster 1",
          "Cluster 1",
          "Cluster 1",
          "Cluster 1",
          "Cluster 1",
          "Cluster 1",
          "Cluster 1",
          "Cluster 1",
          "Cluster 1",
          "Cluster 1",
          "Cluster 1",
          "Cluster 1",
          "Cluster 1",
          "Cluster 1",
          "Cluster 1",
          "Cluster 1",
          "Cluster 1",
          "Cluster 1",
          "Cluster 1",
          "Cluster 1",
          "Cluster 1",
          "Cluster 1",
          "Cluster 1",
          "Cluster 1",
          "Cluster 1",
          "Cluster 1",
          "Cluster 1",
          "Cluster 1",
          "Cluster 1",
          "Cluster 1",
          "Cluster 1",
          "Cluster 1",
          "Cluster 1",
          "Cluster 1",
          "Cluster 1",
          "Cluster 1",
          "Cluster 1",
          "Cluster 1",
          "Cluster 1",
          "Cluster 1",
          "Cluster 1",
          "Cluster 1",
          "Cluster 1",
          "Cluster 1",
          "Cluster 1",
          "Cluster 1",
          "Cluster 1",
          "Cluster 1",
          "Cluster 1",
          "Cluster 1",
          "Cluster 1",
          "Cluster 1",
          "Cluster 1",
          "Cluster 1",
          "Cluster 1",
          "Cluster 1",
          "Cluster 1",
          "Cluster 1",
          "Cluster 1",
          "Cluster 1",
          "Cluster 1",
          "Cluster 1",
          "Cluster 1",
          "Cluster 1",
          "Cluster 1",
          "Cluster 1",
          "Cluster 1",
          "Cluster 1",
          "Cluster 1",
          "Cluster 1",
          "Cluster 1",
          "Cluster 1",
          "Cluster 1",
          "Cluster 1",
          "Cluster 1",
          "Cluster 1",
          "Cluster 1",
          "Cluster 1",
          "Cluster 1",
          "Cluster 1",
          "Cluster 1",
          "Cluster 1",
          "Cluster 1",
          "Cluster 1",
          "Cluster 1",
          "Cluster 1",
          "Cluster 1",
          "Cluster 1",
          "Cluster 1",
          "Cluster 1",
          "Cluster 1",
          "Cluster 1",
          "Cluster 1",
          "Cluster 1",
          "Cluster 1",
          "Cluster 1",
          "Cluster 1",
          "Cluster 1",
          "Cluster 1",
          "Cluster 1",
          "Cluster 1",
          "Cluster 1",
          "Cluster 1",
          "Cluster 1",
          "Cluster 1",
          "Cluster 1",
          "Cluster 1",
          "Cluster 1",
          "Cluster 1",
          "Cluster 1",
          "Cluster 1",
          "Cluster 1",
          "Cluster 1",
          "Cluster 1",
          "Cluster 1",
          "Cluster 1",
          "Cluster 1",
          "Cluster 1",
          "Cluster 1",
          "Cluster 1",
          "Cluster 1",
          "Cluster 1",
          "Cluster 1",
          "Cluster 1",
          "Cluster 1",
          "Cluster 1",
          "Cluster 1",
          "Cluster 1",
          "Cluster 1",
          "Cluster 1",
          "Cluster 1",
          "Cluster 1",
          "Cluster 1",
          "Cluster 1",
          "Cluster 1",
          "Cluster 1",
          "Cluster 1",
          "Cluster 1",
          "Cluster 1",
          "Cluster 1",
          "Cluster 1",
          "Cluster 1",
          "Cluster 1",
          "Cluster 1",
          "Cluster 1",
          "Cluster 1",
          "Cluster 1",
          "Cluster 1",
          "Cluster 1",
          "Cluster 1",
          "Cluster 1",
          "Cluster 1",
          "Cluster 1",
          "Cluster 1",
          "Cluster 1",
          "Cluster 1",
          "Cluster 1",
          "Cluster 1",
          "Cluster 1",
          "Cluster 1",
          "Cluster 1",
          "Cluster 1",
          "Cluster 1",
          "Cluster 1",
          "Cluster 1",
          "Cluster 1",
          "Cluster 1",
          "Cluster 1",
          "Cluster 1",
          "Cluster 1",
          "Cluster 1",
          "Cluster 1",
          "Cluster 1",
          "Cluster 1",
          "Cluster 1",
          "Cluster 1",
          "Cluster 1",
          "Cluster 1",
          "Cluster 1",
          "Cluster 1",
          "Cluster 1",
          "Cluster 1",
          "Cluster 1",
          "Cluster 1",
          "Cluster 1",
          "Cluster 1",
          "Cluster 1",
          "Cluster 1",
          "Cluster 1",
          "Cluster 1",
          "Cluster 1",
          "Cluster 1",
          "Cluster 1",
          "Cluster 1",
          "Cluster 1",
          "Cluster 1",
          "Cluster 1",
          "Cluster 1",
          "Cluster 1",
          "Cluster 1",
          "Cluster 1",
          "Cluster 1",
          "Cluster 1",
          "Cluster 1",
          "Cluster 1",
          "Cluster 1",
          "Cluster 1",
          "Cluster 1",
          "Cluster 1",
          "Cluster 1",
          "Cluster 1",
          "Cluster 1",
          "Cluster 1",
          "Cluster 1",
          "Cluster 1",
          "Cluster 1",
          "Cluster 1",
          "Cluster 1",
          "Cluster 1",
          "Cluster 1",
          "Cluster 1",
          "Cluster 1",
          "Cluster 1",
          "Cluster 1",
          "Cluster 1",
          "Cluster 1",
          "Cluster 1",
          "Cluster 1",
          "Cluster 1",
          "Cluster 1",
          "Cluster 1",
          "Cluster 1",
          "Cluster 1",
          "Cluster 1",
          "Cluster 1",
          "Cluster 1",
          "Cluster 1",
          "Cluster 1",
          "Cluster 1",
          "Cluster 1",
          "Cluster 1",
          "Cluster 1",
          "Cluster 1",
          "Cluster 1",
          "Cluster 1",
          "Cluster 1",
          "Cluster 1",
          "Cluster 1",
          "Cluster 1",
          "Cluster 1",
          "Cluster 1",
          "Cluster 1",
          "Cluster 1",
          "Cluster 1",
          "Cluster 1",
          "Cluster 1",
          "Cluster 1",
          "Cluster 1",
          "Cluster 1",
          "Cluster 1",
          "Cluster 1",
          "Cluster 1",
          "Cluster 1",
          "Cluster 1",
          "Cluster 1",
          "Cluster 1",
          "Cluster 1",
          "Cluster 1",
          "Cluster 1",
          "Cluster 1",
          "Cluster 1",
          "Cluster 1",
          "Cluster 1",
          "Cluster 1",
          "Cluster 1",
          "Cluster 1",
          "Cluster 1",
          "Cluster 1",
          "Cluster 1",
          "Cluster 1",
          "Cluster 1",
          "Cluster 1",
          "Cluster 1",
          "Cluster 1",
          "Cluster 1",
          "Cluster 1",
          "Cluster 1",
          "Cluster 1",
          "Cluster 1",
          "Cluster 1",
          "Cluster 1",
          "Cluster 1",
          "Cluster 1",
          "Cluster 1",
          "Cluster 1",
          "Cluster 1",
          "Cluster 1",
          "Cluster 1",
          "Cluster 1",
          "Cluster 1",
          "Cluster 1",
          "Cluster 1",
          "Cluster 1",
          "Cluster 1",
          "Cluster 1",
          "Cluster 1",
          "Cluster 1",
          "Cluster 1",
          "Cluster 1",
          "Cluster 1",
          "Cluster 1",
          "Cluster 1",
          "Cluster 1",
          "Cluster 1",
          "Cluster 1",
          "Cluster 1",
          "Cluster 1",
          "Cluster 1",
          "Cluster 1",
          "Cluster 1",
          "Cluster 1",
          "Cluster 1",
          "Cluster 1",
          "Cluster 1",
          "Cluster 1",
          "Cluster 1",
          "Cluster 1",
          "Cluster 1",
          "Cluster 1",
          "Cluster 1",
          "Cluster 1",
          "Cluster 1",
          "Cluster 1",
          "Cluster 1",
          "Cluster 1",
          "Cluster 1",
          "Cluster 1",
          "Cluster 1",
          "Cluster 1",
          "Cluster 1",
          "Cluster 1",
          "Cluster 1",
          "Cluster 1",
          "Cluster 1",
          "Cluster 1",
          "Cluster 1",
          "Cluster 1",
          "Cluster 1",
          "Cluster 1",
          "Cluster 1",
          "Cluster 1",
          "Cluster 1",
          "Cluster 1",
          "Cluster 1",
          "Cluster 1",
          "Cluster 1",
          "Cluster 1",
          "Cluster 1",
          "Cluster 1",
          "Cluster 1",
          "Cluster 1",
          "Cluster 1",
          "Cluster 1",
          "Cluster 1",
          "Cluster 1",
          "Cluster 1",
          "Cluster 1",
          "Cluster 1",
          "Cluster 1",
          "Cluster 1",
          "Cluster 1",
          "Cluster 1",
          "Cluster 1",
          "Cluster 1",
          "Cluster 1",
          "Cluster 1",
          "Cluster 1",
          "Cluster 1",
          "Cluster 1",
          "Cluster 1",
          "Cluster 1",
          "Cluster 1",
          "Cluster 1",
          "Cluster 1",
          "Cluster 1",
          "Cluster 1",
          "Cluster 1",
          "Cluster 1",
          "Cluster 1",
          "Cluster 1",
          "Cluster 1",
          "Cluster 1",
          "Cluster 1",
          "Cluster 1",
          "Cluster 1",
          "Cluster 1",
          "Cluster 1",
          "Cluster 1",
          "Cluster 1",
          "Cluster 1",
          "Cluster 1",
          "Cluster 1",
          "Cluster 1",
          "Cluster 1",
          "Cluster 1",
          "Cluster 1",
          "Cluster 1",
          "Cluster 1",
          "Cluster 1",
          "Cluster 1",
          "Cluster 1",
          "Cluster 1",
          "Cluster 1",
          "Cluster 1",
          "Cluster 1",
          "Cluster 1",
          "Cluster 1",
          "Cluster 1",
          "Cluster 1",
          "Cluster 1",
          "Cluster 1",
          "Cluster 1",
          "Cluster 1",
          "Cluster 1",
          "Cluster 1",
          "Cluster 1",
          "Cluster 1",
          "Cluster 1",
          "Cluster 1",
          "Cluster 1",
          "Cluster 1",
          "Cluster 1",
          "Cluster 1",
          "Cluster 1",
          "Cluster 1",
          "Cluster 1",
          "Cluster 1",
          "Cluster 1",
          "Cluster 1",
          "Cluster 1",
          "Cluster 1",
          "Cluster 1",
          "Cluster 1",
          "Cluster 1",
          "Cluster 1",
          "Cluster 1",
          "Cluster 1",
          "Cluster 1",
          "Cluster 1",
          "Cluster 1",
          "Cluster 1",
          "Cluster 1",
          "Cluster 1",
          "Cluster 1",
          "Cluster 1",
          "Cluster 1",
          "Cluster 1",
          "Cluster 1",
          "Cluster 1",
          "Cluster 1",
          "Cluster 1",
          "Cluster 1",
          "Cluster 1",
          "Cluster 1",
          "Cluster 1",
          "Cluster 1",
          "Cluster 1",
          "Cluster 1",
          "Cluster 1",
          "Cluster 1",
          "Cluster 1",
          "Cluster 1",
          "Cluster 1",
          "Cluster 1",
          "Cluster 1",
          "Cluster 1",
          "Cluster 1",
          "Cluster 1",
          "Cluster 1",
          "Cluster 1",
          "Cluster 1",
          "Cluster 1",
          "Cluster 1",
          "Cluster 1",
          "Cluster 1",
          "Cluster 1",
          "Cluster 1",
          "Cluster 1",
          "Cluster 1",
          "Cluster 1",
          "Cluster 1",
          "Cluster 1",
          "Cluster 1",
          "Cluster 1",
          "Cluster 1",
          "Cluster 1",
          "Cluster 1",
          "Cluster 1",
          "Cluster 1",
          "Cluster 1",
          "Cluster 1",
          "Cluster 1",
          "Cluster 1",
          "Cluster 1",
          "Cluster 1",
          "Cluster 1",
          "Cluster 1",
          "Cluster 1",
          "Cluster 1",
          "Cluster 1",
          "Cluster 1",
          "Cluster 1",
          "Cluster 1",
          "Cluster 1",
          "Cluster 1",
          "Cluster 1",
          "Cluster 1",
          "Cluster 1",
          "Cluster 1",
          "Cluster 1",
          "Cluster 1",
          "Cluster 1",
          "Cluster 1",
          "Cluster 1",
          "Cluster 1",
          "Cluster 1",
          "Cluster 1",
          "Cluster 1",
          "Cluster 1",
          "Cluster 1",
          "Cluster 1",
          "Cluster 1",
          "Cluster 1",
          "Cluster 1",
          "Cluster 1",
          "Cluster 1",
          "Cluster 1",
          "Cluster 1",
          "Cluster 1",
          "Cluster 1",
          "Cluster 1",
          "Cluster 1",
          "Cluster 1",
          "Cluster 1",
          "Cluster 1",
          "Cluster 1",
          "Cluster 1",
          "Cluster 1",
          "Cluster 1",
          "Cluster 1",
          "Cluster 1",
          "Cluster 1",
          "Cluster 1",
          "Cluster 1",
          "Cluster 1",
          "Cluster 1",
          "Cluster 1",
          "Cluster 1",
          "Cluster 1",
          "Cluster 1",
          "Cluster 1",
          "Cluster 1",
          "Cluster 1",
          "Cluster 1",
          "Cluster 1",
          "Cluster 1",
          "Cluster 1",
          "Cluster 1",
          "Cluster 1",
          "Cluster 1",
          "Cluster 1",
          "Cluster 1",
          "Cluster 1",
          "Cluster 1",
          "Cluster 1",
          "Cluster 1",
          "Cluster 1",
          "Cluster 1",
          "Cluster 1",
          "Cluster 1",
          "Cluster 1",
          "Cluster 1",
          "Cluster 1",
          "Cluster 1",
          "Cluster 1",
          "Cluster 1",
          "Cluster 1",
          "Cluster 1",
          "Cluster 1",
          "Cluster 1",
          "Cluster 1",
          "Cluster 1",
          "Cluster 1",
          "Cluster 1",
          "Cluster 1",
          "Cluster 1",
          "Cluster 1",
          "Cluster 1",
          "Cluster 1",
          "Cluster 1",
          "Cluster 1",
          "Cluster 1",
          "Cluster 1",
          "Cluster 1",
          "Cluster 1",
          "Cluster 1",
          "Cluster 1",
          "Cluster 1",
          "Cluster 1",
          "Cluster 1",
          "Cluster 1",
          "Cluster 1",
          "Cluster 1",
          "Cluster 1",
          "Cluster 1",
          "Cluster 1",
          "Cluster 1",
          "Cluster 1",
          "Cluster 1",
          "Cluster 1",
          "Cluster 1",
          "Cluster 1",
          "Cluster 1",
          "Cluster 1",
          "Cluster 1",
          "Cluster 1",
          "Cluster 1",
          "Cluster 1",
          "Cluster 1",
          "Cluster 1",
          "Cluster 1",
          "Cluster 1",
          "Cluster 1",
          "Cluster 1",
          "Cluster 1",
          "Cluster 1",
          "Cluster 1",
          "Cluster 1",
          "Cluster 1",
          "Cluster 1",
          "Cluster 1",
          "Cluster 1",
          "Cluster 1",
          "Cluster 1",
          "Cluster 1",
          "Cluster 1",
          "Cluster 1",
          "Cluster 1",
          "Cluster 1",
          "Cluster 1",
          "Cluster 1",
          "Cluster 1",
          "Cluster 1",
          "Cluster 1",
          "Cluster 1",
          "Cluster 1",
          "Cluster 1",
          "Cluster 1",
          "Cluster 1",
          "Cluster 1",
          "Cluster 1",
          "Cluster 1",
          "Cluster 1",
          "Cluster 1",
          "Cluster 1",
          "Cluster 1",
          "Cluster 1",
          "Cluster 1",
          "Cluster 1",
          "Cluster 1",
          "Cluster 1",
          "Cluster 1",
          "Cluster 1",
          "Cluster 1",
          "Cluster 1",
          "Cluster 1",
          "Cluster 1",
          "Cluster 1",
          "Cluster 1",
          "Cluster 1",
          "Cluster 1",
          "Cluster 1",
          "Cluster 1",
          "Cluster 1",
          "Cluster 1",
          "Cluster 1",
          "Cluster 1",
          "Cluster 1",
          "Cluster 1",
          "Cluster 1",
          "Cluster 1",
          "Cluster 1",
          "Cluster 1",
          "Cluster 1",
          "Cluster 1",
          "Cluster 1",
          "Cluster 1",
          "Cluster 1",
          "Cluster 1",
          "Cluster 1",
          "Cluster 1",
          "Cluster 1",
          "Cluster 1",
          "Cluster 1",
          "Cluster 1",
          "Cluster 1",
          "Cluster 1",
          "Cluster 1",
          "Cluster 1",
          "Cluster 1",
          "Cluster 1",
          "Cluster 1",
          "Cluster 1",
          "Cluster 1",
          "Cluster 1",
          "Cluster 1",
          "Cluster 1",
          "Cluster 1",
          "Cluster 1",
          "Cluster 1",
          "Cluster 1",
          "Cluster 1",
          "Cluster 1",
          "Cluster 1",
          "Cluster 1",
          "Cluster 1",
          "Cluster 1",
          "Cluster 1",
          "Cluster 1",
          "Cluster 1",
          "Cluster 1",
          "Cluster 1",
          "Cluster 1",
          "Cluster 1",
          "Cluster 1",
          "Cluster 1",
          "Cluster 1",
          "Cluster 1",
          "Cluster 1",
          "Cluster 1",
          "Cluster 1",
          "Cluster 1",
          "Cluster 1",
          "Cluster 1",
          "Cluster 1",
          "Cluster 1",
          "Cluster 1",
          "Cluster 1",
          "Cluster 1",
          "Cluster 1",
          "Cluster 1",
          "Cluster 1",
          "Cluster 1",
          "Cluster 1",
          "Cluster 1",
          "Cluster 1",
          "Cluster 1",
          "Cluster 1",
          "Cluster 1",
          "Cluster 1",
          "Cluster 1",
          "Cluster 1",
          "Cluster 1",
          "Cluster 1",
          "Cluster 1",
          "Cluster 1",
          "Cluster 1",
          "Cluster 1",
          "Cluster 1",
          "Cluster 1",
          "Cluster 1",
          "Cluster 1",
          "Cluster 1",
          "Cluster 1",
          "Cluster 1",
          "Cluster 1",
          "Cluster 1",
          "Cluster 1",
          "Cluster 1",
          "Cluster 1",
          "Cluster 1",
          "Cluster 1",
          "Cluster 1",
          "Cluster 1",
          "Cluster 1",
          "Cluster 1",
          "Cluster 1",
          "Cluster 1",
          "Cluster 1",
          "Cluster 1",
          "Cluster 1",
          "Cluster 1",
          "Cluster 1",
          "Cluster 1",
          "Cluster 1",
          "Cluster 1",
          "Cluster 1",
          "Cluster 1",
          "Cluster 1",
          "Cluster 1",
          "Cluster 1",
          "Cluster 1",
          "Cluster 1",
          "Cluster 1",
          "Cluster 1",
          "Cluster 1",
          "Cluster 1",
          "Cluster 1",
          "Cluster 1",
          "Cluster 1",
          "Cluster 1",
          "Cluster 1",
          "Cluster 1",
          "Cluster 1",
          "Cluster 1",
          "Cluster 1",
          "Cluster 1",
          "Cluster 1",
          "Cluster 1",
          "Cluster 1",
          "Cluster 1",
          "Cluster 1",
          "Cluster 1",
          "Cluster 1",
          "Cluster 1",
          "Cluster 1",
          "Cluster 1",
          "Cluster 1",
          "Cluster 1",
          "Cluster 1",
          "Cluster 1",
          "Cluster 1",
          "Cluster 1",
          "Cluster 1",
          "Cluster 1",
          "Cluster 1",
          "Cluster 1",
          "Cluster 1",
          "Cluster 1",
          "Cluster 1",
          "Cluster 1",
          "Cluster 1",
          "Cluster 1",
          "Cluster 1",
          "Cluster 1",
          "Cluster 1",
          "Cluster 1",
          "Cluster 1",
          "Cluster 1",
          "Cluster 1",
          "Cluster 1",
          "Cluster 1",
          "Cluster 1",
          "Cluster 1",
          "Cluster 1",
          "Cluster 1",
          "Cluster 1",
          "Cluster 1",
          "Cluster 1",
          "Cluster 1",
          "Cluster 1",
          "Cluster 1",
          "Cluster 1",
          "Cluster 1",
          "Cluster 1",
          "Cluster 1",
          "Cluster 1",
          "Cluster 1",
          "Cluster 1",
          "Cluster 1",
          "Cluster 1",
          "Cluster 1",
          "Cluster 1",
          "Cluster 1",
          "Cluster 1",
          "Cluster 1",
          "Cluster 1",
          "Cluster 1",
          "Cluster 1",
          "Cluster 1",
          "Cluster 1",
          "Cluster 1",
          "Cluster 1",
          "Cluster 1",
          "Cluster 1",
          "Cluster 1",
          "Cluster 1",
          "Cluster 1",
          "Cluster 1",
          "Cluster 1",
          "Cluster 1",
          "Cluster 1",
          "Cluster 1",
          "Cluster 1",
          "Cluster 1",
          "Cluster 1",
          "Cluster 1",
          "Cluster 1",
          "Cluster 1",
          "Cluster 1",
          "Cluster 1",
          "Cluster 1",
          "Cluster 1",
          "Cluster 1",
          "Cluster 1",
          "Cluster 1",
          "Cluster 1",
          "Cluster 1",
          "Cluster 1",
          "Cluster 1",
          "Cluster 1",
          "Cluster 1",
          "Cluster 1",
          "Cluster 1",
          "Cluster 1",
          "Cluster 1",
          "Cluster 1",
          "Cluster 1",
          "Cluster 1",
          "Cluster 1",
          "Cluster 1",
          "Cluster 1",
          "Cluster 1",
          "Cluster 1",
          "Cluster 1",
          "Cluster 1",
          "Cluster 1",
          "Cluster 1",
          "Cluster 1",
          "Cluster 1",
          "Cluster 1",
          "Cluster 1",
          "Cluster 1",
          "Cluster 1",
          "Cluster 1",
          "Cluster 1",
          "Cluster 1",
          "Cluster 1",
          "Cluster 1",
          "Cluster 1",
          "Cluster 1",
          "Cluster 1",
          "Cluster 1",
          "Cluster 1",
          "Cluster 1",
          "Cluster 1",
          "Cluster 1",
          "Cluster 1",
          "Cluster 1",
          "Cluster 1",
          "Cluster 1",
          "Cluster 1",
          "Cluster 1",
          "Cluster 1",
          "Cluster 1",
          "Cluster 1",
          "Cluster 1",
          "Cluster 1",
          "Cluster 1",
          "Cluster 1",
          "Cluster 1",
          "Cluster 1",
          "Cluster 1",
          "Cluster 1",
          "Cluster 1",
          "Cluster 1",
          "Cluster 1",
          "Cluster 1",
          "Cluster 1",
          "Cluster 1",
          "Cluster 1",
          "Cluster 1",
          "Cluster 1",
          "Cluster 1",
          "Cluster 1",
          "Cluster 1",
          "Cluster 1",
          "Cluster 1",
          "Cluster 1",
          "Cluster 1",
          "Cluster 1",
          "Cluster 1",
          "Cluster 1",
          "Cluster 1",
          "Cluster 1",
          "Cluster 1",
          "Cluster 1",
          "Cluster 1",
          "Cluster 1",
          "Cluster 1",
          "Cluster 1",
          "Cluster 1",
          "Cluster 1",
          "Cluster 1",
          "Cluster 1",
          "Cluster 1",
          "Cluster 1",
          "Cluster 1",
          "Cluster 1"
         ]
        },
        {
         "marker": {
          "size": 10
         },
         "mode": "markers",
         "name": "USD Clusters",
         "type": "scatter",
         "x": {
          "bdata": "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",
          "dtype": "f8"
         },
         "y": [
          "Cluster 5",
          "Cluster 4",
          "Cluster 4",
          "Cluster 4",
          "Cluster 4",
          "Cluster 3",
          "Cluster 3",
          "Cluster 3",
          "Cluster 3",
          "Cluster 3",
          "Cluster 3",
          "Cluster 3",
          "Cluster 3",
          "Cluster 3",
          "Cluster 3",
          "Cluster 3",
          "Cluster 3",
          "Cluster 3",
          "Cluster 3",
          "Cluster 3",
          "Cluster 2",
          "Cluster 2",
          "Cluster 2",
          "Cluster 2",
          "Cluster 2",
          "Cluster 2",
          "Cluster 2",
          "Cluster 2",
          "Cluster 2",
          "Cluster 2",
          "Cluster 2",
          "Cluster 2",
          "Cluster 2",
          "Cluster 2",
          "Cluster 2",
          "Cluster 2",
          "Cluster 1",
          "Cluster 2",
          "Cluster 2",
          "Cluster 2",
          "Cluster 2",
          "Cluster 2",
          "Cluster 2",
          "Cluster 2",
          "Cluster 2",
          "Cluster 2",
          "Cluster 2",
          "Cluster 2",
          "Cluster 2",
          "Cluster 2",
          "Cluster 2",
          "Cluster 2",
          "Cluster 2",
          "Cluster 2",
          "Cluster 2",
          "Cluster 2",
          "Cluster 2",
          "Cluster 2",
          "Cluster 2",
          "Cluster 2",
          "Cluster 2",
          "Cluster 2",
          "Cluster 2",
          "Cluster 2",
          "Cluster 2",
          "Cluster 2",
          "Cluster 2",
          "Cluster 2",
          "Cluster 2",
          "Cluster 2",
          "Cluster 2",
          "Cluster 2",
          "Cluster 2",
          "Cluster 2",
          "Cluster 2",
          "Cluster 2",
          "Cluster 2",
          "Cluster 2",
          "Cluster 2",
          "Cluster 2",
          "Cluster 2",
          "Cluster 2",
          "Cluster 2",
          "Cluster 2",
          "Cluster 2",
          "Cluster 2",
          "Cluster 2",
          "Cluster 2",
          "Cluster 2",
          "Cluster 2",
          "Cluster 2",
          "Cluster 2",
          "Cluster 2",
          "Cluster 2",
          "Cluster 2",
          "Cluster 2",
          "Cluster 2",
          "Cluster 2",
          "Cluster 2",
          "Cluster 2",
          "Cluster 2",
          "Cluster 2",
          "Cluster 2",
          "Cluster 2",
          "Cluster 2",
          "Cluster 2",
          "Cluster 2",
          "Cluster 2",
          "Cluster 2",
          "Cluster 2",
          "Cluster 2",
          "Cluster 2",
          "Cluster 2",
          "Cluster 2",
          "Cluster 2",
          "Cluster 2",
          "Cluster 2",
          "Cluster 1",
          "Cluster 1",
          "Cluster 1",
          "Cluster 1",
          "Cluster 1",
          "Cluster 1",
          "Cluster 1",
          "Cluster 1",
          "Cluster 1",
          "Cluster 1",
          "Cluster 1",
          "Cluster 1",
          "Cluster 1",
          "Cluster 1",
          "Cluster 1",
          "Cluster 1",
          "Cluster 1",
          "Cluster 1",
          "Cluster 1",
          "Cluster 1",
          "Cluster 1",
          "Cluster 1",
          "Cluster 1",
          "Cluster 1",
          "Cluster 1",
          "Cluster 1",
          "Cluster 1",
          "Cluster 1",
          "Cluster 1",
          "Cluster 1",
          "Cluster 1",
          "Cluster 1",
          "Cluster 1",
          "Cluster 1",
          "Cluster 1",
          "Cluster 1",
          "Cluster 1",
          "Cluster 1",
          "Cluster 1",
          "Cluster 1",
          "Cluster 1",
          "Cluster 1",
          "Cluster 1",
          "Cluster 1",
          "Cluster 1",
          "Cluster 1",
          "Cluster 1",
          "Cluster 1",
          "Cluster 1",
          "Cluster 1",
          "Cluster 1",
          "Cluster 1",
          "Cluster 1",
          "Cluster 1",
          "Cluster 1",
          "Cluster 1",
          "Cluster 1",
          "Cluster 1",
          "Cluster 1",
          "Cluster 1",
          "Cluster 1",
          "Cluster 1",
          "Cluster 1",
          "Cluster 1",
          "Cluster 1",
          "Cluster 1",
          "Cluster 1",
          "Cluster 1",
          "Cluster 1",
          "Cluster 1",
          "Cluster 1",
          "Cluster 1",
          "Cluster 1",
          "Cluster 1",
          "Cluster 1",
          "Cluster 1",
          "Cluster 1",
          "Cluster 1",
          "Cluster 1",
          "Cluster 1",
          "Cluster 1",
          "Cluster 1",
          "Cluster 1",
          "Cluster 1",
          "Cluster 1",
          "Cluster 1",
          "Cluster 1",
          "Cluster 1",
          "Cluster 1",
          "Cluster 1",
          "Cluster 1",
          "Cluster 1",
          "Cluster 1",
          "Cluster 1",
          "Cluster 1",
          "Cluster 1",
          "Cluster 1",
          "Cluster 1",
          "Cluster 1",
          "Cluster 1",
          "Cluster 1",
          "Cluster 1",
          "Cluster 1",
          "Cluster 1",
          "Cluster 1",
          "Cluster 1",
          "Cluster 1",
          "Cluster 1",
          "Cluster 1",
          "Cluster 1",
          "Cluster 1",
          "Cluster 1",
          "Cluster 1",
          "Cluster 1",
          "Cluster 1",
          "Cluster 1",
          "Cluster 1",
          "Cluster 1",
          "Cluster 1",
          "Cluster 1",
          "Cluster 1",
          "Cluster 1",
          "Cluster 1",
          "Cluster 1",
          "Cluster 1",
          "Cluster 1",
          "Cluster 1",
          "Cluster 1",
          "Cluster 1",
          "Cluster 1",
          "Cluster 1",
          "Cluster 1",
          "Cluster 1",
          "Cluster 1",
          "Cluster 1",
          "Cluster 1",
          "Cluster 1",
          "Cluster 1",
          "Cluster 1",
          "Cluster 1",
          "Cluster 1",
          "Cluster 1",
          "Cluster 1",
          "Cluster 1",
          "Cluster 1",
          "Cluster 1",
          "Cluster 1",
          "Cluster 1",
          "Cluster 1",
          "Cluster 1",
          "Cluster 1",
          "Cluster 1",
          "Cluster 1",
          "Cluster 1",
          "Cluster 1",
          "Cluster 1",
          "Cluster 1",
          "Cluster 1",
          "Cluster 1",
          "Cluster 1",
          "Cluster 1",
          "Cluster 1",
          "Cluster 1",
          "Cluster 1",
          "Cluster 1",
          "Cluster 1",
          "Cluster 1",
          "Cluster 1",
          "Cluster 1",
          "Cluster 1",
          "Cluster 1",
          "Cluster 1",
          "Cluster 1",
          "Cluster 1",
          "Cluster 1",
          "Cluster 1",
          "Cluster 1",
          "Cluster 1",
          "Cluster 1",
          "Cluster 1",
          "Cluster 1",
          "Cluster 1",
          "Cluster 1",
          "Cluster 1",
          "Cluster 1",
          "Cluster 1",
          "Cluster 1",
          "Cluster 1",
          "Cluster 1",
          "Cluster 1",
          "Cluster 1",
          "Cluster 1",
          "Cluster 1",
          "Cluster 1",
          "Cluster 1",
          "Cluster 1",
          "Cluster 1",
          "Cluster 1",
          "Cluster 1",
          "Cluster 1",
          "Cluster 1",
          "Cluster 1",
          "Cluster 1",
          "Cluster 1",
          "Cluster 1",
          "Cluster 1",
          "Cluster 1",
          "Cluster 1",
          "Cluster 1",
          "Cluster 1",
          "Cluster 1",
          "Cluster 1",
          "Cluster 1",
          "Cluster 1",
          "Cluster 1",
          "Cluster 1",
          "Cluster 1",
          "Cluster 1",
          "Cluster 1",
          "Cluster 1",
          "Cluster 1",
          "Cluster 1",
          "Cluster 1",
          "Cluster 1",
          "Cluster 1",
          "Cluster 1",
          "Cluster 1",
          "Cluster 1",
          "Cluster 1",
          "Cluster 1",
          "Cluster 1",
          "Cluster 1",
          "Cluster 1",
          "Cluster 1",
          "Cluster 1",
          "Cluster 1",
          "Cluster 1",
          "Cluster 1",
          "Cluster 1",
          "Cluster 1",
          "Cluster 1",
          "Cluster 1",
          "Cluster 1",
          "Cluster 1",
          "Cluster 1",
          "Cluster 1",
          "Cluster 1",
          "Cluster 1",
          "Cluster 1",
          "Cluster 1",
          "Cluster 1",
          "Cluster 1",
          "Cluster 1",
          "Cluster 1",
          "Cluster 1",
          "Cluster 1",
          "Cluster 1",
          "Cluster 1",
          "Cluster 1",
          "Cluster 1",
          "Cluster 1",
          "Cluster 1",
          "Cluster 1",
          "Cluster 1",
          "Cluster 1",
          "Cluster 1",
          "Cluster 1",
          "Cluster 1",
          "Cluster 1",
          "Cluster 1",
          "Cluster 1",
          "Cluster 1",
          "Cluster 1",
          "Cluster 1",
          "Cluster 1",
          "Cluster 1",
          "Cluster 1",
          "Cluster 1",
          "Cluster 1",
          "Cluster 1",
          "Cluster 1",
          "Cluster 1",
          "Cluster 1",
          "Cluster 1",
          "Cluster 1",
          "Cluster 1",
          "Cluster 1",
          "Cluster 1",
          "Cluster 1",
          "Cluster 1",
          "Cluster 1",
          "Cluster 1",
          "Cluster 1",
          "Cluster 1",
          "Cluster 1",
          "Cluster 1",
          "Cluster 1",
          "Cluster 1",
          "Cluster 1",
          "Cluster 1",
          "Cluster 1",
          "Cluster 1",
          "Cluster 1",
          "Cluster 1",
          "Cluster 1",
          "Cluster 1",
          "Cluster 1",
          "Cluster 1",
          "Cluster 1",
          "Cluster 1",
          "Cluster 1",
          "Cluster 1",
          "Cluster 1",
          "Cluster 1",
          "Cluster 1",
          "Cluster 1",
          "Cluster 1",
          "Cluster 1",
          "Cluster 1",
          "Cluster 1",
          "Cluster 1",
          "Cluster 1",
          "Cluster 1",
          "Cluster 1",
          "Cluster 1",
          "Cluster 1",
          "Cluster 1",
          "Cluster 1",
          "Cluster 1",
          "Cluster 1",
          "Cluster 1",
          "Cluster 1",
          "Cluster 1",
          "Cluster 1",
          "Cluster 1",
          "Cluster 1",
          "Cluster 1",
          "Cluster 1",
          "Cluster 1",
          "Cluster 1",
          "Cluster 1",
          "Cluster 1",
          "Cluster 1",
          "Cluster 1",
          "Cluster 1",
          "Cluster 1",
          "Cluster 1",
          "Cluster 1",
          "Cluster 1",
          "Cluster 1",
          "Cluster 1",
          "Cluster 1",
          "Cluster 1",
          "Cluster 1",
          "Cluster 1",
          "Cluster 1",
          "Cluster 1",
          "Cluster 1",
          "Cluster 1",
          "Cluster 1",
          "Cluster 1",
          "Cluster 1",
          "Cluster 1",
          "Cluster 1",
          "Cluster 1",
          "Cluster 1",
          "Cluster 1",
          "Cluster 1",
          "Cluster 1",
          "Cluster 1",
          "Cluster 1",
          "Cluster 1",
          "Cluster 1",
          "Cluster 1",
          "Cluster 1",
          "Cluster 1",
          "Cluster 1",
          "Cluster 1",
          "Cluster 1",
          "Cluster 1",
          "Cluster 1",
          "Cluster 1",
          "Cluster 1",
          "Cluster 1",
          "Cluster 1",
          "Cluster 1",
          "Cluster 1",
          "Cluster 1",
          "Cluster 1",
          "Cluster 1",
          "Cluster 1",
          "Cluster 1",
          "Cluster 1",
          "Cluster 1",
          "Cluster 1",
          "Cluster 1",
          "Cluster 1",
          "Cluster 1",
          "Cluster 1",
          "Cluster 1",
          "Cluster 1",
          "Cluster 1",
          "Cluster 1",
          "Cluster 1",
          "Cluster 1",
          "Cluster 1",
          "Cluster 1",
          "Cluster 1",
          "Cluster 1",
          "Cluster 1",
          "Cluster 1",
          "Cluster 1",
          "Cluster 1",
          "Cluster 1",
          "Cluster 1",
          "Cluster 1",
          "Cluster 1",
          "Cluster 1",
          "Cluster 1",
          "Cluster 1",
          "Cluster 1",
          "Cluster 1",
          "Cluster 1",
          "Cluster 1",
          "Cluster 1",
          "Cluster 1",
          "Cluster 1",
          "Cluster 1",
          "Cluster 1",
          "Cluster 1",
          "Cluster 1",
          "Cluster 1",
          "Cluster 1",
          "Cluster 1",
          "Cluster 1",
          "Cluster 1",
          "Cluster 1",
          "Cluster 1",
          "Cluster 1",
          "Cluster 1",
          "Cluster 1",
          "Cluster 1",
          "Cluster 1",
          "Cluster 1",
          "Cluster 1",
          "Cluster 1",
          "Cluster 1",
          "Cluster 1",
          "Cluster 1",
          "Cluster 1",
          "Cluster 1",
          "Cluster 1",
          "Cluster 1",
          "Cluster 1",
          "Cluster 1",
          "Cluster 1",
          "Cluster 1",
          "Cluster 1",
          "Cluster 1",
          "Cluster 1",
          "Cluster 1",
          "Cluster 1",
          "Cluster 1",
          "Cluster 1",
          "Cluster 1",
          "Cluster 1",
          "Cluster 1",
          "Cluster 1",
          "Cluster 1",
          "Cluster 1",
          "Cluster 1",
          "Cluster 1",
          "Cluster 1",
          "Cluster 1",
          "Cluster 1",
          "Cluster 1",
          "Cluster 1",
          "Cluster 1",
          "Cluster 1",
          "Cluster 1",
          "Cluster 1",
          "Cluster 1",
          "Cluster 1",
          "Cluster 1",
          "Cluster 1",
          "Cluster 1",
          "Cluster 1",
          "Cluster 1",
          "Cluster 1",
          "Cluster 1",
          "Cluster 1",
          "Cluster 1",
          "Cluster 1",
          "Cluster 1",
          "Cluster 1",
          "Cluster 1",
          "Cluster 1",
          "Cluster 1",
          "Cluster 1",
          "Cluster 1",
          "Cluster 1",
          "Cluster 1",
          "Cluster 1",
          "Cluster 1",
          "Cluster 1",
          "Cluster 1",
          "Cluster 1",
          "Cluster 1",
          "Cluster 1",
          "Cluster 1",
          "Cluster 1",
          "Cluster 1",
          "Cluster 1",
          "Cluster 1",
          "Cluster 1",
          "Cluster 1",
          "Cluster 1",
          "Cluster 1",
          "Cluster 1",
          "Cluster 1",
          "Cluster 1",
          "Cluster 1",
          "Cluster 1",
          "Cluster 1",
          "Cluster 1",
          "Cluster 1",
          "Cluster 1",
          "Cluster 1",
          "Cluster 1",
          "Cluster 1",
          "Cluster 1",
          "Cluster 1",
          "Cluster 1",
          "Cluster 1",
          "Cluster 1",
          "Cluster 1",
          "Cluster 1",
          "Cluster 1",
          "Cluster 1",
          "Cluster 1",
          "Cluster 1",
          "Cluster 1",
          "Cluster 1",
          "Cluster 1",
          "Cluster 1",
          "Cluster 1",
          "Cluster 1",
          "Cluster 1",
          "Cluster 1",
          "Cluster 1",
          "Cluster 1",
          "Cluster 1",
          "Cluster 1",
          "Cluster 1",
          "Cluster 1",
          "Cluster 1",
          "Cluster 1",
          "Cluster 1",
          "Cluster 1",
          "Cluster 1",
          "Cluster 1",
          "Cluster 1",
          "Cluster 1",
          "Cluster 1",
          "Cluster 1",
          "Cluster 1",
          "Cluster 1",
          "Cluster 1",
          "Cluster 1",
          "Cluster 1",
          "Cluster 1",
          "Cluster 1",
          "Cluster 1",
          "Cluster 1",
          "Cluster 1",
          "Cluster 1",
          "Cluster 1",
          "Cluster 1",
          "Cluster 1",
          "Cluster 1",
          "Cluster 1",
          "Cluster 1",
          "Cluster 1",
          "Cluster 1",
          "Cluster 1",
          "Cluster 1",
          "Cluster 1",
          "Cluster 1",
          "Cluster 1",
          "Cluster 1",
          "Cluster 1",
          "Cluster 1",
          "Cluster 1",
          "Cluster 1",
          "Cluster 1",
          "Cluster 1",
          "Cluster 1",
          "Cluster 1",
          "Cluster 1",
          "Cluster 1",
          "Cluster 1",
          "Cluster 1",
          "Cluster 1",
          "Cluster 1",
          "Cluster 1",
          "Cluster 1",
          "Cluster 1",
          "Cluster 1",
          "Cluster 1",
          "Cluster 1",
          "Cluster 1",
          "Cluster 1",
          "Cluster 1",
          "Cluster 1",
          "Cluster 1",
          "Cluster 1",
          "Cluster 1",
          "Cluster 1",
          "Cluster 1",
          "Cluster 1",
          "Cluster 1",
          "Cluster 1",
          "Cluster 1",
          "Cluster 1",
          "Cluster 1",
          "Cluster 1",
          "Cluster 1",
          "Cluster 1",
          "Cluster 1",
          "Cluster 1",
          "Cluster 1",
          "Cluster 1",
          "Cluster 1",
          "Cluster 1",
          "Cluster 1",
          "Cluster 1",
          "Cluster 1",
          "Cluster 1",
          "Cluster 1",
          "Cluster 1",
          "Cluster 1",
          "Cluster 1",
          "Cluster 1",
          "Cluster 1",
          "Cluster 1",
          "Cluster 1",
          "Cluster 1",
          "Cluster 1",
          "Cluster 1",
          "Cluster 1",
          "Cluster 1",
          "Cluster 1",
          "Cluster 1",
          "Cluster 1",
          "Cluster 1",
          "Cluster 1",
          "Cluster 1",
          "Cluster 1",
          "Cluster 1",
          "Cluster 1",
          "Cluster 1",
          "Cluster 1",
          "Cluster 1",
          "Cluster 1",
          "Cluster 1",
          "Cluster 1",
          "Cluster 1",
          "Cluster 1",
          "Cluster 1",
          "Cluster 1",
          "Cluster 1",
          "Cluster 1",
          "Cluster 1",
          "Cluster 1",
          "Cluster 1",
          "Cluster 1",
          "Cluster 1",
          "Cluster 1",
          "Cluster 1",
          "Cluster 1",
          "Cluster 1",
          "Cluster 1",
          "Cluster 1",
          "Cluster 1",
          "Cluster 1",
          "Cluster 1",
          "Cluster 1",
          "Cluster 1",
          "Cluster 1",
          "Cluster 1",
          "Cluster 1",
          "Cluster 1",
          "Cluster 1",
          "Cluster 1",
          "Cluster 1",
          "Cluster 1",
          "Cluster 1",
          "Cluster 1",
          "Cluster 1",
          "Cluster 1",
          "Cluster 1",
          "Cluster 1",
          "Cluster 1",
          "Cluster 1",
          "Cluster 1",
          "Cluster 1",
          "Cluster 1",
          "Cluster 1",
          "Cluster 1",
          "Cluster 1",
          "Cluster 1",
          "Cluster 1",
          "Cluster 1",
          "Cluster 1",
          "Cluster 1",
          "Cluster 1",
          "Cluster 1",
          "Cluster 1",
          "Cluster 1",
          "Cluster 1",
          "Cluster 1",
          "Cluster 1",
          "Cluster 1",
          "Cluster 1",
          "Cluster 1",
          "Cluster 1",
          "Cluster 1",
          "Cluster 1",
          "Cluster 1",
          "Cluster 1",
          "Cluster 1",
          "Cluster 1",
          "Cluster 1",
          "Cluster 1",
          "Cluster 1",
          "Cluster 1",
          "Cluster 1",
          "Cluster 1",
          "Cluster 1",
          "Cluster 1",
          "Cluster 1",
          "Cluster 1",
          "Cluster 1",
          "Cluster 1",
          "Cluster 1",
          "Cluster 1",
          "Cluster 1",
          "Cluster 1",
          "Cluster 1",
          "Cluster 1",
          "Cluster 1",
          "Cluster 1",
          "Cluster 1",
          "Cluster 1",
          "Cluster 1",
          "Cluster 1",
          "Cluster 1",
          "Cluster 1",
          "Cluster 1",
          "Cluster 1",
          "Cluster 1",
          "Cluster 1",
          "Cluster 1",
          "Cluster 1",
          "Cluster 1",
          "Cluster 1",
          "Cluster 1",
          "Cluster 1",
          "Cluster 1",
          "Cluster 1",
          "Cluster 1",
          "Cluster 1",
          "Cluster 1",
          "Cluster 1",
          "Cluster 1",
          "Cluster 1",
          "Cluster 1",
          "Cluster 1",
          "Cluster 1",
          "Cluster 1",
          "Cluster 1",
          "Cluster 1",
          "Cluster 1",
          "Cluster 1",
          "Cluster 1",
          "Cluster 1",
          "Cluster 1",
          "Cluster 1",
          "Cluster 1",
          "Cluster 1",
          "Cluster 1",
          "Cluster 1",
          "Cluster 1",
          "Cluster 1",
          "Cluster 1",
          "Cluster 1",
          "Cluster 1",
          "Cluster 1",
          "Cluster 1",
          "Cluster 1",
          "Cluster 1",
          "Cluster 1",
          "Cluster 1",
          "Cluster 1",
          "Cluster 1",
          "Cluster 1",
          "Cluster 1",
          "Cluster 1",
          "Cluster 1",
          "Cluster 1",
          "Cluster 1",
          "Cluster 1",
          "Cluster 1",
          "Cluster 1",
          "Cluster 1",
          "Cluster 1",
          "Cluster 1",
          "Cluster 1",
          "Cluster 1",
          "Cluster 1",
          "Cluster 1",
          "Cluster 1",
          "Cluster 1",
          "Cluster 1",
          "Cluster 1",
          "Cluster 1",
          "Cluster 1",
          "Cluster 1",
          "Cluster 1",
          "Cluster 1",
          "Cluster 1",
          "Cluster 1",
          "Cluster 1",
          "Cluster 1",
          "Cluster 1",
          "Cluster 1",
          "Cluster 1",
          "Cluster 1",
          "Cluster 1",
          "Cluster 1",
          "Cluster 1",
          "Cluster 1",
          "Cluster 1",
          "Cluster 1",
          "Cluster 1",
          "Cluster 1",
          "Cluster 1",
          "Cluster 1",
          "Cluster 1",
          "Cluster 1",
          "Cluster 1",
          "Cluster 1",
          "Cluster 1",
          "Cluster 1",
          "Cluster 1",
          "Cluster 1",
          "Cluster 1",
          "Cluster 1",
          "Cluster 1",
          "Cluster 1",
          "Cluster 1",
          "Cluster 1",
          "Cluster 1",
          "Cluster 1",
          "Cluster 1",
          "Cluster 1",
          "Cluster 1",
          "Cluster 1",
          "Cluster 1",
          "Cluster 1",
          "Cluster 1",
          "Cluster 1",
          "Cluster 1",
          "Cluster 1",
          "Cluster 1",
          "Cluster 1",
          "Cluster 1",
          "Cluster 1",
          "Cluster 1",
          "Cluster 1",
          "Cluster 1",
          "Cluster 1",
          "Cluster 1",
          "Cluster 1",
          "Cluster 1",
          "Cluster 1",
          "Cluster 1",
          "Cluster 1",
          "Cluster 1",
          "Cluster 1",
          "Cluster 1",
          "Cluster 1",
          "Cluster 1",
          "Cluster 1",
          "Cluster 1",
          "Cluster 1",
          "Cluster 1",
          "Cluster 1",
          "Cluster 1",
          "Cluster 1",
          "Cluster 1",
          "Cluster 1",
          "Cluster 1",
          "Cluster 1",
          "Cluster 1",
          "Cluster 1",
          "Cluster 1",
          "Cluster 1",
          "Cluster 1",
          "Cluster 1",
          "Cluster 1",
          "Cluster 1",
          "Cluster 1",
          "Cluster 1",
          "Cluster 1",
          "Cluster 1",
          "Cluster 1",
          "Cluster 1",
          "Cluster 1",
          "Cluster 1",
          "Cluster 1",
          "Cluster 1",
          "Cluster 1",
          "Cluster 1",
          "Cluster 1",
          "Cluster 1",
          "Cluster 1",
          "Cluster 1",
          "Cluster 1",
          "Cluster 1",
          "Cluster 1",
          "Cluster 1",
          "Cluster 1",
          "Cluster 1",
          "Cluster 1",
          "Cluster 1",
          "Cluster 1",
          "Cluster 1",
          "Cluster 1",
          "Cluster 1",
          "Cluster 1",
          "Cluster 1",
          "Cluster 1",
          "Cluster 1",
          "Cluster 1",
          "Cluster 1",
          "Cluster 1",
          "Cluster 1",
          "Cluster 1",
          "Cluster 1",
          "Cluster 1",
          "Cluster 1",
          "Cluster 1",
          "Cluster 1",
          "Cluster 1",
          "Cluster 1",
          "Cluster 1",
          "Cluster 1",
          "Cluster 1",
          "Cluster 1",
          "Cluster 1",
          "Cluster 1",
          "Cluster 1",
          "Cluster 1",
          "Cluster 1",
          "Cluster 1",
          "Cluster 1",
          "Cluster 1",
          "Cluster 1",
          "Cluster 1",
          "Cluster 1",
          "Cluster 1",
          "Cluster 1",
          "Cluster 1",
          "Cluster 1",
          "Cluster 1",
          "Cluster 1",
          "Cluster 1",
          "Cluster 1",
          "Cluster 1",
          "Cluster 1",
          "Cluster 1",
          "Cluster 1",
          "Cluster 1",
          "Cluster 1",
          "Cluster 1",
          "Cluster 1",
          "Cluster 1",
          "Cluster 1",
          "Cluster 1",
          "Cluster 1",
          "Cluster 1",
          "Cluster 1",
          "Cluster 1",
          "Cluster 1",
          "Cluster 1",
          "Cluster 1",
          "Cluster 1",
          "Cluster 1",
          "Cluster 1",
          "Cluster 1",
          "Cluster 1",
          "Cluster 1",
          "Cluster 1",
          "Cluster 1",
          "Cluster 1",
          "Cluster 1",
          "Cluster 1",
          "Cluster 1",
          "Cluster 1",
          "Cluster 1",
          "Cluster 1",
          "Cluster 1",
          "Cluster 1",
          "Cluster 1",
          "Cluster 1",
          "Cluster 1",
          "Cluster 1",
          "Cluster 1",
          "Cluster 1",
          "Cluster 1",
          "Cluster 1",
          "Cluster 1",
          "Cluster 1",
          "Cluster 1",
          "Cluster 1",
          "Cluster 1",
          "Cluster 1",
          "Cluster 1",
          "Cluster 1",
          "Cluster 1",
          "Cluster 1",
          "Cluster 1",
          "Cluster 1",
          "Cluster 1",
          "Cluster 1",
          "Cluster 1",
          "Cluster 1",
          "Cluster 1",
          "Cluster 1",
          "Cluster 1",
          "Cluster 1",
          "Cluster 1",
          "Cluster 1",
          "Cluster 1",
          "Cluster 1",
          "Cluster 1",
          "Cluster 1",
          "Cluster 1",
          "Cluster 1",
          "Cluster 1",
          "Cluster 1",
          "Cluster 1",
          "Cluster 1",
          "Cluster 1",
          "Cluster 1",
          "Cluster 1",
          "Cluster 1",
          "Cluster 1",
          "Cluster 1",
          "Cluster 1",
          "Cluster 1",
          "Cluster 1",
          "Cluster 1",
          "Cluster 1",
          "Cluster 1",
          "Cluster 1",
          "Cluster 1",
          "Cluster 1",
          "Cluster 1",
          "Cluster 1",
          "Cluster 1",
          "Cluster 1",
          "Cluster 1",
          "Cluster 1",
          "Cluster 1",
          "Cluster 1",
          "Cluster 1",
          "Cluster 1",
          "Cluster 1",
          "Cluster 1",
          "Cluster 1",
          "Cluster 1",
          "Cluster 1",
          "Cluster 1",
          "Cluster 1",
          "Cluster 1",
          "Cluster 1",
          "Cluster 1",
          "Cluster 1",
          "Cluster 1",
          "Cluster 1",
          "Cluster 1",
          "Cluster 1",
          "Cluster 1",
          "Cluster 1",
          "Cluster 1",
          "Cluster 1",
          "Cluster 1",
          "Cluster 1",
          "Cluster 1",
          "Cluster 1",
          "Cluster 1",
          "Cluster 1",
          "Cluster 1",
          "Cluster 1",
          "Cluster 1",
          "Cluster 1",
          "Cluster 1",
          "Cluster 1",
          "Cluster 1",
          "Cluster 1",
          "Cluster 1",
          "Cluster 1",
          "Cluster 1",
          "Cluster 1",
          "Cluster 1",
          "Cluster 1",
          "Cluster 1",
          "Cluster 1",
          "Cluster 1",
          "Cluster 1",
          "Cluster 1",
          "Cluster 1",
          "Cluster 1",
          "Cluster 1",
          "Cluster 1",
          "Cluster 1",
          "Cluster 1",
          "Cluster 1",
          "Cluster 1",
          "Cluster 1",
          "Cluster 1",
          "Cluster 1",
          "Cluster 1",
          "Cluster 1",
          "Cluster 1",
          "Cluster 1",
          "Cluster 1",
          "Cluster 1",
          "Cluster 1",
          "Cluster 1",
          "Cluster 1",
          "Cluster 1",
          "Cluster 1",
          "Cluster 1",
          "Cluster 1",
          "Cluster 1",
          "Cluster 1",
          "Cluster 1",
          "Cluster 1",
          "Cluster 1",
          "Cluster 1",
          "Cluster 1",
          "Cluster 1",
          "Cluster 1",
          "Cluster 1",
          "Cluster 1",
          "Cluster 1",
          "Cluster 1",
          "Cluster 1",
          "Cluster 1",
          "Cluster 1",
          "Cluster 1",
          "Cluster 1",
          "Cluster 1",
          "Cluster 1",
          "Cluster 1",
          "Cluster 1",
          "Cluster 1",
          "Cluster 1",
          "Cluster 1",
          "Cluster 1",
          "Cluster 1",
          "Cluster 1",
          "Cluster 1",
          "Cluster 1",
          "Cluster 1",
          "Cluster 1",
          "Cluster 1",
          "Cluster 1",
          "Cluster 1",
          "Cluster 1",
          "Cluster 1",
          "Cluster 1",
          "Cluster 1",
          "Cluster 1",
          "Cluster 1",
          "Cluster 1",
          "Cluster 1",
          "Cluster 1",
          "Cluster 1",
          "Cluster 1",
          "Cluster 1",
          "Cluster 1",
          "Cluster 1",
          "Cluster 1",
          "Cluster 1",
          "Cluster 1",
          "Cluster 1",
          "Cluster 1",
          "Cluster 1",
          "Cluster 1",
          "Cluster 1",
          "Cluster 1",
          "Cluster 1",
          "Cluster 1",
          "Cluster 1",
          "Cluster 1",
          "Cluster 1",
          "Cluster 1",
          "Cluster 1",
          "Cluster 1",
          "Cluster 1",
          "Cluster 1",
          "Cluster 1",
          "Cluster 1",
          "Cluster 1",
          "Cluster 1",
          "Cluster 1",
          "Cluster 1",
          "Cluster 1",
          "Cluster 1",
          "Cluster 1",
          "Cluster 1",
          "Cluster 1",
          "Cluster 1",
          "Cluster 1",
          "Cluster 1",
          "Cluster 1",
          "Cluster 1",
          "Cluster 1",
          "Cluster 1",
          "Cluster 1",
          "Cluster 1",
          "Cluster 1",
          "Cluster 1",
          "Cluster 1",
          "Cluster 1",
          "Cluster 1",
          "Cluster 1",
          "Cluster 1",
          "Cluster 1",
          "Cluster 1",
          "Cluster 1",
          "Cluster 1",
          "Cluster 1",
          "Cluster 1",
          "Cluster 1",
          "Cluster 1",
          "Cluster 1",
          "Cluster 1",
          "Cluster 1",
          "Cluster 1",
          "Cluster 1",
          "Cluster 1",
          "Cluster 1",
          "Cluster 1",
          "Cluster 1",
          "Cluster 1",
          "Cluster 1",
          "Cluster 1",
          "Cluster 1",
          "Cluster 1",
          "Cluster 1",
          "Cluster 1",
          "Cluster 1",
          "Cluster 1",
          "Cluster 1",
          "Cluster 1",
          "Cluster 1",
          "Cluster 1",
          "Cluster 1",
          "Cluster 1",
          "Cluster 1",
          "Cluster 1",
          "Cluster 1"
         ]
        }
       ],
       "layout": {
        "showlegend": true,
        "template": {
         "data": {
          "bar": [
           {
            "error_x": {
             "color": "#2a3f5f"
            },
            "error_y": {
             "color": "#2a3f5f"
            },
            "marker": {
             "line": {
              "color": "#E5ECF6",
              "width": 0.5
             },
             "pattern": {
              "fillmode": "overlay",
              "size": 10,
              "solidity": 0.2
             }
            },
            "type": "bar"
           }
          ],
          "barpolar": [
           {
            "marker": {
             "line": {
              "color": "#E5ECF6",
              "width": 0.5
             },
             "pattern": {
              "fillmode": "overlay",
              "size": 10,
              "solidity": 0.2
             }
            },
            "type": "barpolar"
           }
          ],
          "carpet": [
           {
            "aaxis": {
             "endlinecolor": "#2a3f5f",
             "gridcolor": "white",
             "linecolor": "white",
             "minorgridcolor": "white",
             "startlinecolor": "#2a3f5f"
            },
            "baxis": {
             "endlinecolor": "#2a3f5f",
             "gridcolor": "white",
             "linecolor": "white",
             "minorgridcolor": "white",
             "startlinecolor": "#2a3f5f"
            },
            "type": "carpet"
           }
          ],
          "choropleth": [
           {
            "colorbar": {
             "outlinewidth": 0,
             "ticks": ""
            },
            "type": "choropleth"
           }
          ],
          "contour": [
           {
            "colorbar": {
             "outlinewidth": 0,
             "ticks": ""
            },
            "colorscale": [
             [
              0,
              "#0d0887"
             ],
             [
              0.1111111111111111,
              "#46039f"
             ],
             [
              0.2222222222222222,
              "#7201a8"
             ],
             [
              0.3333333333333333,
              "#9c179e"
             ],
             [
              0.4444444444444444,
              "#bd3786"
             ],
             [
              0.5555555555555556,
              "#d8576b"
             ],
             [
              0.6666666666666666,
              "#ed7953"
             ],
             [
              0.7777777777777778,
              "#fb9f3a"
             ],
             [
              0.8888888888888888,
              "#fdca26"
             ],
             [
              1,
              "#f0f921"
             ]
            ],
            "type": "contour"
           }
          ],
          "contourcarpet": [
           {
            "colorbar": {
             "outlinewidth": 0,
             "ticks": ""
            },
            "type": "contourcarpet"
           }
          ],
          "heatmap": [
           {
            "colorbar": {
             "outlinewidth": 0,
             "ticks": ""
            },
            "colorscale": [
             [
              0,
              "#0d0887"
             ],
             [
              0.1111111111111111,
              "#46039f"
             ],
             [
              0.2222222222222222,
              "#7201a8"
             ],
             [
              0.3333333333333333,
              "#9c179e"
             ],
             [
              0.4444444444444444,
              "#bd3786"
             ],
             [
              0.5555555555555556,
              "#d8576b"
             ],
             [
              0.6666666666666666,
              "#ed7953"
             ],
             [
              0.7777777777777778,
              "#fb9f3a"
             ],
             [
              0.8888888888888888,
              "#fdca26"
             ],
             [
              1,
              "#f0f921"
             ]
            ],
            "type": "heatmap"
           }
          ],
          "histogram": [
           {
            "marker": {
             "pattern": {
              "fillmode": "overlay",
              "size": 10,
              "solidity": 0.2
             }
            },
            "type": "histogram"
           }
          ],
          "histogram2d": [
           {
            "colorbar": {
             "outlinewidth": 0,
             "ticks": ""
            },
            "colorscale": [
             [
              0,
              "#0d0887"
             ],
             [
              0.1111111111111111,
              "#46039f"
             ],
             [
              0.2222222222222222,
              "#7201a8"
             ],
             [
              0.3333333333333333,
              "#9c179e"
             ],
             [
              0.4444444444444444,
              "#bd3786"
             ],
             [
              0.5555555555555556,
              "#d8576b"
             ],
             [
              0.6666666666666666,
              "#ed7953"
             ],
             [
              0.7777777777777778,
              "#fb9f3a"
             ],
             [
              0.8888888888888888,
              "#fdca26"
             ],
             [
              1,
              "#f0f921"
             ]
            ],
            "type": "histogram2d"
           }
          ],
          "histogram2dcontour": [
           {
            "colorbar": {
             "outlinewidth": 0,
             "ticks": ""
            },
            "colorscale": [
             [
              0,
              "#0d0887"
             ],
             [
              0.1111111111111111,
              "#46039f"
             ],
             [
              0.2222222222222222,
              "#7201a8"
             ],
             [
              0.3333333333333333,
              "#9c179e"
             ],
             [
              0.4444444444444444,
              "#bd3786"
             ],
             [
              0.5555555555555556,
              "#d8576b"
             ],
             [
              0.6666666666666666,
              "#ed7953"
             ],
             [
              0.7777777777777778,
              "#fb9f3a"
             ],
             [
              0.8888888888888888,
              "#fdca26"
             ],
             [
              1,
              "#f0f921"
             ]
            ],
            "type": "histogram2dcontour"
           }
          ],
          "mesh3d": [
           {
            "colorbar": {
             "outlinewidth": 0,
             "ticks": ""
            },
            "type": "mesh3d"
           }
          ],
          "parcoords": [
           {
            "line": {
             "colorbar": {
              "outlinewidth": 0,
              "ticks": ""
             }
            },
            "type": "parcoords"
           }
          ],
          "pie": [
           {
            "automargin": true,
            "type": "pie"
           }
          ],
          "scatter": [
           {
            "fillpattern": {
             "fillmode": "overlay",
             "size": 10,
             "solidity": 0.2
            },
            "type": "scatter"
           }
          ],
          "scatter3d": [
           {
            "line": {
             "colorbar": {
              "outlinewidth": 0,
              "ticks": ""
             }
            },
            "marker": {
             "colorbar": {
              "outlinewidth": 0,
              "ticks": ""
             }
            },
            "type": "scatter3d"
           }
          ],
          "scattercarpet": [
           {
            "marker": {
             "colorbar": {
              "outlinewidth": 0,
              "ticks": ""
             }
            },
            "type": "scattercarpet"
           }
          ],
          "scattergeo": [
           {
            "marker": {
             "colorbar": {
              "outlinewidth": 0,
              "ticks": ""
             }
            },
            "type": "scattergeo"
           }
          ],
          "scattergl": [
           {
            "marker": {
             "colorbar": {
              "outlinewidth": 0,
              "ticks": ""
             }
            },
            "type": "scattergl"
           }
          ],
          "scattermap": [
           {
            "marker": {
             "colorbar": {
              "outlinewidth": 0,
              "ticks": ""
             }
            },
            "type": "scattermap"
           }
          ],
          "scattermapbox": [
           {
            "marker": {
             "colorbar": {
              "outlinewidth": 0,
              "ticks": ""
             }
            },
            "type": "scattermapbox"
           }
          ],
          "scatterpolar": [
           {
            "marker": {
             "colorbar": {
              "outlinewidth": 0,
              "ticks": ""
             }
            },
            "type": "scatterpolar"
           }
          ],
          "scatterpolargl": [
           {
            "marker": {
             "colorbar": {
              "outlinewidth": 0,
              "ticks": ""
             }
            },
            "type": "scatterpolargl"
           }
          ],
          "scatterternary": [
           {
            "marker": {
             "colorbar": {
              "outlinewidth": 0,
              "ticks": ""
             }
            },
            "type": "scatterternary"
           }
          ],
          "surface": [
           {
            "colorbar": {
             "outlinewidth": 0,
             "ticks": ""
            },
            "colorscale": [
             [
              0,
              "#0d0887"
             ],
             [
              0.1111111111111111,
              "#46039f"
             ],
             [
              0.2222222222222222,
              "#7201a8"
             ],
             [
              0.3333333333333333,
              "#9c179e"
             ],
             [
              0.4444444444444444,
              "#bd3786"
             ],
             [
              0.5555555555555556,
              "#d8576b"
             ],
             [
              0.6666666666666666,
              "#ed7953"
             ],
             [
              0.7777777777777778,
              "#fb9f3a"
             ],
             [
              0.8888888888888888,
              "#fdca26"
             ],
             [
              1,
              "#f0f921"
             ]
            ],
            "type": "surface"
           }
          ],
          "table": [
           {
            "cells": {
             "fill": {
              "color": "#EBF0F8"
             },
             "line": {
              "color": "white"
             }
            },
            "header": {
             "fill": {
              "color": "#C8D4E3"
             },
             "line": {
              "color": "white"
             }
            },
            "type": "table"
           }
          ]
         },
         "layout": {
          "annotationdefaults": {
           "arrowcolor": "#2a3f5f",
           "arrowhead": 0,
           "arrowwidth": 1
          },
          "autotypenumbers": "strict",
          "coloraxis": {
           "colorbar": {
            "outlinewidth": 0,
            "ticks": ""
           }
          },
          "colorscale": {
           "diverging": [
            [
             0,
             "#8e0152"
            ],
            [
             0.1,
             "#c51b7d"
            ],
            [
             0.2,
             "#de77ae"
            ],
            [
             0.3,
             "#f1b6da"
            ],
            [
             0.4,
             "#fde0ef"
            ],
            [
             0.5,
             "#f7f7f7"
            ],
            [
             0.6,
             "#e6f5d0"
            ],
            [
             0.7,
             "#b8e186"
            ],
            [
             0.8,
             "#7fbc41"
            ],
            [
             0.9,
             "#4d9221"
            ],
            [
             1,
             "#276419"
            ]
           ],
           "sequential": [
            [
             0,
             "#0d0887"
            ],
            [
             0.1111111111111111,
             "#46039f"
            ],
            [
             0.2222222222222222,
             "#7201a8"
            ],
            [
             0.3333333333333333,
             "#9c179e"
            ],
            [
             0.4444444444444444,
             "#bd3786"
            ],
            [
             0.5555555555555556,
             "#d8576b"
            ],
            [
             0.6666666666666666,
             "#ed7953"
            ],
            [
             0.7777777777777778,
             "#fb9f3a"
            ],
            [
             0.8888888888888888,
             "#fdca26"
            ],
            [
             1,
             "#f0f921"
            ]
           ],
           "sequentialminus": [
            [
             0,
             "#0d0887"
            ],
            [
             0.1111111111111111,
             "#46039f"
            ],
            [
             0.2222222222222222,
             "#7201a8"
            ],
            [
             0.3333333333333333,
             "#9c179e"
            ],
            [
             0.4444444444444444,
             "#bd3786"
            ],
            [
             0.5555555555555556,
             "#d8576b"
            ],
            [
             0.6666666666666666,
             "#ed7953"
            ],
            [
             0.7777777777777778,
             "#fb9f3a"
            ],
            [
             0.8888888888888888,
             "#fdca26"
            ],
            [
             1,
             "#f0f921"
            ]
           ]
          },
          "colorway": [
           "#636efa",
           "#EF553B",
           "#00cc96",
           "#ab63fa",
           "#FFA15A",
           "#19d3f3",
           "#FF6692",
           "#B6E880",
           "#FF97FF",
           "#FECB52"
          ],
          "font": {
           "color": "#2a3f5f"
          },
          "geo": {
           "bgcolor": "white",
           "lakecolor": "white",
           "landcolor": "#E5ECF6",
           "showlakes": true,
           "showland": true,
           "subunitcolor": "white"
          },
          "hoverlabel": {
           "align": "left"
          },
          "hovermode": "closest",
          "mapbox": {
           "style": "light"
          },
          "paper_bgcolor": "white",
          "plot_bgcolor": "#E5ECF6",
          "polar": {
           "angularaxis": {
            "gridcolor": "white",
            "linecolor": "white",
            "ticks": ""
           },
           "bgcolor": "#E5ECF6",
           "radialaxis": {
            "gridcolor": "white",
            "linecolor": "white",
            "ticks": ""
           }
          },
          "scene": {
           "xaxis": {
            "backgroundcolor": "#E5ECF6",
            "gridcolor": "white",
            "gridwidth": 2,
            "linecolor": "white",
            "showbackground": true,
            "ticks": "",
            "zerolinecolor": "white"
           },
           "yaxis": {
            "backgroundcolor": "#E5ECF6",
            "gridcolor": "white",
            "gridwidth": 2,
            "linecolor": "white",
            "showbackground": true,
            "ticks": "",
            "zerolinecolor": "white"
           },
           "zaxis": {
            "backgroundcolor": "#E5ECF6",
            "gridcolor": "white",
            "gridwidth": 2,
            "linecolor": "white",
            "showbackground": true,
            "ticks": "",
            "zerolinecolor": "white"
           }
          },
          "shapedefaults": {
           "line": {
            "color": "#2a3f5f"
           }
          },
          "ternary": {
           "aaxis": {
            "gridcolor": "white",
            "linecolor": "white",
            "ticks": ""
           },
           "baxis": {
            "gridcolor": "white",
            "linecolor": "white",
            "ticks": ""
           },
           "bgcolor": "#E5ECF6",
           "caxis": {
            "gridcolor": "white",
            "linecolor": "white",
            "ticks": ""
           }
          },
          "title": {
           "x": 0.05
          },
          "xaxis": {
           "automargin": true,
           "gridcolor": "white",
           "linecolor": "white",
           "ticks": "",
           "title": {
            "standoff": 15
           },
           "zerolinecolor": "white",
           "zerolinewidth": 2
          },
          "yaxis": {
           "automargin": true,
           "gridcolor": "white",
           "linecolor": "white",
           "ticks": "",
           "title": {
            "standoff": 15
           },
           "zerolinecolor": "white",
           "zerolinewidth": 2
          }
         }
        },
        "title": {
         "text": "Customer Clusters by Currency (5 Clusters)"
        },
        "xaxis": {
         "title": {
          "text": "Amount"
         }
        },
        "yaxis": {
         "title": {
          "text": "Cluster"
         }
        }
       }
      }
     },
     "metadata": {},
     "output_type": "display_data"
    }
   ],
   "source": [
    "fig = go.Figure()\n",
    "\n",
    "fig.add_trace(go.Scatter(\n",
    "    x=final_df[final_df['eur'] > 0]['eur'],\n",
    "    y=final_df[final_df['eur'] > 0]['eur_cluster'],\n",
    "    mode='markers',\n",
    "    name='EUR Clusters',\n",
    "    marker=dict(size=10)\n",
    "))\n",
    "\n",
    "fig.add_trace(go.Scatter(\n",
    "    x=final_df[final_df['usd'] > 0]['usd'],\n",
    "    y=final_df[final_df['usd'] > 0]['usd_cluster'],\n",
    "    mode='markers',\n",
    "    name='USD Clusters',\n",
    "    marker=dict(size=10)\n",
    "))\n",
    "\n",
    "fig.update_layout(\n",
    "    title='Customer Clusters by Currency (5 Clusters)',\n",
    "    xaxis_title='Amount',\n",
    "    yaxis_title='Cluster',\n",
    "    showlegend=True\n",
    ")\n",
    "\n",
    "fig.show()"
   ]
  },
  {
   "cell_type": "code",
   "execution_count": 52,
   "metadata": {},
   "outputs": [
    {
     "data": {
      "text/html": [
       "<div>\n",
       "<style scoped>\n",
       "    .dataframe tbody tr th:only-of-type {\n",
       "        vertical-align: middle;\n",
       "    }\n",
       "\n",
       "    .dataframe tbody tr th {\n",
       "        vertical-align: top;\n",
       "    }\n",
       "\n",
       "    .dataframe thead th {\n",
       "        text-align: right;\n",
       "    }\n",
       "</style>\n",
       "<table border=\"1\" class=\"dataframe\">\n",
       "  <thead>\n",
       "    <tr style=\"text-align: right;\">\n",
       "      <th></th>\n",
       "      <th>id</th>\n",
       "      <th>amount due</th>\n",
       "      <th>closed</th>\n",
       "      <th>currency</th>\n",
       "      <th>customer</th>\n",
       "      <th>date (utc)</th>\n",
       "      <th>due date (utc)</th>\n",
       "      <th>ending balance</th>\n",
       "      <th>forgiven</th>\n",
       "      <th>paid</th>\n",
       "      <th>...</th>\n",
       "      <th>subtotal</th>\n",
       "      <th>total discount amount</th>\n",
       "      <th>applied coupons</th>\n",
       "      <th>tax</th>\n",
       "      <th>tax percent</th>\n",
       "      <th>total</th>\n",
       "      <th>amount paid</th>\n",
       "      <th>status</th>\n",
       "      <th>exclusive tax amount</th>\n",
       "      <th>inclusive tax amount</th>\n",
       "    </tr>\n",
       "  </thead>\n",
       "  <tbody>\n",
       "    <tr>\n",
       "      <th>0</th>\n",
       "      <td>in_1Qx3plAFeGZf0UoOd9f9bW47</td>\n",
       "      <td>0.0</td>\n",
       "      <td>False</td>\n",
       "      <td>eur</td>\n",
       "      <td>cus_NHFLrvkCpBFCs7</td>\n",
       "      <td>2025-02-27 09:56:00</td>\n",
       "      <td>NaT</td>\n",
       "      <td>NaN</td>\n",
       "      <td>False</td>\n",
       "      <td>False</td>\n",
       "      <td>...</td>\n",
       "      <td>0.0</td>\n",
       "      <td>0.0</td>\n",
       "      <td>NaN</td>\n",
       "      <td>0.0</td>\n",
       "      <td>20.0</td>\n",
       "      <td>0.0</td>\n",
       "      <td>0.0</td>\n",
       "      <td>draft</td>\n",
       "      <td>0.0</td>\n",
       "      <td>0.0</td>\n",
       "    </tr>\n",
       "    <tr>\n",
       "      <th>1</th>\n",
       "      <td>in_1Qx3phAFeGZf0UoOy7Khkj9i</td>\n",
       "      <td>0.0</td>\n",
       "      <td>False</td>\n",
       "      <td>eur</td>\n",
       "      <td>cus_LSl85Ix2Ek965l</td>\n",
       "      <td>2025-02-27 09:56:00</td>\n",
       "      <td>NaT</td>\n",
       "      <td>NaN</td>\n",
       "      <td>False</td>\n",
       "      <td>False</td>\n",
       "      <td>...</td>\n",
       "      <td>0.0</td>\n",
       "      <td>0.0</td>\n",
       "      <td>NaN</td>\n",
       "      <td>0.0</td>\n",
       "      <td>19.0</td>\n",
       "      <td>0.0</td>\n",
       "      <td>0.0</td>\n",
       "      <td>draft</td>\n",
       "      <td>0.0</td>\n",
       "      <td>0.0</td>\n",
       "    </tr>\n",
       "    <tr>\n",
       "      <th>2</th>\n",
       "      <td>in_1Qx3XqAFeGZf0UoONAAW2muL</td>\n",
       "      <td>104.4</td>\n",
       "      <td>False</td>\n",
       "      <td>eur</td>\n",
       "      <td>cus_PQFFOsNVNtuBN9</td>\n",
       "      <td>2025-02-27 09:38:00</td>\n",
       "      <td>2025-03-02 09:37:00</td>\n",
       "      <td>NaN</td>\n",
       "      <td>False</td>\n",
       "      <td>False</td>\n",
       "      <td>...</td>\n",
       "      <td>87.0</td>\n",
       "      <td>0.0</td>\n",
       "      <td>NaN</td>\n",
       "      <td>17.4</td>\n",
       "      <td>20.0</td>\n",
       "      <td>104.4</td>\n",
       "      <td>0.0</td>\n",
       "      <td>draft</td>\n",
       "      <td>17.4</td>\n",
       "      <td>0.0</td>\n",
       "    </tr>\n",
       "    <tr>\n",
       "      <th>3</th>\n",
       "      <td>in_1Qx3XqAFeGZf0UoOl79vERDa</td>\n",
       "      <td>39.0</td>\n",
       "      <td>False</td>\n",
       "      <td>eur</td>\n",
       "      <td>cus_Q7apBCt36xeGbK</td>\n",
       "      <td>2025-02-27 09:38:00</td>\n",
       "      <td>NaT</td>\n",
       "      <td>NaN</td>\n",
       "      <td>False</td>\n",
       "      <td>False</td>\n",
       "      <td>...</td>\n",
       "      <td>39.0</td>\n",
       "      <td>0.0</td>\n",
       "      <td>NaN</td>\n",
       "      <td>NaN</td>\n",
       "      <td>NaN</td>\n",
       "      <td>39.0</td>\n",
       "      <td>0.0</td>\n",
       "      <td>draft</td>\n",
       "      <td>NaN</td>\n",
       "      <td>NaN</td>\n",
       "    </tr>\n",
       "    <tr>\n",
       "      <th>4</th>\n",
       "      <td>in_1Qx3WCAFeGZf0UoOcbJhPyor</td>\n",
       "      <td>82.8</td>\n",
       "      <td>False</td>\n",
       "      <td>eur</td>\n",
       "      <td>cus_MU4dOalEEat1Ah</td>\n",
       "      <td>2025-02-27 09:36:00</td>\n",
       "      <td>NaT</td>\n",
       "      <td>NaN</td>\n",
       "      <td>False</td>\n",
       "      <td>False</td>\n",
       "      <td>...</td>\n",
       "      <td>69.0</td>\n",
       "      <td>0.0</td>\n",
       "      <td>NaN</td>\n",
       "      <td>13.8</td>\n",
       "      <td>20.0</td>\n",
       "      <td>82.8</td>\n",
       "      <td>0.0</td>\n",
       "      <td>draft</td>\n",
       "      <td>13.8</td>\n",
       "      <td>0.0</td>\n",
       "    </tr>\n",
       "  </tbody>\n",
       "</table>\n",
       "<p>5 rows × 30 columns</p>\n",
       "</div>"
      ],
      "text/plain": [
       "                            id  amount due  closed currency  \\\n",
       "0  in_1Qx3plAFeGZf0UoOd9f9bW47         0.0   False      eur   \n",
       "1  in_1Qx3phAFeGZf0UoOy7Khkj9i         0.0   False      eur   \n",
       "2  in_1Qx3XqAFeGZf0UoONAAW2muL       104.4   False      eur   \n",
       "3  in_1Qx3XqAFeGZf0UoOl79vERDa        39.0   False      eur   \n",
       "4  in_1Qx3WCAFeGZf0UoOcbJhPyor        82.8   False      eur   \n",
       "\n",
       "             customer          date (utc)      due date (utc)  ending balance  \\\n",
       "0  cus_NHFLrvkCpBFCs7 2025-02-27 09:56:00                 NaT             NaN   \n",
       "1  cus_LSl85Ix2Ek965l 2025-02-27 09:56:00                 NaT             NaN   \n",
       "2  cus_PQFFOsNVNtuBN9 2025-02-27 09:38:00 2025-03-02 09:37:00             NaN   \n",
       "3  cus_Q7apBCt36xeGbK 2025-02-27 09:38:00                 NaT             NaN   \n",
       "4  cus_MU4dOalEEat1Ah 2025-02-27 09:36:00                 NaT             NaN   \n",
       "\n",
       "   forgiven   paid  ... subtotal total discount amount applied coupons   tax  \\\n",
       "0     False  False  ...      0.0                   0.0             NaN   0.0   \n",
       "1     False  False  ...      0.0                   0.0             NaN   0.0   \n",
       "2     False  False  ...     87.0                   0.0             NaN  17.4   \n",
       "3     False  False  ...     39.0                   0.0             NaN   NaN   \n",
       "4     False  False  ...     69.0                   0.0             NaN  13.8   \n",
       "\n",
       "  tax percent  total amount paid status  exclusive tax amount  \\\n",
       "0        20.0    0.0         0.0  draft                   0.0   \n",
       "1        19.0    0.0         0.0  draft                   0.0   \n",
       "2        20.0  104.4         0.0  draft                  17.4   \n",
       "3         NaN   39.0         0.0  draft                   NaN   \n",
       "4        20.0   82.8         0.0  draft                  13.8   \n",
       "\n",
       "  inclusive tax amount  \n",
       "0                  0.0  \n",
       "1                  0.0  \n",
       "2                  0.0  \n",
       "3                  NaN  \n",
       "4                  0.0  \n",
       "\n",
       "[5 rows x 30 columns]"
      ]
     },
     "execution_count": 52,
     "metadata": {},
     "output_type": "execute_result"
    }
   ],
   "source": [
    "df.head()"
   ]
  },
  {
   "cell_type": "code",
   "execution_count": 53,
   "metadata": {},
   "outputs": [
    {
     "data": {
      "text/html": [
       "<div>\n",
       "<style scoped>\n",
       "    .dataframe tbody tr th:only-of-type {\n",
       "        vertical-align: middle;\n",
       "    }\n",
       "\n",
       "    .dataframe tbody tr th {\n",
       "        vertical-align: top;\n",
       "    }\n",
       "\n",
       "    .dataframe thead th {\n",
       "        text-align: right;\n",
       "    }\n",
       "</style>\n",
       "<table border=\"1\" class=\"dataframe\">\n",
       "  <thead>\n",
       "    <tr style=\"text-align: right;\">\n",
       "      <th></th>\n",
       "      <th>id</th>\n",
       "      <th>amount due</th>\n",
       "      <th>closed</th>\n",
       "      <th>currency</th>\n",
       "      <th>customer</th>\n",
       "      <th>date (utc)</th>\n",
       "      <th>due date (utc)</th>\n",
       "      <th>ending balance</th>\n",
       "      <th>forgiven</th>\n",
       "      <th>paid</th>\n",
       "      <th>...</th>\n",
       "      <th>subtotal</th>\n",
       "      <th>total discount amount</th>\n",
       "      <th>applied coupons</th>\n",
       "      <th>tax</th>\n",
       "      <th>tax percent</th>\n",
       "      <th>total</th>\n",
       "      <th>amount paid</th>\n",
       "      <th>status</th>\n",
       "      <th>exclusive tax amount</th>\n",
       "      <th>inclusive tax amount</th>\n",
       "    </tr>\n",
       "  </thead>\n",
       "  <tbody>\n",
       "    <tr>\n",
       "      <th>0</th>\n",
       "      <td>in_1Qx3plAFeGZf0UoOd9f9bW47</td>\n",
       "      <td>0.0</td>\n",
       "      <td>False</td>\n",
       "      <td>eur</td>\n",
       "      <td>cus_NHFLrvkCpBFCs7</td>\n",
       "      <td>2025-02-27 09:56:00</td>\n",
       "      <td>NaT</td>\n",
       "      <td>NaN</td>\n",
       "      <td>False</td>\n",
       "      <td>False</td>\n",
       "      <td>...</td>\n",
       "      <td>0.0</td>\n",
       "      <td>0.0</td>\n",
       "      <td>NaN</td>\n",
       "      <td>0.0</td>\n",
       "      <td>20.0</td>\n",
       "      <td>0.0</td>\n",
       "      <td>0.0</td>\n",
       "      <td>draft</td>\n",
       "      <td>0.0</td>\n",
       "      <td>0.0</td>\n",
       "    </tr>\n",
       "    <tr>\n",
       "      <th>1</th>\n",
       "      <td>in_1Qx3phAFeGZf0UoOy7Khkj9i</td>\n",
       "      <td>0.0</td>\n",
       "      <td>False</td>\n",
       "      <td>eur</td>\n",
       "      <td>cus_LSl85Ix2Ek965l</td>\n",
       "      <td>2025-02-27 09:56:00</td>\n",
       "      <td>NaT</td>\n",
       "      <td>NaN</td>\n",
       "      <td>False</td>\n",
       "      <td>False</td>\n",
       "      <td>...</td>\n",
       "      <td>0.0</td>\n",
       "      <td>0.0</td>\n",
       "      <td>NaN</td>\n",
       "      <td>0.0</td>\n",
       "      <td>19.0</td>\n",
       "      <td>0.0</td>\n",
       "      <td>0.0</td>\n",
       "      <td>draft</td>\n",
       "      <td>0.0</td>\n",
       "      <td>0.0</td>\n",
       "    </tr>\n",
       "    <tr>\n",
       "      <th>2</th>\n",
       "      <td>in_1Qx3XqAFeGZf0UoONAAW2muL</td>\n",
       "      <td>104.4</td>\n",
       "      <td>False</td>\n",
       "      <td>eur</td>\n",
       "      <td>cus_PQFFOsNVNtuBN9</td>\n",
       "      <td>2025-02-27 09:38:00</td>\n",
       "      <td>2025-03-02 09:37:00</td>\n",
       "      <td>NaN</td>\n",
       "      <td>False</td>\n",
       "      <td>False</td>\n",
       "      <td>...</td>\n",
       "      <td>87.0</td>\n",
       "      <td>0.0</td>\n",
       "      <td>NaN</td>\n",
       "      <td>17.4</td>\n",
       "      <td>20.0</td>\n",
       "      <td>104.4</td>\n",
       "      <td>0.0</td>\n",
       "      <td>draft</td>\n",
       "      <td>17.4</td>\n",
       "      <td>0.0</td>\n",
       "    </tr>\n",
       "    <tr>\n",
       "      <th>3</th>\n",
       "      <td>in_1Qx3XqAFeGZf0UoOl79vERDa</td>\n",
       "      <td>39.0</td>\n",
       "      <td>False</td>\n",
       "      <td>eur</td>\n",
       "      <td>cus_Q7apBCt36xeGbK</td>\n",
       "      <td>2025-02-27 09:38:00</td>\n",
       "      <td>NaT</td>\n",
       "      <td>NaN</td>\n",
       "      <td>False</td>\n",
       "      <td>False</td>\n",
       "      <td>...</td>\n",
       "      <td>39.0</td>\n",
       "      <td>0.0</td>\n",
       "      <td>NaN</td>\n",
       "      <td>NaN</td>\n",
       "      <td>NaN</td>\n",
       "      <td>39.0</td>\n",
       "      <td>0.0</td>\n",
       "      <td>draft</td>\n",
       "      <td>NaN</td>\n",
       "      <td>NaN</td>\n",
       "    </tr>\n",
       "    <tr>\n",
       "      <th>4</th>\n",
       "      <td>in_1Qx3WCAFeGZf0UoOcbJhPyor</td>\n",
       "      <td>82.8</td>\n",
       "      <td>False</td>\n",
       "      <td>eur</td>\n",
       "      <td>cus_MU4dOalEEat1Ah</td>\n",
       "      <td>2025-02-27 09:36:00</td>\n",
       "      <td>NaT</td>\n",
       "      <td>NaN</td>\n",
       "      <td>False</td>\n",
       "      <td>False</td>\n",
       "      <td>...</td>\n",
       "      <td>69.0</td>\n",
       "      <td>0.0</td>\n",
       "      <td>NaN</td>\n",
       "      <td>13.8</td>\n",
       "      <td>20.0</td>\n",
       "      <td>82.8</td>\n",
       "      <td>0.0</td>\n",
       "      <td>draft</td>\n",
       "      <td>13.8</td>\n",
       "      <td>0.0</td>\n",
       "    </tr>\n",
       "  </tbody>\n",
       "</table>\n",
       "<p>5 rows × 30 columns</p>\n",
       "</div>"
      ],
      "text/plain": [
       "                            id  amount due  closed currency  \\\n",
       "0  in_1Qx3plAFeGZf0UoOd9f9bW47         0.0   False      eur   \n",
       "1  in_1Qx3phAFeGZf0UoOy7Khkj9i         0.0   False      eur   \n",
       "2  in_1Qx3XqAFeGZf0UoONAAW2muL       104.4   False      eur   \n",
       "3  in_1Qx3XqAFeGZf0UoOl79vERDa        39.0   False      eur   \n",
       "4  in_1Qx3WCAFeGZf0UoOcbJhPyor        82.8   False      eur   \n",
       "\n",
       "             customer          date (utc)      due date (utc)  ending balance  \\\n",
       "0  cus_NHFLrvkCpBFCs7 2025-02-27 09:56:00                 NaT             NaN   \n",
       "1  cus_LSl85Ix2Ek965l 2025-02-27 09:56:00                 NaT             NaN   \n",
       "2  cus_PQFFOsNVNtuBN9 2025-02-27 09:38:00 2025-03-02 09:37:00             NaN   \n",
       "3  cus_Q7apBCt36xeGbK 2025-02-27 09:38:00                 NaT             NaN   \n",
       "4  cus_MU4dOalEEat1Ah 2025-02-27 09:36:00                 NaT             NaN   \n",
       "\n",
       "   forgiven   paid  ... subtotal total discount amount applied coupons   tax  \\\n",
       "0     False  False  ...      0.0                   0.0             NaN   0.0   \n",
       "1     False  False  ...      0.0                   0.0             NaN   0.0   \n",
       "2     False  False  ...     87.0                   0.0             NaN  17.4   \n",
       "3     False  False  ...     39.0                   0.0             NaN   NaN   \n",
       "4     False  False  ...     69.0                   0.0             NaN  13.8   \n",
       "\n",
       "  tax percent  total amount paid status  exclusive tax amount  \\\n",
       "0        20.0    0.0         0.0  draft                   0.0   \n",
       "1        19.0    0.0         0.0  draft                   0.0   \n",
       "2        20.0  104.4         0.0  draft                  17.4   \n",
       "3         NaN   39.0         0.0  draft                   NaN   \n",
       "4        20.0   82.8         0.0  draft                  13.8   \n",
       "\n",
       "  inclusive tax amount  \n",
       "0                  0.0  \n",
       "1                  0.0  \n",
       "2                  0.0  \n",
       "3                  NaN  \n",
       "4                  0.0  \n",
       "\n",
       "[5 rows x 30 columns]"
      ]
     },
     "execution_count": 53,
     "metadata": {},
     "output_type": "execute_result"
    }
   ],
   "source": [
    "filtered_df.head()"
   ]
  },
  {
   "cell_type": "code",
   "execution_count": 55,
   "metadata": {},
   "outputs": [],
   "source": [
    "filtered_df['date (utc)'] = pd.to_datetime(filtered_df['date (utc)'])\n"
   ]
  },
  {
   "cell_type": "code",
   "execution_count": 58,
   "metadata": {},
   "outputs": [],
   "source": [
    "filtered_df['month_year'] = filtered_df['date (utc)'].dt.to_period('M')\n",
    "filtered_df['date'] = filtered_df['date (utc)'].dt.date\n"
   ]
  },
  {
   "cell_type": "code",
   "execution_count": 57,
   "metadata": {},
   "outputs": [
    {
     "data": {
      "text/html": [
       "<div>\n",
       "<style scoped>\n",
       "    .dataframe tbody tr th:only-of-type {\n",
       "        vertical-align: middle;\n",
       "    }\n",
       "\n",
       "    .dataframe tbody tr th {\n",
       "        vertical-align: top;\n",
       "    }\n",
       "\n",
       "    .dataframe thead th {\n",
       "        text-align: right;\n",
       "    }\n",
       "</style>\n",
       "<table border=\"1\" class=\"dataframe\">\n",
       "  <thead>\n",
       "    <tr style=\"text-align: right;\">\n",
       "      <th></th>\n",
       "      <th>date (utc)</th>\n",
       "      <th>month_year</th>\n",
       "    </tr>\n",
       "  </thead>\n",
       "  <tbody>\n",
       "    <tr>\n",
       "      <th>0</th>\n",
       "      <td>2025-02-27 09:56:00</td>\n",
       "      <td>2025-02</td>\n",
       "    </tr>\n",
       "    <tr>\n",
       "      <th>1</th>\n",
       "      <td>2025-02-27 09:56:00</td>\n",
       "      <td>2025-02</td>\n",
       "    </tr>\n",
       "    <tr>\n",
       "      <th>2</th>\n",
       "      <td>2025-02-27 09:38:00</td>\n",
       "      <td>2025-02</td>\n",
       "    </tr>\n",
       "    <tr>\n",
       "      <th>3</th>\n",
       "      <td>2025-02-27 09:38:00</td>\n",
       "      <td>2025-02</td>\n",
       "    </tr>\n",
       "    <tr>\n",
       "      <th>4</th>\n",
       "      <td>2025-02-27 09:36:00</td>\n",
       "      <td>2025-02</td>\n",
       "    </tr>\n",
       "  </tbody>\n",
       "</table>\n",
       "</div>"
      ],
      "text/plain": [
       "           date (utc) month_year\n",
       "0 2025-02-27 09:56:00    2025-02\n",
       "1 2025-02-27 09:56:00    2025-02\n",
       "2 2025-02-27 09:38:00    2025-02\n",
       "3 2025-02-27 09:38:00    2025-02\n",
       "4 2025-02-27 09:36:00    2025-02"
      ]
     },
     "execution_count": 57,
     "metadata": {},
     "output_type": "execute_result"
    }
   ],
   "source": [
    "filtered_df[['date (utc)', 'month_year']].head()"
   ]
  },
  {
   "cell_type": "code",
   "execution_count": 60,
   "metadata": {},
   "outputs": [
    {
     "name": "stderr",
     "output_type": "stream",
     "text": [
      "/var/folders/9q/fz04wycx2gq4qyhgmbnk9x_r0000gn/T/ipykernel_28102/2307437496.py:1: FutureWarning:\n",
      "\n",
      "The default of observed=False is deprecated and will be changed to True in a future version of pandas. Pass observed=False to retain current behavior or observed=True to adopt the future default and silence this warning.\n",
      "\n"
     ]
    },
    {
     "data": {
      "application/vnd.plotly.v1+json": {
       "config": {
        "plotlyServerURL": "https://plot.ly"
       },
       "data": [
        {
         "line": {
          "color": "blue"
         },
         "name": "EUR Daily Total",
         "type": "scatter",
         "x": [
          "2024-12-31",
          "2025-01-01",
          "2025-01-02",
          "2025-01-03",
          "2025-01-04",
          "2025-01-05",
          "2025-01-06",
          "2025-01-07",
          "2025-01-08",
          "2025-01-09",
          "2025-01-10",
          "2025-01-11",
          "2025-01-12",
          "2025-01-13",
          "2025-01-14",
          "2025-01-15",
          "2025-01-16",
          "2025-01-17",
          "2025-01-18",
          "2025-01-19",
          "2025-01-20",
          "2025-01-21",
          "2025-01-22",
          "2025-01-23",
          "2025-01-24",
          "2025-01-25",
          "2025-01-26",
          "2025-01-27",
          "2025-01-28",
          "2025-01-29",
          "2025-01-30",
          "2025-01-31",
          "2025-02-01",
          "2025-02-02",
          "2025-02-03",
          "2025-02-04",
          "2025-02-05",
          "2025-02-06",
          "2025-02-07",
          "2025-02-08",
          "2025-02-09",
          "2025-02-10",
          "2025-02-11",
          "2025-02-12",
          "2025-02-13",
          "2025-02-14",
          "2025-02-15",
          "2025-02-16",
          "2025-02-17",
          "2025-02-18",
          "2025-02-19",
          "2025-02-20",
          "2025-02-21",
          "2025-02-22",
          "2025-02-23",
          "2025-02-24",
          "2025-02-25",
          "2025-02-26",
          "2025-02-27"
         ],
         "y": {
          "bdata": "AAAAAAAAAACuR+F6lMGvQEjhehQuhbZACtejcL1WxUDhehSuxyelQEjhehQu3bpAMzMzM/O0tkBI4XoUrmezQB+F61FYIdBAH4XrUdjpwUBSuB6FaxizQOxRuB4FirdAuB6F61HcuUCkcD0Kt/DTQDMzMzPz17tAmpmZmdllsUAfhetReLrAQArXo3C9C7pAUrgehWsjv0Bcj8L1qB2wQBSuR+H6w8FAH4XrUXiXtkApXI/CVVXRQJmZmZl58MZA4XoUroetvEBI4XoULju3QFK4HoWrI7JApHA9CteysEA9CtejsHe6QFyPwvXocrhAUrgehcu2xUA+CtejcCu4QFK4HoVLcM9AAAAAAMAUtUCamZmZ2UbDQNejcD2KYbhA7FG4HiWHxEBxPQrXw1PAQHsUrkfhxLhA16NwPQrxt0BmZmZmZv3KQLgeheuROr5ArkfhehTwukCamZmZ2YrIQArXo3CdbMBAH4XrUbjBvEDrUbgeBQK2QIXrUbhebLdAmpmZmRnUtkDrUbgehZTGQGZmZmaG28dAzczMzIxbwkDNzMzMzBi+QD4K16PgttdAFK5H4QoT2kCkcD0KV7m5QBSuR+H6kL1ASOF6FO5ou0CF61G4HrOVQA==",
          "dtype": "f8"
         }
        },
        {
         "line": {
          "color": "red"
         },
         "name": "USD Daily Total",
         "type": "scatter",
         "x": [
          "2024-12-31",
          "2025-01-01",
          "2025-01-02",
          "2025-01-03",
          "2025-01-04",
          "2025-01-05",
          "2025-01-06",
          "2025-01-07",
          "2025-01-08",
          "2025-01-09",
          "2025-01-10",
          "2025-01-11",
          "2025-01-12",
          "2025-01-13",
          "2025-01-14",
          "2025-01-15",
          "2025-01-16",
          "2025-01-17",
          "2025-01-18",
          "2025-01-19",
          "2025-01-20",
          "2025-01-21",
          "2025-01-22",
          "2025-01-23",
          "2025-01-24",
          "2025-01-25",
          "2025-01-26",
          "2025-01-27",
          "2025-01-28",
          "2025-01-29",
          "2025-01-30",
          "2025-01-31",
          "2025-02-01",
          "2025-02-02",
          "2025-02-03",
          "2025-02-04",
          "2025-02-05",
          "2025-02-06",
          "2025-02-07",
          "2025-02-08",
          "2025-02-09",
          "2025-02-10",
          "2025-02-11",
          "2025-02-12",
          "2025-02-13",
          "2025-02-14",
          "2025-02-15",
          "2025-02-16",
          "2025-02-17",
          "2025-02-18",
          "2025-02-19",
          "2025-02-20",
          "2025-02-21",
          "2025-02-22",
          "2025-02-23",
          "2025-02-24",
          "2025-02-25",
          "2025-02-26",
          "2025-02-27"
         ],
         "y": {
          "bdata": "ZmZmZmb5zUBmZmZmZj+hQAAAAACAoapAUrgehet+qkA+CtejsE7GQK5H4XoU6rNAKVyPwvUDtUB7FK5HYcSlQLgehevR7atAexSuR6FWvUBxPQrXI860QM3MzMzMGaZAAAAAAIAwpED2KFyPAuK6QBSuR+H6T6dAhetRuB4htECkcD0KV66vQFyPwvWoV7NAcT0K16OqpEDXo3A9CnCkQOxRuB5FWLdArkfhehTov0ApXI/CNdiyQB+F61E4GrJA16NwPUqQskBSuB6F6+GwQDMzMzMziqlAUrgehWsopkApXI/CdYioQFyPwvUooq9A4XoUrgdFvUAAAAAAAM+2QAAAAAAAVKlAhetRuJ5TpkBxPQrXo1W1QLgehetRS7RAuB6F6xEiskAUrkfh+jW+QJqZmZl5QMBAFa5H4foYpEAAAAAAAICzQPYoXI9CwqxAexSuR2HfvkD2KFyPwmKuQArXo3A9XbhA7FG4HgWFu0DNzMzMDLS1QGZmZmbmA6pAH4XrUTiAukBcj8L1KCasQML1KFyvL8BAhetRuF6psUAUrkfhuiHBQNejcD0K4a1AAAAAAACdo0CF61G4Xiy1QPYoXI8CILdACtejcH35sEB7FK5H4eqHQA==",
          "dtype": "f8"
         }
        }
       ],
       "layout": {
        "hovermode": "x unified",
        "showlegend": true,
        "template": {
         "data": {
          "bar": [
           {
            "error_x": {
             "color": "#2a3f5f"
            },
            "error_y": {
             "color": "#2a3f5f"
            },
            "marker": {
             "line": {
              "color": "#E5ECF6",
              "width": 0.5
             },
             "pattern": {
              "fillmode": "overlay",
              "size": 10,
              "solidity": 0.2
             }
            },
            "type": "bar"
           }
          ],
          "barpolar": [
           {
            "marker": {
             "line": {
              "color": "#E5ECF6",
              "width": 0.5
             },
             "pattern": {
              "fillmode": "overlay",
              "size": 10,
              "solidity": 0.2
             }
            },
            "type": "barpolar"
           }
          ],
          "carpet": [
           {
            "aaxis": {
             "endlinecolor": "#2a3f5f",
             "gridcolor": "white",
             "linecolor": "white",
             "minorgridcolor": "white",
             "startlinecolor": "#2a3f5f"
            },
            "baxis": {
             "endlinecolor": "#2a3f5f",
             "gridcolor": "white",
             "linecolor": "white",
             "minorgridcolor": "white",
             "startlinecolor": "#2a3f5f"
            },
            "type": "carpet"
           }
          ],
          "choropleth": [
           {
            "colorbar": {
             "outlinewidth": 0,
             "ticks": ""
            },
            "type": "choropleth"
           }
          ],
          "contour": [
           {
            "colorbar": {
             "outlinewidth": 0,
             "ticks": ""
            },
            "colorscale": [
             [
              0,
              "#0d0887"
             ],
             [
              0.1111111111111111,
              "#46039f"
             ],
             [
              0.2222222222222222,
              "#7201a8"
             ],
             [
              0.3333333333333333,
              "#9c179e"
             ],
             [
              0.4444444444444444,
              "#bd3786"
             ],
             [
              0.5555555555555556,
              "#d8576b"
             ],
             [
              0.6666666666666666,
              "#ed7953"
             ],
             [
              0.7777777777777778,
              "#fb9f3a"
             ],
             [
              0.8888888888888888,
              "#fdca26"
             ],
             [
              1,
              "#f0f921"
             ]
            ],
            "type": "contour"
           }
          ],
          "contourcarpet": [
           {
            "colorbar": {
             "outlinewidth": 0,
             "ticks": ""
            },
            "type": "contourcarpet"
           }
          ],
          "heatmap": [
           {
            "colorbar": {
             "outlinewidth": 0,
             "ticks": ""
            },
            "colorscale": [
             [
              0,
              "#0d0887"
             ],
             [
              0.1111111111111111,
              "#46039f"
             ],
             [
              0.2222222222222222,
              "#7201a8"
             ],
             [
              0.3333333333333333,
              "#9c179e"
             ],
             [
              0.4444444444444444,
              "#bd3786"
             ],
             [
              0.5555555555555556,
              "#d8576b"
             ],
             [
              0.6666666666666666,
              "#ed7953"
             ],
             [
              0.7777777777777778,
              "#fb9f3a"
             ],
             [
              0.8888888888888888,
              "#fdca26"
             ],
             [
              1,
              "#f0f921"
             ]
            ],
            "type": "heatmap"
           }
          ],
          "histogram": [
           {
            "marker": {
             "pattern": {
              "fillmode": "overlay",
              "size": 10,
              "solidity": 0.2
             }
            },
            "type": "histogram"
           }
          ],
          "histogram2d": [
           {
            "colorbar": {
             "outlinewidth": 0,
             "ticks": ""
            },
            "colorscale": [
             [
              0,
              "#0d0887"
             ],
             [
              0.1111111111111111,
              "#46039f"
             ],
             [
              0.2222222222222222,
              "#7201a8"
             ],
             [
              0.3333333333333333,
              "#9c179e"
             ],
             [
              0.4444444444444444,
              "#bd3786"
             ],
             [
              0.5555555555555556,
              "#d8576b"
             ],
             [
              0.6666666666666666,
              "#ed7953"
             ],
             [
              0.7777777777777778,
              "#fb9f3a"
             ],
             [
              0.8888888888888888,
              "#fdca26"
             ],
             [
              1,
              "#f0f921"
             ]
            ],
            "type": "histogram2d"
           }
          ],
          "histogram2dcontour": [
           {
            "colorbar": {
             "outlinewidth": 0,
             "ticks": ""
            },
            "colorscale": [
             [
              0,
              "#0d0887"
             ],
             [
              0.1111111111111111,
              "#46039f"
             ],
             [
              0.2222222222222222,
              "#7201a8"
             ],
             [
              0.3333333333333333,
              "#9c179e"
             ],
             [
              0.4444444444444444,
              "#bd3786"
             ],
             [
              0.5555555555555556,
              "#d8576b"
             ],
             [
              0.6666666666666666,
              "#ed7953"
             ],
             [
              0.7777777777777778,
              "#fb9f3a"
             ],
             [
              0.8888888888888888,
              "#fdca26"
             ],
             [
              1,
              "#f0f921"
             ]
            ],
            "type": "histogram2dcontour"
           }
          ],
          "mesh3d": [
           {
            "colorbar": {
             "outlinewidth": 0,
             "ticks": ""
            },
            "type": "mesh3d"
           }
          ],
          "parcoords": [
           {
            "line": {
             "colorbar": {
              "outlinewidth": 0,
              "ticks": ""
             }
            },
            "type": "parcoords"
           }
          ],
          "pie": [
           {
            "automargin": true,
            "type": "pie"
           }
          ],
          "scatter": [
           {
            "fillpattern": {
             "fillmode": "overlay",
             "size": 10,
             "solidity": 0.2
            },
            "type": "scatter"
           }
          ],
          "scatter3d": [
           {
            "line": {
             "colorbar": {
              "outlinewidth": 0,
              "ticks": ""
             }
            },
            "marker": {
             "colorbar": {
              "outlinewidth": 0,
              "ticks": ""
             }
            },
            "type": "scatter3d"
           }
          ],
          "scattercarpet": [
           {
            "marker": {
             "colorbar": {
              "outlinewidth": 0,
              "ticks": ""
             }
            },
            "type": "scattercarpet"
           }
          ],
          "scattergeo": [
           {
            "marker": {
             "colorbar": {
              "outlinewidth": 0,
              "ticks": ""
             }
            },
            "type": "scattergeo"
           }
          ],
          "scattergl": [
           {
            "marker": {
             "colorbar": {
              "outlinewidth": 0,
              "ticks": ""
             }
            },
            "type": "scattergl"
           }
          ],
          "scattermap": [
           {
            "marker": {
             "colorbar": {
              "outlinewidth": 0,
              "ticks": ""
             }
            },
            "type": "scattermap"
           }
          ],
          "scattermapbox": [
           {
            "marker": {
             "colorbar": {
              "outlinewidth": 0,
              "ticks": ""
             }
            },
            "type": "scattermapbox"
           }
          ],
          "scatterpolar": [
           {
            "marker": {
             "colorbar": {
              "outlinewidth": 0,
              "ticks": ""
             }
            },
            "type": "scatterpolar"
           }
          ],
          "scatterpolargl": [
           {
            "marker": {
             "colorbar": {
              "outlinewidth": 0,
              "ticks": ""
             }
            },
            "type": "scatterpolargl"
           }
          ],
          "scatterternary": [
           {
            "marker": {
             "colorbar": {
              "outlinewidth": 0,
              "ticks": ""
             }
            },
            "type": "scatterternary"
           }
          ],
          "surface": [
           {
            "colorbar": {
             "outlinewidth": 0,
             "ticks": ""
            },
            "colorscale": [
             [
              0,
              "#0d0887"
             ],
             [
              0.1111111111111111,
              "#46039f"
             ],
             [
              0.2222222222222222,
              "#7201a8"
             ],
             [
              0.3333333333333333,
              "#9c179e"
             ],
             [
              0.4444444444444444,
              "#bd3786"
             ],
             [
              0.5555555555555556,
              "#d8576b"
             ],
             [
              0.6666666666666666,
              "#ed7953"
             ],
             [
              0.7777777777777778,
              "#fb9f3a"
             ],
             [
              0.8888888888888888,
              "#fdca26"
             ],
             [
              1,
              "#f0f921"
             ]
            ],
            "type": "surface"
           }
          ],
          "table": [
           {
            "cells": {
             "fill": {
              "color": "#EBF0F8"
             },
             "line": {
              "color": "white"
             }
            },
            "header": {
             "fill": {
              "color": "#C8D4E3"
             },
             "line": {
              "color": "white"
             }
            },
            "type": "table"
           }
          ]
         },
         "layout": {
          "annotationdefaults": {
           "arrowcolor": "#2a3f5f",
           "arrowhead": 0,
           "arrowwidth": 1
          },
          "autotypenumbers": "strict",
          "coloraxis": {
           "colorbar": {
            "outlinewidth": 0,
            "ticks": ""
           }
          },
          "colorscale": {
           "diverging": [
            [
             0,
             "#8e0152"
            ],
            [
             0.1,
             "#c51b7d"
            ],
            [
             0.2,
             "#de77ae"
            ],
            [
             0.3,
             "#f1b6da"
            ],
            [
             0.4,
             "#fde0ef"
            ],
            [
             0.5,
             "#f7f7f7"
            ],
            [
             0.6,
             "#e6f5d0"
            ],
            [
             0.7,
             "#b8e186"
            ],
            [
             0.8,
             "#7fbc41"
            ],
            [
             0.9,
             "#4d9221"
            ],
            [
             1,
             "#276419"
            ]
           ],
           "sequential": [
            [
             0,
             "#0d0887"
            ],
            [
             0.1111111111111111,
             "#46039f"
            ],
            [
             0.2222222222222222,
             "#7201a8"
            ],
            [
             0.3333333333333333,
             "#9c179e"
            ],
            [
             0.4444444444444444,
             "#bd3786"
            ],
            [
             0.5555555555555556,
             "#d8576b"
            ],
            [
             0.6666666666666666,
             "#ed7953"
            ],
            [
             0.7777777777777778,
             "#fb9f3a"
            ],
            [
             0.8888888888888888,
             "#fdca26"
            ],
            [
             1,
             "#f0f921"
            ]
           ],
           "sequentialminus": [
            [
             0,
             "#0d0887"
            ],
            [
             0.1111111111111111,
             "#46039f"
            ],
            [
             0.2222222222222222,
             "#7201a8"
            ],
            [
             0.3333333333333333,
             "#9c179e"
            ],
            [
             0.4444444444444444,
             "#bd3786"
            ],
            [
             0.5555555555555556,
             "#d8576b"
            ],
            [
             0.6666666666666666,
             "#ed7953"
            ],
            [
             0.7777777777777778,
             "#fb9f3a"
            ],
            [
             0.8888888888888888,
             "#fdca26"
            ],
            [
             1,
             "#f0f921"
            ]
           ]
          },
          "colorway": [
           "#636efa",
           "#EF553B",
           "#00cc96",
           "#ab63fa",
           "#FFA15A",
           "#19d3f3",
           "#FF6692",
           "#B6E880",
           "#FF97FF",
           "#FECB52"
          ],
          "font": {
           "color": "#2a3f5f"
          },
          "geo": {
           "bgcolor": "white",
           "lakecolor": "white",
           "landcolor": "#E5ECF6",
           "showlakes": true,
           "showland": true,
           "subunitcolor": "white"
          },
          "hoverlabel": {
           "align": "left"
          },
          "hovermode": "closest",
          "mapbox": {
           "style": "light"
          },
          "paper_bgcolor": "white",
          "plot_bgcolor": "#E5ECF6",
          "polar": {
           "angularaxis": {
            "gridcolor": "white",
            "linecolor": "white",
            "ticks": ""
           },
           "bgcolor": "#E5ECF6",
           "radialaxis": {
            "gridcolor": "white",
            "linecolor": "white",
            "ticks": ""
           }
          },
          "scene": {
           "xaxis": {
            "backgroundcolor": "#E5ECF6",
            "gridcolor": "white",
            "gridwidth": 2,
            "linecolor": "white",
            "showbackground": true,
            "ticks": "",
            "zerolinecolor": "white"
           },
           "yaxis": {
            "backgroundcolor": "#E5ECF6",
            "gridcolor": "white",
            "gridwidth": 2,
            "linecolor": "white",
            "showbackground": true,
            "ticks": "",
            "zerolinecolor": "white"
           },
           "zaxis": {
            "backgroundcolor": "#E5ECF6",
            "gridcolor": "white",
            "gridwidth": 2,
            "linecolor": "white",
            "showbackground": true,
            "ticks": "",
            "zerolinecolor": "white"
           }
          },
          "shapedefaults": {
           "line": {
            "color": "#2a3f5f"
           }
          },
          "ternary": {
           "aaxis": {
            "gridcolor": "white",
            "linecolor": "white",
            "ticks": ""
           },
           "baxis": {
            "gridcolor": "white",
            "linecolor": "white",
            "ticks": ""
           },
           "bgcolor": "#E5ECF6",
           "caxis": {
            "gridcolor": "white",
            "linecolor": "white",
            "ticks": ""
           }
          },
          "title": {
           "x": 0.05
          },
          "xaxis": {
           "automargin": true,
           "gridcolor": "white",
           "linecolor": "white",
           "ticks": "",
           "title": {
            "standoff": 15
           },
           "zerolinecolor": "white",
           "zerolinewidth": 2
          },
          "yaxis": {
           "automargin": true,
           "gridcolor": "white",
           "linecolor": "white",
           "ticks": "",
           "title": {
            "standoff": 15
           },
           "zerolinecolor": "white",
           "zerolinewidth": 2
          }
         }
        },
        "title": {
         "text": "Daily Totals by Currency"
        },
        "xaxis": {
         "title": {
          "text": "Date"
         }
        },
        "yaxis": {
         "title": {
          "text": "Total Amount"
         }
        }
       }
      }
     },
     "metadata": {},
     "output_type": "display_data"
    }
   ],
   "source": [
    "daily_totals = filtered_df.groupby(['date', 'currency'])['total'].sum().unstack().reset_index()\n",
    "\n",
    "fig = go.Figure()\n",
    "\n",
    "fig.add_trace(go.Scatter(\n",
    "    x=daily_totals['date'],\n",
    "    y=daily_totals['eur'],\n",
    "    name='EUR Daily Total',\n",
    "    line=dict(color='blue')\n",
    "))\n",
    "\n",
    "fig.add_trace(go.Scatter(\n",
    "    x=daily_totals['date'],\n",
    "    y=daily_totals['usd'],\n",
    "    name='USD Daily Total',\n",
    "    line=dict(color='red')\n",
    "))\n",
    "\n",
    "fig.update_layout(\n",
    "    title='Daily Totals by Currency',\n",
    "    xaxis_title='Date',\n",
    "    yaxis_title='Total Amount',\n",
    "    showlegend=True,\n",
    "    hovermode='x unified'  \n",
    ")\n",
    "\n",
    "fig.show()"
   ]
  },
  {
   "cell_type": "code",
   "execution_count": 61,
   "metadata": {},
   "outputs": [
    {
     "data": {
      "application/vnd.plotly.v1+json": {
       "config": {
        "plotlyServerURL": "https://plot.ly"
       },
       "data": [
        {
         "line": {
          "color": "blue"
         },
         "name": "Unique Customers",
         "type": "scatter",
         "x": [
          "2024-12",
          "2025-01",
          "2025-02"
         ],
         "y": {
          "bdata": "AQC8Dy4O",
          "dtype": "i2"
         }
        }
       ],
       "layout": {
        "showlegend": true,
        "template": {
         "data": {
          "bar": [
           {
            "error_x": {
             "color": "#2a3f5f"
            },
            "error_y": {
             "color": "#2a3f5f"
            },
            "marker": {
             "line": {
              "color": "#E5ECF6",
              "width": 0.5
             },
             "pattern": {
              "fillmode": "overlay",
              "size": 10,
              "solidity": 0.2
             }
            },
            "type": "bar"
           }
          ],
          "barpolar": [
           {
            "marker": {
             "line": {
              "color": "#E5ECF6",
              "width": 0.5
             },
             "pattern": {
              "fillmode": "overlay",
              "size": 10,
              "solidity": 0.2
             }
            },
            "type": "barpolar"
           }
          ],
          "carpet": [
           {
            "aaxis": {
             "endlinecolor": "#2a3f5f",
             "gridcolor": "white",
             "linecolor": "white",
             "minorgridcolor": "white",
             "startlinecolor": "#2a3f5f"
            },
            "baxis": {
             "endlinecolor": "#2a3f5f",
             "gridcolor": "white",
             "linecolor": "white",
             "minorgridcolor": "white",
             "startlinecolor": "#2a3f5f"
            },
            "type": "carpet"
           }
          ],
          "choropleth": [
           {
            "colorbar": {
             "outlinewidth": 0,
             "ticks": ""
            },
            "type": "choropleth"
           }
          ],
          "contour": [
           {
            "colorbar": {
             "outlinewidth": 0,
             "ticks": ""
            },
            "colorscale": [
             [
              0,
              "#0d0887"
             ],
             [
              0.1111111111111111,
              "#46039f"
             ],
             [
              0.2222222222222222,
              "#7201a8"
             ],
             [
              0.3333333333333333,
              "#9c179e"
             ],
             [
              0.4444444444444444,
              "#bd3786"
             ],
             [
              0.5555555555555556,
              "#d8576b"
             ],
             [
              0.6666666666666666,
              "#ed7953"
             ],
             [
              0.7777777777777778,
              "#fb9f3a"
             ],
             [
              0.8888888888888888,
              "#fdca26"
             ],
             [
              1,
              "#f0f921"
             ]
            ],
            "type": "contour"
           }
          ],
          "contourcarpet": [
           {
            "colorbar": {
             "outlinewidth": 0,
             "ticks": ""
            },
            "type": "contourcarpet"
           }
          ],
          "heatmap": [
           {
            "colorbar": {
             "outlinewidth": 0,
             "ticks": ""
            },
            "colorscale": [
             [
              0,
              "#0d0887"
             ],
             [
              0.1111111111111111,
              "#46039f"
             ],
             [
              0.2222222222222222,
              "#7201a8"
             ],
             [
              0.3333333333333333,
              "#9c179e"
             ],
             [
              0.4444444444444444,
              "#bd3786"
             ],
             [
              0.5555555555555556,
              "#d8576b"
             ],
             [
              0.6666666666666666,
              "#ed7953"
             ],
             [
              0.7777777777777778,
              "#fb9f3a"
             ],
             [
              0.8888888888888888,
              "#fdca26"
             ],
             [
              1,
              "#f0f921"
             ]
            ],
            "type": "heatmap"
           }
          ],
          "histogram": [
           {
            "marker": {
             "pattern": {
              "fillmode": "overlay",
              "size": 10,
              "solidity": 0.2
             }
            },
            "type": "histogram"
           }
          ],
          "histogram2d": [
           {
            "colorbar": {
             "outlinewidth": 0,
             "ticks": ""
            },
            "colorscale": [
             [
              0,
              "#0d0887"
             ],
             [
              0.1111111111111111,
              "#46039f"
             ],
             [
              0.2222222222222222,
              "#7201a8"
             ],
             [
              0.3333333333333333,
              "#9c179e"
             ],
             [
              0.4444444444444444,
              "#bd3786"
             ],
             [
              0.5555555555555556,
              "#d8576b"
             ],
             [
              0.6666666666666666,
              "#ed7953"
             ],
             [
              0.7777777777777778,
              "#fb9f3a"
             ],
             [
              0.8888888888888888,
              "#fdca26"
             ],
             [
              1,
              "#f0f921"
             ]
            ],
            "type": "histogram2d"
           }
          ],
          "histogram2dcontour": [
           {
            "colorbar": {
             "outlinewidth": 0,
             "ticks": ""
            },
            "colorscale": [
             [
              0,
              "#0d0887"
             ],
             [
              0.1111111111111111,
              "#46039f"
             ],
             [
              0.2222222222222222,
              "#7201a8"
             ],
             [
              0.3333333333333333,
              "#9c179e"
             ],
             [
              0.4444444444444444,
              "#bd3786"
             ],
             [
              0.5555555555555556,
              "#d8576b"
             ],
             [
              0.6666666666666666,
              "#ed7953"
             ],
             [
              0.7777777777777778,
              "#fb9f3a"
             ],
             [
              0.8888888888888888,
              "#fdca26"
             ],
             [
              1,
              "#f0f921"
             ]
            ],
            "type": "histogram2dcontour"
           }
          ],
          "mesh3d": [
           {
            "colorbar": {
             "outlinewidth": 0,
             "ticks": ""
            },
            "type": "mesh3d"
           }
          ],
          "parcoords": [
           {
            "line": {
             "colorbar": {
              "outlinewidth": 0,
              "ticks": ""
             }
            },
            "type": "parcoords"
           }
          ],
          "pie": [
           {
            "automargin": true,
            "type": "pie"
           }
          ],
          "scatter": [
           {
            "fillpattern": {
             "fillmode": "overlay",
             "size": 10,
             "solidity": 0.2
            },
            "type": "scatter"
           }
          ],
          "scatter3d": [
           {
            "line": {
             "colorbar": {
              "outlinewidth": 0,
              "ticks": ""
             }
            },
            "marker": {
             "colorbar": {
              "outlinewidth": 0,
              "ticks": ""
             }
            },
            "type": "scatter3d"
           }
          ],
          "scattercarpet": [
           {
            "marker": {
             "colorbar": {
              "outlinewidth": 0,
              "ticks": ""
             }
            },
            "type": "scattercarpet"
           }
          ],
          "scattergeo": [
           {
            "marker": {
             "colorbar": {
              "outlinewidth": 0,
              "ticks": ""
             }
            },
            "type": "scattergeo"
           }
          ],
          "scattergl": [
           {
            "marker": {
             "colorbar": {
              "outlinewidth": 0,
              "ticks": ""
             }
            },
            "type": "scattergl"
           }
          ],
          "scattermap": [
           {
            "marker": {
             "colorbar": {
              "outlinewidth": 0,
              "ticks": ""
             }
            },
            "type": "scattermap"
           }
          ],
          "scattermapbox": [
           {
            "marker": {
             "colorbar": {
              "outlinewidth": 0,
              "ticks": ""
             }
            },
            "type": "scattermapbox"
           }
          ],
          "scatterpolar": [
           {
            "marker": {
             "colorbar": {
              "outlinewidth": 0,
              "ticks": ""
             }
            },
            "type": "scatterpolar"
           }
          ],
          "scatterpolargl": [
           {
            "marker": {
             "colorbar": {
              "outlinewidth": 0,
              "ticks": ""
             }
            },
            "type": "scatterpolargl"
           }
          ],
          "scatterternary": [
           {
            "marker": {
             "colorbar": {
              "outlinewidth": 0,
              "ticks": ""
             }
            },
            "type": "scatterternary"
           }
          ],
          "surface": [
           {
            "colorbar": {
             "outlinewidth": 0,
             "ticks": ""
            },
            "colorscale": [
             [
              0,
              "#0d0887"
             ],
             [
              0.1111111111111111,
              "#46039f"
             ],
             [
              0.2222222222222222,
              "#7201a8"
             ],
             [
              0.3333333333333333,
              "#9c179e"
             ],
             [
              0.4444444444444444,
              "#bd3786"
             ],
             [
              0.5555555555555556,
              "#d8576b"
             ],
             [
              0.6666666666666666,
              "#ed7953"
             ],
             [
              0.7777777777777778,
              "#fb9f3a"
             ],
             [
              0.8888888888888888,
              "#fdca26"
             ],
             [
              1,
              "#f0f921"
             ]
            ],
            "type": "surface"
           }
          ],
          "table": [
           {
            "cells": {
             "fill": {
              "color": "#EBF0F8"
             },
             "line": {
              "color": "white"
             }
            },
            "header": {
             "fill": {
              "color": "#C8D4E3"
             },
             "line": {
              "color": "white"
             }
            },
            "type": "table"
           }
          ]
         },
         "layout": {
          "annotationdefaults": {
           "arrowcolor": "#2a3f5f",
           "arrowhead": 0,
           "arrowwidth": 1
          },
          "autotypenumbers": "strict",
          "coloraxis": {
           "colorbar": {
            "outlinewidth": 0,
            "ticks": ""
           }
          },
          "colorscale": {
           "diverging": [
            [
             0,
             "#8e0152"
            ],
            [
             0.1,
             "#c51b7d"
            ],
            [
             0.2,
             "#de77ae"
            ],
            [
             0.3,
             "#f1b6da"
            ],
            [
             0.4,
             "#fde0ef"
            ],
            [
             0.5,
             "#f7f7f7"
            ],
            [
             0.6,
             "#e6f5d0"
            ],
            [
             0.7,
             "#b8e186"
            ],
            [
             0.8,
             "#7fbc41"
            ],
            [
             0.9,
             "#4d9221"
            ],
            [
             1,
             "#276419"
            ]
           ],
           "sequential": [
            [
             0,
             "#0d0887"
            ],
            [
             0.1111111111111111,
             "#46039f"
            ],
            [
             0.2222222222222222,
             "#7201a8"
            ],
            [
             0.3333333333333333,
             "#9c179e"
            ],
            [
             0.4444444444444444,
             "#bd3786"
            ],
            [
             0.5555555555555556,
             "#d8576b"
            ],
            [
             0.6666666666666666,
             "#ed7953"
            ],
            [
             0.7777777777777778,
             "#fb9f3a"
            ],
            [
             0.8888888888888888,
             "#fdca26"
            ],
            [
             1,
             "#f0f921"
            ]
           ],
           "sequentialminus": [
            [
             0,
             "#0d0887"
            ],
            [
             0.1111111111111111,
             "#46039f"
            ],
            [
             0.2222222222222222,
             "#7201a8"
            ],
            [
             0.3333333333333333,
             "#9c179e"
            ],
            [
             0.4444444444444444,
             "#bd3786"
            ],
            [
             0.5555555555555556,
             "#d8576b"
            ],
            [
             0.6666666666666666,
             "#ed7953"
            ],
            [
             0.7777777777777778,
             "#fb9f3a"
            ],
            [
             0.8888888888888888,
             "#fdca26"
            ],
            [
             1,
             "#f0f921"
            ]
           ]
          },
          "colorway": [
           "#636efa",
           "#EF553B",
           "#00cc96",
           "#ab63fa",
           "#FFA15A",
           "#19d3f3",
           "#FF6692",
           "#B6E880",
           "#FF97FF",
           "#FECB52"
          ],
          "font": {
           "color": "#2a3f5f"
          },
          "geo": {
           "bgcolor": "white",
           "lakecolor": "white",
           "landcolor": "#E5ECF6",
           "showlakes": true,
           "showland": true,
           "subunitcolor": "white"
          },
          "hoverlabel": {
           "align": "left"
          },
          "hovermode": "closest",
          "mapbox": {
           "style": "light"
          },
          "paper_bgcolor": "white",
          "plot_bgcolor": "#E5ECF6",
          "polar": {
           "angularaxis": {
            "gridcolor": "white",
            "linecolor": "white",
            "ticks": ""
           },
           "bgcolor": "#E5ECF6",
           "radialaxis": {
            "gridcolor": "white",
            "linecolor": "white",
            "ticks": ""
           }
          },
          "scene": {
           "xaxis": {
            "backgroundcolor": "#E5ECF6",
            "gridcolor": "white",
            "gridwidth": 2,
            "linecolor": "white",
            "showbackground": true,
            "ticks": "",
            "zerolinecolor": "white"
           },
           "yaxis": {
            "backgroundcolor": "#E5ECF6",
            "gridcolor": "white",
            "gridwidth": 2,
            "linecolor": "white",
            "showbackground": true,
            "ticks": "",
            "zerolinecolor": "white"
           },
           "zaxis": {
            "backgroundcolor": "#E5ECF6",
            "gridcolor": "white",
            "gridwidth": 2,
            "linecolor": "white",
            "showbackground": true,
            "ticks": "",
            "zerolinecolor": "white"
           }
          },
          "shapedefaults": {
           "line": {
            "color": "#2a3f5f"
           }
          },
          "ternary": {
           "aaxis": {
            "gridcolor": "white",
            "linecolor": "white",
            "ticks": ""
           },
           "baxis": {
            "gridcolor": "white",
            "linecolor": "white",
            "ticks": ""
           },
           "bgcolor": "#E5ECF6",
           "caxis": {
            "gridcolor": "white",
            "linecolor": "white",
            "ticks": ""
           }
          },
          "title": {
           "x": 0.05
          },
          "xaxis": {
           "automargin": true,
           "gridcolor": "white",
           "linecolor": "white",
           "ticks": "",
           "title": {
            "standoff": 15
           },
           "zerolinecolor": "white",
           "zerolinewidth": 2
          },
          "yaxis": {
           "automargin": true,
           "gridcolor": "white",
           "linecolor": "white",
           "ticks": "",
           "title": {
            "standoff": 15
           },
           "zerolinecolor": "white",
           "zerolinewidth": 2
          }
         }
        },
        "title": {
         "text": "Number of Unique Customers by Month"
        },
        "xaxis": {
         "title": {
          "text": "Month"
         }
        },
        "yaxis": {
         "title": {
          "text": "Number of Unique Customers"
         }
        }
       }
      }
     },
     "metadata": {},
     "output_type": "display_data"
    }
   ],
   "source": [
    "monthly_customers = filtered_df.groupby('month_year')['customer'].nunique().reset_index()\n",
    "\n",
    "fig = go.Figure()\n",
    "\n",
    "fig.add_trace(go.Scatter(\n",
    "    x=monthly_customers['month_year'].astype(str),\n",
    "    y=monthly_customers['customer'],\n",
    "    name='Unique Customers',\n",
    "    line=dict(color='blue')\n",
    "))\n",
    "\n",
    "fig.update_layout(\n",
    "    title='Number of Unique Customers by Month',\n",
    "    xaxis_title='Month',\n",
    "    yaxis_title='Number of Unique Customers',\n",
    "    showlegend=True\n",
    ")\n",
    "\n",
    "fig.show()"
   ]
  },
  {
   "cell_type": "code",
   "execution_count": 65,
   "metadata": {},
   "outputs": [
    {
     "data": {
      "text/html": [
       "<div>\n",
       "<style scoped>\n",
       "    .dataframe tbody tr th:only-of-type {\n",
       "        vertical-align: middle;\n",
       "    }\n",
       "\n",
       "    .dataframe tbody tr th {\n",
       "        vertical-align: top;\n",
       "    }\n",
       "\n",
       "    .dataframe thead th {\n",
       "        text-align: right;\n",
       "    }\n",
       "</style>\n",
       "<table border=\"1\" class=\"dataframe\">\n",
       "  <thead>\n",
       "    <tr style=\"text-align: right;\">\n",
       "      <th></th>\n",
       "      <th>id</th>\n",
       "      <th>amount due</th>\n",
       "      <th>closed</th>\n",
       "      <th>currency</th>\n",
       "      <th>customer</th>\n",
       "      <th>date (utc)</th>\n",
       "      <th>due date (utc)</th>\n",
       "      <th>ending balance</th>\n",
       "      <th>forgiven</th>\n",
       "      <th>paid</th>\n",
       "      <th>...</th>\n",
       "      <th>applied coupons</th>\n",
       "      <th>tax</th>\n",
       "      <th>tax percent</th>\n",
       "      <th>total</th>\n",
       "      <th>amount paid</th>\n",
       "      <th>status</th>\n",
       "      <th>exclusive tax amount</th>\n",
       "      <th>inclusive tax amount</th>\n",
       "      <th>month_year</th>\n",
       "      <th>date</th>\n",
       "    </tr>\n",
       "  </thead>\n",
       "  <tbody>\n",
       "    <tr>\n",
       "      <th>0</th>\n",
       "      <td>in_1Qx3plAFeGZf0UoOd9f9bW47</td>\n",
       "      <td>0.0</td>\n",
       "      <td>False</td>\n",
       "      <td>eur</td>\n",
       "      <td>cus_NHFLrvkCpBFCs7</td>\n",
       "      <td>2025-02-27 09:56:00</td>\n",
       "      <td>NaT</td>\n",
       "      <td>NaN</td>\n",
       "      <td>False</td>\n",
       "      <td>False</td>\n",
       "      <td>...</td>\n",
       "      <td>NaN</td>\n",
       "      <td>0.0</td>\n",
       "      <td>20.0</td>\n",
       "      <td>0.0</td>\n",
       "      <td>0.0</td>\n",
       "      <td>draft</td>\n",
       "      <td>0.0</td>\n",
       "      <td>0.0</td>\n",
       "      <td>2025-02</td>\n",
       "      <td>2025-02-27</td>\n",
       "    </tr>\n",
       "    <tr>\n",
       "      <th>1</th>\n",
       "      <td>in_1Qx3phAFeGZf0UoOy7Khkj9i</td>\n",
       "      <td>0.0</td>\n",
       "      <td>False</td>\n",
       "      <td>eur</td>\n",
       "      <td>cus_LSl85Ix2Ek965l</td>\n",
       "      <td>2025-02-27 09:56:00</td>\n",
       "      <td>NaT</td>\n",
       "      <td>NaN</td>\n",
       "      <td>False</td>\n",
       "      <td>False</td>\n",
       "      <td>...</td>\n",
       "      <td>NaN</td>\n",
       "      <td>0.0</td>\n",
       "      <td>19.0</td>\n",
       "      <td>0.0</td>\n",
       "      <td>0.0</td>\n",
       "      <td>draft</td>\n",
       "      <td>0.0</td>\n",
       "      <td>0.0</td>\n",
       "      <td>2025-02</td>\n",
       "      <td>2025-02-27</td>\n",
       "    </tr>\n",
       "    <tr>\n",
       "      <th>2</th>\n",
       "      <td>in_1Qx3XqAFeGZf0UoONAAW2muL</td>\n",
       "      <td>104.4</td>\n",
       "      <td>False</td>\n",
       "      <td>eur</td>\n",
       "      <td>cus_PQFFOsNVNtuBN9</td>\n",
       "      <td>2025-02-27 09:38:00</td>\n",
       "      <td>2025-03-02 09:37:00</td>\n",
       "      <td>NaN</td>\n",
       "      <td>False</td>\n",
       "      <td>False</td>\n",
       "      <td>...</td>\n",
       "      <td>NaN</td>\n",
       "      <td>17.4</td>\n",
       "      <td>20.0</td>\n",
       "      <td>104.4</td>\n",
       "      <td>0.0</td>\n",
       "      <td>draft</td>\n",
       "      <td>17.4</td>\n",
       "      <td>0.0</td>\n",
       "      <td>2025-02</td>\n",
       "      <td>2025-02-27</td>\n",
       "    </tr>\n",
       "    <tr>\n",
       "      <th>3</th>\n",
       "      <td>in_1Qx3XqAFeGZf0UoOl79vERDa</td>\n",
       "      <td>39.0</td>\n",
       "      <td>False</td>\n",
       "      <td>eur</td>\n",
       "      <td>cus_Q7apBCt36xeGbK</td>\n",
       "      <td>2025-02-27 09:38:00</td>\n",
       "      <td>NaT</td>\n",
       "      <td>NaN</td>\n",
       "      <td>False</td>\n",
       "      <td>False</td>\n",
       "      <td>...</td>\n",
       "      <td>NaN</td>\n",
       "      <td>NaN</td>\n",
       "      <td>NaN</td>\n",
       "      <td>39.0</td>\n",
       "      <td>0.0</td>\n",
       "      <td>draft</td>\n",
       "      <td>NaN</td>\n",
       "      <td>NaN</td>\n",
       "      <td>2025-02</td>\n",
       "      <td>2025-02-27</td>\n",
       "    </tr>\n",
       "    <tr>\n",
       "      <th>4</th>\n",
       "      <td>in_1Qx3WCAFeGZf0UoOcbJhPyor</td>\n",
       "      <td>82.8</td>\n",
       "      <td>False</td>\n",
       "      <td>eur</td>\n",
       "      <td>cus_MU4dOalEEat1Ah</td>\n",
       "      <td>2025-02-27 09:36:00</td>\n",
       "      <td>NaT</td>\n",
       "      <td>NaN</td>\n",
       "      <td>False</td>\n",
       "      <td>False</td>\n",
       "      <td>...</td>\n",
       "      <td>NaN</td>\n",
       "      <td>13.8</td>\n",
       "      <td>20.0</td>\n",
       "      <td>82.8</td>\n",
       "      <td>0.0</td>\n",
       "      <td>draft</td>\n",
       "      <td>13.8</td>\n",
       "      <td>0.0</td>\n",
       "      <td>2025-02</td>\n",
       "      <td>2025-02-27</td>\n",
       "    </tr>\n",
       "  </tbody>\n",
       "</table>\n",
       "<p>5 rows × 32 columns</p>\n",
       "</div>"
      ],
      "text/plain": [
       "                            id  amount due  closed currency  \\\n",
       "0  in_1Qx3plAFeGZf0UoOd9f9bW47         0.0   False      eur   \n",
       "1  in_1Qx3phAFeGZf0UoOy7Khkj9i         0.0   False      eur   \n",
       "2  in_1Qx3XqAFeGZf0UoONAAW2muL       104.4   False      eur   \n",
       "3  in_1Qx3XqAFeGZf0UoOl79vERDa        39.0   False      eur   \n",
       "4  in_1Qx3WCAFeGZf0UoOcbJhPyor        82.8   False      eur   \n",
       "\n",
       "             customer          date (utc)      due date (utc)  ending balance  \\\n",
       "0  cus_NHFLrvkCpBFCs7 2025-02-27 09:56:00                 NaT             NaN   \n",
       "1  cus_LSl85Ix2Ek965l 2025-02-27 09:56:00                 NaT             NaN   \n",
       "2  cus_PQFFOsNVNtuBN9 2025-02-27 09:38:00 2025-03-02 09:37:00             NaN   \n",
       "3  cus_Q7apBCt36xeGbK 2025-02-27 09:38:00                 NaT             NaN   \n",
       "4  cus_MU4dOalEEat1Ah 2025-02-27 09:36:00                 NaT             NaN   \n",
       "\n",
       "   forgiven   paid  ... applied coupons   tax tax percent  total amount paid  \\\n",
       "0     False  False  ...             NaN   0.0        20.0    0.0         0.0   \n",
       "1     False  False  ...             NaN   0.0        19.0    0.0         0.0   \n",
       "2     False  False  ...             NaN  17.4        20.0  104.4         0.0   \n",
       "3     False  False  ...             NaN   NaN         NaN   39.0         0.0   \n",
       "4     False  False  ...             NaN  13.8        20.0   82.8         0.0   \n",
       "\n",
       "  status exclusive tax amount inclusive tax amount  month_year        date  \n",
       "0  draft                  0.0                  0.0     2025-02  2025-02-27  \n",
       "1  draft                  0.0                  0.0     2025-02  2025-02-27  \n",
       "2  draft                 17.4                  0.0     2025-02  2025-02-27  \n",
       "3  draft                  NaN                  NaN     2025-02  2025-02-27  \n",
       "4  draft                 13.8                  0.0     2025-02  2025-02-27  \n",
       "\n",
       "[5 rows x 32 columns]"
      ]
     },
     "execution_count": 65,
     "metadata": {},
     "output_type": "execute_result"
    }
   ],
   "source": [
    "filtered_df.head()"
   ]
  },
  {
   "cell_type": "code",
   "execution_count": 68,
   "metadata": {},
   "outputs": [
    {
     "data": {
      "application/vnd.plotly.v1+json": {
       "config": {
        "plotlyServerURL": "https://plot.ly"
       },
       "data": [
        {
         "line": {
          "color": "blue"
         },
         "name": "Unique Customers",
         "type": "scatter",
         "x": [
          "2025-W1",
          "2025-W2",
          "2025-W3",
          "2025-W4",
          "2025-W5",
          "2025-W6",
          "2025-W7",
          "2025-W8",
          "2025-W9"
         ],
         "y": {
          "bdata": "ewK5A6wD0wN6A9MD5QP7A/IB",
          "dtype": "i2"
         }
        }
       ],
       "layout": {
        "showlegend": true,
        "template": {
         "data": {
          "bar": [
           {
            "error_x": {
             "color": "#2a3f5f"
            },
            "error_y": {
             "color": "#2a3f5f"
            },
            "marker": {
             "line": {
              "color": "#E5ECF6",
              "width": 0.5
             },
             "pattern": {
              "fillmode": "overlay",
              "size": 10,
              "solidity": 0.2
             }
            },
            "type": "bar"
           }
          ],
          "barpolar": [
           {
            "marker": {
             "line": {
              "color": "#E5ECF6",
              "width": 0.5
             },
             "pattern": {
              "fillmode": "overlay",
              "size": 10,
              "solidity": 0.2
             }
            },
            "type": "barpolar"
           }
          ],
          "carpet": [
           {
            "aaxis": {
             "endlinecolor": "#2a3f5f",
             "gridcolor": "white",
             "linecolor": "white",
             "minorgridcolor": "white",
             "startlinecolor": "#2a3f5f"
            },
            "baxis": {
             "endlinecolor": "#2a3f5f",
             "gridcolor": "white",
             "linecolor": "white",
             "minorgridcolor": "white",
             "startlinecolor": "#2a3f5f"
            },
            "type": "carpet"
           }
          ],
          "choropleth": [
           {
            "colorbar": {
             "outlinewidth": 0,
             "ticks": ""
            },
            "type": "choropleth"
           }
          ],
          "contour": [
           {
            "colorbar": {
             "outlinewidth": 0,
             "ticks": ""
            },
            "colorscale": [
             [
              0,
              "#0d0887"
             ],
             [
              0.1111111111111111,
              "#46039f"
             ],
             [
              0.2222222222222222,
              "#7201a8"
             ],
             [
              0.3333333333333333,
              "#9c179e"
             ],
             [
              0.4444444444444444,
              "#bd3786"
             ],
             [
              0.5555555555555556,
              "#d8576b"
             ],
             [
              0.6666666666666666,
              "#ed7953"
             ],
             [
              0.7777777777777778,
              "#fb9f3a"
             ],
             [
              0.8888888888888888,
              "#fdca26"
             ],
             [
              1,
              "#f0f921"
             ]
            ],
            "type": "contour"
           }
          ],
          "contourcarpet": [
           {
            "colorbar": {
             "outlinewidth": 0,
             "ticks": ""
            },
            "type": "contourcarpet"
           }
          ],
          "heatmap": [
           {
            "colorbar": {
             "outlinewidth": 0,
             "ticks": ""
            },
            "colorscale": [
             [
              0,
              "#0d0887"
             ],
             [
              0.1111111111111111,
              "#46039f"
             ],
             [
              0.2222222222222222,
              "#7201a8"
             ],
             [
              0.3333333333333333,
              "#9c179e"
             ],
             [
              0.4444444444444444,
              "#bd3786"
             ],
             [
              0.5555555555555556,
              "#d8576b"
             ],
             [
              0.6666666666666666,
              "#ed7953"
             ],
             [
              0.7777777777777778,
              "#fb9f3a"
             ],
             [
              0.8888888888888888,
              "#fdca26"
             ],
             [
              1,
              "#f0f921"
             ]
            ],
            "type": "heatmap"
           }
          ],
          "histogram": [
           {
            "marker": {
             "pattern": {
              "fillmode": "overlay",
              "size": 10,
              "solidity": 0.2
             }
            },
            "type": "histogram"
           }
          ],
          "histogram2d": [
           {
            "colorbar": {
             "outlinewidth": 0,
             "ticks": ""
            },
            "colorscale": [
             [
              0,
              "#0d0887"
             ],
             [
              0.1111111111111111,
              "#46039f"
             ],
             [
              0.2222222222222222,
              "#7201a8"
             ],
             [
              0.3333333333333333,
              "#9c179e"
             ],
             [
              0.4444444444444444,
              "#bd3786"
             ],
             [
              0.5555555555555556,
              "#d8576b"
             ],
             [
              0.6666666666666666,
              "#ed7953"
             ],
             [
              0.7777777777777778,
              "#fb9f3a"
             ],
             [
              0.8888888888888888,
              "#fdca26"
             ],
             [
              1,
              "#f0f921"
             ]
            ],
            "type": "histogram2d"
           }
          ],
          "histogram2dcontour": [
           {
            "colorbar": {
             "outlinewidth": 0,
             "ticks": ""
            },
            "colorscale": [
             [
              0,
              "#0d0887"
             ],
             [
              0.1111111111111111,
              "#46039f"
             ],
             [
              0.2222222222222222,
              "#7201a8"
             ],
             [
              0.3333333333333333,
              "#9c179e"
             ],
             [
              0.4444444444444444,
              "#bd3786"
             ],
             [
              0.5555555555555556,
              "#d8576b"
             ],
             [
              0.6666666666666666,
              "#ed7953"
             ],
             [
              0.7777777777777778,
              "#fb9f3a"
             ],
             [
              0.8888888888888888,
              "#fdca26"
             ],
             [
              1,
              "#f0f921"
             ]
            ],
            "type": "histogram2dcontour"
           }
          ],
          "mesh3d": [
           {
            "colorbar": {
             "outlinewidth": 0,
             "ticks": ""
            },
            "type": "mesh3d"
           }
          ],
          "parcoords": [
           {
            "line": {
             "colorbar": {
              "outlinewidth": 0,
              "ticks": ""
             }
            },
            "type": "parcoords"
           }
          ],
          "pie": [
           {
            "automargin": true,
            "type": "pie"
           }
          ],
          "scatter": [
           {
            "fillpattern": {
             "fillmode": "overlay",
             "size": 10,
             "solidity": 0.2
            },
            "type": "scatter"
           }
          ],
          "scatter3d": [
           {
            "line": {
             "colorbar": {
              "outlinewidth": 0,
              "ticks": ""
             }
            },
            "marker": {
             "colorbar": {
              "outlinewidth": 0,
              "ticks": ""
             }
            },
            "type": "scatter3d"
           }
          ],
          "scattercarpet": [
           {
            "marker": {
             "colorbar": {
              "outlinewidth": 0,
              "ticks": ""
             }
            },
            "type": "scattercarpet"
           }
          ],
          "scattergeo": [
           {
            "marker": {
             "colorbar": {
              "outlinewidth": 0,
              "ticks": ""
             }
            },
            "type": "scattergeo"
           }
          ],
          "scattergl": [
           {
            "marker": {
             "colorbar": {
              "outlinewidth": 0,
              "ticks": ""
             }
            },
            "type": "scattergl"
           }
          ],
          "scattermap": [
           {
            "marker": {
             "colorbar": {
              "outlinewidth": 0,
              "ticks": ""
             }
            },
            "type": "scattermap"
           }
          ],
          "scattermapbox": [
           {
            "marker": {
             "colorbar": {
              "outlinewidth": 0,
              "ticks": ""
             }
            },
            "type": "scattermapbox"
           }
          ],
          "scatterpolar": [
           {
            "marker": {
             "colorbar": {
              "outlinewidth": 0,
              "ticks": ""
             }
            },
            "type": "scatterpolar"
           }
          ],
          "scatterpolargl": [
           {
            "marker": {
             "colorbar": {
              "outlinewidth": 0,
              "ticks": ""
             }
            },
            "type": "scatterpolargl"
           }
          ],
          "scatterternary": [
           {
            "marker": {
             "colorbar": {
              "outlinewidth": 0,
              "ticks": ""
             }
            },
            "type": "scatterternary"
           }
          ],
          "surface": [
           {
            "colorbar": {
             "outlinewidth": 0,
             "ticks": ""
            },
            "colorscale": [
             [
              0,
              "#0d0887"
             ],
             [
              0.1111111111111111,
              "#46039f"
             ],
             [
              0.2222222222222222,
              "#7201a8"
             ],
             [
              0.3333333333333333,
              "#9c179e"
             ],
             [
              0.4444444444444444,
              "#bd3786"
             ],
             [
              0.5555555555555556,
              "#d8576b"
             ],
             [
              0.6666666666666666,
              "#ed7953"
             ],
             [
              0.7777777777777778,
              "#fb9f3a"
             ],
             [
              0.8888888888888888,
              "#fdca26"
             ],
             [
              1,
              "#f0f921"
             ]
            ],
            "type": "surface"
           }
          ],
          "table": [
           {
            "cells": {
             "fill": {
              "color": "#EBF0F8"
             },
             "line": {
              "color": "white"
             }
            },
            "header": {
             "fill": {
              "color": "#C8D4E3"
             },
             "line": {
              "color": "white"
             }
            },
            "type": "table"
           }
          ]
         },
         "layout": {
          "annotationdefaults": {
           "arrowcolor": "#2a3f5f",
           "arrowhead": 0,
           "arrowwidth": 1
          },
          "autotypenumbers": "strict",
          "coloraxis": {
           "colorbar": {
            "outlinewidth": 0,
            "ticks": ""
           }
          },
          "colorscale": {
           "diverging": [
            [
             0,
             "#8e0152"
            ],
            [
             0.1,
             "#c51b7d"
            ],
            [
             0.2,
             "#de77ae"
            ],
            [
             0.3,
             "#f1b6da"
            ],
            [
             0.4,
             "#fde0ef"
            ],
            [
             0.5,
             "#f7f7f7"
            ],
            [
             0.6,
             "#e6f5d0"
            ],
            [
             0.7,
             "#b8e186"
            ],
            [
             0.8,
             "#7fbc41"
            ],
            [
             0.9,
             "#4d9221"
            ],
            [
             1,
             "#276419"
            ]
           ],
           "sequential": [
            [
             0,
             "#0d0887"
            ],
            [
             0.1111111111111111,
             "#46039f"
            ],
            [
             0.2222222222222222,
             "#7201a8"
            ],
            [
             0.3333333333333333,
             "#9c179e"
            ],
            [
             0.4444444444444444,
             "#bd3786"
            ],
            [
             0.5555555555555556,
             "#d8576b"
            ],
            [
             0.6666666666666666,
             "#ed7953"
            ],
            [
             0.7777777777777778,
             "#fb9f3a"
            ],
            [
             0.8888888888888888,
             "#fdca26"
            ],
            [
             1,
             "#f0f921"
            ]
           ],
           "sequentialminus": [
            [
             0,
             "#0d0887"
            ],
            [
             0.1111111111111111,
             "#46039f"
            ],
            [
             0.2222222222222222,
             "#7201a8"
            ],
            [
             0.3333333333333333,
             "#9c179e"
            ],
            [
             0.4444444444444444,
             "#bd3786"
            ],
            [
             0.5555555555555556,
             "#d8576b"
            ],
            [
             0.6666666666666666,
             "#ed7953"
            ],
            [
             0.7777777777777778,
             "#fb9f3a"
            ],
            [
             0.8888888888888888,
             "#fdca26"
            ],
            [
             1,
             "#f0f921"
            ]
           ]
          },
          "colorway": [
           "#636efa",
           "#EF553B",
           "#00cc96",
           "#ab63fa",
           "#FFA15A",
           "#19d3f3",
           "#FF6692",
           "#B6E880",
           "#FF97FF",
           "#FECB52"
          ],
          "font": {
           "color": "#2a3f5f"
          },
          "geo": {
           "bgcolor": "white",
           "lakecolor": "white",
           "landcolor": "#E5ECF6",
           "showlakes": true,
           "showland": true,
           "subunitcolor": "white"
          },
          "hoverlabel": {
           "align": "left"
          },
          "hovermode": "closest",
          "mapbox": {
           "style": "light"
          },
          "paper_bgcolor": "white",
          "plot_bgcolor": "#E5ECF6",
          "polar": {
           "angularaxis": {
            "gridcolor": "white",
            "linecolor": "white",
            "ticks": ""
           },
           "bgcolor": "#E5ECF6",
           "radialaxis": {
            "gridcolor": "white",
            "linecolor": "white",
            "ticks": ""
           }
          },
          "scene": {
           "xaxis": {
            "backgroundcolor": "#E5ECF6",
            "gridcolor": "white",
            "gridwidth": 2,
            "linecolor": "white",
            "showbackground": true,
            "ticks": "",
            "zerolinecolor": "white"
           },
           "yaxis": {
            "backgroundcolor": "#E5ECF6",
            "gridcolor": "white",
            "gridwidth": 2,
            "linecolor": "white",
            "showbackground": true,
            "ticks": "",
            "zerolinecolor": "white"
           },
           "zaxis": {
            "backgroundcolor": "#E5ECF6",
            "gridcolor": "white",
            "gridwidth": 2,
            "linecolor": "white",
            "showbackground": true,
            "ticks": "",
            "zerolinecolor": "white"
           }
          },
          "shapedefaults": {
           "line": {
            "color": "#2a3f5f"
           }
          },
          "ternary": {
           "aaxis": {
            "gridcolor": "white",
            "linecolor": "white",
            "ticks": ""
           },
           "baxis": {
            "gridcolor": "white",
            "linecolor": "white",
            "ticks": ""
           },
           "bgcolor": "#E5ECF6",
           "caxis": {
            "gridcolor": "white",
            "linecolor": "white",
            "ticks": ""
           }
          },
          "title": {
           "x": 0.05
          },
          "xaxis": {
           "automargin": true,
           "gridcolor": "white",
           "linecolor": "white",
           "ticks": "",
           "title": {
            "standoff": 15
           },
           "zerolinecolor": "white",
           "zerolinewidth": 2
          },
          "yaxis": {
           "automargin": true,
           "gridcolor": "white",
           "linecolor": "white",
           "ticks": "",
           "title": {
            "standoff": 15
           },
           "zerolinecolor": "white",
           "zerolinewidth": 2
          }
         }
        },
        "title": {
         "text": "Number of Unique Customers by Week"
        },
        "xaxis": {
         "title": {
          "text": "Week"
         }
        },
        "yaxis": {
         "title": {
          "text": "Number of Unique Customers"
         }
        }
       }
      }
     },
     "metadata": {},
     "output_type": "display_data"
    }
   ],
   "source": [
    "filtered_df['week'] = filtered_df['date (utc)'].dt.isocalendar().week\n",
    "filtered_df['year'] = filtered_df['date (utc)'].dt.isocalendar().year\n",
    "\n",
    "weekly_customers = filtered_df.groupby(['year', 'week'])['customer'].nunique().reset_index()\n",
    "\n",
    "weekly_customers['week_year'] = weekly_customers['year'].astype(str) + '-W' + weekly_customers['week'].astype(str)\n",
    "\n",
    "fig = go.Figure()\n",
    "\n",
    "fig.add_trace(go.Scatter(\n",
    "    x=weekly_customers['week_year'],\n",
    "    y=weekly_customers['customer'],\n",
    "    name='Unique Customers',\n",
    "    line=dict(color='blue')\n",
    "))\n",
    "\n",
    "fig.update_layout(\n",
    "    title='Number of Unique Customers by Week',\n",
    "    xaxis_title='Week',\n",
    "    yaxis_title='Number of Unique Customers',\n",
    "    showlegend=True\n",
    ")\n",
    "\n",
    "fig.show()"
   ]
  },
  {
   "cell_type": "code",
   "execution_count": null,
   "metadata": {},
   "outputs": [],
   "source": []
  }
 ],
 "metadata": {
  "kernelspec": {
   "display_name": "Python 3",
   "language": "python",
   "name": "python3"
  },
  "language_info": {
   "codemirror_mode": {
    "name": "ipython",
    "version": 3
   },
   "file_extension": ".py",
   "mimetype": "text/x-python",
   "name": "python",
   "nbconvert_exporter": "python",
   "pygments_lexer": "ipython3",
   "version": "3.9.6"
  }
 },
 "nbformat": 4,
 "nbformat_minor": 2
}
