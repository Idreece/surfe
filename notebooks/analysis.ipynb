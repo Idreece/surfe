{
 "cells": [
  {
   "cell_type": "code",
   "execution_count": 1,
   "metadata": {},
   "outputs": [],
   "source": [
    "import pandas as pd\n",
    "import plotly.graph_objects as go"
   ]
  },
  {
   "cell_type": "code",
   "execution_count": 2,
   "metadata": {},
   "outputs": [],
   "source": [
    "df = pd.read_csv('../data/invoices.csv')\n"
   ]
  },
  {
   "cell_type": "code",
   "execution_count": 3,
   "metadata": {},
   "outputs": [
    {
     "data": {
      "text/html": [
       "<div>\n",
       "<style scoped>\n",
       "    .dataframe tbody tr th:only-of-type {\n",
       "        vertical-align: middle;\n",
       "    }\n",
       "\n",
       "    .dataframe tbody tr th {\n",
       "        vertical-align: top;\n",
       "    }\n",
       "\n",
       "    .dataframe thead th {\n",
       "        text-align: right;\n",
       "    }\n",
       "</style>\n",
       "<table border=\"1\" class=\"dataframe\">\n",
       "  <thead>\n",
       "    <tr style=\"text-align: right;\">\n",
       "      <th></th>\n",
       "      <th>id</th>\n",
       "      <th>Amount Due</th>\n",
       "      <th>Closed</th>\n",
       "      <th>Currency</th>\n",
       "      <th>Customer</th>\n",
       "      <th>Date (UTC)</th>\n",
       "      <th>Due Date (UTC)</th>\n",
       "      <th>Ending Balance</th>\n",
       "      <th>Forgiven</th>\n",
       "      <th>Paid</th>\n",
       "      <th>...</th>\n",
       "      <th>Subtotal</th>\n",
       "      <th>Total Discount Amount</th>\n",
       "      <th>Applied Coupons</th>\n",
       "      <th>Tax</th>\n",
       "      <th>Tax Percent</th>\n",
       "      <th>Total</th>\n",
       "      <th>Amount Paid</th>\n",
       "      <th>Status</th>\n",
       "      <th>Exclusive Tax Amount</th>\n",
       "      <th>Inclusive Tax Amount</th>\n",
       "    </tr>\n",
       "  </thead>\n",
       "  <tbody>\n",
       "    <tr>\n",
       "      <th>0</th>\n",
       "      <td>in_1Qx3plAFeGZf0UoOd9f9bW47</td>\n",
       "      <td>0,00</td>\n",
       "      <td>False</td>\n",
       "      <td>eur</td>\n",
       "      <td>cus_NHFLrvkCpBFCs7</td>\n",
       "      <td>2025-02-27 9:56</td>\n",
       "      <td>NaN</td>\n",
       "      <td>NaN</td>\n",
       "      <td>False</td>\n",
       "      <td>False</td>\n",
       "      <td>...</td>\n",
       "      <td>0,00</td>\n",
       "      <td>0,00</td>\n",
       "      <td>NaN</td>\n",
       "      <td>0,00</td>\n",
       "      <td>20.0</td>\n",
       "      <td>0,00</td>\n",
       "      <td>0,00</td>\n",
       "      <td>draft</td>\n",
       "      <td>0,00</td>\n",
       "      <td>0,00</td>\n",
       "    </tr>\n",
       "    <tr>\n",
       "      <th>1</th>\n",
       "      <td>in_1Qx3phAFeGZf0UoOy7Khkj9i</td>\n",
       "      <td>0,00</td>\n",
       "      <td>False</td>\n",
       "      <td>eur</td>\n",
       "      <td>cus_LSl85Ix2Ek965l</td>\n",
       "      <td>2025-02-27 9:56</td>\n",
       "      <td>NaN</td>\n",
       "      <td>NaN</td>\n",
       "      <td>False</td>\n",
       "      <td>False</td>\n",
       "      <td>...</td>\n",
       "      <td>0,00</td>\n",
       "      <td>0,00</td>\n",
       "      <td>NaN</td>\n",
       "      <td>0,00</td>\n",
       "      <td>19.0</td>\n",
       "      <td>0,00</td>\n",
       "      <td>0,00</td>\n",
       "      <td>draft</td>\n",
       "      <td>0,00</td>\n",
       "      <td>0,00</td>\n",
       "    </tr>\n",
       "    <tr>\n",
       "      <th>2</th>\n",
       "      <td>in_1Qx3XqAFeGZf0UoONAAW2muL</td>\n",
       "      <td>104,40</td>\n",
       "      <td>False</td>\n",
       "      <td>eur</td>\n",
       "      <td>cus_PQFFOsNVNtuBN9</td>\n",
       "      <td>2025-02-27 9:38</td>\n",
       "      <td>2025-03-02 9:37</td>\n",
       "      <td>NaN</td>\n",
       "      <td>False</td>\n",
       "      <td>False</td>\n",
       "      <td>...</td>\n",
       "      <td>87,00</td>\n",
       "      <td>0,00</td>\n",
       "      <td>NaN</td>\n",
       "      <td>17,40</td>\n",
       "      <td>20.0</td>\n",
       "      <td>104,40</td>\n",
       "      <td>0,00</td>\n",
       "      <td>draft</td>\n",
       "      <td>17,40</td>\n",
       "      <td>0,00</td>\n",
       "    </tr>\n",
       "    <tr>\n",
       "      <th>3</th>\n",
       "      <td>in_1Qx3XqAFeGZf0UoOl79vERDa</td>\n",
       "      <td>39,00</td>\n",
       "      <td>False</td>\n",
       "      <td>eur</td>\n",
       "      <td>cus_Q7apBCt36xeGbK</td>\n",
       "      <td>2025-02-27 9:38</td>\n",
       "      <td>NaN</td>\n",
       "      <td>NaN</td>\n",
       "      <td>False</td>\n",
       "      <td>False</td>\n",
       "      <td>...</td>\n",
       "      <td>39,00</td>\n",
       "      <td>0,00</td>\n",
       "      <td>NaN</td>\n",
       "      <td>NaN</td>\n",
       "      <td>NaN</td>\n",
       "      <td>39,00</td>\n",
       "      <td>0,00</td>\n",
       "      <td>draft</td>\n",
       "      <td>NaN</td>\n",
       "      <td>NaN</td>\n",
       "    </tr>\n",
       "    <tr>\n",
       "      <th>4</th>\n",
       "      <td>in_1Qx3WCAFeGZf0UoOcbJhPyor</td>\n",
       "      <td>82,80</td>\n",
       "      <td>False</td>\n",
       "      <td>eur</td>\n",
       "      <td>cus_MU4dOalEEat1Ah</td>\n",
       "      <td>2025-02-27 9:36</td>\n",
       "      <td>NaN</td>\n",
       "      <td>NaN</td>\n",
       "      <td>False</td>\n",
       "      <td>False</td>\n",
       "      <td>...</td>\n",
       "      <td>69,00</td>\n",
       "      <td>0,00</td>\n",
       "      <td>NaN</td>\n",
       "      <td>13,80</td>\n",
       "      <td>20.0</td>\n",
       "      <td>82,80</td>\n",
       "      <td>0,00</td>\n",
       "      <td>draft</td>\n",
       "      <td>13,80</td>\n",
       "      <td>0,00</td>\n",
       "    </tr>\n",
       "  </tbody>\n",
       "</table>\n",
       "<p>5 rows × 30 columns</p>\n",
       "</div>"
      ],
      "text/plain": [
       "                            id Amount Due  Closed Currency  \\\n",
       "0  in_1Qx3plAFeGZf0UoOd9f9bW47       0,00   False      eur   \n",
       "1  in_1Qx3phAFeGZf0UoOy7Khkj9i       0,00   False      eur   \n",
       "2  in_1Qx3XqAFeGZf0UoONAAW2muL     104,40   False      eur   \n",
       "3  in_1Qx3XqAFeGZf0UoOl79vERDa      39,00   False      eur   \n",
       "4  in_1Qx3WCAFeGZf0UoOcbJhPyor      82,80   False      eur   \n",
       "\n",
       "             Customer       Date (UTC)   Due Date (UTC) Ending Balance  \\\n",
       "0  cus_NHFLrvkCpBFCs7  2025-02-27 9:56              NaN            NaN   \n",
       "1  cus_LSl85Ix2Ek965l  2025-02-27 9:56              NaN            NaN   \n",
       "2  cus_PQFFOsNVNtuBN9  2025-02-27 9:38  2025-03-02 9:37            NaN   \n",
       "3  cus_Q7apBCt36xeGbK  2025-02-27 9:38              NaN            NaN   \n",
       "4  cus_MU4dOalEEat1Ah  2025-02-27 9:36              NaN            NaN   \n",
       "\n",
       "   Forgiven   Paid  ... Subtotal Total Discount Amount Applied Coupons    Tax  \\\n",
       "0     False  False  ...     0,00                  0,00             NaN   0,00   \n",
       "1     False  False  ...     0,00                  0,00             NaN   0,00   \n",
       "2     False  False  ...    87,00                  0,00             NaN  17,40   \n",
       "3     False  False  ...    39,00                  0,00             NaN    NaN   \n",
       "4     False  False  ...    69,00                  0,00             NaN  13,80   \n",
       "\n",
       "  Tax Percent   Total Amount Paid Status Exclusive Tax Amount  \\\n",
       "0        20.0    0,00        0,00  draft                 0,00   \n",
       "1        19.0    0,00        0,00  draft                 0,00   \n",
       "2        20.0  104,40        0,00  draft                17,40   \n",
       "3         NaN   39,00        0,00  draft                  NaN   \n",
       "4        20.0   82,80        0,00  draft                13,80   \n",
       "\n",
       "  Inclusive Tax Amount  \n",
       "0                 0,00  \n",
       "1                 0,00  \n",
       "2                 0,00  \n",
       "3                  NaN  \n",
       "4                 0,00  \n",
       "\n",
       "[5 rows x 30 columns]"
      ]
     },
     "execution_count": 3,
     "metadata": {},
     "output_type": "execute_result"
    }
   ],
   "source": [
    "df.head()"
   ]
  },
  {
   "cell_type": "code",
   "execution_count": 4,
   "metadata": {},
   "outputs": [
    {
     "data": {
      "text/html": [
       "<div>\n",
       "<style scoped>\n",
       "    .dataframe tbody tr th:only-of-type {\n",
       "        vertical-align: middle;\n",
       "    }\n",
       "\n",
       "    .dataframe tbody tr th {\n",
       "        vertical-align: top;\n",
       "    }\n",
       "\n",
       "    .dataframe thead th {\n",
       "        text-align: right;\n",
       "    }\n",
       "</style>\n",
       "<table border=\"1\" class=\"dataframe\">\n",
       "  <thead>\n",
       "    <tr style=\"text-align: right;\">\n",
       "      <th></th>\n",
       "      <th>Tax Percent</th>\n",
       "    </tr>\n",
       "  </thead>\n",
       "  <tbody>\n",
       "    <tr>\n",
       "      <th>count</th>\n",
       "      <td>3078.000000</td>\n",
       "    </tr>\n",
       "    <tr>\n",
       "      <th>mean</th>\n",
       "      <td>20.725276</td>\n",
       "    </tr>\n",
       "    <tr>\n",
       "      <th>std</th>\n",
       "      <td>2.285339</td>\n",
       "    </tr>\n",
       "    <tr>\n",
       "      <th>min</th>\n",
       "      <td>7.700000</td>\n",
       "    </tr>\n",
       "    <tr>\n",
       "      <th>25%</th>\n",
       "      <td>19.000000</td>\n",
       "    </tr>\n",
       "    <tr>\n",
       "      <th>50%</th>\n",
       "      <td>20.000000</td>\n",
       "    </tr>\n",
       "    <tr>\n",
       "      <th>75%</th>\n",
       "      <td>21.000000</td>\n",
       "    </tr>\n",
       "    <tr>\n",
       "      <th>max</th>\n",
       "      <td>27.000000</td>\n",
       "    </tr>\n",
       "  </tbody>\n",
       "</table>\n",
       "</div>"
      ],
      "text/plain": [
       "       Tax Percent\n",
       "count  3078.000000\n",
       "mean     20.725276\n",
       "std       2.285339\n",
       "min       7.700000\n",
       "25%      19.000000\n",
       "50%      20.000000\n",
       "75%      21.000000\n",
       "max      27.000000"
      ]
     },
     "execution_count": 4,
     "metadata": {},
     "output_type": "execute_result"
    }
   ],
   "source": [
    "df.describe()"
   ]
  },
  {
   "cell_type": "code",
   "execution_count": 5,
   "metadata": {},
   "outputs": [
    {
     "name": "stdout",
     "output_type": "stream",
     "text": [
      "<class 'pandas.core.frame.DataFrame'>\n",
      "RangeIndex: 8075 entries, 0 to 8074\n",
      "Data columns (total 30 columns):\n",
      " #   Column                                Non-Null Count  Dtype  \n",
      "---  ------                                --------------  -----  \n",
      " 0   id                                    8075 non-null   object \n",
      " 1   Amount Due                            8075 non-null   object \n",
      " 2   Closed                                8075 non-null   bool   \n",
      " 3   Currency                              8075 non-null   object \n",
      " 4   Customer                              8075 non-null   object \n",
      " 5   Date (UTC)                            8075 non-null   object \n",
      " 6   Due Date (UTC)                        224 non-null    object \n",
      " 7   Ending Balance                        8037 non-null   object \n",
      " 8   Forgiven                              8075 non-null   bool   \n",
      " 9   Paid                                  8075 non-null   bool   \n",
      " 10  Paid At (UTC)                         7765 non-null   object \n",
      " 11  Marked Uncollectible At (UTC)         9 non-null      object \n",
      " 12  Voided At (UTC)                       39 non-null     object \n",
      " 13  Finalized At (UTC)                    8037 non-null   object \n",
      " 14  Minimum Line Item Period Start (UTC)  8060 non-null   object \n",
      " 15  Maximum Line Item Period End (UTC)    8060 non-null   object \n",
      " 16  Period Start (UTC)                    8075 non-null   object \n",
      " 17  Period End (UTC)                      8075 non-null   object \n",
      " 18  Starting Balance                      8075 non-null   object \n",
      " 19  Subscription                          8036 non-null   object \n",
      " 20  Subtotal                              8075 non-null   object \n",
      " 21  Total Discount Amount                 8075 non-null   object \n",
      " 22  Applied Coupons                       599 non-null    object \n",
      " 23  Tax                                   1170 non-null   object \n",
      " 24  Tax Percent                           3078 non-null   float64\n",
      " 25  Total                                 8075 non-null   object \n",
      " 26  Amount Paid                           8075 non-null   object \n",
      " 27  Status                                8075 non-null   object \n",
      " 28  Exclusive Tax Amount                  1170 non-null   object \n",
      " 29  Inclusive Tax Amount                  1170 non-null   object \n",
      "dtypes: bool(3), float64(1), object(26)\n",
      "memory usage: 1.7+ MB\n"
     ]
    }
   ],
   "source": [
    "df.info()"
   ]
  },
  {
   "cell_type": "code",
   "execution_count": 6,
   "metadata": {},
   "outputs": [],
   "source": [
    "date_columns = [\n",
    "    'Date (UTC)', 'Due Date (UTC)', 'Finalized At (UTC)', \n",
    "    'Marked Uncollectible At (UTC)', 'Voided At (UTC)',\n",
    "    'Minimum Line Item Period Start (UTC)', 'Maximum Line Item Period End (UTC)',\n",
    "    'Period Start (UTC)', 'Period End (UTC)', 'Paid At (UTC)'\n",
    "]\n",
    "\n",
    "for col in date_columns:\n",
    "    df[col] = pd.to_datetime(df[col], errors='coerce')\n",
    "\n",
    "numeric_columns = [\n",
    "    'Amount Due', 'Ending Balance', 'Starting Balance', 'Subtotal',\n",
    "    'Total Discount Amount', 'Tax', 'Total', 'Amount Paid',\n",
    "    'Exclusive Tax Amount', 'Inclusive Tax Amount'\n",
    "]\n",
    "\n",
    "for col in numeric_columns:\n",
    "    df[col] = df[col].str.replace(',', '.').astype(float)\n",
    "\n",
    "df['Tax Percent'] = df['Tax Percent'].astype(float)\n",
    "\n",
    "categorical_columns = ['Currency', 'Status']\n",
    "for col in categorical_columns:\n",
    "    df[col] = df[col].astype('category')\n",
    "\n",
    "df.columns = df.columns.str.lower()"
   ]
  },
  {
   "cell_type": "code",
   "execution_count": 7,
   "metadata": {},
   "outputs": [
    {
     "name": "stdout",
     "output_type": "stream",
     "text": [
      "<class 'pandas.core.frame.DataFrame'>\n",
      "RangeIndex: 8075 entries, 0 to 8074\n",
      "Data columns (total 30 columns):\n",
      " #   Column                                Non-Null Count  Dtype         \n",
      "---  ------                                --------------  -----         \n",
      " 0   id                                    8075 non-null   object        \n",
      " 1   amount due                            8075 non-null   float64       \n",
      " 2   closed                                8075 non-null   bool          \n",
      " 3   currency                              8075 non-null   category      \n",
      " 4   customer                              8075 non-null   object        \n",
      " 5   date (utc)                            8075 non-null   datetime64[ns]\n",
      " 6   due date (utc)                        224 non-null    datetime64[ns]\n",
      " 7   ending balance                        8037 non-null   float64       \n",
      " 8   forgiven                              8075 non-null   bool          \n",
      " 9   paid                                  8075 non-null   bool          \n",
      " 10  paid at (utc)                         7765 non-null   datetime64[ns]\n",
      " 11  marked uncollectible at (utc)         9 non-null      datetime64[ns]\n",
      " 12  voided at (utc)                       39 non-null     datetime64[ns]\n",
      " 13  finalized at (utc)                    8037 non-null   datetime64[ns]\n",
      " 14  minimum line item period start (utc)  8060 non-null   datetime64[ns]\n",
      " 15  maximum line item period end (utc)    8060 non-null   datetime64[ns]\n",
      " 16  period start (utc)                    8075 non-null   datetime64[ns]\n",
      " 17  period end (utc)                      8075 non-null   datetime64[ns]\n",
      " 18  starting balance                      8075 non-null   float64       \n",
      " 19  subscription                          8036 non-null   object        \n",
      " 20  subtotal                              8075 non-null   float64       \n",
      " 21  total discount amount                 8075 non-null   float64       \n",
      " 22  applied coupons                       599 non-null    object        \n",
      " 23  tax                                   1170 non-null   float64       \n",
      " 24  tax percent                           3078 non-null   float64       \n",
      " 25  total                                 8075 non-null   float64       \n",
      " 26  amount paid                           8075 non-null   float64       \n",
      " 27  status                                8075 non-null   category      \n",
      " 28  exclusive tax amount                  1170 non-null   float64       \n",
      " 29  inclusive tax amount                  1170 non-null   float64       \n",
      "dtypes: bool(3), category(2), datetime64[ns](10), float64(11), object(4)\n",
      "memory usage: 1.6+ MB\n"
     ]
    }
   ],
   "source": [
    "df.info()"
   ]
  },
  {
   "cell_type": "code",
   "execution_count": 8,
   "metadata": {},
   "outputs": [
    {
     "data": {
      "text/plain": [
       "(8075, 30)"
      ]
     },
     "execution_count": 8,
     "metadata": {},
     "output_type": "execute_result"
    }
   ],
   "source": [
    "df.shape"
   ]
  },
  {
   "cell_type": "code",
   "execution_count": 9,
   "metadata": {},
   "outputs": [
    {
     "data": {
      "text/plain": [
       "['eur', 'usd']\n",
       "Categories (2, object): ['eur', 'usd']"
      ]
     },
     "execution_count": 9,
     "metadata": {},
     "output_type": "execute_result"
    }
   ],
   "source": [
    "df.currency.unique()"
   ]
  },
  {
   "cell_type": "code",
   "execution_count": 10,
   "metadata": {},
   "outputs": [
    {
     "data": {
      "text/html": [
       "<div>\n",
       "<style scoped>\n",
       "    .dataframe tbody tr th:only-of-type {\n",
       "        vertical-align: middle;\n",
       "    }\n",
       "\n",
       "    .dataframe tbody tr th {\n",
       "        vertical-align: top;\n",
       "    }\n",
       "\n",
       "    .dataframe thead th {\n",
       "        text-align: right;\n",
       "    }\n",
       "</style>\n",
       "<table border=\"1\" class=\"dataframe\">\n",
       "  <thead>\n",
       "    <tr style=\"text-align: right;\">\n",
       "      <th></th>\n",
       "      <th>currency</th>\n",
       "      <th>amount due</th>\n",
       "      <th>amount paid</th>\n",
       "    </tr>\n",
       "  </thead>\n",
       "  <tbody>\n",
       "    <tr>\n",
       "      <th>7</th>\n",
       "      <td>eur</td>\n",
       "      <td>22.50</td>\n",
       "      <td>22.50</td>\n",
       "    </tr>\n",
       "    <tr>\n",
       "      <th>14</th>\n",
       "      <td>eur</td>\n",
       "      <td>79.00</td>\n",
       "      <td>79.00</td>\n",
       "    </tr>\n",
       "    <tr>\n",
       "      <th>18</th>\n",
       "      <td>usd</td>\n",
       "      <td>9.00</td>\n",
       "      <td>9.00</td>\n",
       "    </tr>\n",
       "    <tr>\n",
       "      <th>21</th>\n",
       "      <td>eur</td>\n",
       "      <td>78.00</td>\n",
       "      <td>78.00</td>\n",
       "    </tr>\n",
       "    <tr>\n",
       "      <th>22</th>\n",
       "      <td>eur</td>\n",
       "      <td>37.58</td>\n",
       "      <td>37.58</td>\n",
       "    </tr>\n",
       "  </tbody>\n",
       "</table>\n",
       "</div>"
      ],
      "text/plain": [
       "   currency  amount due  amount paid\n",
       "7       eur       22.50        22.50\n",
       "14      eur       79.00        79.00\n",
       "18      usd        9.00         9.00\n",
       "21      eur       78.00        78.00\n",
       "22      eur       37.58        37.58"
      ]
     },
     "execution_count": 10,
     "metadata": {},
     "output_type": "execute_result"
    }
   ],
   "source": [
    "df[df['amount paid'] != 0][['currency', 'amount due', 'amount paid']].head()"
   ]
  },
  {
   "cell_type": "code",
   "execution_count": 11,
   "metadata": {},
   "outputs": [
    {
     "data": {
      "text/plain": [
       "4620"
      ]
     },
     "execution_count": 11,
     "metadata": {},
     "output_type": "execute_result"
    }
   ],
   "source": [
    "df['subscription'].nunique()"
   ]
  },
  {
   "cell_type": "code",
   "execution_count": 12,
   "metadata": {},
   "outputs": [
    {
     "data": {
      "text/plain": [
       "0    sub_1Mg3RXAFeGZf0UoOk6tgmHXy\n",
       "1    sub_1LmaWWAFeGZf0UoO6OEZ7teq\n",
       "2    sub_1QPhgOAFeGZf0UoOf7uRPvxM\n",
       "3    sub_1Q3abzAFeGZf0UoO5UPNkeq7\n",
       "4    sub_1OH1EMAFeGZf0UoO9at6xQkP\n",
       "Name: subscription, dtype: object"
      ]
     },
     "execution_count": 12,
     "metadata": {},
     "output_type": "execute_result"
    }
   ],
   "source": [
    "df['subscription'].head()"
   ]
  },
  {
   "cell_type": "code",
   "execution_count": 13,
   "metadata": {},
   "outputs": [
    {
     "data": {
      "text/plain": [
       "np.int64(39)"
      ]
     },
     "execution_count": 13,
     "metadata": {},
     "output_type": "execute_result"
    }
   ],
   "source": [
    "df['subscription'].isna().sum()"
   ]
  },
  {
   "cell_type": "code",
   "execution_count": 14,
   "metadata": {},
   "outputs": [
    {
     "data": {
      "text/html": [
       "<div>\n",
       "<style scoped>\n",
       "    .dataframe tbody tr th:only-of-type {\n",
       "        vertical-align: middle;\n",
       "    }\n",
       "\n",
       "    .dataframe tbody tr th {\n",
       "        vertical-align: top;\n",
       "    }\n",
       "\n",
       "    .dataframe thead th {\n",
       "        text-align: right;\n",
       "    }\n",
       "</style>\n",
       "<table border=\"1\" class=\"dataframe\">\n",
       "  <thead>\n",
       "    <tr style=\"text-align: right;\">\n",
       "      <th></th>\n",
       "      <th>id</th>\n",
       "      <th>amount due</th>\n",
       "      <th>closed</th>\n",
       "      <th>currency</th>\n",
       "      <th>customer</th>\n",
       "      <th>date (utc)</th>\n",
       "      <th>due date (utc)</th>\n",
       "      <th>ending balance</th>\n",
       "      <th>forgiven</th>\n",
       "      <th>paid</th>\n",
       "      <th>...</th>\n",
       "      <th>subtotal</th>\n",
       "      <th>total discount amount</th>\n",
       "      <th>applied coupons</th>\n",
       "      <th>tax</th>\n",
       "      <th>tax percent</th>\n",
       "      <th>total</th>\n",
       "      <th>amount paid</th>\n",
       "      <th>status</th>\n",
       "      <th>exclusive tax amount</th>\n",
       "      <th>inclusive tax amount</th>\n",
       "    </tr>\n",
       "  </thead>\n",
       "  <tbody>\n",
       "    <tr>\n",
       "      <th>7</th>\n",
       "      <td>in_1Qx3R0AFeGZf0UoOYSx37Ftb</td>\n",
       "      <td>22.50</td>\n",
       "      <td>True</td>\n",
       "      <td>eur</td>\n",
       "      <td>cus_PbPmpwRy3HrxgP</td>\n",
       "      <td>2025-02-27 09:31:00</td>\n",
       "      <td>2025-02-27 22:59:00</td>\n",
       "      <td>0.0</td>\n",
       "      <td>False</td>\n",
       "      <td>True</td>\n",
       "      <td>...</td>\n",
       "      <td>22.50</td>\n",
       "      <td>0.0</td>\n",
       "      <td>NaN</td>\n",
       "      <td>NaN</td>\n",
       "      <td>NaN</td>\n",
       "      <td>22.50</td>\n",
       "      <td>22.5</td>\n",
       "      <td>paid</td>\n",
       "      <td>NaN</td>\n",
       "      <td>NaN</td>\n",
       "    </tr>\n",
       "    <tr>\n",
       "      <th>18</th>\n",
       "      <td>in_1Qx2hmAFeGZf0UoOYD4eoPnB</td>\n",
       "      <td>9.00</td>\n",
       "      <td>True</td>\n",
       "      <td>usd</td>\n",
       "      <td>cus_PVdPFGa7V3RK3o</td>\n",
       "      <td>2025-02-27 08:44:00</td>\n",
       "      <td>2025-02-27 22:59:00</td>\n",
       "      <td>0.0</td>\n",
       "      <td>False</td>\n",
       "      <td>True</td>\n",
       "      <td>...</td>\n",
       "      <td>9.00</td>\n",
       "      <td>0.0</td>\n",
       "      <td>NaN</td>\n",
       "      <td>NaN</td>\n",
       "      <td>NaN</td>\n",
       "      <td>9.00</td>\n",
       "      <td>9.0</td>\n",
       "      <td>paid</td>\n",
       "      <td>NaN</td>\n",
       "      <td>NaN</td>\n",
       "    </tr>\n",
       "    <tr>\n",
       "      <th>27</th>\n",
       "      <td>in_1Qx1pRAFeGZf0UoOXawHgA3a</td>\n",
       "      <td>137.00</td>\n",
       "      <td>True</td>\n",
       "      <td>usd</td>\n",
       "      <td>cus_PVdPFGa7V3RK3o</td>\n",
       "      <td>2025-02-27 07:48:00</td>\n",
       "      <td>2025-02-27 22:59:00</td>\n",
       "      <td>0.0</td>\n",
       "      <td>True</td>\n",
       "      <td>False</td>\n",
       "      <td>...</td>\n",
       "      <td>137.00</td>\n",
       "      <td>0.0</td>\n",
       "      <td>NaN</td>\n",
       "      <td>NaN</td>\n",
       "      <td>NaN</td>\n",
       "      <td>137.00</td>\n",
       "      <td>0.0</td>\n",
       "      <td>uncollectible</td>\n",
       "      <td>NaN</td>\n",
       "      <td>NaN</td>\n",
       "    </tr>\n",
       "    <tr>\n",
       "      <th>256</th>\n",
       "      <td>in_1QwOhtAFeGZf0UoOSjYsHGRs</td>\n",
       "      <td>0.00</td>\n",
       "      <td>True</td>\n",
       "      <td>eur</td>\n",
       "      <td>cus_QKkoyiGneQSxxq</td>\n",
       "      <td>2025-02-25 14:01:00</td>\n",
       "      <td>1970-01-01 00:00:00</td>\n",
       "      <td>NaN</td>\n",
       "      <td>False</td>\n",
       "      <td>False</td>\n",
       "      <td>...</td>\n",
       "      <td>0.00</td>\n",
       "      <td>0.0</td>\n",
       "      <td>NaN</td>\n",
       "      <td>NaN</td>\n",
       "      <td>NaN</td>\n",
       "      <td>0.00</td>\n",
       "      <td>0.0</td>\n",
       "      <td>draft</td>\n",
       "      <td>NaN</td>\n",
       "      <td>NaN</td>\n",
       "    </tr>\n",
       "    <tr>\n",
       "      <th>320</th>\n",
       "      <td>in_1QwJVPAFeGZf0UoOGWkzGxBD</td>\n",
       "      <td>9.00</td>\n",
       "      <td>True</td>\n",
       "      <td>usd</td>\n",
       "      <td>cus_PVdPFGa7V3RK3o</td>\n",
       "      <td>2025-02-25 08:28:00</td>\n",
       "      <td>2025-02-25 22:59:00</td>\n",
       "      <td>0.0</td>\n",
       "      <td>False</td>\n",
       "      <td>True</td>\n",
       "      <td>...</td>\n",
       "      <td>9.00</td>\n",
       "      <td>0.0</td>\n",
       "      <td>NaN</td>\n",
       "      <td>NaN</td>\n",
       "      <td>NaN</td>\n",
       "      <td>9.00</td>\n",
       "      <td>9.0</td>\n",
       "      <td>paid</td>\n",
       "      <td>NaN</td>\n",
       "      <td>NaN</td>\n",
       "    </tr>\n",
       "    <tr>\n",
       "      <th>445</th>\n",
       "      <td>in_1Qw15iAFeGZf0UoOwlY0HQea</td>\n",
       "      <td>31250.00</td>\n",
       "      <td>False</td>\n",
       "      <td>usd</td>\n",
       "      <td>cus_RgLOYG9tQ1hPEh</td>\n",
       "      <td>2025-02-24 12:48:00</td>\n",
       "      <td>2025-02-24 22:59:00</td>\n",
       "      <td>0.0</td>\n",
       "      <td>False</td>\n",
       "      <td>False</td>\n",
       "      <td>...</td>\n",
       "      <td>31250.00</td>\n",
       "      <td>0.0</td>\n",
       "      <td>NaN</td>\n",
       "      <td>NaN</td>\n",
       "      <td>NaN</td>\n",
       "      <td>31250.00</td>\n",
       "      <td>0.0</td>\n",
       "      <td>open</td>\n",
       "      <td>NaN</td>\n",
       "      <td>NaN</td>\n",
       "    </tr>\n",
       "    <tr>\n",
       "      <th>1056</th>\n",
       "      <td>in_1QuWmzAFeGZf0UoOAZvnw16y</td>\n",
       "      <td>72.00</td>\n",
       "      <td>True</td>\n",
       "      <td>usd</td>\n",
       "      <td>cus_Q9ZyM9Df72wBIP</td>\n",
       "      <td>2025-02-20 10:15:00</td>\n",
       "      <td>NaT</td>\n",
       "      <td>0.0</td>\n",
       "      <td>False</td>\n",
       "      <td>True</td>\n",
       "      <td>...</td>\n",
       "      <td>72.00</td>\n",
       "      <td>0.0</td>\n",
       "      <td>NaN</td>\n",
       "      <td>NaN</td>\n",
       "      <td>NaN</td>\n",
       "      <td>72.00</td>\n",
       "      <td>72.0</td>\n",
       "      <td>paid</td>\n",
       "      <td>NaN</td>\n",
       "      <td>NaN</td>\n",
       "    </tr>\n",
       "    <tr>\n",
       "      <th>1062</th>\n",
       "      <td>in_1QuWKSAFeGZf0UoOLUF0tIjt</td>\n",
       "      <td>72.00</td>\n",
       "      <td>True</td>\n",
       "      <td>usd</td>\n",
       "      <td>cus_Q9ZyM9Df72wBIP</td>\n",
       "      <td>2025-02-20 09:46:00</td>\n",
       "      <td>NaT</td>\n",
       "      <td>0.0</td>\n",
       "      <td>False</td>\n",
       "      <td>True</td>\n",
       "      <td>...</td>\n",
       "      <td>72.00</td>\n",
       "      <td>0.0</td>\n",
       "      <td>NaN</td>\n",
       "      <td>NaN</td>\n",
       "      <td>NaN</td>\n",
       "      <td>72.00</td>\n",
       "      <td>72.0</td>\n",
       "      <td>paid</td>\n",
       "      <td>NaN</td>\n",
       "      <td>NaN</td>\n",
       "    </tr>\n",
       "    <tr>\n",
       "      <th>1323</th>\n",
       "      <td>in_1Qtr6VAFeGZf0UoOap0Qzy7K</td>\n",
       "      <td>200.00</td>\n",
       "      <td>True</td>\n",
       "      <td>eur</td>\n",
       "      <td>cus_KZR8sw4FeYLo2J</td>\n",
       "      <td>2025-02-18 13:44:00</td>\n",
       "      <td>2025-02-18 22:59:00</td>\n",
       "      <td>0.0</td>\n",
       "      <td>False</td>\n",
       "      <td>True</td>\n",
       "      <td>...</td>\n",
       "      <td>200.00</td>\n",
       "      <td>0.0</td>\n",
       "      <td>NaN</td>\n",
       "      <td>NaN</td>\n",
       "      <td>NaN</td>\n",
       "      <td>200.00</td>\n",
       "      <td>200.0</td>\n",
       "      <td>paid</td>\n",
       "      <td>NaN</td>\n",
       "      <td>NaN</td>\n",
       "    </tr>\n",
       "    <tr>\n",
       "      <th>1404</th>\n",
       "      <td>in_1QtclWAFeGZf0UoO3mUSJfvm</td>\n",
       "      <td>46.80</td>\n",
       "      <td>False</td>\n",
       "      <td>eur</td>\n",
       "      <td>cus_JQzkgPkUkTzLgW</td>\n",
       "      <td>2025-02-17 22:26:00</td>\n",
       "      <td>2025-02-17 22:59:00</td>\n",
       "      <td>0.0</td>\n",
       "      <td>False</td>\n",
       "      <td>False</td>\n",
       "      <td>...</td>\n",
       "      <td>46.80</td>\n",
       "      <td>0.0</td>\n",
       "      <td>NaN</td>\n",
       "      <td>NaN</td>\n",
       "      <td>NaN</td>\n",
       "      <td>46.80</td>\n",
       "      <td>0.0</td>\n",
       "      <td>open</td>\n",
       "      <td>NaN</td>\n",
       "      <td>NaN</td>\n",
       "    </tr>\n",
       "    <tr>\n",
       "      <th>1520</th>\n",
       "      <td>in_1QtQv7AFeGZf0UoOjCOm7fnH</td>\n",
       "      <td>9.00</td>\n",
       "      <td>True</td>\n",
       "      <td>eur</td>\n",
       "      <td>cus_NYkeWORNbO4VCQ</td>\n",
       "      <td>2025-02-17 09:47:00</td>\n",
       "      <td>2025-02-17 22:59:00</td>\n",
       "      <td>0.0</td>\n",
       "      <td>False</td>\n",
       "      <td>True</td>\n",
       "      <td>...</td>\n",
       "      <td>9.00</td>\n",
       "      <td>0.0</td>\n",
       "      <td>NaN</td>\n",
       "      <td>NaN</td>\n",
       "      <td>NaN</td>\n",
       "      <td>9.00</td>\n",
       "      <td>9.0</td>\n",
       "      <td>paid</td>\n",
       "      <td>NaN</td>\n",
       "      <td>NaN</td>\n",
       "    </tr>\n",
       "    <tr>\n",
       "      <th>2053</th>\n",
       "      <td>in_1Qs1n0AFeGZf0UoOyuFBk3qW</td>\n",
       "      <td>2832.00</td>\n",
       "      <td>True</td>\n",
       "      <td>usd</td>\n",
       "      <td>cus_OezJrDfEUoiYhC</td>\n",
       "      <td>2025-02-13 12:45:00</td>\n",
       "      <td>1970-01-01 00:00:00</td>\n",
       "      <td>NaN</td>\n",
       "      <td>False</td>\n",
       "      <td>False</td>\n",
       "      <td>...</td>\n",
       "      <td>2832.00</td>\n",
       "      <td>0.0</td>\n",
       "      <td>NaN</td>\n",
       "      <td>NaN</td>\n",
       "      <td>NaN</td>\n",
       "      <td>2832.00</td>\n",
       "      <td>0.0</td>\n",
       "      <td>draft</td>\n",
       "      <td>NaN</td>\n",
       "      <td>NaN</td>\n",
       "    </tr>\n",
       "    <tr>\n",
       "      <th>2182</th>\n",
       "      <td>in_1QrgvqAFeGZf0UoOjDIyCct5</td>\n",
       "      <td>114.00</td>\n",
       "      <td>True</td>\n",
       "      <td>usd</td>\n",
       "      <td>cus_RQJsLjxRPAxNZm</td>\n",
       "      <td>2025-02-12 14:28:00</td>\n",
       "      <td>2025-02-12 22:59:00</td>\n",
       "      <td>0.0</td>\n",
       "      <td>False</td>\n",
       "      <td>True</td>\n",
       "      <td>...</td>\n",
       "      <td>114.00</td>\n",
       "      <td>0.0</td>\n",
       "      <td>NaN</td>\n",
       "      <td>NaN</td>\n",
       "      <td>NaN</td>\n",
       "      <td>114.00</td>\n",
       "      <td>114.0</td>\n",
       "      <td>paid</td>\n",
       "      <td>NaN</td>\n",
       "      <td>NaN</td>\n",
       "    </tr>\n",
       "    <tr>\n",
       "      <th>2183</th>\n",
       "      <td>in_1QrgrGAFeGZf0UoOyJq4VhFZ</td>\n",
       "      <td>1.13</td>\n",
       "      <td>True</td>\n",
       "      <td>usd</td>\n",
       "      <td>cus_RQJsLjxRPAxNZm</td>\n",
       "      <td>2025-02-12 14:24:00</td>\n",
       "      <td>1970-01-01 00:00:00</td>\n",
       "      <td>NaN</td>\n",
       "      <td>False</td>\n",
       "      <td>False</td>\n",
       "      <td>...</td>\n",
       "      <td>1.13</td>\n",
       "      <td>0.0</td>\n",
       "      <td>NaN</td>\n",
       "      <td>NaN</td>\n",
       "      <td>NaN</td>\n",
       "      <td>1.13</td>\n",
       "      <td>0.0</td>\n",
       "      <td>draft</td>\n",
       "      <td>NaN</td>\n",
       "      <td>NaN</td>\n",
       "    </tr>\n",
       "    <tr>\n",
       "      <th>2184</th>\n",
       "      <td>in_1QrgpyAFeGZf0UoOQH32ydBM</td>\n",
       "      <td>0.00</td>\n",
       "      <td>True</td>\n",
       "      <td>usd</td>\n",
       "      <td>cus_RQJsLjxRPAxNZm</td>\n",
       "      <td>2025-02-12 14:22:00</td>\n",
       "      <td>1970-01-01 00:00:00</td>\n",
       "      <td>NaN</td>\n",
       "      <td>False</td>\n",
       "      <td>False</td>\n",
       "      <td>...</td>\n",
       "      <td>0.00</td>\n",
       "      <td>0.0</td>\n",
       "      <td>NaN</td>\n",
       "      <td>NaN</td>\n",
       "      <td>NaN</td>\n",
       "      <td>0.00</td>\n",
       "      <td>0.0</td>\n",
       "      <td>draft</td>\n",
       "      <td>NaN</td>\n",
       "      <td>NaN</td>\n",
       "    </tr>\n",
       "    <tr>\n",
       "      <th>2305</th>\n",
       "      <td>in_1QrNboAFeGZf0UoOYvk58OGN</td>\n",
       "      <td>0.00</td>\n",
       "      <td>True</td>\n",
       "      <td>eur</td>\n",
       "      <td>cus_QRTkgmDtxRzfP7</td>\n",
       "      <td>2025-02-11 17:50:00</td>\n",
       "      <td>1970-01-01 00:00:00</td>\n",
       "      <td>NaN</td>\n",
       "      <td>False</td>\n",
       "      <td>False</td>\n",
       "      <td>...</td>\n",
       "      <td>0.00</td>\n",
       "      <td>0.0</td>\n",
       "      <td>NaN</td>\n",
       "      <td>NaN</td>\n",
       "      <td>NaN</td>\n",
       "      <td>0.00</td>\n",
       "      <td>0.0</td>\n",
       "      <td>draft</td>\n",
       "      <td>NaN</td>\n",
       "      <td>NaN</td>\n",
       "    </tr>\n",
       "    <tr>\n",
       "      <th>2306</th>\n",
       "      <td>in_1QrNVtAFeGZf0UoOf3MOCsEg</td>\n",
       "      <td>137.00</td>\n",
       "      <td>True</td>\n",
       "      <td>eur</td>\n",
       "      <td>cus_NYkeWORNbO4VCQ</td>\n",
       "      <td>2025-02-11 17:44:00</td>\n",
       "      <td>2025-02-11 22:59:00</td>\n",
       "      <td>0.0</td>\n",
       "      <td>False</td>\n",
       "      <td>True</td>\n",
       "      <td>...</td>\n",
       "      <td>137.00</td>\n",
       "      <td>0.0</td>\n",
       "      <td>NaN</td>\n",
       "      <td>NaN</td>\n",
       "      <td>NaN</td>\n",
       "      <td>137.00</td>\n",
       "      <td>137.0</td>\n",
       "      <td>paid</td>\n",
       "      <td>NaN</td>\n",
       "      <td>NaN</td>\n",
       "    </tr>\n",
       "    <tr>\n",
       "      <th>2330</th>\n",
       "      <td>in_1QrKy9AFeGZf0UoOV7oBcA5O</td>\n",
       "      <td>0.00</td>\n",
       "      <td>True</td>\n",
       "      <td>eur</td>\n",
       "      <td>cus_RIjxRssm0L79NH</td>\n",
       "      <td>2025-02-11 15:01:00</td>\n",
       "      <td>1970-01-01 00:00:00</td>\n",
       "      <td>NaN</td>\n",
       "      <td>False</td>\n",
       "      <td>False</td>\n",
       "      <td>...</td>\n",
       "      <td>0.00</td>\n",
       "      <td>0.0</td>\n",
       "      <td>NaN</td>\n",
       "      <td>NaN</td>\n",
       "      <td>NaN</td>\n",
       "      <td>0.00</td>\n",
       "      <td>0.0</td>\n",
       "      <td>draft</td>\n",
       "      <td>NaN</td>\n",
       "      <td>NaN</td>\n",
       "    </tr>\n",
       "    <tr>\n",
       "      <th>2350</th>\n",
       "      <td>in_1QrJrsAFeGZf0UoOGMsUvp6S</td>\n",
       "      <td>133.00</td>\n",
       "      <td>True</td>\n",
       "      <td>eur</td>\n",
       "      <td>cus_RbTMLaCeCVlhqG</td>\n",
       "      <td>2025-02-11 13:51:00</td>\n",
       "      <td>2025-02-11 22:59:00</td>\n",
       "      <td>0.0</td>\n",
       "      <td>False</td>\n",
       "      <td>True</td>\n",
       "      <td>...</td>\n",
       "      <td>133.00</td>\n",
       "      <td>0.0</td>\n",
       "      <td>NaN</td>\n",
       "      <td>NaN</td>\n",
       "      <td>NaN</td>\n",
       "      <td>133.00</td>\n",
       "      <td>133.0</td>\n",
       "      <td>paid</td>\n",
       "      <td>NaN</td>\n",
       "      <td>NaN</td>\n",
       "    </tr>\n",
       "    <tr>\n",
       "      <th>2375</th>\n",
       "      <td>in_1QrHTuAFeGZf0UoOnq8qQ0zH</td>\n",
       "      <td>0.00</td>\n",
       "      <td>True</td>\n",
       "      <td>eur</td>\n",
       "      <td>cus_NOTDHIxuvH300q</td>\n",
       "      <td>2025-02-11 11:18:00</td>\n",
       "      <td>1970-01-01 00:00:00</td>\n",
       "      <td>NaN</td>\n",
       "      <td>False</td>\n",
       "      <td>False</td>\n",
       "      <td>...</td>\n",
       "      <td>0.00</td>\n",
       "      <td>0.0</td>\n",
       "      <td>NaN</td>\n",
       "      <td>NaN</td>\n",
       "      <td>NaN</td>\n",
       "      <td>0.00</td>\n",
       "      <td>0.0</td>\n",
       "      <td>draft</td>\n",
       "      <td>NaN</td>\n",
       "      <td>NaN</td>\n",
       "    </tr>\n",
       "    <tr>\n",
       "      <th>2489</th>\n",
       "      <td>in_1QqxyTAFeGZf0UoOxa20w8Sm</td>\n",
       "      <td>0.00</td>\n",
       "      <td>True</td>\n",
       "      <td>eur</td>\n",
       "      <td>cus_RdgyibXy6P2g1y</td>\n",
       "      <td>2025-02-10 14:28:00</td>\n",
       "      <td>2025-02-10 22:59:00</td>\n",
       "      <td>0.0</td>\n",
       "      <td>False</td>\n",
       "      <td>True</td>\n",
       "      <td>...</td>\n",
       "      <td>0.00</td>\n",
       "      <td>0.0</td>\n",
       "      <td>NaN</td>\n",
       "      <td>NaN</td>\n",
       "      <td>NaN</td>\n",
       "      <td>0.00</td>\n",
       "      <td>0.0</td>\n",
       "      <td>paid</td>\n",
       "      <td>NaN</td>\n",
       "      <td>NaN</td>\n",
       "    </tr>\n",
       "    <tr>\n",
       "      <th>2545</th>\n",
       "      <td>in_1Qqt2aAFeGZf0UoOfiWbtv7D</td>\n",
       "      <td>348.00</td>\n",
       "      <td>True</td>\n",
       "      <td>eur</td>\n",
       "      <td>cus_NOTDHIxuvH300q</td>\n",
       "      <td>2025-02-10 09:12:00</td>\n",
       "      <td>1970-01-01 00:00:00</td>\n",
       "      <td>NaN</td>\n",
       "      <td>False</td>\n",
       "      <td>False</td>\n",
       "      <td>...</td>\n",
       "      <td>348.00</td>\n",
       "      <td>0.0</td>\n",
       "      <td>NaN</td>\n",
       "      <td>NaN</td>\n",
       "      <td>NaN</td>\n",
       "      <td>348.00</td>\n",
       "      <td>0.0</td>\n",
       "      <td>draft</td>\n",
       "      <td>NaN</td>\n",
       "      <td>NaN</td>\n",
       "    </tr>\n",
       "    <tr>\n",
       "      <th>3485</th>\n",
       "      <td>in_1QoQffAFeGZf0UoOkeOiugut</td>\n",
       "      <td>136.00</td>\n",
       "      <td>True</td>\n",
       "      <td>eur</td>\n",
       "      <td>cus_QFYpISCDbtynLm</td>\n",
       "      <td>2025-02-03 14:30:00</td>\n",
       "      <td>2025-02-03 22:59:00</td>\n",
       "      <td>0.0</td>\n",
       "      <td>False</td>\n",
       "      <td>True</td>\n",
       "      <td>...</td>\n",
       "      <td>136.00</td>\n",
       "      <td>0.0</td>\n",
       "      <td>NaN</td>\n",
       "      <td>NaN</td>\n",
       "      <td>NaN</td>\n",
       "      <td>136.00</td>\n",
       "      <td>136.0</td>\n",
       "      <td>paid</td>\n",
       "      <td>NaN</td>\n",
       "      <td>NaN</td>\n",
       "    </tr>\n",
       "    <tr>\n",
       "      <th>3536</th>\n",
       "      <td>in_1QoNJeAFeGZf0UoOmTVqR0Qf</td>\n",
       "      <td>108.00</td>\n",
       "      <td>True</td>\n",
       "      <td>eur</td>\n",
       "      <td>cus_KZR8sw4FeYLo2J</td>\n",
       "      <td>2025-02-03 10:55:00</td>\n",
       "      <td>2025-02-03 22:59:00</td>\n",
       "      <td>0.0</td>\n",
       "      <td>False</td>\n",
       "      <td>True</td>\n",
       "      <td>...</td>\n",
       "      <td>108.00</td>\n",
       "      <td>0.0</td>\n",
       "      <td>NaN</td>\n",
       "      <td>NaN</td>\n",
       "      <td>NaN</td>\n",
       "      <td>108.00</td>\n",
       "      <td>108.0</td>\n",
       "      <td>paid</td>\n",
       "      <td>NaN</td>\n",
       "      <td>NaN</td>\n",
       "    </tr>\n",
       "    <tr>\n",
       "      <th>3986</th>\n",
       "      <td>in_1Qn0DAAFeGZf0UoOioZ0mzm2</td>\n",
       "      <td>0.00</td>\n",
       "      <td>True</td>\n",
       "      <td>eur</td>\n",
       "      <td>cus_R5dZgizcov5n4A</td>\n",
       "      <td>2025-01-30 16:03:00</td>\n",
       "      <td>1970-01-01 00:00:00</td>\n",
       "      <td>NaN</td>\n",
       "      <td>False</td>\n",
       "      <td>False</td>\n",
       "      <td>...</td>\n",
       "      <td>0.00</td>\n",
       "      <td>0.0</td>\n",
       "      <td>NaN</td>\n",
       "      <td>NaN</td>\n",
       "      <td>NaN</td>\n",
       "      <td>0.00</td>\n",
       "      <td>0.0</td>\n",
       "      <td>draft</td>\n",
       "      <td>NaN</td>\n",
       "      <td>NaN</td>\n",
       "    </tr>\n",
       "    <tr>\n",
       "      <th>4146</th>\n",
       "      <td>in_1QmdPiAFeGZf0UoOiD16XBdP</td>\n",
       "      <td>18.00</td>\n",
       "      <td>True</td>\n",
       "      <td>usd</td>\n",
       "      <td>cus_QsB6GusyraQ8Kf</td>\n",
       "      <td>2025-01-29 15:42:00</td>\n",
       "      <td>1970-01-01 00:00:00</td>\n",
       "      <td>NaN</td>\n",
       "      <td>False</td>\n",
       "      <td>False</td>\n",
       "      <td>...</td>\n",
       "      <td>18.00</td>\n",
       "      <td>0.0</td>\n",
       "      <td>NaN</td>\n",
       "      <td>NaN</td>\n",
       "      <td>NaN</td>\n",
       "      <td>18.00</td>\n",
       "      <td>0.0</td>\n",
       "      <td>draft</td>\n",
       "      <td>NaN</td>\n",
       "      <td>NaN</td>\n",
       "    </tr>\n",
       "    <tr>\n",
       "      <th>4450</th>\n",
       "      <td>in_1QlpNXAFeGZf0UoOxaVV8jpk</td>\n",
       "      <td>0.00</td>\n",
       "      <td>True</td>\n",
       "      <td>eur</td>\n",
       "      <td>cus_RbTMLaCeCVlhqG</td>\n",
       "      <td>2025-01-27 10:17:00</td>\n",
       "      <td>1970-01-01 00:00:00</td>\n",
       "      <td>NaN</td>\n",
       "      <td>False</td>\n",
       "      <td>False</td>\n",
       "      <td>...</td>\n",
       "      <td>0.00</td>\n",
       "      <td>0.0</td>\n",
       "      <td>NaN</td>\n",
       "      <td>NaN</td>\n",
       "      <td>NaN</td>\n",
       "      <td>0.00</td>\n",
       "      <td>0.0</td>\n",
       "      <td>draft</td>\n",
       "      <td>NaN</td>\n",
       "      <td>NaN</td>\n",
       "    </tr>\n",
       "    <tr>\n",
       "      <th>5083</th>\n",
       "      <td>in_1Qk5xmAFeGZf0UoOU151nuZZ</td>\n",
       "      <td>0.00</td>\n",
       "      <td>True</td>\n",
       "      <td>eur</td>\n",
       "      <td>cus_PQAaj3SZMpaFRB</td>\n",
       "      <td>2025-01-22 15:35:00</td>\n",
       "      <td>1970-01-01 00:00:00</td>\n",
       "      <td>NaN</td>\n",
       "      <td>False</td>\n",
       "      <td>False</td>\n",
       "      <td>...</td>\n",
       "      <td>0.00</td>\n",
       "      <td>0.0</td>\n",
       "      <td>NaN</td>\n",
       "      <td>NaN</td>\n",
       "      <td>NaN</td>\n",
       "      <td>0.00</td>\n",
       "      <td>0.0</td>\n",
       "      <td>draft</td>\n",
       "      <td>NaN</td>\n",
       "      <td>NaN</td>\n",
       "    </tr>\n",
       "    <tr>\n",
       "      <th>5093</th>\n",
       "      <td>in_1Qk5SdAFeGZf0UoOhMifwnrz</td>\n",
       "      <td>0.00</td>\n",
       "      <td>True</td>\n",
       "      <td>usd</td>\n",
       "      <td>cus_Q9ZyM9Df72wBIP</td>\n",
       "      <td>2025-01-22 15:03:00</td>\n",
       "      <td>1970-01-01 00:00:00</td>\n",
       "      <td>NaN</td>\n",
       "      <td>False</td>\n",
       "      <td>False</td>\n",
       "      <td>...</td>\n",
       "      <td>0.00</td>\n",
       "      <td>0.0</td>\n",
       "      <td>NaN</td>\n",
       "      <td>NaN</td>\n",
       "      <td>NaN</td>\n",
       "      <td>0.00</td>\n",
       "      <td>0.0</td>\n",
       "      <td>draft</td>\n",
       "      <td>NaN</td>\n",
       "      <td>NaN</td>\n",
       "    </tr>\n",
       "    <tr>\n",
       "      <th>5095</th>\n",
       "      <td>in_1Qk5NrAFeGZf0UoO6dQHCC7H</td>\n",
       "      <td>0.00</td>\n",
       "      <td>True</td>\n",
       "      <td>usd</td>\n",
       "      <td>cus_Q9ZyM9Df72wBIP</td>\n",
       "      <td>2025-01-22 14:58:00</td>\n",
       "      <td>1970-01-01 00:00:00</td>\n",
       "      <td>NaN</td>\n",
       "      <td>False</td>\n",
       "      <td>False</td>\n",
       "      <td>...</td>\n",
       "      <td>0.00</td>\n",
       "      <td>0.0</td>\n",
       "      <td>NaN</td>\n",
       "      <td>NaN</td>\n",
       "      <td>NaN</td>\n",
       "      <td>0.00</td>\n",
       "      <td>0.0</td>\n",
       "      <td>draft</td>\n",
       "      <td>NaN</td>\n",
       "      <td>NaN</td>\n",
       "    </tr>\n",
       "    <tr>\n",
       "      <th>5107</th>\n",
       "      <td>in_1Qk532AFeGZf0UoOhzDHTT9Z</td>\n",
       "      <td>0.00</td>\n",
       "      <td>True</td>\n",
       "      <td>eur</td>\n",
       "      <td>cus_RY1OHL0dUphakh</td>\n",
       "      <td>2025-01-22 14:36:00</td>\n",
       "      <td>1970-01-01 00:00:00</td>\n",
       "      <td>NaN</td>\n",
       "      <td>False</td>\n",
       "      <td>False</td>\n",
       "      <td>...</td>\n",
       "      <td>0.00</td>\n",
       "      <td>0.0</td>\n",
       "      <td>NaN</td>\n",
       "      <td>NaN</td>\n",
       "      <td>NaN</td>\n",
       "      <td>0.00</td>\n",
       "      <td>0.0</td>\n",
       "      <td>draft</td>\n",
       "      <td>NaN</td>\n",
       "      <td>NaN</td>\n",
       "    </tr>\n",
       "    <tr>\n",
       "      <th>5108</th>\n",
       "      <td>in_1Qk522AFeGZf0UoOAJbzGFI2</td>\n",
       "      <td>0.00</td>\n",
       "      <td>True</td>\n",
       "      <td>eur</td>\n",
       "      <td>cus_RY1OHL0dUphakh</td>\n",
       "      <td>2025-01-22 14:35:00</td>\n",
       "      <td>1970-01-01 00:00:00</td>\n",
       "      <td>NaN</td>\n",
       "      <td>False</td>\n",
       "      <td>False</td>\n",
       "      <td>...</td>\n",
       "      <td>0.00</td>\n",
       "      <td>0.0</td>\n",
       "      <td>NaN</td>\n",
       "      <td>NaN</td>\n",
       "      <td>NaN</td>\n",
       "      <td>0.00</td>\n",
       "      <td>0.0</td>\n",
       "      <td>draft</td>\n",
       "      <td>NaN</td>\n",
       "      <td>NaN</td>\n",
       "    </tr>\n",
       "    <tr>\n",
       "      <th>5126</th>\n",
       "      <td>in_1Qk46iAFeGZf0UoOC6FGpQ2i</td>\n",
       "      <td>0.00</td>\n",
       "      <td>True</td>\n",
       "      <td>usd</td>\n",
       "      <td>cus_Q9ZyM9Df72wBIP</td>\n",
       "      <td>2025-01-22 13:36:00</td>\n",
       "      <td>1970-01-01 00:00:00</td>\n",
       "      <td>NaN</td>\n",
       "      <td>False</td>\n",
       "      <td>False</td>\n",
       "      <td>...</td>\n",
       "      <td>0.00</td>\n",
       "      <td>0.0</td>\n",
       "      <td>NaN</td>\n",
       "      <td>NaN</td>\n",
       "      <td>NaN</td>\n",
       "      <td>0.00</td>\n",
       "      <td>0.0</td>\n",
       "      <td>draft</td>\n",
       "      <td>NaN</td>\n",
       "      <td>NaN</td>\n",
       "    </tr>\n",
       "    <tr>\n",
       "      <th>6120</th>\n",
       "      <td>in_1QhTUxAFeGZf0UoOSkOEdJ66</td>\n",
       "      <td>5028.60</td>\n",
       "      <td>True</td>\n",
       "      <td>eur</td>\n",
       "      <td>cus_MjtaBsPBXSmAJG</td>\n",
       "      <td>2025-01-15 10:06:00</td>\n",
       "      <td>2025-01-15 22:59:00</td>\n",
       "      <td>0.0</td>\n",
       "      <td>False</td>\n",
       "      <td>True</td>\n",
       "      <td>...</td>\n",
       "      <td>5916.00</td>\n",
       "      <td>887.4</td>\n",
       "      <td>RAVSURFE515</td>\n",
       "      <td>NaN</td>\n",
       "      <td>NaN</td>\n",
       "      <td>5028.60</td>\n",
       "      <td>0.0</td>\n",
       "      <td>paid</td>\n",
       "      <td>NaN</td>\n",
       "      <td>NaN</td>\n",
       "    </tr>\n",
       "    <tr>\n",
       "      <th>6199</th>\n",
       "      <td>in_1QhCHbAFeGZf0UoOdU5RD2qD</td>\n",
       "      <td>72.00</td>\n",
       "      <td>True</td>\n",
       "      <td>usd</td>\n",
       "      <td>cus_Q9ZyM9Df72wBIP</td>\n",
       "      <td>2025-01-14 15:43:00</td>\n",
       "      <td>2025-01-14 22:59:00</td>\n",
       "      <td>0.0</td>\n",
       "      <td>False</td>\n",
       "      <td>True</td>\n",
       "      <td>...</td>\n",
       "      <td>72.00</td>\n",
       "      <td>0.0</td>\n",
       "      <td>NaN</td>\n",
       "      <td>NaN</td>\n",
       "      <td>NaN</td>\n",
       "      <td>72.00</td>\n",
       "      <td>72.0</td>\n",
       "      <td>paid</td>\n",
       "      <td>NaN</td>\n",
       "      <td>NaN</td>\n",
       "    </tr>\n",
       "    <tr>\n",
       "      <th>6262</th>\n",
       "      <td>in_1Qh6c3AFeGZf0UoO4VXEk6Ep</td>\n",
       "      <td>60.00</td>\n",
       "      <td>True</td>\n",
       "      <td>usd</td>\n",
       "      <td>cus_Qc7POGpS5yYocv</td>\n",
       "      <td>2025-01-14 09:40:00</td>\n",
       "      <td>NaT</td>\n",
       "      <td>0.0</td>\n",
       "      <td>False</td>\n",
       "      <td>True</td>\n",
       "      <td>...</td>\n",
       "      <td>60.00</td>\n",
       "      <td>0.0</td>\n",
       "      <td>NaN</td>\n",
       "      <td>NaN</td>\n",
       "      <td>NaN</td>\n",
       "      <td>60.00</td>\n",
       "      <td>60.0</td>\n",
       "      <td>paid</td>\n",
       "      <td>NaN</td>\n",
       "      <td>NaN</td>\n",
       "    </tr>\n",
       "    <tr>\n",
       "      <th>6768</th>\n",
       "      <td>in_1QfjRjAFeGZf0UoO3pljw3b5</td>\n",
       "      <td>20.00</td>\n",
       "      <td>False</td>\n",
       "      <td>usd</td>\n",
       "      <td>cus_QuSXojxabmpmg4</td>\n",
       "      <td>2025-01-10 14:44:00</td>\n",
       "      <td>2025-01-10 22:59:00</td>\n",
       "      <td>0.0</td>\n",
       "      <td>False</td>\n",
       "      <td>False</td>\n",
       "      <td>...</td>\n",
       "      <td>20.00</td>\n",
       "      <td>0.0</td>\n",
       "      <td>NaN</td>\n",
       "      <td>NaN</td>\n",
       "      <td>NaN</td>\n",
       "      <td>20.00</td>\n",
       "      <td>0.0</td>\n",
       "      <td>open</td>\n",
       "      <td>NaN</td>\n",
       "      <td>NaN</td>\n",
       "    </tr>\n",
       "    <tr>\n",
       "      <th>7914</th>\n",
       "      <td>in_1QcmpAAFeGZf0UoOwzL4Uy1A</td>\n",
       "      <td>39.00</td>\n",
       "      <td>False</td>\n",
       "      <td>usd</td>\n",
       "      <td>cus_RA9AvKgmy1kWbD</td>\n",
       "      <td>2025-01-02 11:44:00</td>\n",
       "      <td>2025-01-03 11:46:00</td>\n",
       "      <td>0.0</td>\n",
       "      <td>False</td>\n",
       "      <td>False</td>\n",
       "      <td>...</td>\n",
       "      <td>39.00</td>\n",
       "      <td>0.0</td>\n",
       "      <td>NaN</td>\n",
       "      <td>NaN</td>\n",
       "      <td>NaN</td>\n",
       "      <td>39.00</td>\n",
       "      <td>0.0</td>\n",
       "      <td>open</td>\n",
       "      <td>NaN</td>\n",
       "      <td>NaN</td>\n",
       "    </tr>\n",
       "    <tr>\n",
       "      <th>7915</th>\n",
       "      <td>in_1QcmobAFeGZf0UoOmvY7PqpH</td>\n",
       "      <td>0.00</td>\n",
       "      <td>True</td>\n",
       "      <td>usd</td>\n",
       "      <td>cus_RA9AvKgmy1kWbD</td>\n",
       "      <td>2025-01-02 11:43:00</td>\n",
       "      <td>1970-01-01 00:00:00</td>\n",
       "      <td>NaN</td>\n",
       "      <td>False</td>\n",
       "      <td>False</td>\n",
       "      <td>...</td>\n",
       "      <td>0.00</td>\n",
       "      <td>0.0</td>\n",
       "      <td>NaN</td>\n",
       "      <td>NaN</td>\n",
       "      <td>NaN</td>\n",
       "      <td>0.00</td>\n",
       "      <td>0.0</td>\n",
       "      <td>draft</td>\n",
       "      <td>NaN</td>\n",
       "      <td>NaN</td>\n",
       "    </tr>\n",
       "  </tbody>\n",
       "</table>\n",
       "<p>39 rows × 30 columns</p>\n",
       "</div>"
      ],
      "text/plain": [
       "                               id  amount due  closed currency  \\\n",
       "7     in_1Qx3R0AFeGZf0UoOYSx37Ftb       22.50    True      eur   \n",
       "18    in_1Qx2hmAFeGZf0UoOYD4eoPnB        9.00    True      usd   \n",
       "27    in_1Qx1pRAFeGZf0UoOXawHgA3a      137.00    True      usd   \n",
       "256   in_1QwOhtAFeGZf0UoOSjYsHGRs        0.00    True      eur   \n",
       "320   in_1QwJVPAFeGZf0UoOGWkzGxBD        9.00    True      usd   \n",
       "445   in_1Qw15iAFeGZf0UoOwlY0HQea    31250.00   False      usd   \n",
       "1056  in_1QuWmzAFeGZf0UoOAZvnw16y       72.00    True      usd   \n",
       "1062  in_1QuWKSAFeGZf0UoOLUF0tIjt       72.00    True      usd   \n",
       "1323  in_1Qtr6VAFeGZf0UoOap0Qzy7K      200.00    True      eur   \n",
       "1404  in_1QtclWAFeGZf0UoO3mUSJfvm       46.80   False      eur   \n",
       "1520  in_1QtQv7AFeGZf0UoOjCOm7fnH        9.00    True      eur   \n",
       "2053  in_1Qs1n0AFeGZf0UoOyuFBk3qW     2832.00    True      usd   \n",
       "2182  in_1QrgvqAFeGZf0UoOjDIyCct5      114.00    True      usd   \n",
       "2183  in_1QrgrGAFeGZf0UoOyJq4VhFZ        1.13    True      usd   \n",
       "2184  in_1QrgpyAFeGZf0UoOQH32ydBM        0.00    True      usd   \n",
       "2305  in_1QrNboAFeGZf0UoOYvk58OGN        0.00    True      eur   \n",
       "2306  in_1QrNVtAFeGZf0UoOf3MOCsEg      137.00    True      eur   \n",
       "2330  in_1QrKy9AFeGZf0UoOV7oBcA5O        0.00    True      eur   \n",
       "2350  in_1QrJrsAFeGZf0UoOGMsUvp6S      133.00    True      eur   \n",
       "2375  in_1QrHTuAFeGZf0UoOnq8qQ0zH        0.00    True      eur   \n",
       "2489  in_1QqxyTAFeGZf0UoOxa20w8Sm        0.00    True      eur   \n",
       "2545  in_1Qqt2aAFeGZf0UoOfiWbtv7D      348.00    True      eur   \n",
       "3485  in_1QoQffAFeGZf0UoOkeOiugut      136.00    True      eur   \n",
       "3536  in_1QoNJeAFeGZf0UoOmTVqR0Qf      108.00    True      eur   \n",
       "3986  in_1Qn0DAAFeGZf0UoOioZ0mzm2        0.00    True      eur   \n",
       "4146  in_1QmdPiAFeGZf0UoOiD16XBdP       18.00    True      usd   \n",
       "4450  in_1QlpNXAFeGZf0UoOxaVV8jpk        0.00    True      eur   \n",
       "5083  in_1Qk5xmAFeGZf0UoOU151nuZZ        0.00    True      eur   \n",
       "5093  in_1Qk5SdAFeGZf0UoOhMifwnrz        0.00    True      usd   \n",
       "5095  in_1Qk5NrAFeGZf0UoO6dQHCC7H        0.00    True      usd   \n",
       "5107  in_1Qk532AFeGZf0UoOhzDHTT9Z        0.00    True      eur   \n",
       "5108  in_1Qk522AFeGZf0UoOAJbzGFI2        0.00    True      eur   \n",
       "5126  in_1Qk46iAFeGZf0UoOC6FGpQ2i        0.00    True      usd   \n",
       "6120  in_1QhTUxAFeGZf0UoOSkOEdJ66     5028.60    True      eur   \n",
       "6199  in_1QhCHbAFeGZf0UoOdU5RD2qD       72.00    True      usd   \n",
       "6262  in_1Qh6c3AFeGZf0UoO4VXEk6Ep       60.00    True      usd   \n",
       "6768  in_1QfjRjAFeGZf0UoO3pljw3b5       20.00   False      usd   \n",
       "7914  in_1QcmpAAFeGZf0UoOwzL4Uy1A       39.00   False      usd   \n",
       "7915  in_1QcmobAFeGZf0UoOmvY7PqpH        0.00    True      usd   \n",
       "\n",
       "                customer          date (utc)      due date (utc)  \\\n",
       "7     cus_PbPmpwRy3HrxgP 2025-02-27 09:31:00 2025-02-27 22:59:00   \n",
       "18    cus_PVdPFGa7V3RK3o 2025-02-27 08:44:00 2025-02-27 22:59:00   \n",
       "27    cus_PVdPFGa7V3RK3o 2025-02-27 07:48:00 2025-02-27 22:59:00   \n",
       "256   cus_QKkoyiGneQSxxq 2025-02-25 14:01:00 1970-01-01 00:00:00   \n",
       "320   cus_PVdPFGa7V3RK3o 2025-02-25 08:28:00 2025-02-25 22:59:00   \n",
       "445   cus_RgLOYG9tQ1hPEh 2025-02-24 12:48:00 2025-02-24 22:59:00   \n",
       "1056  cus_Q9ZyM9Df72wBIP 2025-02-20 10:15:00                 NaT   \n",
       "1062  cus_Q9ZyM9Df72wBIP 2025-02-20 09:46:00                 NaT   \n",
       "1323  cus_KZR8sw4FeYLo2J 2025-02-18 13:44:00 2025-02-18 22:59:00   \n",
       "1404  cus_JQzkgPkUkTzLgW 2025-02-17 22:26:00 2025-02-17 22:59:00   \n",
       "1520  cus_NYkeWORNbO4VCQ 2025-02-17 09:47:00 2025-02-17 22:59:00   \n",
       "2053  cus_OezJrDfEUoiYhC 2025-02-13 12:45:00 1970-01-01 00:00:00   \n",
       "2182  cus_RQJsLjxRPAxNZm 2025-02-12 14:28:00 2025-02-12 22:59:00   \n",
       "2183  cus_RQJsLjxRPAxNZm 2025-02-12 14:24:00 1970-01-01 00:00:00   \n",
       "2184  cus_RQJsLjxRPAxNZm 2025-02-12 14:22:00 1970-01-01 00:00:00   \n",
       "2305  cus_QRTkgmDtxRzfP7 2025-02-11 17:50:00 1970-01-01 00:00:00   \n",
       "2306  cus_NYkeWORNbO4VCQ 2025-02-11 17:44:00 2025-02-11 22:59:00   \n",
       "2330  cus_RIjxRssm0L79NH 2025-02-11 15:01:00 1970-01-01 00:00:00   \n",
       "2350  cus_RbTMLaCeCVlhqG 2025-02-11 13:51:00 2025-02-11 22:59:00   \n",
       "2375  cus_NOTDHIxuvH300q 2025-02-11 11:18:00 1970-01-01 00:00:00   \n",
       "2489  cus_RdgyibXy6P2g1y 2025-02-10 14:28:00 2025-02-10 22:59:00   \n",
       "2545  cus_NOTDHIxuvH300q 2025-02-10 09:12:00 1970-01-01 00:00:00   \n",
       "3485  cus_QFYpISCDbtynLm 2025-02-03 14:30:00 2025-02-03 22:59:00   \n",
       "3536  cus_KZR8sw4FeYLo2J 2025-02-03 10:55:00 2025-02-03 22:59:00   \n",
       "3986  cus_R5dZgizcov5n4A 2025-01-30 16:03:00 1970-01-01 00:00:00   \n",
       "4146  cus_QsB6GusyraQ8Kf 2025-01-29 15:42:00 1970-01-01 00:00:00   \n",
       "4450  cus_RbTMLaCeCVlhqG 2025-01-27 10:17:00 1970-01-01 00:00:00   \n",
       "5083  cus_PQAaj3SZMpaFRB 2025-01-22 15:35:00 1970-01-01 00:00:00   \n",
       "5093  cus_Q9ZyM9Df72wBIP 2025-01-22 15:03:00 1970-01-01 00:00:00   \n",
       "5095  cus_Q9ZyM9Df72wBIP 2025-01-22 14:58:00 1970-01-01 00:00:00   \n",
       "5107  cus_RY1OHL0dUphakh 2025-01-22 14:36:00 1970-01-01 00:00:00   \n",
       "5108  cus_RY1OHL0dUphakh 2025-01-22 14:35:00 1970-01-01 00:00:00   \n",
       "5126  cus_Q9ZyM9Df72wBIP 2025-01-22 13:36:00 1970-01-01 00:00:00   \n",
       "6120  cus_MjtaBsPBXSmAJG 2025-01-15 10:06:00 2025-01-15 22:59:00   \n",
       "6199  cus_Q9ZyM9Df72wBIP 2025-01-14 15:43:00 2025-01-14 22:59:00   \n",
       "6262  cus_Qc7POGpS5yYocv 2025-01-14 09:40:00                 NaT   \n",
       "6768  cus_QuSXojxabmpmg4 2025-01-10 14:44:00 2025-01-10 22:59:00   \n",
       "7914  cus_RA9AvKgmy1kWbD 2025-01-02 11:44:00 2025-01-03 11:46:00   \n",
       "7915  cus_RA9AvKgmy1kWbD 2025-01-02 11:43:00 1970-01-01 00:00:00   \n",
       "\n",
       "      ending balance  forgiven   paid  ...  subtotal total discount amount  \\\n",
       "7                0.0     False   True  ...     22.50                   0.0   \n",
       "18               0.0     False   True  ...      9.00                   0.0   \n",
       "27               0.0      True  False  ...    137.00                   0.0   \n",
       "256              NaN     False  False  ...      0.00                   0.0   \n",
       "320              0.0     False   True  ...      9.00                   0.0   \n",
       "445              0.0     False  False  ...  31250.00                   0.0   \n",
       "1056             0.0     False   True  ...     72.00                   0.0   \n",
       "1062             0.0     False   True  ...     72.00                   0.0   \n",
       "1323             0.0     False   True  ...    200.00                   0.0   \n",
       "1404             0.0     False  False  ...     46.80                   0.0   \n",
       "1520             0.0     False   True  ...      9.00                   0.0   \n",
       "2053             NaN     False  False  ...   2832.00                   0.0   \n",
       "2182             0.0     False   True  ...    114.00                   0.0   \n",
       "2183             NaN     False  False  ...      1.13                   0.0   \n",
       "2184             NaN     False  False  ...      0.00                   0.0   \n",
       "2305             NaN     False  False  ...      0.00                   0.0   \n",
       "2306             0.0     False   True  ...    137.00                   0.0   \n",
       "2330             NaN     False  False  ...      0.00                   0.0   \n",
       "2350             0.0     False   True  ...    133.00                   0.0   \n",
       "2375             NaN     False  False  ...      0.00                   0.0   \n",
       "2489             0.0     False   True  ...      0.00                   0.0   \n",
       "2545             NaN     False  False  ...    348.00                   0.0   \n",
       "3485             0.0     False   True  ...    136.00                   0.0   \n",
       "3536             0.0     False   True  ...    108.00                   0.0   \n",
       "3986             NaN     False  False  ...      0.00                   0.0   \n",
       "4146             NaN     False  False  ...     18.00                   0.0   \n",
       "4450             NaN     False  False  ...      0.00                   0.0   \n",
       "5083             NaN     False  False  ...      0.00                   0.0   \n",
       "5093             NaN     False  False  ...      0.00                   0.0   \n",
       "5095             NaN     False  False  ...      0.00                   0.0   \n",
       "5107             NaN     False  False  ...      0.00                   0.0   \n",
       "5108             NaN     False  False  ...      0.00                   0.0   \n",
       "5126             NaN     False  False  ...      0.00                   0.0   \n",
       "6120             0.0     False   True  ...   5916.00                 887.4   \n",
       "6199             0.0     False   True  ...     72.00                   0.0   \n",
       "6262             0.0     False   True  ...     60.00                   0.0   \n",
       "6768             0.0     False  False  ...     20.00                   0.0   \n",
       "7914             0.0     False  False  ...     39.00                   0.0   \n",
       "7915             NaN     False  False  ...      0.00                   0.0   \n",
       "\n",
       "     applied coupons tax tax percent     total amount paid         status  \\\n",
       "7                NaN NaN         NaN     22.50        22.5           paid   \n",
       "18               NaN NaN         NaN      9.00         9.0           paid   \n",
       "27               NaN NaN         NaN    137.00         0.0  uncollectible   \n",
       "256              NaN NaN         NaN      0.00         0.0          draft   \n",
       "320              NaN NaN         NaN      9.00         9.0           paid   \n",
       "445              NaN NaN         NaN  31250.00         0.0           open   \n",
       "1056             NaN NaN         NaN     72.00        72.0           paid   \n",
       "1062             NaN NaN         NaN     72.00        72.0           paid   \n",
       "1323             NaN NaN         NaN    200.00       200.0           paid   \n",
       "1404             NaN NaN         NaN     46.80         0.0           open   \n",
       "1520             NaN NaN         NaN      9.00         9.0           paid   \n",
       "2053             NaN NaN         NaN   2832.00         0.0          draft   \n",
       "2182             NaN NaN         NaN    114.00       114.0           paid   \n",
       "2183             NaN NaN         NaN      1.13         0.0          draft   \n",
       "2184             NaN NaN         NaN      0.00         0.0          draft   \n",
       "2305             NaN NaN         NaN      0.00         0.0          draft   \n",
       "2306             NaN NaN         NaN    137.00       137.0           paid   \n",
       "2330             NaN NaN         NaN      0.00         0.0          draft   \n",
       "2350             NaN NaN         NaN    133.00       133.0           paid   \n",
       "2375             NaN NaN         NaN      0.00         0.0          draft   \n",
       "2489             NaN NaN         NaN      0.00         0.0           paid   \n",
       "2545             NaN NaN         NaN    348.00         0.0          draft   \n",
       "3485             NaN NaN         NaN    136.00       136.0           paid   \n",
       "3536             NaN NaN         NaN    108.00       108.0           paid   \n",
       "3986             NaN NaN         NaN      0.00         0.0          draft   \n",
       "4146             NaN NaN         NaN     18.00         0.0          draft   \n",
       "4450             NaN NaN         NaN      0.00         0.0          draft   \n",
       "5083             NaN NaN         NaN      0.00         0.0          draft   \n",
       "5093             NaN NaN         NaN      0.00         0.0          draft   \n",
       "5095             NaN NaN         NaN      0.00         0.0          draft   \n",
       "5107             NaN NaN         NaN      0.00         0.0          draft   \n",
       "5108             NaN NaN         NaN      0.00         0.0          draft   \n",
       "5126             NaN NaN         NaN      0.00         0.0          draft   \n",
       "6120     RAVSURFE515 NaN         NaN   5028.60         0.0           paid   \n",
       "6199             NaN NaN         NaN     72.00        72.0           paid   \n",
       "6262             NaN NaN         NaN     60.00        60.0           paid   \n",
       "6768             NaN NaN         NaN     20.00         0.0           open   \n",
       "7914             NaN NaN         NaN     39.00         0.0           open   \n",
       "7915             NaN NaN         NaN      0.00         0.0          draft   \n",
       "\n",
       "      exclusive tax amount inclusive tax amount  \n",
       "7                      NaN                  NaN  \n",
       "18                     NaN                  NaN  \n",
       "27                     NaN                  NaN  \n",
       "256                    NaN                  NaN  \n",
       "320                    NaN                  NaN  \n",
       "445                    NaN                  NaN  \n",
       "1056                   NaN                  NaN  \n",
       "1062                   NaN                  NaN  \n",
       "1323                   NaN                  NaN  \n",
       "1404                   NaN                  NaN  \n",
       "1520                   NaN                  NaN  \n",
       "2053                   NaN                  NaN  \n",
       "2182                   NaN                  NaN  \n",
       "2183                   NaN                  NaN  \n",
       "2184                   NaN                  NaN  \n",
       "2305                   NaN                  NaN  \n",
       "2306                   NaN                  NaN  \n",
       "2330                   NaN                  NaN  \n",
       "2350                   NaN                  NaN  \n",
       "2375                   NaN                  NaN  \n",
       "2489                   NaN                  NaN  \n",
       "2545                   NaN                  NaN  \n",
       "3485                   NaN                  NaN  \n",
       "3536                   NaN                  NaN  \n",
       "3986                   NaN                  NaN  \n",
       "4146                   NaN                  NaN  \n",
       "4450                   NaN                  NaN  \n",
       "5083                   NaN                  NaN  \n",
       "5093                   NaN                  NaN  \n",
       "5095                   NaN                  NaN  \n",
       "5107                   NaN                  NaN  \n",
       "5108                   NaN                  NaN  \n",
       "5126                   NaN                  NaN  \n",
       "6120                   NaN                  NaN  \n",
       "6199                   NaN                  NaN  \n",
       "6262                   NaN                  NaN  \n",
       "6768                   NaN                  NaN  \n",
       "7914                   NaN                  NaN  \n",
       "7915                   NaN                  NaN  \n",
       "\n",
       "[39 rows x 30 columns]"
      ]
     },
     "execution_count": 14,
     "metadata": {},
     "output_type": "execute_result"
    }
   ],
   "source": [
    "df[df['subscription'].isna()]"
   ]
  },
  {
   "cell_type": "code",
   "execution_count": 15,
   "metadata": {},
   "outputs": [
    {
     "name": "stdout",
     "output_type": "stream",
     "text": [
      "Customers with multiple currencies:\n",
      "customer\n",
      "cus_Hgtp2cnDHmaKZd    2\n",
      "cus_NGa2cqdacckhAF    2\n",
      "cus_RHGc6HDDdE6sgP    2\n",
      "cus_RU1Fvz6zIUCPod    2\n",
      "Name: currency, dtype: int64\n"
     ]
    }
   ],
   "source": [
    "currency_counts = df.groupby('customer')['currency'].nunique()\n",
    "\n",
    "multi_currency_customers = currency_counts[currency_counts > 1]\n",
    "\n",
    "print(\"Customers with multiple currencies:\")\n",
    "print(multi_currency_customers)\n"
   ]
  },
  {
   "cell_type": "code",
   "execution_count": 16,
   "metadata": {},
   "outputs": [
    {
     "data": {
      "text/plain": [
       "currency\n",
       "eur    4690\n",
       "usd    3385\n",
       "Name: count, dtype: int64"
      ]
     },
     "execution_count": 16,
     "metadata": {},
     "output_type": "execute_result"
    }
   ],
   "source": [
    "df['currency'].value_counts()"
   ]
  },
  {
   "cell_type": "code",
   "execution_count": 17,
   "metadata": {},
   "outputs": [
    {
     "name": "stderr",
     "output_type": "stream",
     "text": [
      "/var/folders/9q/fz04wycx2gq4qyhgmbnk9x_r0000gn/T/ipykernel_28102/2997685491.py:1: FutureWarning: The default of observed=False is deprecated and will be changed to True in a future version of pandas. Pass observed=False to retain current behavior or observed=True to adopt the future default and silence this warning.\n",
      "  df.groupby('currency')['total'].sum()\n"
     ]
    },
    {
     "data": {
      "text/plain": [
       "currency\n",
       "eur    508791.04\n",
       "usd    331614.37\n",
       "Name: total, dtype: float64"
      ]
     },
     "execution_count": 17,
     "metadata": {},
     "output_type": "execute_result"
    }
   ],
   "source": [
    "df.groupby('currency')['total'].sum()"
   ]
  },
  {
   "cell_type": "code",
   "execution_count": 18,
   "metadata": {},
   "outputs": [],
   "source": [
    "cust_df = pd.read_csv('../data/customers.csv')\n"
   ]
  },
  {
   "cell_type": "code",
   "execution_count": 19,
   "metadata": {},
   "outputs": [
    {
     "data": {
      "text/html": [
       "<div>\n",
       "<style scoped>\n",
       "    .dataframe tbody tr th:only-of-type {\n",
       "        vertical-align: middle;\n",
       "    }\n",
       "\n",
       "    .dataframe tbody tr th {\n",
       "        vertical-align: top;\n",
       "    }\n",
       "\n",
       "    .dataframe thead th {\n",
       "        text-align: right;\n",
       "    }\n",
       "</style>\n",
       "<table border=\"1\" class=\"dataframe\">\n",
       "  <thead>\n",
       "    <tr style=\"text-align: right;\">\n",
       "      <th></th>\n",
       "      <th>id</th>\n",
       "      <th>Created (UTC)</th>\n",
       "      <th>Total Spend</th>\n",
       "      <th>Payment Count</th>\n",
       "      <th>Tax Location Recognized</th>\n",
       "    </tr>\n",
       "  </thead>\n",
       "  <tbody>\n",
       "    <tr>\n",
       "      <th>0</th>\n",
       "      <td>cus_RqlO8Gz01CYRXm</td>\n",
       "      <td>2025-02-27 9:58</td>\n",
       "      <td>0,00</td>\n",
       "      <td>0</td>\n",
       "      <td>False</td>\n",
       "    </tr>\n",
       "    <tr>\n",
       "      <th>1</th>\n",
       "      <td>cus_RqlL8NuTqGUuYi</td>\n",
       "      <td>2025-02-27 9:55</td>\n",
       "      <td>0,00</td>\n",
       "      <td>0</td>\n",
       "      <td>False</td>\n",
       "    </tr>\n",
       "    <tr>\n",
       "      <th>2</th>\n",
       "      <td>cus_RqlERu33ao23ze</td>\n",
       "      <td>2025-02-27 9:48</td>\n",
       "      <td>0,00</td>\n",
       "      <td>0</td>\n",
       "      <td>False</td>\n",
       "    </tr>\n",
       "    <tr>\n",
       "      <th>3</th>\n",
       "      <td>cus_RqlBBlHHmmwnT1</td>\n",
       "      <td>2025-02-27 9:45</td>\n",
       "      <td>0,00</td>\n",
       "      <td>0</td>\n",
       "      <td>False</td>\n",
       "    </tr>\n",
       "    <tr>\n",
       "      <th>4</th>\n",
       "      <td>cus_Rqkr7zhFuvltT1</td>\n",
       "      <td>2025-02-27 9:26</td>\n",
       "      <td>0,00</td>\n",
       "      <td>0</td>\n",
       "      <td>False</td>\n",
       "    </tr>\n",
       "  </tbody>\n",
       "</table>\n",
       "</div>"
      ],
      "text/plain": [
       "                   id    Created (UTC) Total Spend  Payment Count  \\\n",
       "0  cus_RqlO8Gz01CYRXm  2025-02-27 9:58        0,00              0   \n",
       "1  cus_RqlL8NuTqGUuYi  2025-02-27 9:55        0,00              0   \n",
       "2  cus_RqlERu33ao23ze  2025-02-27 9:48        0,00              0   \n",
       "3  cus_RqlBBlHHmmwnT1  2025-02-27 9:45        0,00              0   \n",
       "4  cus_Rqkr7zhFuvltT1  2025-02-27 9:26        0,00              0   \n",
       "\n",
       "   Tax Location Recognized  \n",
       "0                    False  \n",
       "1                    False  \n",
       "2                    False  \n",
       "3                    False  \n",
       "4                    False  "
      ]
     },
     "execution_count": 19,
     "metadata": {},
     "output_type": "execute_result"
    }
   ],
   "source": [
    "cust_df.head()"
   ]
  },
  {
   "cell_type": "code",
   "execution_count": 20,
   "metadata": {},
   "outputs": [],
   "source": [
    "cust_df['Created (UTC)'] = pd.to_datetime(cust_df['Created (UTC)'])\n"
   ]
  },
  {
   "cell_type": "code",
   "execution_count": 21,
   "metadata": {},
   "outputs": [],
   "source": [
    "cust_df['months_since_joined'] = ((pd.Timestamp.now() - cust_df['Created (UTC)']).dt.days / 30.44).round(0)\n"
   ]
  },
  {
   "cell_type": "code",
   "execution_count": 22,
   "metadata": {},
   "outputs": [
    {
     "data": {
      "text/html": [
       "<div>\n",
       "<style scoped>\n",
       "    .dataframe tbody tr th:only-of-type {\n",
       "        vertical-align: middle;\n",
       "    }\n",
       "\n",
       "    .dataframe tbody tr th {\n",
       "        vertical-align: top;\n",
       "    }\n",
       "\n",
       "    .dataframe thead th {\n",
       "        text-align: right;\n",
       "    }\n",
       "</style>\n",
       "<table border=\"1\" class=\"dataframe\">\n",
       "  <thead>\n",
       "    <tr style=\"text-align: right;\">\n",
       "      <th></th>\n",
       "      <th>id</th>\n",
       "      <th>Created (UTC)</th>\n",
       "      <th>Total Spend</th>\n",
       "      <th>Payment Count</th>\n",
       "      <th>Tax Location Recognized</th>\n",
       "      <th>months_since_joined</th>\n",
       "    </tr>\n",
       "  </thead>\n",
       "  <tbody>\n",
       "    <tr>\n",
       "      <th>0</th>\n",
       "      <td>cus_RqlO8Gz01CYRXm</td>\n",
       "      <td>2025-02-27 09:58:00</td>\n",
       "      <td>0,00</td>\n",
       "      <td>0</td>\n",
       "      <td>False</td>\n",
       "      <td>1.0</td>\n",
       "    </tr>\n",
       "    <tr>\n",
       "      <th>1</th>\n",
       "      <td>cus_RqlL8NuTqGUuYi</td>\n",
       "      <td>2025-02-27 09:55:00</td>\n",
       "      <td>0,00</td>\n",
       "      <td>0</td>\n",
       "      <td>False</td>\n",
       "      <td>1.0</td>\n",
       "    </tr>\n",
       "    <tr>\n",
       "      <th>2</th>\n",
       "      <td>cus_RqlERu33ao23ze</td>\n",
       "      <td>2025-02-27 09:48:00</td>\n",
       "      <td>0,00</td>\n",
       "      <td>0</td>\n",
       "      <td>False</td>\n",
       "      <td>1.0</td>\n",
       "    </tr>\n",
       "    <tr>\n",
       "      <th>3</th>\n",
       "      <td>cus_RqlBBlHHmmwnT1</td>\n",
       "      <td>2025-02-27 09:45:00</td>\n",
       "      <td>0,00</td>\n",
       "      <td>0</td>\n",
       "      <td>False</td>\n",
       "      <td>1.0</td>\n",
       "    </tr>\n",
       "    <tr>\n",
       "      <th>4</th>\n",
       "      <td>cus_Rqkr7zhFuvltT1</td>\n",
       "      <td>2025-02-27 09:26:00</td>\n",
       "      <td>0,00</td>\n",
       "      <td>0</td>\n",
       "      <td>False</td>\n",
       "      <td>1.0</td>\n",
       "    </tr>\n",
       "  </tbody>\n",
       "</table>\n",
       "</div>"
      ],
      "text/plain": [
       "                   id       Created (UTC) Total Spend  Payment Count  \\\n",
       "0  cus_RqlO8Gz01CYRXm 2025-02-27 09:58:00        0,00              0   \n",
       "1  cus_RqlL8NuTqGUuYi 2025-02-27 09:55:00        0,00              0   \n",
       "2  cus_RqlERu33ao23ze 2025-02-27 09:48:00        0,00              0   \n",
       "3  cus_RqlBBlHHmmwnT1 2025-02-27 09:45:00        0,00              0   \n",
       "4  cus_Rqkr7zhFuvltT1 2025-02-27 09:26:00        0,00              0   \n",
       "\n",
       "   Tax Location Recognized  months_since_joined  \n",
       "0                    False                  1.0  \n",
       "1                    False                  1.0  \n",
       "2                    False                  1.0  \n",
       "3                    False                  1.0  \n",
       "4                    False                  1.0  "
      ]
     },
     "execution_count": 22,
     "metadata": {},
     "output_type": "execute_result"
    }
   ],
   "source": [
    "cust_df.head()"
   ]
  },
  {
   "cell_type": "code",
   "execution_count": 23,
   "metadata": {},
   "outputs": [],
   "source": [
    "filtered_df = df.copy()\n",
    "filtered_df = filtered_df[filtered_df['subscription'].notna()]\n",
    "filtered_df = filtered_df[~filtered_df['forgiven']]\n",
    "\n"
   ]
  },
  {
   "cell_type": "code",
   "execution_count": 24,
   "metadata": {},
   "outputs": [
    {
     "data": {
      "text/html": [
       "<div>\n",
       "<style scoped>\n",
       "    .dataframe tbody tr th:only-of-type {\n",
       "        vertical-align: middle;\n",
       "    }\n",
       "\n",
       "    .dataframe tbody tr th {\n",
       "        vertical-align: top;\n",
       "    }\n",
       "\n",
       "    .dataframe thead th {\n",
       "        text-align: right;\n",
       "    }\n",
       "</style>\n",
       "<table border=\"1\" class=\"dataframe\">\n",
       "  <thead>\n",
       "    <tr style=\"text-align: right;\">\n",
       "      <th></th>\n",
       "      <th>id</th>\n",
       "      <th>amount due</th>\n",
       "      <th>closed</th>\n",
       "      <th>currency</th>\n",
       "      <th>customer</th>\n",
       "      <th>date (utc)</th>\n",
       "      <th>due date (utc)</th>\n",
       "      <th>ending balance</th>\n",
       "      <th>forgiven</th>\n",
       "      <th>paid</th>\n",
       "      <th>...</th>\n",
       "      <th>subtotal</th>\n",
       "      <th>total discount amount</th>\n",
       "      <th>applied coupons</th>\n",
       "      <th>tax</th>\n",
       "      <th>tax percent</th>\n",
       "      <th>total</th>\n",
       "      <th>amount paid</th>\n",
       "      <th>status</th>\n",
       "      <th>exclusive tax amount</th>\n",
       "      <th>inclusive tax amount</th>\n",
       "    </tr>\n",
       "  </thead>\n",
       "  <tbody>\n",
       "    <tr>\n",
       "      <th>0</th>\n",
       "      <td>in_1Qx3plAFeGZf0UoOd9f9bW47</td>\n",
       "      <td>0.0</td>\n",
       "      <td>False</td>\n",
       "      <td>eur</td>\n",
       "      <td>cus_NHFLrvkCpBFCs7</td>\n",
       "      <td>2025-02-27 09:56:00</td>\n",
       "      <td>NaT</td>\n",
       "      <td>NaN</td>\n",
       "      <td>False</td>\n",
       "      <td>False</td>\n",
       "      <td>...</td>\n",
       "      <td>0.0</td>\n",
       "      <td>0.0</td>\n",
       "      <td>NaN</td>\n",
       "      <td>0.0</td>\n",
       "      <td>20.0</td>\n",
       "      <td>0.0</td>\n",
       "      <td>0.0</td>\n",
       "      <td>draft</td>\n",
       "      <td>0.0</td>\n",
       "      <td>0.0</td>\n",
       "    </tr>\n",
       "    <tr>\n",
       "      <th>1</th>\n",
       "      <td>in_1Qx3phAFeGZf0UoOy7Khkj9i</td>\n",
       "      <td>0.0</td>\n",
       "      <td>False</td>\n",
       "      <td>eur</td>\n",
       "      <td>cus_LSl85Ix2Ek965l</td>\n",
       "      <td>2025-02-27 09:56:00</td>\n",
       "      <td>NaT</td>\n",
       "      <td>NaN</td>\n",
       "      <td>False</td>\n",
       "      <td>False</td>\n",
       "      <td>...</td>\n",
       "      <td>0.0</td>\n",
       "      <td>0.0</td>\n",
       "      <td>NaN</td>\n",
       "      <td>0.0</td>\n",
       "      <td>19.0</td>\n",
       "      <td>0.0</td>\n",
       "      <td>0.0</td>\n",
       "      <td>draft</td>\n",
       "      <td>0.0</td>\n",
       "      <td>0.0</td>\n",
       "    </tr>\n",
       "    <tr>\n",
       "      <th>2</th>\n",
       "      <td>in_1Qx3XqAFeGZf0UoONAAW2muL</td>\n",
       "      <td>104.4</td>\n",
       "      <td>False</td>\n",
       "      <td>eur</td>\n",
       "      <td>cus_PQFFOsNVNtuBN9</td>\n",
       "      <td>2025-02-27 09:38:00</td>\n",
       "      <td>2025-03-02 09:37:00</td>\n",
       "      <td>NaN</td>\n",
       "      <td>False</td>\n",
       "      <td>False</td>\n",
       "      <td>...</td>\n",
       "      <td>87.0</td>\n",
       "      <td>0.0</td>\n",
       "      <td>NaN</td>\n",
       "      <td>17.4</td>\n",
       "      <td>20.0</td>\n",
       "      <td>104.4</td>\n",
       "      <td>0.0</td>\n",
       "      <td>draft</td>\n",
       "      <td>17.4</td>\n",
       "      <td>0.0</td>\n",
       "    </tr>\n",
       "    <tr>\n",
       "      <th>3</th>\n",
       "      <td>in_1Qx3XqAFeGZf0UoOl79vERDa</td>\n",
       "      <td>39.0</td>\n",
       "      <td>False</td>\n",
       "      <td>eur</td>\n",
       "      <td>cus_Q7apBCt36xeGbK</td>\n",
       "      <td>2025-02-27 09:38:00</td>\n",
       "      <td>NaT</td>\n",
       "      <td>NaN</td>\n",
       "      <td>False</td>\n",
       "      <td>False</td>\n",
       "      <td>...</td>\n",
       "      <td>39.0</td>\n",
       "      <td>0.0</td>\n",
       "      <td>NaN</td>\n",
       "      <td>NaN</td>\n",
       "      <td>NaN</td>\n",
       "      <td>39.0</td>\n",
       "      <td>0.0</td>\n",
       "      <td>draft</td>\n",
       "      <td>NaN</td>\n",
       "      <td>NaN</td>\n",
       "    </tr>\n",
       "    <tr>\n",
       "      <th>4</th>\n",
       "      <td>in_1Qx3WCAFeGZf0UoOcbJhPyor</td>\n",
       "      <td>82.8</td>\n",
       "      <td>False</td>\n",
       "      <td>eur</td>\n",
       "      <td>cus_MU4dOalEEat1Ah</td>\n",
       "      <td>2025-02-27 09:36:00</td>\n",
       "      <td>NaT</td>\n",
       "      <td>NaN</td>\n",
       "      <td>False</td>\n",
       "      <td>False</td>\n",
       "      <td>...</td>\n",
       "      <td>69.0</td>\n",
       "      <td>0.0</td>\n",
       "      <td>NaN</td>\n",
       "      <td>13.8</td>\n",
       "      <td>20.0</td>\n",
       "      <td>82.8</td>\n",
       "      <td>0.0</td>\n",
       "      <td>draft</td>\n",
       "      <td>13.8</td>\n",
       "      <td>0.0</td>\n",
       "    </tr>\n",
       "  </tbody>\n",
       "</table>\n",
       "<p>5 rows × 30 columns</p>\n",
       "</div>"
      ],
      "text/plain": [
       "                            id  amount due  closed currency  \\\n",
       "0  in_1Qx3plAFeGZf0UoOd9f9bW47         0.0   False      eur   \n",
       "1  in_1Qx3phAFeGZf0UoOy7Khkj9i         0.0   False      eur   \n",
       "2  in_1Qx3XqAFeGZf0UoONAAW2muL       104.4   False      eur   \n",
       "3  in_1Qx3XqAFeGZf0UoOl79vERDa        39.0   False      eur   \n",
       "4  in_1Qx3WCAFeGZf0UoOcbJhPyor        82.8   False      eur   \n",
       "\n",
       "             customer          date (utc)      due date (utc)  ending balance  \\\n",
       "0  cus_NHFLrvkCpBFCs7 2025-02-27 09:56:00                 NaT             NaN   \n",
       "1  cus_LSl85Ix2Ek965l 2025-02-27 09:56:00                 NaT             NaN   \n",
       "2  cus_PQFFOsNVNtuBN9 2025-02-27 09:38:00 2025-03-02 09:37:00             NaN   \n",
       "3  cus_Q7apBCt36xeGbK 2025-02-27 09:38:00                 NaT             NaN   \n",
       "4  cus_MU4dOalEEat1Ah 2025-02-27 09:36:00                 NaT             NaN   \n",
       "\n",
       "   forgiven   paid  ... subtotal total discount amount applied coupons   tax  \\\n",
       "0     False  False  ...      0.0                   0.0             NaN   0.0   \n",
       "1     False  False  ...      0.0                   0.0             NaN   0.0   \n",
       "2     False  False  ...     87.0                   0.0             NaN  17.4   \n",
       "3     False  False  ...     39.0                   0.0             NaN   NaN   \n",
       "4     False  False  ...     69.0                   0.0             NaN  13.8   \n",
       "\n",
       "  tax percent  total amount paid status  exclusive tax amount  \\\n",
       "0        20.0    0.0         0.0  draft                   0.0   \n",
       "1        19.0    0.0         0.0  draft                   0.0   \n",
       "2        20.0  104.4         0.0  draft                  17.4   \n",
       "3         NaN   39.0         0.0  draft                   NaN   \n",
       "4        20.0   82.8         0.0  draft                  13.8   \n",
       "\n",
       "  inclusive tax amount  \n",
       "0                  0.0  \n",
       "1                  0.0  \n",
       "2                  0.0  \n",
       "3                  NaN  \n",
       "4                  0.0  \n",
       "\n",
       "[5 rows x 30 columns]"
      ]
     },
     "execution_count": 24,
     "metadata": {},
     "output_type": "execute_result"
    }
   ],
   "source": [
    "filtered_df.head()"
   ]
  },
  {
   "cell_type": "code",
   "execution_count": 25,
   "metadata": {},
   "outputs": [
    {
     "name": "stderr",
     "output_type": "stream",
     "text": [
      "/var/folders/9q/fz04wycx2gq4qyhgmbnk9x_r0000gn/T/ipykernel_28102/695849893.py:1: FutureWarning: The default value of observed=False is deprecated and will change to observed=True in a future version of pandas. Specify observed=False to silence this warning and retain the current behavior\n",
      "  pivot_df = filtered_df.pivot_table(\n"
     ]
    }
   ],
   "source": [
    "pivot_df = filtered_df.pivot_table(\n",
    "    values='total',\n",
    "    index='customer',\n",
    "    columns='currency',\n",
    "    aggfunc='sum',\n",
    "    fill_value=0\n",
    ")"
   ]
  },
  {
   "cell_type": "code",
   "execution_count": 26,
   "metadata": {},
   "outputs": [],
   "source": [
    "pivot_df['grand_total'] = pivot_df.sum(axis=1)"
   ]
  },
  {
   "cell_type": "code",
   "execution_count": 27,
   "metadata": {},
   "outputs": [],
   "source": [
    "pivot_df = pivot_df.sort_values('grand_total', ascending=False)"
   ]
  },
  {
   "cell_type": "code",
   "execution_count": 28,
   "metadata": {},
   "outputs": [
    {
     "data": {
      "text/html": [
       "<div>\n",
       "<style scoped>\n",
       "    .dataframe tbody tr th:only-of-type {\n",
       "        vertical-align: middle;\n",
       "    }\n",
       "\n",
       "    .dataframe tbody tr th {\n",
       "        vertical-align: top;\n",
       "    }\n",
       "\n",
       "    .dataframe thead th {\n",
       "        text-align: right;\n",
       "    }\n",
       "</style>\n",
       "<table border=\"1\" class=\"dataframe\">\n",
       "  <thead>\n",
       "    <tr style=\"text-align: right;\">\n",
       "      <th>currency</th>\n",
       "      <th>eur</th>\n",
       "      <th>usd</th>\n",
       "      <th>grand_total</th>\n",
       "    </tr>\n",
       "    <tr>\n",
       "      <th>customer</th>\n",
       "      <th></th>\n",
       "      <th></th>\n",
       "      <th></th>\n",
       "    </tr>\n",
       "  </thead>\n",
       "  <tbody>\n",
       "    <tr>\n",
       "      <th>cus_R4uIG2uftIlUlx</th>\n",
       "      <td>25000.00</td>\n",
       "      <td>0.0</td>\n",
       "      <td>25000.00</td>\n",
       "    </tr>\n",
       "    <tr>\n",
       "      <th>cus_HVt3QQArXUMKDv</th>\n",
       "      <td>21228.00</td>\n",
       "      <td>0.0</td>\n",
       "      <td>21228.00</td>\n",
       "    </tr>\n",
       "    <tr>\n",
       "      <th>cus_ONrcjxCBdtvpdd</th>\n",
       "      <td>0.00</td>\n",
       "      <td>15346.8</td>\n",
       "      <td>15346.80</td>\n",
       "    </tr>\n",
       "    <tr>\n",
       "      <th>cus_PM1exzslbBdyKL</th>\n",
       "      <td>10440.00</td>\n",
       "      <td>0.0</td>\n",
       "      <td>10440.00</td>\n",
       "    </tr>\n",
       "    <tr>\n",
       "      <th>cus_Iugqw6tkOVqBCY</th>\n",
       "      <td>7591.44</td>\n",
       "      <td>0.0</td>\n",
       "      <td>7591.44</td>\n",
       "    </tr>\n",
       "  </tbody>\n",
       "</table>\n",
       "</div>"
      ],
      "text/plain": [
       "currency                 eur      usd  grand_total\n",
       "customer                                          \n",
       "cus_R4uIG2uftIlUlx  25000.00      0.0     25000.00\n",
       "cus_HVt3QQArXUMKDv  21228.00      0.0     21228.00\n",
       "cus_ONrcjxCBdtvpdd      0.00  15346.8     15346.80\n",
       "cus_PM1exzslbBdyKL  10440.00      0.0     10440.00\n",
       "cus_Iugqw6tkOVqBCY   7591.44      0.0      7591.44"
      ]
     },
     "execution_count": 28,
     "metadata": {},
     "output_type": "execute_result"
    }
   ],
   "source": [
    "pivot_df.head()"
   ]
  },
  {
   "cell_type": "code",
   "execution_count": 29,
   "metadata": {},
   "outputs": [
    {
     "data": {
      "text/html": [
       "<div>\n",
       "<style scoped>\n",
       "    .dataframe tbody tr th:only-of-type {\n",
       "        vertical-align: middle;\n",
       "    }\n",
       "\n",
       "    .dataframe tbody tr th {\n",
       "        vertical-align: top;\n",
       "    }\n",
       "\n",
       "    .dataframe thead th {\n",
       "        text-align: right;\n",
       "    }\n",
       "</style>\n",
       "<table border=\"1\" class=\"dataframe\">\n",
       "  <thead>\n",
       "    <tr style=\"text-align: right;\">\n",
       "      <th>currency</th>\n",
       "      <th>eur</th>\n",
       "      <th>usd</th>\n",
       "      <th>grand_total</th>\n",
       "    </tr>\n",
       "  </thead>\n",
       "  <tbody>\n",
       "    <tr>\n",
       "      <th>count</th>\n",
       "      <td>4544.000000</td>\n",
       "      <td>4544.000000</td>\n",
       "      <td>4544.000000</td>\n",
       "    </tr>\n",
       "    <tr>\n",
       "      <th>mean</th>\n",
       "      <td>109.645374</td>\n",
       "      <td>65.332359</td>\n",
       "      <td>174.977733</td>\n",
       "    </tr>\n",
       "    <tr>\n",
       "      <th>std</th>\n",
       "      <td>607.199415</td>\n",
       "      <td>313.931047</td>\n",
       "      <td>673.052274</td>\n",
       "    </tr>\n",
       "    <tr>\n",
       "      <th>min</th>\n",
       "      <td>-112.990000</td>\n",
       "      <td>-52.570000</td>\n",
       "      <td>-112.990000</td>\n",
       "    </tr>\n",
       "    <tr>\n",
       "      <th>25%</th>\n",
       "      <td>0.000000</td>\n",
       "      <td>0.000000</td>\n",
       "      <td>0.000000</td>\n",
       "    </tr>\n",
       "    <tr>\n",
       "      <th>50%</th>\n",
       "      <td>0.000000</td>\n",
       "      <td>0.000000</td>\n",
       "      <td>78.000000</td>\n",
       "    </tr>\n",
       "    <tr>\n",
       "      <th>75%</th>\n",
       "      <td>78.000000</td>\n",
       "      <td>63.375000</td>\n",
       "      <td>156.000000</td>\n",
       "    </tr>\n",
       "    <tr>\n",
       "      <th>max</th>\n",
       "      <td>25000.000000</td>\n",
       "      <td>15346.800000</td>\n",
       "      <td>25000.000000</td>\n",
       "    </tr>\n",
       "  </tbody>\n",
       "</table>\n",
       "</div>"
      ],
      "text/plain": [
       "currency           eur           usd   grand_total\n",
       "count      4544.000000   4544.000000   4544.000000\n",
       "mean        109.645374     65.332359    174.977733\n",
       "std         607.199415    313.931047    673.052274\n",
       "min        -112.990000    -52.570000   -112.990000\n",
       "25%           0.000000      0.000000      0.000000\n",
       "50%           0.000000      0.000000     78.000000\n",
       "75%          78.000000     63.375000    156.000000\n",
       "max       25000.000000  15346.800000  25000.000000"
      ]
     },
     "execution_count": 29,
     "metadata": {},
     "output_type": "execute_result"
    }
   ],
   "source": [
    "pivot_df.describe()"
   ]
  },
  {
   "cell_type": "code",
   "execution_count": 30,
   "metadata": {},
   "outputs": [],
   "source": [
    "final_df = pivot_df.merge(\n",
    "    cust_df[['id', 'months_since_joined']], \n",
    "    left_index=True, \n",
    "    right_on='id'\n",
    ")"
   ]
  },
  {
   "cell_type": "code",
   "execution_count": 31,
   "metadata": {},
   "outputs": [],
   "source": [
    "final_df = final_df.sort_values('grand_total', ascending=False)"
   ]
  },
  {
   "cell_type": "code",
   "execution_count": 32,
   "metadata": {},
   "outputs": [
    {
     "data": {
      "text/html": [
       "<div>\n",
       "<style scoped>\n",
       "    .dataframe tbody tr th:only-of-type {\n",
       "        vertical-align: middle;\n",
       "    }\n",
       "\n",
       "    .dataframe tbody tr th {\n",
       "        vertical-align: top;\n",
       "    }\n",
       "\n",
       "    .dataframe thead th {\n",
       "        text-align: right;\n",
       "    }\n",
       "</style>\n",
       "<table border=\"1\" class=\"dataframe\">\n",
       "  <thead>\n",
       "    <tr style=\"text-align: right;\">\n",
       "      <th></th>\n",
       "      <th>eur</th>\n",
       "      <th>usd</th>\n",
       "      <th>grand_total</th>\n",
       "      <th>id</th>\n",
       "      <th>months_since_joined</th>\n",
       "    </tr>\n",
       "  </thead>\n",
       "  <tbody>\n",
       "    <tr>\n",
       "      <th>7960</th>\n",
       "      <td>25000.00</td>\n",
       "      <td>0.0</td>\n",
       "      <td>25000.00</td>\n",
       "      <td>cus_R4uIG2uftIlUlx</td>\n",
       "      <td>5.0</td>\n",
       "    </tr>\n",
       "    <tr>\n",
       "      <th>35713</th>\n",
       "      <td>21228.00</td>\n",
       "      <td>0.0</td>\n",
       "      <td>21228.00</td>\n",
       "      <td>cus_HVt3QQArXUMKDv</td>\n",
       "      <td>57.0</td>\n",
       "    </tr>\n",
       "    <tr>\n",
       "      <th>24485</th>\n",
       "      <td>0.00</td>\n",
       "      <td>15346.8</td>\n",
       "      <td>15346.80</td>\n",
       "      <td>cus_ONrcjxCBdtvpdd</td>\n",
       "      <td>20.0</td>\n",
       "    </tr>\n",
       "    <tr>\n",
       "      <th>21692</th>\n",
       "      <td>10440.00</td>\n",
       "      <td>0.0</td>\n",
       "      <td>10440.00</td>\n",
       "      <td>cus_PM1exzslbBdyKL</td>\n",
       "      <td>15.0</td>\n",
       "    </tr>\n",
       "    <tr>\n",
       "      <th>34975</th>\n",
       "      <td>7591.44</td>\n",
       "      <td>0.0</td>\n",
       "      <td>7591.44</td>\n",
       "      <td>cus_Iugqw6tkOVqBCY</td>\n",
       "      <td>50.0</td>\n",
       "    </tr>\n",
       "  </tbody>\n",
       "</table>\n",
       "</div>"
      ],
      "text/plain": [
       "            eur      usd  grand_total                  id  months_since_joined\n",
       "7960   25000.00      0.0     25000.00  cus_R4uIG2uftIlUlx                  5.0\n",
       "35713  21228.00      0.0     21228.00  cus_HVt3QQArXUMKDv                 57.0\n",
       "24485      0.00  15346.8     15346.80  cus_ONrcjxCBdtvpdd                 20.0\n",
       "21692  10440.00      0.0     10440.00  cus_PM1exzslbBdyKL                 15.0\n",
       "34975   7591.44      0.0      7591.44  cus_Iugqw6tkOVqBCY                 50.0"
      ]
     },
     "execution_count": 32,
     "metadata": {},
     "output_type": "execute_result"
    }
   ],
   "source": [
    "final_df.head()"
   ]
  },
  {
   "cell_type": "code",
   "execution_count": 34,
   "metadata": {},
   "outputs": [
    {
     "data": {
      "application/vnd.plotly.v1+json": {
       "config": {
        "plotlyServerURL": "https://plot.ly"
       },
       "data": [
        {
         "name": "Grand Total Distribution",
         "nbinsx": 50,
         "type": "histogram",
         "x": {
          "bdata": "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",
          "dtype": "f8"
         }
        }
       ],
       "layout": {
        "showlegend": true,
        "template": {
         "data": {
          "bar": [
           {
            "error_x": {
             "color": "#2a3f5f"
            },
            "error_y": {
             "color": "#2a3f5f"
            },
            "marker": {
             "line": {
              "color": "#E5ECF6",
              "width": 0.5
             },
             "pattern": {
              "fillmode": "overlay",
              "size": 10,
              "solidity": 0.2
             }
            },
            "type": "bar"
           }
          ],
          "barpolar": [
           {
            "marker": {
             "line": {
              "color": "#E5ECF6",
              "width": 0.5
             },
             "pattern": {
              "fillmode": "overlay",
              "size": 10,
              "solidity": 0.2
             }
            },
            "type": "barpolar"
           }
          ],
          "carpet": [
           {
            "aaxis": {
             "endlinecolor": "#2a3f5f",
             "gridcolor": "white",
             "linecolor": "white",
             "minorgridcolor": "white",
             "startlinecolor": "#2a3f5f"
            },
            "baxis": {
             "endlinecolor": "#2a3f5f",
             "gridcolor": "white",
             "linecolor": "white",
             "minorgridcolor": "white",
             "startlinecolor": "#2a3f5f"
            },
            "type": "carpet"
           }
          ],
          "choropleth": [
           {
            "colorbar": {
             "outlinewidth": 0,
             "ticks": ""
            },
            "type": "choropleth"
           }
          ],
          "contour": [
           {
            "colorbar": {
             "outlinewidth": 0,
             "ticks": ""
            },
            "colorscale": [
             [
              0,
              "#0d0887"
             ],
             [
              0.1111111111111111,
              "#46039f"
             ],
             [
              0.2222222222222222,
              "#7201a8"
             ],
             [
              0.3333333333333333,
              "#9c179e"
             ],
             [
              0.4444444444444444,
              "#bd3786"
             ],
             [
              0.5555555555555556,
              "#d8576b"
             ],
             [
              0.6666666666666666,
              "#ed7953"
             ],
             [
              0.7777777777777778,
              "#fb9f3a"
             ],
             [
              0.8888888888888888,
              "#fdca26"
             ],
             [
              1,
              "#f0f921"
             ]
            ],
            "type": "contour"
           }
          ],
          "contourcarpet": [
           {
            "colorbar": {
             "outlinewidth": 0,
             "ticks": ""
            },
            "type": "contourcarpet"
           }
          ],
          "heatmap": [
           {
            "colorbar": {
             "outlinewidth": 0,
             "ticks": ""
            },
            "colorscale": [
             [
              0,
              "#0d0887"
             ],
             [
              0.1111111111111111,
              "#46039f"
             ],
             [
              0.2222222222222222,
              "#7201a8"
             ],
             [
              0.3333333333333333,
              "#9c179e"
             ],
             [
              0.4444444444444444,
              "#bd3786"
             ],
             [
              0.5555555555555556,
              "#d8576b"
             ],
             [
              0.6666666666666666,
              "#ed7953"
             ],
             [
              0.7777777777777778,
              "#fb9f3a"
             ],
             [
              0.8888888888888888,
              "#fdca26"
             ],
             [
              1,
              "#f0f921"
             ]
            ],
            "type": "heatmap"
           }
          ],
          "histogram": [
           {
            "marker": {
             "pattern": {
              "fillmode": "overlay",
              "size": 10,
              "solidity": 0.2
             }
            },
            "type": "histogram"
           }
          ],
          "histogram2d": [
           {
            "colorbar": {
             "outlinewidth": 0,
             "ticks": ""
            },
            "colorscale": [
             [
              0,
              "#0d0887"
             ],
             [
              0.1111111111111111,
              "#46039f"
             ],
             [
              0.2222222222222222,
              "#7201a8"
             ],
             [
              0.3333333333333333,
              "#9c179e"
             ],
             [
              0.4444444444444444,
              "#bd3786"
             ],
             [
              0.5555555555555556,
              "#d8576b"
             ],
             [
              0.6666666666666666,
              "#ed7953"
             ],
             [
              0.7777777777777778,
              "#fb9f3a"
             ],
             [
              0.8888888888888888,
              "#fdca26"
             ],
             [
              1,
              "#f0f921"
             ]
            ],
            "type": "histogram2d"
           }
          ],
          "histogram2dcontour": [
           {
            "colorbar": {
             "outlinewidth": 0,
             "ticks": ""
            },
            "colorscale": [
             [
              0,
              "#0d0887"
             ],
             [
              0.1111111111111111,
              "#46039f"
             ],
             [
              0.2222222222222222,
              "#7201a8"
             ],
             [
              0.3333333333333333,
              "#9c179e"
             ],
             [
              0.4444444444444444,
              "#bd3786"
             ],
             [
              0.5555555555555556,
              "#d8576b"
             ],
             [
              0.6666666666666666,
              "#ed7953"
             ],
             [
              0.7777777777777778,
              "#fb9f3a"
             ],
             [
              0.8888888888888888,
              "#fdca26"
             ],
             [
              1,
              "#f0f921"
             ]
            ],
            "type": "histogram2dcontour"
           }
          ],
          "mesh3d": [
           {
            "colorbar": {
             "outlinewidth": 0,
             "ticks": ""
            },
            "type": "mesh3d"
           }
          ],
          "parcoords": [
           {
            "line": {
             "colorbar": {
              "outlinewidth": 0,
              "ticks": ""
             }
            },
            "type": "parcoords"
           }
          ],
          "pie": [
           {
            "automargin": true,
            "type": "pie"
           }
          ],
          "scatter": [
           {
            "fillpattern": {
             "fillmode": "overlay",
             "size": 10,
             "solidity": 0.2
            },
            "type": "scatter"
           }
          ],
          "scatter3d": [
           {
            "line": {
             "colorbar": {
              "outlinewidth": 0,
              "ticks": ""
             }
            },
            "marker": {
             "colorbar": {
              "outlinewidth": 0,
              "ticks": ""
             }
            },
            "type": "scatter3d"
           }
          ],
          "scattercarpet": [
           {
            "marker": {
             "colorbar": {
              "outlinewidth": 0,
              "ticks": ""
             }
            },
            "type": "scattercarpet"
           }
          ],
          "scattergeo": [
           {
            "marker": {
             "colorbar": {
              "outlinewidth": 0,
              "ticks": ""
             }
            },
            "type": "scattergeo"
           }
          ],
          "scattergl": [
           {
            "marker": {
             "colorbar": {
              "outlinewidth": 0,
              "ticks": ""
             }
            },
            "type": "scattergl"
           }
          ],
          "scattermap": [
           {
            "marker": {
             "colorbar": {
              "outlinewidth": 0,
              "ticks": ""
             }
            },
            "type": "scattermap"
           }
          ],
          "scattermapbox": [
           {
            "marker": {
             "colorbar": {
              "outlinewidth": 0,
              "ticks": ""
             }
            },
            "type": "scattermapbox"
           }
          ],
          "scatterpolar": [
           {
            "marker": {
             "colorbar": {
              "outlinewidth": 0,
              "ticks": ""
             }
            },
            "type": "scatterpolar"
           }
          ],
          "scatterpolargl": [
           {
            "marker": {
             "colorbar": {
              "outlinewidth": 0,
              "ticks": ""
             }
            },
            "type": "scatterpolargl"
           }
          ],
          "scatterternary": [
           {
            "marker": {
             "colorbar": {
              "outlinewidth": 0,
              "ticks": ""
             }
            },
            "type": "scatterternary"
           }
          ],
          "surface": [
           {
            "colorbar": {
             "outlinewidth": 0,
             "ticks": ""
            },
            "colorscale": [
             [
              0,
              "#0d0887"
             ],
             [
              0.1111111111111111,
              "#46039f"
             ],
             [
              0.2222222222222222,
              "#7201a8"
             ],
             [
              0.3333333333333333,
              "#9c179e"
             ],
             [
              0.4444444444444444,
              "#bd3786"
             ],
             [
              0.5555555555555556,
              "#d8576b"
             ],
             [
              0.6666666666666666,
              "#ed7953"
             ],
             [
              0.7777777777777778,
              "#fb9f3a"
             ],
             [
              0.8888888888888888,
              "#fdca26"
             ],
             [
              1,
              "#f0f921"
             ]
            ],
            "type": "surface"
           }
          ],
          "table": [
           {
            "cells": {
             "fill": {
              "color": "#EBF0F8"
             },
             "line": {
              "color": "white"
             }
            },
            "header": {
             "fill": {
              "color": "#C8D4E3"
             },
             "line": {
              "color": "white"
             }
            },
            "type": "table"
           }
          ]
         },
         "layout": {
          "annotationdefaults": {
           "arrowcolor": "#2a3f5f",
           "arrowhead": 0,
           "arrowwidth": 1
          },
          "autotypenumbers": "strict",
          "coloraxis": {
           "colorbar": {
            "outlinewidth": 0,
            "ticks": ""
           }
          },
          "colorscale": {
           "diverging": [
            [
             0,
             "#8e0152"
            ],
            [
             0.1,
             "#c51b7d"
            ],
            [
             0.2,
             "#de77ae"
            ],
            [
             0.3,
             "#f1b6da"
            ],
            [
             0.4,
             "#fde0ef"
            ],
            [
             0.5,
             "#f7f7f7"
            ],
            [
             0.6,
             "#e6f5d0"
            ],
            [
             0.7,
             "#b8e186"
            ],
            [
             0.8,
             "#7fbc41"
            ],
            [
             0.9,
             "#4d9221"
            ],
            [
             1,
             "#276419"
            ]
           ],
           "sequential": [
            [
             0,
             "#0d0887"
            ],
            [
             0.1111111111111111,
             "#46039f"
            ],
            [
             0.2222222222222222,
             "#7201a8"
            ],
            [
             0.3333333333333333,
             "#9c179e"
            ],
            [
             0.4444444444444444,
             "#bd3786"
            ],
            [
             0.5555555555555556,
             "#d8576b"
            ],
            [
             0.6666666666666666,
             "#ed7953"
            ],
            [
             0.7777777777777778,
             "#fb9f3a"
            ],
            [
             0.8888888888888888,
             "#fdca26"
            ],
            [
             1,
             "#f0f921"
            ]
           ],
           "sequentialminus": [
            [
             0,
             "#0d0887"
            ],
            [
             0.1111111111111111,
             "#46039f"
            ],
            [
             0.2222222222222222,
             "#7201a8"
            ],
            [
             0.3333333333333333,
             "#9c179e"
            ],
            [
             0.4444444444444444,
             "#bd3786"
            ],
            [
             0.5555555555555556,
             "#d8576b"
            ],
            [
             0.6666666666666666,
             "#ed7953"
            ],
            [
             0.7777777777777778,
             "#fb9f3a"
            ],
            [
             0.8888888888888888,
             "#fdca26"
            ],
            [
             1,
             "#f0f921"
            ]
           ]
          },
          "colorway": [
           "#636efa",
           "#EF553B",
           "#00cc96",
           "#ab63fa",
           "#FFA15A",
           "#19d3f3",
           "#FF6692",
           "#B6E880",
           "#FF97FF",
           "#FECB52"
          ],
          "font": {
           "color": "#2a3f5f"
          },
          "geo": {
           "bgcolor": "white",
           "lakecolor": "white",
           "landcolor": "#E5ECF6",
           "showlakes": true,
           "showland": true,
           "subunitcolor": "white"
          },
          "hoverlabel": {
           "align": "left"
          },
          "hovermode": "closest",
          "mapbox": {
           "style": "light"
          },
          "paper_bgcolor": "white",
          "plot_bgcolor": "#E5ECF6",
          "polar": {
           "angularaxis": {
            "gridcolor": "white",
            "linecolor": "white",
            "ticks": ""
           },
           "bgcolor": "#E5ECF6",
           "radialaxis": {
            "gridcolor": "white",
            "linecolor": "white",
            "ticks": ""
           }
          },
          "scene": {
           "xaxis": {
            "backgroundcolor": "#E5ECF6",
            "gridcolor": "white",
            "gridwidth": 2,
            "linecolor": "white",
            "showbackground": true,
            "ticks": "",
            "zerolinecolor": "white"
           },
           "yaxis": {
            "backgroundcolor": "#E5ECF6",
            "gridcolor": "white",
            "gridwidth": 2,
            "linecolor": "white",
            "showbackground": true,
            "ticks": "",
            "zerolinecolor": "white"
           },
           "zaxis": {
            "backgroundcolor": "#E5ECF6",
            "gridcolor": "white",
            "gridwidth": 2,
            "linecolor": "white",
            "showbackground": true,
            "ticks": "",
            "zerolinecolor": "white"
           }
          },
          "shapedefaults": {
           "line": {
            "color": "#2a3f5f"
           }
          },
          "ternary": {
           "aaxis": {
            "gridcolor": "white",
            "linecolor": "white",
            "ticks": ""
           },
           "baxis": {
            "gridcolor": "white",
            "linecolor": "white",
            "ticks": ""
           },
           "bgcolor": "#E5ECF6",
           "caxis": {
            "gridcolor": "white",
            "linecolor": "white",
            "ticks": ""
           }
          },
          "title": {
           "x": 0.05
          },
          "xaxis": {
           "automargin": true,
           "gridcolor": "white",
           "linecolor": "white",
           "ticks": "",
           "title": {
            "standoff": 15
           },
           "zerolinecolor": "white",
           "zerolinewidth": 2
          },
          "yaxis": {
           "automargin": true,
           "gridcolor": "white",
           "linecolor": "white",
           "ticks": "",
           "title": {
            "standoff": 15
           },
           "zerolinecolor": "white",
           "zerolinewidth": 2
          }
         }
        },
        "title": {
         "text": "Distribution of Customer Grand Total"
        },
        "xaxis": {
         "title": {
          "text": "Grand Total"
         }
        },
        "yaxis": {
         "title": {
          "text": "Count of Customers"
         }
        }
       }
      }
     },
     "metadata": {},
     "output_type": "display_data"
    }
   ],
   "source": [
    "fig = go.Figure()\n",
    "\n",
    "fig.add_trace(go.Histogram(\n",
    "    x=final_df[final_df['eur'] > 0]['eur'],\n",
    "    name='EUR Distribution',\n",
    "    opacity=0.7\n",
    "))\n",
    "\n",
    "fig.add_trace(go.Histogram(\n",
    "    x=final_df[final_df['usd'] > 0]['usd'],\n",
    "    name='USD Distribution',\n",
    "    opacity=0.7\n",
    "))\n",
    "\n",
    "fig.update_layout(\n",
    "    title='Distribution of Customer Totals by Currency',\n",
    "    xaxis_title='Amount',\n",
    "    yaxis_title='Count of Customers',\n",
    "    barmode='overlay',\n",
    "    showlegend=True\n",
    ")\n",
    "\n",
    "fig.show()"
   ]
  },
  {
   "cell_type": "code",
   "execution_count": 35,
   "metadata": {},
   "outputs": [
    {
     "data": {
      "application/vnd.plotly.v1+json": {
       "config": {
        "plotlyServerURL": "https://plot.ly"
       },
       "data": [
        {
         "name": "Grand Total Distribution",
         "nbinsx": 50,
         "type": "histogram",
         "x": {
          "bdata": "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",
          "dtype": "f8"
         }
        }
       ],
       "layout": {
        "showlegend": true,
        "template": {
         "data": {
          "bar": [
           {
            "error_x": {
             "color": "#2a3f5f"
            },
            "error_y": {
             "color": "#2a3f5f"
            },
            "marker": {
             "line": {
              "color": "#E5ECF6",
              "width": 0.5
             },
             "pattern": {
              "fillmode": "overlay",
              "size": 10,
              "solidity": 0.2
             }
            },
            "type": "bar"
           }
          ],
          "barpolar": [
           {
            "marker": {
             "line": {
              "color": "#E5ECF6",
              "width": 0.5
             },
             "pattern": {
              "fillmode": "overlay",
              "size": 10,
              "solidity": 0.2
             }
            },
            "type": "barpolar"
           }
          ],
          "carpet": [
           {
            "aaxis": {
             "endlinecolor": "#2a3f5f",
             "gridcolor": "white",
             "linecolor": "white",
             "minorgridcolor": "white",
             "startlinecolor": "#2a3f5f"
            },
            "baxis": {
             "endlinecolor": "#2a3f5f",
             "gridcolor": "white",
             "linecolor": "white",
             "minorgridcolor": "white",
             "startlinecolor": "#2a3f5f"
            },
            "type": "carpet"
           }
          ],
          "choropleth": [
           {
            "colorbar": {
             "outlinewidth": 0,
             "ticks": ""
            },
            "type": "choropleth"
           }
          ],
          "contour": [
           {
            "colorbar": {
             "outlinewidth": 0,
             "ticks": ""
            },
            "colorscale": [
             [
              0,
              "#0d0887"
             ],
             [
              0.1111111111111111,
              "#46039f"
             ],
             [
              0.2222222222222222,
              "#7201a8"
             ],
             [
              0.3333333333333333,
              "#9c179e"
             ],
             [
              0.4444444444444444,
              "#bd3786"
             ],
             [
              0.5555555555555556,
              "#d8576b"
             ],
             [
              0.6666666666666666,
              "#ed7953"
             ],
             [
              0.7777777777777778,
              "#fb9f3a"
             ],
             [
              0.8888888888888888,
              "#fdca26"
             ],
             [
              1,
              "#f0f921"
             ]
            ],
            "type": "contour"
           }
          ],
          "contourcarpet": [
           {
            "colorbar": {
             "outlinewidth": 0,
             "ticks": ""
            },
            "type": "contourcarpet"
           }
          ],
          "heatmap": [
           {
            "colorbar": {
             "outlinewidth": 0,
             "ticks": ""
            },
            "colorscale": [
             [
              0,
              "#0d0887"
             ],
             [
              0.1111111111111111,
              "#46039f"
             ],
             [
              0.2222222222222222,
              "#7201a8"
             ],
             [
              0.3333333333333333,
              "#9c179e"
             ],
             [
              0.4444444444444444,
              "#bd3786"
             ],
             [
              0.5555555555555556,
              "#d8576b"
             ],
             [
              0.6666666666666666,
              "#ed7953"
             ],
             [
              0.7777777777777778,
              "#fb9f3a"
             ],
             [
              0.8888888888888888,
              "#fdca26"
             ],
             [
              1,
              "#f0f921"
             ]
            ],
            "type": "heatmap"
           }
          ],
          "histogram": [
           {
            "marker": {
             "pattern": {
              "fillmode": "overlay",
              "size": 10,
              "solidity": 0.2
             }
            },
            "type": "histogram"
           }
          ],
          "histogram2d": [
           {
            "colorbar": {
             "outlinewidth": 0,
             "ticks": ""
            },
            "colorscale": [
             [
              0,
              "#0d0887"
             ],
             [
              0.1111111111111111,
              "#46039f"
             ],
             [
              0.2222222222222222,
              "#7201a8"
             ],
             [
              0.3333333333333333,
              "#9c179e"
             ],
             [
              0.4444444444444444,
              "#bd3786"
             ],
             [
              0.5555555555555556,
              "#d8576b"
             ],
             [
              0.6666666666666666,
              "#ed7953"
             ],
             [
              0.7777777777777778,
              "#fb9f3a"
             ],
             [
              0.8888888888888888,
              "#fdca26"
             ],
             [
              1,
              "#f0f921"
             ]
            ],
            "type": "histogram2d"
           }
          ],
          "histogram2dcontour": [
           {
            "colorbar": {
             "outlinewidth": 0,
             "ticks": ""
            },
            "colorscale": [
             [
              0,
              "#0d0887"
             ],
             [
              0.1111111111111111,
              "#46039f"
             ],
             [
              0.2222222222222222,
              "#7201a8"
             ],
             [
              0.3333333333333333,
              "#9c179e"
             ],
             [
              0.4444444444444444,
              "#bd3786"
             ],
             [
              0.5555555555555556,
              "#d8576b"
             ],
             [
              0.6666666666666666,
              "#ed7953"
             ],
             [
              0.7777777777777778,
              "#fb9f3a"
             ],
             [
              0.8888888888888888,
              "#fdca26"
             ],
             [
              1,
              "#f0f921"
             ]
            ],
            "type": "histogram2dcontour"
           }
          ],
          "mesh3d": [
           {
            "colorbar": {
             "outlinewidth": 0,
             "ticks": ""
            },
            "type": "mesh3d"
           }
          ],
          "parcoords": [
           {
            "line": {
             "colorbar": {
              "outlinewidth": 0,
              "ticks": ""
             }
            },
            "type": "parcoords"
           }
          ],
          "pie": [
           {
            "automargin": true,
            "type": "pie"
           }
          ],
          "scatter": [
           {
            "fillpattern": {
             "fillmode": "overlay",
             "size": 10,
             "solidity": 0.2
            },
            "type": "scatter"
           }
          ],
          "scatter3d": [
           {
            "line": {
             "colorbar": {
              "outlinewidth": 0,
              "ticks": ""
             }
            },
            "marker": {
             "colorbar": {
              "outlinewidth": 0,
              "ticks": ""
             }
            },
            "type": "scatter3d"
           }
          ],
          "scattercarpet": [
           {
            "marker": {
             "colorbar": {
              "outlinewidth": 0,
              "ticks": ""
             }
            },
            "type": "scattercarpet"
           }
          ],
          "scattergeo": [
           {
            "marker": {
             "colorbar": {
              "outlinewidth": 0,
              "ticks": ""
             }
            },
            "type": "scattergeo"
           }
          ],
          "scattergl": [
           {
            "marker": {
             "colorbar": {
              "outlinewidth": 0,
              "ticks": ""
             }
            },
            "type": "scattergl"
           }
          ],
          "scattermap": [
           {
            "marker": {
             "colorbar": {
              "outlinewidth": 0,
              "ticks": ""
             }
            },
            "type": "scattermap"
           }
          ],
          "scattermapbox": [
           {
            "marker": {
             "colorbar": {
              "outlinewidth": 0,
              "ticks": ""
             }
            },
            "type": "scattermapbox"
           }
          ],
          "scatterpolar": [
           {
            "marker": {
             "colorbar": {
              "outlinewidth": 0,
              "ticks": ""
             }
            },
            "type": "scatterpolar"
           }
          ],
          "scatterpolargl": [
           {
            "marker": {
             "colorbar": {
              "outlinewidth": 0,
              "ticks": ""
             }
            },
            "type": "scatterpolargl"
           }
          ],
          "scatterternary": [
           {
            "marker": {
             "colorbar": {
              "outlinewidth": 0,
              "ticks": ""
             }
            },
            "type": "scatterternary"
           }
          ],
          "surface": [
           {
            "colorbar": {
             "outlinewidth": 0,
             "ticks": ""
            },
            "colorscale": [
             [
              0,
              "#0d0887"
             ],
             [
              0.1111111111111111,
              "#46039f"
             ],
             [
              0.2222222222222222,
              "#7201a8"
             ],
             [
              0.3333333333333333,
              "#9c179e"
             ],
             [
              0.4444444444444444,
              "#bd3786"
             ],
             [
              0.5555555555555556,
              "#d8576b"
             ],
             [
              0.6666666666666666,
              "#ed7953"
             ],
             [
              0.7777777777777778,
              "#fb9f3a"
             ],
             [
              0.8888888888888888,
              "#fdca26"
             ],
             [
              1,
              "#f0f921"
             ]
            ],
            "type": "surface"
           }
          ],
          "table": [
           {
            "cells": {
             "fill": {
              "color": "#EBF0F8"
             },
             "line": {
              "color": "white"
             }
            },
            "header": {
             "fill": {
              "color": "#C8D4E3"
             },
             "line": {
              "color": "white"
             }
            },
            "type": "table"
           }
          ]
         },
         "layout": {
          "annotationdefaults": {
           "arrowcolor": "#2a3f5f",
           "arrowhead": 0,
           "arrowwidth": 1
          },
          "autotypenumbers": "strict",
          "coloraxis": {
           "colorbar": {
            "outlinewidth": 0,
            "ticks": ""
           }
          },
          "colorscale": {
           "diverging": [
            [
             0,
             "#8e0152"
            ],
            [
             0.1,
             "#c51b7d"
            ],
            [
             0.2,
             "#de77ae"
            ],
            [
             0.3,
             "#f1b6da"
            ],
            [
             0.4,
             "#fde0ef"
            ],
            [
             0.5,
             "#f7f7f7"
            ],
            [
             0.6,
             "#e6f5d0"
            ],
            [
             0.7,
             "#b8e186"
            ],
            [
             0.8,
             "#7fbc41"
            ],
            [
             0.9,
             "#4d9221"
            ],
            [
             1,
             "#276419"
            ]
           ],
           "sequential": [
            [
             0,
             "#0d0887"
            ],
            [
             0.1111111111111111,
             "#46039f"
            ],
            [
             0.2222222222222222,
             "#7201a8"
            ],
            [
             0.3333333333333333,
             "#9c179e"
            ],
            [
             0.4444444444444444,
             "#bd3786"
            ],
            [
             0.5555555555555556,
             "#d8576b"
            ],
            [
             0.6666666666666666,
             "#ed7953"
            ],
            [
             0.7777777777777778,
             "#fb9f3a"
            ],
            [
             0.8888888888888888,
             "#fdca26"
            ],
            [
             1,
             "#f0f921"
            ]
           ],
           "sequentialminus": [
            [
             0,
             "#0d0887"
            ],
            [
             0.1111111111111111,
             "#46039f"
            ],
            [
             0.2222222222222222,
             "#7201a8"
            ],
            [
             0.3333333333333333,
             "#9c179e"
            ],
            [
             0.4444444444444444,
             "#bd3786"
            ],
            [
             0.5555555555555556,
             "#d8576b"
            ],
            [
             0.6666666666666666,
             "#ed7953"
            ],
            [
             0.7777777777777778,
             "#fb9f3a"
            ],
            [
             0.8888888888888888,
             "#fdca26"
            ],
            [
             1,
             "#f0f921"
            ]
           ]
          },
          "colorway": [
           "#636efa",
           "#EF553B",
           "#00cc96",
           "#ab63fa",
           "#FFA15A",
           "#19d3f3",
           "#FF6692",
           "#B6E880",
           "#FF97FF",
           "#FECB52"
          ],
          "font": {
           "color": "#2a3f5f"
          },
          "geo": {
           "bgcolor": "white",
           "lakecolor": "white",
           "landcolor": "#E5ECF6",
           "showlakes": true,
           "showland": true,
           "subunitcolor": "white"
          },
          "hoverlabel": {
           "align": "left"
          },
          "hovermode": "closest",
          "mapbox": {
           "style": "light"
          },
          "paper_bgcolor": "white",
          "plot_bgcolor": "#E5ECF6",
          "polar": {
           "angularaxis": {
            "gridcolor": "white",
            "linecolor": "white",
            "ticks": ""
           },
           "bgcolor": "#E5ECF6",
           "radialaxis": {
            "gridcolor": "white",
            "linecolor": "white",
            "ticks": ""
           }
          },
          "scene": {
           "xaxis": {
            "backgroundcolor": "#E5ECF6",
            "gridcolor": "white",
            "gridwidth": 2,
            "linecolor": "white",
            "showbackground": true,
            "ticks": "",
            "zerolinecolor": "white"
           },
           "yaxis": {
            "backgroundcolor": "#E5ECF6",
            "gridcolor": "white",
            "gridwidth": 2,
            "linecolor": "white",
            "showbackground": true,
            "ticks": "",
            "zerolinecolor": "white"
           },
           "zaxis": {
            "backgroundcolor": "#E5ECF6",
            "gridcolor": "white",
            "gridwidth": 2,
            "linecolor": "white",
            "showbackground": true,
            "ticks": "",
            "zerolinecolor": "white"
           }
          },
          "shapedefaults": {
           "line": {
            "color": "#2a3f5f"
           }
          },
          "ternary": {
           "aaxis": {
            "gridcolor": "white",
            "linecolor": "white",
            "ticks": ""
           },
           "baxis": {
            "gridcolor": "white",
            "linecolor": "white",
            "ticks": ""
           },
           "bgcolor": "#E5ECF6",
           "caxis": {
            "gridcolor": "white",
            "linecolor": "white",
            "ticks": ""
           }
          },
          "title": {
           "x": 0.05
          },
          "xaxis": {
           "automargin": true,
           "gridcolor": "white",
           "linecolor": "white",
           "ticks": "",
           "title": {
            "standoff": 15
           },
           "zerolinecolor": "white",
           "zerolinewidth": 2
          },
          "yaxis": {
           "automargin": true,
           "gridcolor": "white",
           "linecolor": "white",
           "ticks": "",
           "title": {
            "standoff": 15
           },
           "zerolinecolor": "white",
           "zerolinewidth": 2
          }
         }
        },
        "title": {
         "text": "Distribution of Customer Grand Total (Positive Values Only)"
        },
        "xaxis": {
         "title": {
          "text": "Grand Total"
         }
        },
        "yaxis": {
         "title": {
          "text": "Count of Customers"
         }
        }
       }
      }
     },
     "metadata": {},
     "output_type": "display_data"
    }
   ],
   "source": [
    "fig = go.Figure(data=[go.Histogram(\n",
    "    x=final_df[final_df['grand_total'] >= 0]['grand_total'],  \n",
    "    nbinsx=50,\n",
    "    name='Grand Total Distribution'\n",
    ")])\n",
    "\n",
    "fig.update_layout(\n",
    "    title='Distribution of Customer Grand Total (Positive Values Only)',\n",
    "    xaxis_title='Grand Total',\n",
    "    yaxis_title='Count of Customers',\n",
    "    showlegend=True\n",
    ")\n",
    "\n",
    "fig.show()"
   ]
  },
  {
   "cell_type": "code",
   "execution_count": null,
   "metadata": {},
   "outputs": [],
   "source": []
  }
 ],
 "metadata": {
  "kernelspec": {
   "display_name": "Python 3",
   "language": "python",
   "name": "python3"
  },
  "language_info": {
   "codemirror_mode": {
    "name": "ipython",
    "version": 3
   },
   "file_extension": ".py",
   "mimetype": "text/x-python",
   "name": "python",
   "nbconvert_exporter": "python",
   "pygments_lexer": "ipython3",
   "version": "3.9.6"
  }
 },
 "nbformat": 4,
 "nbformat_minor": 2
}
